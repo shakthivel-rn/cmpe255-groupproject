{
 "cells": [
  {
   "cell_type": "code",
   "execution_count": 1,
   "id": "fiscal-google",
   "metadata": {},
   "outputs": [],
   "source": [
    "import pandas as pd\n",
    "import numpy as np\n",
    "import matplotlib.pyplot as plt\n",
    "import seaborn as sns\n",
    "\n",
    "from sklearn.model_selection import train_test_split\n",
    "from sklearn.metrics import roc_curve, auc\n",
    "from sklearn.metrics import confusion_matrix\n",
    "from sklearn.metrics import accuracy_score\n",
    "import re\n",
    "\n",
    "from sklearn.feature_extraction.text import TfidfVectorizer, CountVectorizer\n",
    "from sklearn.naive_bayes import MultinomialNB\n",
    "from sklearn.model_selection import GridSearchCV\n",
    "from itertools import chain\n",
    "\n",
    "from sklearn.utils import resample"
   ]
  },
  {
   "cell_type": "markdown",
   "id": "worth-library",
   "metadata": {},
   "source": [
    "# Reading Dataset and Splitting The Dataset"
   ]
  },
  {
   "cell_type": "code",
   "execution_count": 2,
   "id": "union-consultation",
   "metadata": {},
   "outputs": [],
   "source": [
    "df = pd.read_csv ('Cleaned_Dataset.csv')\n",
    "df = df[['target', 'tweet']]\n",
    "X_train, X_test, y_train, y_test = train_test_split(df['tweet'], df['target'], test_size = 0.25, random_state = 0)"
   ]
  },
  {
   "cell_type": "markdown",
   "id": "incorporated-bruce",
   "metadata": {},
   "source": [
    "# Vectorizing (Text To Numbers)"
   ]
  },
  {
   "cell_type": "code",
   "execution_count": 3,
   "id": "understood-stadium",
   "metadata": {},
   "outputs": [],
   "source": [
    "vectorizer = TfidfVectorizer()\n",
    "vectorizer = TfidfVectorizer(min_df=10,ngram_range=(1,3)) \n",
    "vectorizer.fit(X_train.values)           # Training the TFIDF model\n",
    "x_tr=vectorizer.transform(X_train.values)\n",
    "x_te=vectorizer.transform(X_test.values)"
   ]
  },
  {
   "cell_type": "code",
   "execution_count": 4,
   "id": "exterior-stockholm",
   "metadata": {},
   "outputs": [
    {
     "name": "stdout",
     "output_type": "stream",
     "text": [
      "  (0, 100196)\t0.19368717897101034\n",
      "  (0, 70776)\t0.5318753464623153\n",
      "  (0, 70759)\t0.2905213447344498\n",
      "  (0, 39128)\t0.43018003482318223\n",
      "  (0, 38163)\t0.16829146632634848\n",
      "  (0, 28071)\t0.47490644386785896\n",
      "  (0, 28053)\t0.3363960346576564\n",
      "  (0, 27885)\t0.2076437772295933\n",
      "  (1, 102576)\t0.3037467824075527\n",
      "  (1, 85521)\t0.37457934164520834\n",
      "  (1, 81603)\t0.4274746989262845\n",
      "  (1, 81591)\t0.34336834303865715\n",
      "  (1, 40832)\t0.2075296375694713\n",
      "  (1, 23549)\t0.4291233128316464\n",
      "  (1, 23294)\t0.2879263689373178\n",
      "  (1, 19098)\t0.395821689339681\n",
      "  (2, 99003)\t0.4657926048012008\n",
      "  (2, 98980)\t0.30973583097704016\n",
      "  (2, 46406)\t0.506467318873535\n",
      "  (2, 46382)\t0.312083181534388\n",
      "  (2, 37253)\t0.5289587352491\n",
      "  (2, 35728)\t0.16544817129251965\n",
      "  (2, 32909)\t0.16132410253131935\n",
      "  (3, 111278)\t0.24583624579576271\n",
      "  (3, 61097)\t0.20333940281129806\n",
      "  :\t:\n",
      "  (1194936, 36785)\t0.2261742007030466\n",
      "  (1194936, 35728)\t0.08385441556547525\n",
      "  (1194936, 28604)\t0.20884746899970613\n",
      "  (1194936, 16351)\t0.2739177866466727\n",
      "  (1194936, 15858)\t0.11478172737452719\n",
      "  (1194936, 13564)\t0.18750657498136014\n",
      "  (1194936, 5614)\t0.14623523984664355\n",
      "  (1194936, 2071)\t0.15018337241913682\n",
      "  (1194937, 112916)\t0.13132501153401396\n",
      "  (1194937, 106665)\t0.3744314884637676\n",
      "  (1194937, 106617)\t0.2302460035722202\n",
      "  (1194937, 101008)\t0.24532215225323345\n",
      "  (1194937, 77949)\t0.3400655522785216\n",
      "  (1194937, 65382)\t0.40442627337436066\n",
      "  (1194937, 65111)\t0.15693845134184964\n",
      "  (1194937, 43924)\t0.3726124089130087\n",
      "  (1194937, 43826)\t0.19774375361929533\n",
      "  (1194937, 26394)\t0.2801284004165192\n",
      "  (1194937, 3203)\t0.38058737986337904\n",
      "  (1194937, 2857)\t0.1557641791013595\n",
      "  (1194938, 113621)\t0.7054511157673382\n",
      "  (1194938, 112916)\t0.23866369193785378\n",
      "  (1194938, 103172)\t0.44118372942317846\n",
      "  (1194938, 6847)\t0.4281649891407002\n",
      "  (1194938, 6234)\t0.25963440523091486\n"
     ]
    }
   ],
   "source": [
    "print(x_tr)"
   ]
  },
  {
   "cell_type": "code",
   "execution_count": 5,
   "id": "brief-color",
   "metadata": {},
   "outputs": [
    {
     "name": "stdout",
     "output_type": "stream",
     "text": [
      "  (0, 108840)\t0.5032412937370213\n",
      "  (0, 108547)\t0.2393648976187743\n",
      "  (0, 44498)\t0.3973640303973727\n",
      "  (0, 40832)\t0.23668581875090408\n",
      "  (0, 17923)\t0.4053193189165653\n",
      "  (0, 16766)\t0.5578983297406656\n",
      "  (1, 107722)\t0.14979791093254852\n",
      "  (1, 97496)\t0.14739723891813486\n",
      "  (1, 77421)\t0.3139689694824694\n",
      "  (1, 74056)\t0.35185405927483476\n",
      "  (1, 73834)\t0.18478409050857053\n",
      "  (1, 60644)\t0.301764078881791\n",
      "  (1, 60585)\t0.2129990508843913\n",
      "  (1, 53108)\t0.3177608247842242\n",
      "  (1, 38470)\t0.36192344232067597\n",
      "  (1, 38163)\t0.12511986292692007\n",
      "  (1, 37816)\t0.17877861484039337\n",
      "  (1, 1879)\t0.195389398842616\n",
      "  (1, 1225)\t0.4237911031592983\n",
      "  (1, 1210)\t0.25598500451868605\n",
      "  (2, 106265)\t0.35632479750183194\n",
      "  (2, 87680)\t0.14616031434479204\n",
      "  (2, 47669)\t0.36691768457715146\n",
      "  (2, 47668)\t0.29383412955254135\n",
      "  (2, 47643)\t0.193586286727272\n",
      "  :\t:\n",
      "  (398311, 51196)\t0.24512471887588116\n",
      "  (398311, 22620)\t0.42784903753745857\n",
      "  (398311, 22551)\t0.309972410975381\n",
      "  (398312, 109454)\t0.3047516151011263\n",
      "  (398312, 109387)\t0.1322620001373999\n",
      "  (398312, 93181)\t0.1516778861693423\n",
      "  (398312, 79738)\t0.2245722536289746\n",
      "  (398312, 79417)\t0.11584885317567956\n",
      "  (398312, 68337)\t0.2686817328635426\n",
      "  (398312, 68073)\t0.13418091355575726\n",
      "  (398312, 62041)\t0.2615302201269638\n",
      "  (398312, 62040)\t0.24443672612061731\n",
      "  (398312, 52051)\t0.3098895600125729\n",
      "  (398312, 52050)\t0.26522727718798694\n",
      "  (398312, 41467)\t0.2507926376842816\n",
      "  (398312, 41457)\t0.17170150240674856\n",
      "  (398312, 31352)\t0.23612305588731095\n",
      "  (398312, 25112)\t0.27014520903707645\n",
      "  (398312, 24996)\t0.1487905539178384\n",
      "  (398312, 19853)\t0.2858662331183745\n",
      "  (398312, 19558)\t0.3050992567184129\n",
      "  (398313, 102222)\t0.7640426070260896\n",
      "  (398313, 78457)\t0.5013247517468413\n",
      "  (398313, 51196)\t0.2758923110164984\n",
      "  (398313, 48818)\t0.29798627595364174\n"
     ]
    }
   ],
   "source": [
    "print(x_te)"
   ]
  },
  {
   "cell_type": "code",
   "execution_count": null,
   "id": "institutional-mandate",
   "metadata": {},
   "outputs": [],
   "source": []
  },
  {
   "cell_type": "code",
   "execution_count": 6,
   "id": "wireless-wiring",
   "metadata": {},
   "outputs": [
    {
     "data": {
      "text/plain": [
       "GridSearchCV(cv=10, estimator=MultinomialNB(),\n",
       "             param_grid={'alpha': [1e-05, 5e-05, 0.0001, 0.0005, 0.001, 0.005,\n",
       "                                   0.01, 0.05, 0.1, 0.5, 1, 5, 10, 50, 100]},\n",
       "             return_train_score=True, scoring='roc_auc')"
      ]
     },
     "execution_count": 6,
     "metadata": {},
     "output_type": "execute_result"
    }
   ],
   "source": [
    "model = MultinomialNB()  \n",
    "parameters = {'alpha':[0.00001, 0.00005, 0.0001, 0.0005, 0.001, 0.005, 0.01, 0.05, 0.1, 0.5, 1, 5,\n",
    "10, 50, 100]}\n",
    "clf = GridSearchCV(model, parameters, cv=10,scoring='roc_auc',return_train_score=True)\n",
    "clf.fit(x_tr, y_train)"
   ]
  },
  {
   "cell_type": "code",
   "execution_count": 7,
   "id": "outer-century",
   "metadata": {},
   "outputs": [
    {
     "data": {
      "text/html": [
       "<div>\n",
       "<style scoped>\n",
       "    .dataframe tbody tr th:only-of-type {\n",
       "        vertical-align: middle;\n",
       "    }\n",
       "\n",
       "    .dataframe tbody tr th {\n",
       "        vertical-align: top;\n",
       "    }\n",
       "\n",
       "    .dataframe thead th {\n",
       "        text-align: right;\n",
       "    }\n",
       "</style>\n",
       "<table border=\"1\" class=\"dataframe\">\n",
       "  <thead>\n",
       "    <tr style=\"text-align: right;\">\n",
       "      <th></th>\n",
       "      <th>mean_fit_time</th>\n",
       "      <th>std_fit_time</th>\n",
       "      <th>mean_score_time</th>\n",
       "      <th>std_score_time</th>\n",
       "      <th>param_alpha</th>\n",
       "      <th>params</th>\n",
       "      <th>split0_test_score</th>\n",
       "      <th>split1_test_score</th>\n",
       "      <th>split2_test_score</th>\n",
       "      <th>split3_test_score</th>\n",
       "      <th>...</th>\n",
       "      <th>split2_train_score</th>\n",
       "      <th>split3_train_score</th>\n",
       "      <th>split4_train_score</th>\n",
       "      <th>split5_train_score</th>\n",
       "      <th>split6_train_score</th>\n",
       "      <th>split7_train_score</th>\n",
       "      <th>split8_train_score</th>\n",
       "      <th>split9_train_score</th>\n",
       "      <th>mean_train_score</th>\n",
       "      <th>std_train_score</th>\n",
       "    </tr>\n",
       "  </thead>\n",
       "  <tbody>\n",
       "    <tr>\n",
       "      <th>0</th>\n",
       "      <td>0.240765</td>\n",
       "      <td>0.005274</td>\n",
       "      <td>0.046429</td>\n",
       "      <td>0.000587</td>\n",
       "      <td>0.00001</td>\n",
       "      <td>{'alpha': 1e-05}</td>\n",
       "      <td>0.849025</td>\n",
       "      <td>0.845489</td>\n",
       "      <td>0.845542</td>\n",
       "      <td>0.845777</td>\n",
       "      <td>...</td>\n",
       "      <td>0.878850</td>\n",
       "      <td>0.878815</td>\n",
       "      <td>0.878752</td>\n",
       "      <td>0.878907</td>\n",
       "      <td>0.878789</td>\n",
       "      <td>0.878793</td>\n",
       "      <td>0.878924</td>\n",
       "      <td>0.878671</td>\n",
       "      <td>0.878771</td>\n",
       "      <td>0.000131</td>\n",
       "    </tr>\n",
       "    <tr>\n",
       "      <th>1</th>\n",
       "      <td>0.237644</td>\n",
       "      <td>0.001813</td>\n",
       "      <td>0.046420</td>\n",
       "      <td>0.000418</td>\n",
       "      <td>0.00005</td>\n",
       "      <td>{'alpha': 5e-05}</td>\n",
       "      <td>0.849158</td>\n",
       "      <td>0.845663</td>\n",
       "      <td>0.845697</td>\n",
       "      <td>0.845941</td>\n",
       "      <td>...</td>\n",
       "      <td>0.878840</td>\n",
       "      <td>0.878805</td>\n",
       "      <td>0.878742</td>\n",
       "      <td>0.878896</td>\n",
       "      <td>0.878779</td>\n",
       "      <td>0.878784</td>\n",
       "      <td>0.878913</td>\n",
       "      <td>0.878661</td>\n",
       "      <td>0.878761</td>\n",
       "      <td>0.000130</td>\n",
       "    </tr>\n",
       "    <tr>\n",
       "      <th>2</th>\n",
       "      <td>0.244861</td>\n",
       "      <td>0.010488</td>\n",
       "      <td>0.046643</td>\n",
       "      <td>0.000541</td>\n",
       "      <td>0.0001</td>\n",
       "      <td>{'alpha': 0.0001}</td>\n",
       "      <td>0.849239</td>\n",
       "      <td>0.845763</td>\n",
       "      <td>0.845785</td>\n",
       "      <td>0.846036</td>\n",
       "      <td>...</td>\n",
       "      <td>0.878833</td>\n",
       "      <td>0.878798</td>\n",
       "      <td>0.878736</td>\n",
       "      <td>0.878889</td>\n",
       "      <td>0.878773</td>\n",
       "      <td>0.878777</td>\n",
       "      <td>0.878906</td>\n",
       "      <td>0.878655</td>\n",
       "      <td>0.878754</td>\n",
       "      <td>0.000130</td>\n",
       "    </tr>\n",
       "    <tr>\n",
       "      <th>3</th>\n",
       "      <td>0.238664</td>\n",
       "      <td>0.002303</td>\n",
       "      <td>0.046705</td>\n",
       "      <td>0.001236</td>\n",
       "      <td>0.0005</td>\n",
       "      <td>{'alpha': 0.0005}</td>\n",
       "      <td>0.849508</td>\n",
       "      <td>0.846071</td>\n",
       "      <td>0.846059</td>\n",
       "      <td>0.846331</td>\n",
       "      <td>...</td>\n",
       "      <td>0.878807</td>\n",
       "      <td>0.878771</td>\n",
       "      <td>0.878710</td>\n",
       "      <td>0.878859</td>\n",
       "      <td>0.878747</td>\n",
       "      <td>0.878751</td>\n",
       "      <td>0.878877</td>\n",
       "      <td>0.878630</td>\n",
       "      <td>0.878727</td>\n",
       "      <td>0.000129</td>\n",
       "    </tr>\n",
       "    <tr>\n",
       "      <th>4</th>\n",
       "      <td>0.240305</td>\n",
       "      <td>0.002082</td>\n",
       "      <td>0.047013</td>\n",
       "      <td>0.002625</td>\n",
       "      <td>0.001</td>\n",
       "      <td>{'alpha': 0.001}</td>\n",
       "      <td>0.849669</td>\n",
       "      <td>0.846247</td>\n",
       "      <td>0.846214</td>\n",
       "      <td>0.846499</td>\n",
       "      <td>...</td>\n",
       "      <td>0.878787</td>\n",
       "      <td>0.878752</td>\n",
       "      <td>0.878691</td>\n",
       "      <td>0.878839</td>\n",
       "      <td>0.878728</td>\n",
       "      <td>0.878732</td>\n",
       "      <td>0.878857</td>\n",
       "      <td>0.878611</td>\n",
       "      <td>0.878708</td>\n",
       "      <td>0.000129</td>\n",
       "    </tr>\n",
       "  </tbody>\n",
       "</table>\n",
       "<p>5 rows × 31 columns</p>\n",
       "</div>"
      ],
      "text/plain": [
       "   mean_fit_time  std_fit_time  mean_score_time  std_score_time param_alpha  \\\n",
       "0       0.240765      0.005274         0.046429        0.000587     0.00001   \n",
       "1       0.237644      0.001813         0.046420        0.000418     0.00005   \n",
       "2       0.244861      0.010488         0.046643        0.000541      0.0001   \n",
       "3       0.238664      0.002303         0.046705        0.001236      0.0005   \n",
       "4       0.240305      0.002082         0.047013        0.002625       0.001   \n",
       "\n",
       "              params  split0_test_score  split1_test_score  split2_test_score  \\\n",
       "0   {'alpha': 1e-05}           0.849025           0.845489           0.845542   \n",
       "1   {'alpha': 5e-05}           0.849158           0.845663           0.845697   \n",
       "2  {'alpha': 0.0001}           0.849239           0.845763           0.845785   \n",
       "3  {'alpha': 0.0005}           0.849508           0.846071           0.846059   \n",
       "4   {'alpha': 0.001}           0.849669           0.846247           0.846214   \n",
       "\n",
       "   split3_test_score  ...  split2_train_score  split3_train_score  \\\n",
       "0           0.845777  ...            0.878850            0.878815   \n",
       "1           0.845941  ...            0.878840            0.878805   \n",
       "2           0.846036  ...            0.878833            0.878798   \n",
       "3           0.846331  ...            0.878807            0.878771   \n",
       "4           0.846499  ...            0.878787            0.878752   \n",
       "\n",
       "   split4_train_score  split5_train_score  split6_train_score  \\\n",
       "0            0.878752            0.878907            0.878789   \n",
       "1            0.878742            0.878896            0.878779   \n",
       "2            0.878736            0.878889            0.878773   \n",
       "3            0.878710            0.878859            0.878747   \n",
       "4            0.878691            0.878839            0.878728   \n",
       "\n",
       "   split7_train_score  split8_train_score  split9_train_score  \\\n",
       "0            0.878793            0.878924            0.878671   \n",
       "1            0.878784            0.878913            0.878661   \n",
       "2            0.878777            0.878906            0.878655   \n",
       "3            0.878751            0.878877            0.878630   \n",
       "4            0.878732            0.878857            0.878611   \n",
       "\n",
       "   mean_train_score  std_train_score  \n",
       "0          0.878771         0.000131  \n",
       "1          0.878761         0.000130  \n",
       "2          0.878754         0.000130  \n",
       "3          0.878727         0.000129  \n",
       "4          0.878708         0.000129  \n",
       "\n",
       "[5 rows x 31 columns]"
      ]
     },
     "execution_count": 7,
     "metadata": {},
     "output_type": "execute_result"
    }
   ],
   "source": [
    "results = pd.DataFrame.from_dict(clf.cv_results_)   # converting the results in to a dataframe\n",
    "results = results.sort_values(['param_alpha'])  \n",
    "results.head()"
   ]
  },
  {
   "cell_type": "code",
   "execution_count": 8,
   "id": "acoustic-screen",
   "metadata": {},
   "outputs": [],
   "source": [
    "train_auc= results['mean_train_score'].values  #extracting the auc scores \n",
    "cv_auc = results['mean_test_score'].values"
   ]
  },
  {
   "cell_type": "code",
   "execution_count": 9,
   "id": "sweet-tourism",
   "metadata": {},
   "outputs": [],
   "source": [
    "a1=[]\n",
    "for i in parameters.values():\n",
    "    a1.append(i)\n",
    "alphas = list(chain.from_iterable(a1))"
   ]
  },
  {
   "cell_type": "code",
   "execution_count": 10,
   "id": "rotary-somerset",
   "metadata": {},
   "outputs": [
    {
     "data": {
      "image/png": "[encoded data removed]",
      "text/plain": [
       "<Figure size 432x288 with 1 Axes>"
      ]
     },
     "metadata": {
      "needs_background": "light"
     },
     "output_type": "display_data"
    }
   ],
   "source": [
    "plt.plot(alphas, train_auc, label='Train AUC')\n",
    "plt.plot(alphas, cv_auc, label='CV AUC')\n",
    "plt.scatter(alphas, train_auc, label='Train AUC points')\n",
    "plt.scatter(alphas, cv_auc, label='CV AUC points')\n",
    "\n",
    "plt.legend()\n",
    "plt.xlabel(\"Alpha: hyperparameter\")\n",
    "plt.ylabel(\"AUC\")\n",
    "plt.title(\"Hyper parameter Vs AUC plot\")  \n",
    "plt.grid()\n",
    "plt.show()"
   ]
  },
  {
   "cell_type": "code",
   "execution_count": 11,
   "id": "numeric-mongolia",
   "metadata": {},
   "outputs": [
    {
     "name": "stdout",
     "output_type": "stream",
     "text": [
      "The best Alpha= 5\n"
     ]
    }
   ],
   "source": [
    "bestparam=clf.best_params_['alpha']   #extracting the best hyperparameter\n",
    "print(\"The best Alpha=\",bestparam)"
   ]
  },
  {
   "cell_type": "code",
   "execution_count": 12,
   "id": "baking-visiting",
   "metadata": {},
   "outputs": [
    {
     "data": {
      "text/plain": [
       "MultinomialNB(alpha=5)"
      ]
     },
     "execution_count": 12,
     "metadata": {},
     "output_type": "execute_result"
    }
   ],
   "source": [
    "mul_model = MultinomialNB(alpha=bestparam) #Building a Naive Bayes model with the best alpha\n",
    "mul_model.fit(x_tr,y_train)               #Training the model"
   ]
  },
  {
   "cell_type": "code",
   "execution_count": 14,
   "id": "educated-writer",
   "metadata": {},
   "outputs": [
    {
     "data": {
      "image/png": "[encoded data removed]",
      "text/plain": [
       "<Figure size 432x288 with 1 Axes>"
      ]
     },
     "metadata": {
      "needs_background": "light"
     },
     "output_type": "display_data"
    }
   ],
   "source": [
    "y_train_pred = mul_model.predict_proba(x_tr)[:,1]  #Prediction using the model(log probability of each class)\n",
    "y_test_pred = mul_model.predict_proba(x_te)[:,1]\n",
    "train_fpr, train_tpr, tr_thresholds = roc_curve(y_train, y_train_pred)\n",
    "test_fpr, test_tpr, te_thresholds = roc_curve(y_test, y_test_pred)   \n",
    "plt.plot(train_fpr, train_tpr, label=\"train AUC =\"+str(auc(train_fpr, train_tpr)))\n",
    "plt.plot(test_fpr, test_tpr, label=\"test AUC =\"+str(auc(test_fpr, test_tpr)))\n",
    "plt.legend()\n",
    "plt.title(\"AUC PLOTS\")             #Plotting train and test AUC \n",
    "plt.grid()\n",
    "plt.show()"
   ]
  },
  {
   "cell_type": "code",
   "execution_count": 15,
   "id": "finished-saskatchewan",
   "metadata": {},
   "outputs": [
    {
     "name": "stdout",
     "output_type": "stream",
     "text": [
      "Train AUC= 0.87\n",
      "Test AUC= 0.854\n"
     ]
    }
   ],
   "source": [
    "trauc=round(auc(train_fpr, train_tpr),3)\n",
    "teauc=round(auc(test_fpr, test_tpr),3)\n",
    "print('Train AUC=',trauc)\n",
    "print('Test AUC=',teauc)"
   ]
  },
  {
   "cell_type": "code",
   "execution_count": 16,
   "id": "presidential-highway",
   "metadata": {},
   "outputs": [],
   "source": [
    "def find_best_threshold(threshould, fpr, tpr):\n",
    "    t = threshould[np.argmax(tpr*(1-fpr))]      #finding the best threshold \n",
    "    print(\"the maximum value of tpr*(1-fpr)\", max(tpr*(1-fpr)), \"for threshold\", np.round(t,3))\n",
    "    return t\n",
    "\n",
    "def predict_with_best_t(proba, threshould):\n",
    "    predictions = []\n",
    "    for i in proba:\n",
    "        if i>=threshould:\n",
    "            predictions.append(1)\n",
    "        else:                                 #building a confusion matrix with the best threshold \n",
    "            predictions.append(0)\n",
    "    return predictions"
   ]
  },
  {
   "cell_type": "code",
   "execution_count": 17,
   "id": "careful-apple",
   "metadata": {},
   "outputs": [
    {
     "name": "stdout",
     "output_type": "stream",
     "text": [
      "the maximum value of tpr*(1-fpr) 0.6225061644457679 for threshold 0.495\n"
     ]
    }
   ],
   "source": [
    "best_t = find_best_threshold(tr_thresholds, train_fpr, train_tpr)\n",
    "TRCM=confusion_matrix(y_train, predict_with_best_t(y_train_pred, best_t))\n",
    "TECM=confusion_matrix(y_test, predict_with_best_t(y_test_pred, best_t))"
   ]
  },
  {
   "cell_type": "code",
   "execution_count": 18,
   "id": "third-stake",
   "metadata": {},
   "outputs": [],
   "source": [
    "def CM(x,y):\n",
    "    labels = ['TN','FP','FN','TP']\n",
    "    group_counts = [\"{0:0.0f}\".format(value) for value in x.flatten()]\n",
    "                    \n",
    "    labels = [f\"{v1}\\n{v2}\" for v1, v2 in\n",
    "    zip(labels,group_counts)]\n",
    "    labels = np.asarray(labels).reshape(2,2)       #Building a design for the confusion matrix\n",
    "    sns.heatmap(x, annot=labels, fmt='', cmap='BuPu')\n",
    "    plt.xlabel(\"Predicted\")\n",
    "    plt.ylabel(\"Actual\")\n",
    "    plt.title(y)\n",
    "    plt.plot()"
   ]
  },
  {
   "cell_type": "code",
   "execution_count": 19,
   "id": "collected-olive",
   "metadata": {},
   "outputs": [
    {
     "data": {
      "image/png": "[encoded data removed]",
      "text/plain": [
       "<Figure size 432x288 with 2 Axes>"
      ]
     },
     "metadata": {
      "needs_background": "light"
     },
     "output_type": "display_data"
    }
   ],
   "source": [
    "CM(TRCM,'Train Confusion Matrix')"
   ]
  },
  {
   "cell_type": "code",
   "execution_count": 20,
   "id": "resident-facial",
   "metadata": {},
   "outputs": [
    {
     "data": {
      "image/png": "[encoded data removed]",
      "text/plain": [
       "<Figure size 432x288 with 2 Axes>"
      ]
     },
     "metadata": {
      "needs_background": "light"
     },
     "output_type": "display_data"
    }
   ],
   "source": [
    "CM(TECM,'Test Confusion Matrix')"
   ]
  },
  {
   "cell_type": "code",
   "execution_count": null,
   "id": "sorted-cutting",
   "metadata": {},
   "outputs": [],
   "source": []
  }
 ],
 "metadata": {
  "kernelspec": {
   "display_name": "Python 3",
   "language": "python",
   "name": "python3"
  },
  "language_info": {
   "codemirror_mode": {
    "name": "ipython",
    "version": 3
   },
   "file_extension": ".py",
   "mimetype": "text/x-python",
   "name": "python",
   "nbconvert_exporter": "python",
   "pygments_lexer": "ipython3",
   "version": "3.8.5"
  }
 },
 "nbformat": 4,
 "nbformat_minor": 5
}
