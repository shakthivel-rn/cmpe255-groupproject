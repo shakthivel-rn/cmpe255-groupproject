{
 "cells": [
  {
   "cell_type": "code",
   "execution_count": 27,
   "id": "communist-chassis",
   "metadata": {},
   "outputs": [],
   "source": [
    "import pandas as pd\n",
    "import numpy as np\n",
    "import matplotlib.pyplot as plt\n",
    "import seaborn as sns\n",
    "\n",
    "from sklearn.model_selection import train_test_split\n",
    "from sklearn.metrics import roc_curve, auc\n",
    "from sklearn.metrics import confusion_matrix\n",
    "from sklearn.metrics import accuracy_score\n",
    "import re\n",
    "\n",
    "from sklearn.feature_extraction.text import TfidfVectorizer, CountVectorizer\n",
    "from sklearn.naive_bayes import MultinomialNB\n",
    "from sklearn.model_selection import GridSearchCV\n",
    "from itertools import chain\n",
    "\n",
    "from sklearn.utils import resample"
   ]
  },
  {
   "cell_type": "markdown",
   "id": "stupid-barcelona",
   "metadata": {},
   "source": [
    "# Reading Dataset and Splitting The Dataset"
   ]
  },
  {
   "cell_type": "code",
   "execution_count": 28,
   "id": "working-budget",
   "metadata": {},
   "outputs": [
    {
     "name": "stdout",
     "output_type": "stream",
     "text": [
      "0    796936\n",
      "1    796936\n",
      "Name: target, dtype: int64\n",
      "0    598073\n",
      "1    597331\n",
      "Name: target, dtype: int64\n"
     ]
    }
   ],
   "source": [
    "df = pd.read_csv ('Cleaned_Dataset.csv')\n",
    "df = df[['target', 'tweet']]\n",
    "df_1 = df[df['target']==1]\n",
    "df_0 = df[df['target']==0]\n",
    "df_1_upsampled = resample(df_1, replace=True,\n",
    "                            n_samples=len(df_0), random_state=13)\n",
    "df = pd.concat([df_0, df_1_upsampled])\n",
    "X_train, X_test, y_train, y_test = train_test_split(df['tweet'], df['target'], test_size = 0.25, random_state = 0)\n",
    "print(df['target'].value_counts())\n",
    "print(y_train.value_counts())"
   ]
  },
  {
   "cell_type": "markdown",
   "id": "dressed-correspondence",
   "metadata": {},
   "source": [
    "# Vectorizing (Text To Numbers)"
   ]
  },
  {
   "cell_type": "code",
   "execution_count": 29,
   "id": "mature-marker",
   "metadata": {},
   "outputs": [],
   "source": [
    "vectorizer = CountVectorizer(ngram_range=(1,3))\n",
    "#vectorizer = TfidfVectorizer(min_df=10,ngram_range=(1,3)) \n",
    "vectorizer.fit(X_train.values)           # Training the TFIDF model\n",
    "x_tr=vectorizer.transform(X_train.values)\n",
    "x_te=vectorizer.transform(X_test.values)"
   ]
  },
  {
   "cell_type": "code",
   "execution_count": 30,
   "id": "radio-billion",
   "metadata": {},
   "outputs": [
    {
     "name": "stdout",
     "output_type": "stream",
     "text": [
      "(1195404, 7400690)\n"
     ]
    }
   ],
   "source": [
    "print(x_tr.shape)"
   ]
  },
  {
   "cell_type": "code",
   "execution_count": 31,
   "id": "certain-accent",
   "metadata": {},
   "outputs": [
    {
     "name": "stdout",
     "output_type": "stream",
     "text": [
      "(398468, 7400690)\n"
     ]
    }
   ],
   "source": [
    "print(x_te.shape)"
   ]
  },
  {
   "cell_type": "markdown",
   "id": "closing-mailing",
   "metadata": {},
   "source": [
    "# Finding Best Parameter"
   ]
  },
  {
   "cell_type": "code",
   "execution_count": 32,
   "id": "variable-character",
   "metadata": {},
   "outputs": [
    {
     "data": {
      "text/plain": [
       "GridSearchCV(cv=5, estimator=MultinomialNB(),\n",
       "             param_grid={'alpha': [0.1, 0.5, 1, 2, 5, 7, 10]},\n",
       "             return_train_score=True, scoring='accuracy')"
      ]
     },
     "execution_count": 32,
     "metadata": {},
     "output_type": "execute_result"
    }
   ],
   "source": [
    "model = MultinomialNB()  \n",
    "parameters = {'alpha':[0.1, 0.5, 1, 2, 5, 7, 10]}\n",
    "clf = GridSearchCV(model, parameters, cv=5,scoring='accuracy',return_train_score=True)\n",
    "clf.fit(x_tr, y_train)"
   ]
  },
  {
   "cell_type": "code",
   "execution_count": 34,
   "id": "nominated-combine",
   "metadata": {},
   "outputs": [
    {
     "data": {
      "text/html": [
       "<div>\n",
       "<style scoped>\n",
       "    .dataframe tbody tr th:only-of-type {\n",
       "        vertical-align: middle;\n",
       "    }\n",
       "\n",
       "    .dataframe tbody tr th {\n",
       "        vertical-align: top;\n",
       "    }\n",
       "\n",
       "    .dataframe thead th {\n",
       "        text-align: right;\n",
       "    }\n",
       "</style>\n",
       "<table border=\"1\" class=\"dataframe\">\n",
       "  <thead>\n",
       "    <tr style=\"text-align: right;\">\n",
       "      <th></th>\n",
       "      <th>mean_fit_time</th>\n",
       "      <th>std_fit_time</th>\n",
       "      <th>mean_score_time</th>\n",
       "      <th>std_score_time</th>\n",
       "      <th>param_alpha</th>\n",
       "      <th>params</th>\n",
       "      <th>split0_test_score</th>\n",
       "      <th>split1_test_score</th>\n",
       "      <th>split2_test_score</th>\n",
       "      <th>split3_test_score</th>\n",
       "      <th>...</th>\n",
       "      <th>mean_test_score</th>\n",
       "      <th>std_test_score</th>\n",
       "      <th>rank_test_score</th>\n",
       "      <th>split0_train_score</th>\n",
       "      <th>split1_train_score</th>\n",
       "      <th>split2_train_score</th>\n",
       "      <th>split3_train_score</th>\n",
       "      <th>split4_train_score</th>\n",
       "      <th>mean_train_score</th>\n",
       "      <th>std_train_score</th>\n",
       "    </tr>\n",
       "  </thead>\n",
       "  <tbody>\n",
       "    <tr>\n",
       "      <th>0</th>\n",
       "      <td>1.003823</td>\n",
       "      <td>0.085085</td>\n",
       "      <td>0.169537</td>\n",
       "      <td>0.035086</td>\n",
       "      <td>0.1</td>\n",
       "      <td>{'alpha': 0.1}</td>\n",
       "      <td>0.807986</td>\n",
       "      <td>0.805576</td>\n",
       "      <td>0.808354</td>\n",
       "      <td>0.806379</td>\n",
       "      <td>...</td>\n",
       "      <td>0.806977</td>\n",
       "      <td>0.001038</td>\n",
       "      <td>4</td>\n",
       "      <td>0.978928</td>\n",
       "      <td>0.979055</td>\n",
       "      <td>0.978972</td>\n",
       "      <td>0.979048</td>\n",
       "      <td>0.979013</td>\n",
       "      <td>0.979003</td>\n",
       "      <td>0.000048</td>\n",
       "    </tr>\n",
       "    <tr>\n",
       "      <th>1</th>\n",
       "      <td>0.885312</td>\n",
       "      <td>0.010505</td>\n",
       "      <td>0.142698</td>\n",
       "      <td>0.001524</td>\n",
       "      <td>0.5</td>\n",
       "      <td>{'alpha': 0.5}</td>\n",
       "      <td>0.815230</td>\n",
       "      <td>0.812976</td>\n",
       "      <td>0.815389</td>\n",
       "      <td>0.813862</td>\n",
       "      <td>...</td>\n",
       "      <td>0.814369</td>\n",
       "      <td>0.000892</td>\n",
       "      <td>2</td>\n",
       "      <td>0.971367</td>\n",
       "      <td>0.971477</td>\n",
       "      <td>0.971442</td>\n",
       "      <td>0.971396</td>\n",
       "      <td>0.971359</td>\n",
       "      <td>0.971408</td>\n",
       "      <td>0.000045</td>\n",
       "    </tr>\n",
       "    <tr>\n",
       "      <th>2</th>\n",
       "      <td>0.889177</td>\n",
       "      <td>0.010980</td>\n",
       "      <td>0.143366</td>\n",
       "      <td>0.001782</td>\n",
       "      <td>1</td>\n",
       "      <td>{'alpha': 1}</td>\n",
       "      <td>0.816694</td>\n",
       "      <td>0.814481</td>\n",
       "      <td>0.816669</td>\n",
       "      <td>0.815853</td>\n",
       "      <td>...</td>\n",
       "      <td>0.815903</td>\n",
       "      <td>0.000805</td>\n",
       "      <td>1</td>\n",
       "      <td>0.962274</td>\n",
       "      <td>0.962265</td>\n",
       "      <td>0.962196</td>\n",
       "      <td>0.962265</td>\n",
       "      <td>0.962275</td>\n",
       "      <td>0.962255</td>\n",
       "      <td>0.000030</td>\n",
       "    </tr>\n",
       "    <tr>\n",
       "      <th>3</th>\n",
       "      <td>0.852792</td>\n",
       "      <td>0.008399</td>\n",
       "      <td>0.142419</td>\n",
       "      <td>0.001441</td>\n",
       "      <td>2</td>\n",
       "      <td>{'alpha': 2}</td>\n",
       "      <td>0.814741</td>\n",
       "      <td>0.812771</td>\n",
       "      <td>0.815636</td>\n",
       "      <td>0.813850</td>\n",
       "      <td>...</td>\n",
       "      <td>0.814306</td>\n",
       "      <td>0.000957</td>\n",
       "      <td>3</td>\n",
       "      <td>0.945275</td>\n",
       "      <td>0.945346</td>\n",
       "      <td>0.945340</td>\n",
       "      <td>0.945382</td>\n",
       "      <td>0.945533</td>\n",
       "      <td>0.945375</td>\n",
       "      <td>0.000086</td>\n",
       "    </tr>\n",
       "    <tr>\n",
       "      <th>4</th>\n",
       "      <td>0.826978</td>\n",
       "      <td>0.005987</td>\n",
       "      <td>0.141470</td>\n",
       "      <td>0.000910</td>\n",
       "      <td>5</td>\n",
       "      <td>{'alpha': 5}</td>\n",
       "      <td>0.805986</td>\n",
       "      <td>0.804719</td>\n",
       "      <td>0.807153</td>\n",
       "      <td>0.805225</td>\n",
       "      <td>...</td>\n",
       "      <td>0.805865</td>\n",
       "      <td>0.000841</td>\n",
       "      <td>5</td>\n",
       "      <td>0.907908</td>\n",
       "      <td>0.908292</td>\n",
       "      <td>0.908241</td>\n",
       "      <td>0.908234</td>\n",
       "      <td>0.908292</td>\n",
       "      <td>0.908193</td>\n",
       "      <td>0.000145</td>\n",
       "    </tr>\n",
       "  </tbody>\n",
       "</table>\n",
       "<p>5 rows × 21 columns</p>\n",
       "</div>"
      ],
      "text/plain": [
       "   mean_fit_time  std_fit_time  mean_score_time  std_score_time param_alpha  \\\n",
       "0       1.003823      0.085085         0.169537        0.035086         0.1   \n",
       "1       0.885312      0.010505         0.142698        0.001524         0.5   \n",
       "2       0.889177      0.010980         0.143366        0.001782           1   \n",
       "3       0.852792      0.008399         0.142419        0.001441           2   \n",
       "4       0.826978      0.005987         0.141470        0.000910           5   \n",
       "\n",
       "           params  split0_test_score  split1_test_score  split2_test_score  \\\n",
       "0  {'alpha': 0.1}           0.807986           0.805576           0.808354   \n",
       "1  {'alpha': 0.5}           0.815230           0.812976           0.815389   \n",
       "2    {'alpha': 1}           0.816694           0.814481           0.816669   \n",
       "3    {'alpha': 2}           0.814741           0.812771           0.815636   \n",
       "4    {'alpha': 5}           0.805986           0.804719           0.807153   \n",
       "\n",
       "   split3_test_score  ...  mean_test_score  std_test_score  rank_test_score  \\\n",
       "0           0.806379  ...         0.806977        0.001038                4   \n",
       "1           0.813862  ...         0.814369        0.000892                2   \n",
       "2           0.815853  ...         0.815903        0.000805                1   \n",
       "3           0.813850  ...         0.814306        0.000957                3   \n",
       "4           0.805225  ...         0.805865        0.000841                5   \n",
       "\n",
       "   split0_train_score  split1_train_score  split2_train_score  \\\n",
       "0            0.978928            0.979055            0.978972   \n",
       "1            0.971367            0.971477            0.971442   \n",
       "2            0.962274            0.962265            0.962196   \n",
       "3            0.945275            0.945346            0.945340   \n",
       "4            0.907908            0.908292            0.908241   \n",
       "\n",
       "   split3_train_score  split4_train_score  mean_train_score  std_train_score  \n",
       "0            0.979048            0.979013          0.979003         0.000048  \n",
       "1            0.971396            0.971359          0.971408         0.000045  \n",
       "2            0.962265            0.962275          0.962255         0.000030  \n",
       "3            0.945382            0.945533          0.945375         0.000086  \n",
       "4            0.908234            0.908292          0.908193         0.000145  \n",
       "\n",
       "[5 rows x 21 columns]"
      ]
     },
     "execution_count": 34,
     "metadata": {},
     "output_type": "execute_result"
    }
   ],
   "source": [
    "results = pd.DataFrame.from_dict(clf.cv_results_)   # converting the results in to a dataframe\n",
    "results = results.sort_values(['param_alpha'])  \n",
    "results.head()"
   ]
  },
  {
   "cell_type": "code",
   "execution_count": 35,
   "id": "sapphire-evening",
   "metadata": {},
   "outputs": [],
   "source": [
    "train_auc= results['mean_train_score'].values  #extracting the auc scores \n",
    "cv_auc = results['mean_test_score'].values"
   ]
  },
  {
   "cell_type": "code",
   "execution_count": 36,
   "id": "informal-calendar",
   "metadata": {},
   "outputs": [],
   "source": [
    "a1=[]\n",
    "for i in parameters.values():\n",
    "    a1.append(i)\n",
    "alphas = list(chain.from_iterable(a1))"
   ]
  },
  {
   "cell_type": "code",
   "execution_count": 37,
   "id": "confirmed-privilege",
   "metadata": {},
   "outputs": [
    {
     "data": {
      "image/png": "[encoded data removed]",
      "text/plain": [
       "<Figure size 432x288 with 1 Axes>"
      ]
     },
     "metadata": {
      "needs_background": "light"
     },
     "output_type": "display_data"
    }
   ],
   "source": [
    "plt.plot(alphas, train_auc, label='Train AUC')\n",
    "plt.plot(alphas, cv_auc, label='CV AUC')\n",
    "plt.scatter(alphas, train_auc, label='Train AUC points')\n",
    "plt.scatter(alphas, cv_auc, label='CV AUC points')\n",
    "\n",
    "plt.legend()\n",
    "plt.xlabel(\"Alpha: hyperparameter\")\n",
    "plt.ylabel(\"AUC\")\n",
    "plt.title(\"Hyper parameter Vs AUC plot\")  \n",
    "plt.grid()\n",
    "plt.show()"
   ]
  },
  {
   "cell_type": "code",
   "execution_count": 38,
   "id": "mathematical-closer",
   "metadata": {},
   "outputs": [
    {
     "name": "stdout",
     "output_type": "stream",
     "text": [
      "The best Alpha= 1\n",
      "   mean_train_score  mean_test_score\n",
      "2          0.962255         0.815903\n"
     ]
    }
   ],
   "source": [
    "bestparam=clf.best_params_['alpha']   #extracting the best hyperparameter\n",
    "print(\"The best Alpha=\",bestparam)\n",
    "print(results[results['param_alpha'] == bestparam][['mean_train_score','mean_test_score']])"
   ]
  },
  {
   "cell_type": "markdown",
   "id": "international-checkout",
   "metadata": {},
   "source": [
    "# Training With Best Parameter"
   ]
  },
  {
   "cell_type": "code",
   "execution_count": 39,
   "id": "ignored-placement",
   "metadata": {},
   "outputs": [
    {
     "data": {
      "text/plain": [
       "MultinomialNB(alpha=1)"
      ]
     },
     "execution_count": 39,
     "metadata": {},
     "output_type": "execute_result"
    }
   ],
   "source": [
    "mul_model = MultinomialNB(alpha=bestparam) #Building a Naive Bayes model with the best alpha\n",
    "mul_model.fit(x_tr,y_train)               #Training the model"
   ]
  },
  {
   "cell_type": "code",
   "execution_count": 40,
   "id": "recovered-advice",
   "metadata": {},
   "outputs": [
    {
     "name": "stdout",
     "output_type": "stream",
     "text": [
      "Test Accuracy 0.8284027826575785\n",
      "[[160956  37907]\n",
      " [ 30469 169136]]\n",
      "0.8284027826575785\n"
     ]
    }
   ],
   "source": [
    "acc = mul_model.score(x_te, y_test)\n",
    "print('Test Accuracy', acc)\n",
    "y_pred = mul_model.predict(x_te)\n",
    "cm = confusion_matrix(y_test, y_pred)\n",
    "print(cm)\n",
    "print((cm[0,0]+cm[1,1])/np.sum(cm))"
   ]
  },
  {
   "cell_type": "code",
   "execution_count": 41,
   "id": "native-richmond",
   "metadata": {},
   "outputs": [
    {
     "name": "stdout",
     "output_type": "stream",
     "text": [
      "[1.83892901e-06 3.34220520e-02 2.83413254e-02 ... 4.00730065e-01\n",
      " 8.62916642e-01 1.75250185e-03]\n",
      "(398468,)\n"
     ]
    }
   ],
   "source": [
    "y_prob = mul_model.predict_proba(x_te)\n",
    "print(y_prob[:,0])\n",
    "idx = (y_pred != y_test)\n",
    "idx = [i for i,j in enumerate(idx) if j]\n",
    "print(X_test.values.shape)\n",
    "# print(y_test.values[idx].shape)\n",
    "miss = pd.DataFrame({'tweet':X_test.values[idx], 'target':y_test.values[idx], 'prob_0': y_prob[:,0][idx] ,'prob_1': y_prob[:,1][idx]})\n",
    "miss.head()\n",
    "miss.to_csv('mispredictions.csv')"
   ]
  },
  {
   "cell_type": "code",
   "execution_count": 42,
   "id": "authentic-nelson",
   "metadata": {},
   "outputs": [
    {
     "data": {
      "image/png": "[encoded data removed]",
      "text/plain": [
       "<Figure size 432x288 with 1 Axes>"
      ]
     },
     "metadata": {
      "needs_background": "light"
     },
     "output_type": "display_data"
    }
   ],
   "source": [
    "y_train_pred = mul_model.predict_proba(x_tr)[:,1]  #Prediction using the model(log probability of each class)\n",
    "y_test_pred = mul_model.predict_proba(x_te)[:,1]\n",
    "train_fpr, train_tpr, tr_thresholds = roc_curve(y_train, y_train_pred)\n",
    "test_fpr, test_tpr, te_thresholds = roc_curve(y_test, y_test_pred)   \n",
    "plt.plot(train_fpr, train_tpr, label=\"train AUC =\"+str(auc(train_fpr, train_tpr)))\n",
    "plt.plot(test_fpr, test_tpr, label=\"test AUC =\"+str(auc(test_fpr, test_tpr)))\n",
    "plt.legend()\n",
    "plt.title(\"AUC PLOTS\")             #Plotting train and test AUC \n",
    "plt.grid()\n",
    "plt.show()"
   ]
  },
  {
   "cell_type": "code",
   "execution_count": 43,
   "id": "respiratory-idaho",
   "metadata": {},
   "outputs": [
    {
     "name": "stdout",
     "output_type": "stream",
     "text": [
      "Train AUC= 0.993\n",
      "Test AUC= 0.904\n"
     ]
    }
   ],
   "source": [
    "trauc=round(auc(train_fpr, train_tpr),3)\n",
    "teauc=round(auc(test_fpr, test_tpr),3)\n",
    "print('Train AUC=',trauc)\n",
    "print('Test AUC=',teauc)"
   ]
  },
  {
   "cell_type": "code",
   "execution_count": 44,
   "id": "trying-battlefield",
   "metadata": {},
   "outputs": [],
   "source": [
    "def find_best_threshold(threshould, fpr, tpr):\n",
    "    t = threshould[np.argmax(tpr*(1-fpr))]      #finding the best threshold \n",
    "    print(\"the maximum value of tpr*(1-fpr)\", max(tpr*(1-fpr)), \"for threshold\", np.round(t,3))\n",
    "    return t\n",
    "\n",
    "def predict_with_best_t(proba, threshould):\n",
    "    predictions = []\n",
    "    for i in proba:\n",
    "        if i>=threshould:\n",
    "            predictions.append(1)\n",
    "        else:                                 #building a confusion matrix with the best threshold \n",
    "            predictions.append(0)\n",
    "    return predictions"
   ]
  },
  {
   "cell_type": "code",
   "execution_count": 45,
   "id": "unnecessary-stable",
   "metadata": {},
   "outputs": [
    {
     "name": "stdout",
     "output_type": "stream",
     "text": [
      "the maximum value of tpr*(1-fpr) 0.9242285361535734 for threshold 0.479\n"
     ]
    }
   ],
   "source": [
    "best_t = find_best_threshold(tr_thresholds, train_fpr, train_tpr)\n",
    "TRCM=confusion_matrix(y_train, predict_with_best_t(y_train_pred, best_t))\n",
    "TECM=confusion_matrix(y_test, predict_with_best_t(y_test_pred, best_t))"
   ]
  },
  {
   "cell_type": "code",
   "execution_count": 46,
   "id": "trained-mitchell",
   "metadata": {},
   "outputs": [],
   "source": [
    "def CM(x,y):\n",
    "    labels = ['TN','FP','FN','TP']\n",
    "    group_counts = [\"{0:0.0f}\".format(value) for value in x.flatten()]\n",
    "                    \n",
    "    labels = [f\"{v1}\\n{v2}\" for v1, v2 in\n",
    "    zip(labels,group_counts)]\n",
    "    labels = np.asarray(labels).reshape(2,2)       #Building a design for the confusion matrix\n",
    "    sns.heatmap(x, annot=labels, fmt='', cmap='BuPu')\n",
    "    plt.xlabel(\"Predicted\")\n",
    "    plt.ylabel(\"Actual\")\n",
    "    plt.title(y)\n",
    "    plt.plot()"
   ]
  },
  {
   "cell_type": "code",
   "execution_count": 47,
   "id": "dietary-behavior",
   "metadata": {},
   "outputs": [
    {
     "data": {
      "image/png": "[encoded data removed]",
      "text/plain": [
       "<Figure size 432x288 with 2 Axes>"
      ]
     },
     "metadata": {
      "needs_background": "light"
     },
     "output_type": "display_data"
    }
   ],
   "source": [
    "CM(TRCM,'Train Confusion Matrix')"
   ]
  },
  {
   "cell_type": "code",
   "execution_count": 48,
   "id": "virtual-residence",
   "metadata": {},
   "outputs": [
    {
     "data": {
      "image/png": "[encoded data removed]",
      "text/plain": [
       "<Figure size 432x288 with 2 Axes>"
      ]
     },
     "metadata": {
      "needs_background": "light"
     },
     "output_type": "display_data"
    }
   ],
   "source": [
    "CM(TECM,'Test Confusion Matrix')"
   ]
  },
  {
   "cell_type": "markdown",
   "id": "assured-paragraph",
   "metadata": {},
   "source": [
    "# Testing on Pfizer Dataset"
   ]
  },
  {
   "cell_type": "code",
   "execution_count": 49,
   "id": "raised-thanksgiving",
   "metadata": {},
   "outputs": [],
   "source": [
    "df = pd.read_csv('Cleaned_Pfizer_Dataset.csv')\n",
    "df.drop('Unnamed: 0', axis=1, inplace=True)"
   ]
  },
  {
   "cell_type": "code",
   "execution_count": 50,
   "id": "rapid-dance",
   "metadata": {},
   "outputs": [
    {
     "data": {
      "text/html": [
       "<div>\n",
       "<style scoped>\n",
       "    .dataframe tbody tr th:only-of-type {\n",
       "        vertical-align: middle;\n",
       "    }\n",
       "\n",
       "    .dataframe tbody tr th {\n",
       "        vertical-align: top;\n",
       "    }\n",
       "\n",
       "    .dataframe thead th {\n",
       "        text-align: right;\n",
       "    }\n",
       "</style>\n",
       "<table border=\"1\" class=\"dataframe\">\n",
       "  <thead>\n",
       "    <tr style=\"text-align: right;\">\n",
       "      <th></th>\n",
       "      <th>tweet</th>\n",
       "    </tr>\n",
       "  </thead>\n",
       "  <tbody>\n",
       "    <tr>\n",
       "      <th>0</th>\n",
       "      <td>text</td>\n",
       "    </tr>\n",
       "    <tr>\n",
       "      <th>1</th>\n",
       "      <td>folks say daikon paste could treat cytokine storm</td>\n",
       "    </tr>\n",
       "    <tr>\n",
       "      <th>2</th>\n",
       "      <td>world wrong side history year hopefully bigges...</td>\n",
       "    </tr>\n",
       "    <tr>\n",
       "      <th>3</th>\n",
       "      <td>russian vaccine create last years</td>\n",
       "    </tr>\n",
       "    <tr>\n",
       "      <th>4</th>\n",
       "      <td>facts immutable senator even ethically sturdy ...</td>\n",
       "    </tr>\n",
       "  </tbody>\n",
       "</table>\n",
       "</div>"
      ],
      "text/plain": [
       "                                               tweet\n",
       "0                                               text\n",
       "1  folks say daikon paste could treat cytokine storm\n",
       "2  world wrong side history year hopefully bigges...\n",
       "3                  russian vaccine create last years\n",
       "4  facts immutable senator even ethically sturdy ..."
      ]
     },
     "execution_count": 50,
     "metadata": {},
     "output_type": "execute_result"
    }
   ],
   "source": [
    "df.head()"
   ]
  },
  {
   "cell_type": "code",
   "execution_count": 51,
   "id": "practical-blues",
   "metadata": {},
   "outputs": [],
   "source": [
    "covid_tweets=vectorizer.transform(df['tweet'].values)"
   ]
  },
  {
   "cell_type": "code",
   "execution_count": 52,
   "id": "critical-spank",
   "metadata": {},
   "outputs": [
    {
     "name": "stdout",
     "output_type": "stream",
     "text": [
      "  (0, 6181013)\t1\n",
      "  (1, 1212430)\t1\n",
      "  (1, 1225041)\t1\n",
      "  (1, 2080396)\t1\n",
      "  (1, 4666213)\t1\n",
      "  (1, 5356760)\t1\n",
      "  (1, 5938225)\t1\n",
      "  (1, 6542280)\t1\n",
      "  (2, 622427)\t1\n",
      "  (2, 1697173)\t1\n",
      "  (2, 1788931)\t1\n",
      "  (2, 2853829)\t1\n",
      "  (2, 2929423)\t1\n",
      "  (2, 5593431)\t1\n",
      "  (2, 6773397)\t1\n",
      "  (2, 7199208)\t1\n",
      "  (2, 7203850)\t1\n",
      "  (2, 7257933)\t1\n",
      "  (2, 7260723)\t1\n",
      "  (2, 7312908)\t1\n",
      "  (2, 7315018)\t1\n",
      "  (3, 1267329)\t1\n",
      "  (3, 1267776)\t1\n",
      "  (3, 3379231)\t1\n",
      "  (3, 3392860)\t1\n",
      "  :\t:\n",
      "  (8024, 6842105)\t1\n",
      "  (8024, 7054592)\t1\n",
      "  (8025, 1565358)\t1\n",
      "  (8025, 1567199)\t1\n",
      "  (8025, 5422504)\t1\n",
      "  (8025, 5545412)\t1\n",
      "  (8025, 5545890)\t1\n",
      "  (8025, 6193084)\t1\n",
      "  (8025, 6773442)\t1\n",
      "  (8025, 6773466)\t1\n",
      "  (8026, 196236)\t1\n",
      "  (8026, 2760970)\t1\n",
      "  (8026, 3056289)\t1\n",
      "  (8026, 3058712)\t1\n",
      "  (8026, 4453603)\t1\n",
      "  (8026, 5422504)\t1\n",
      "  (8026, 6193084)\t1\n",
      "  (8026, 6193602)\t1\n",
      "  (8026, 6773442)\t1\n",
      "  (8026, 6820757)\t1\n",
      "  (8026, 7192446)\t1\n",
      "  (8027, 129819)\t1\n",
      "  (8027, 3495955)\t1\n",
      "  (8027, 4944646)\t1\n",
      "  (8027, 6773485)\t1\n"
     ]
    }
   ],
   "source": [
    "print(covid_tweets)"
   ]
  },
  {
   "cell_type": "code",
   "execution_count": 53,
   "id": "hungarian-moment",
   "metadata": {},
   "outputs": [],
   "source": [
    "prediction = mul_model.predict(covid_tweets)"
   ]
  },
  {
   "cell_type": "code",
   "execution_count": 54,
   "id": "imperial-event",
   "metadata": {},
   "outputs": [
    {
     "name": "stdout",
     "output_type": "stream",
     "text": [
      "[0 0 0 ... 1 1 0]\n"
     ]
    }
   ],
   "source": [
    "print(prediction)"
   ]
  },
  {
   "cell_type": "code",
   "execution_count": 55,
   "id": "heavy-assault",
   "metadata": {},
   "outputs": [],
   "source": [
    "df['prediction'] = prediction"
   ]
  },
  {
   "cell_type": "code",
   "execution_count": null,
   "id": "civic-plymouth",
   "metadata": {},
   "outputs": [],
   "source": []
  }
 ],
 "metadata": {
  "kernelspec": {
   "display_name": "Python 3",
   "language": "python",
   "name": "python3"
  },
  "language_info": {
   "codemirror_mode": {
    "name": "ipython",
    "version": 3
   },
   "file_extension": ".py",
   "mimetype": "text/x-python",
   "name": "python",
   "nbconvert_exporter": "python",
   "pygments_lexer": "ipython3",
   "version": "3.8.5"
  }
 },
 "nbformat": 4,
 "nbformat_minor": 5
}
