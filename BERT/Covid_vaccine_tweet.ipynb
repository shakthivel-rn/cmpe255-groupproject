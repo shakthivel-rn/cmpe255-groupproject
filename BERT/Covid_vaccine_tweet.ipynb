{
  "nbformat": 4,
  "nbformat_minor": 0,
  "metadata": {
    "colab": {
      "name": "Covid_vaccine_tweet.ipynb",
      "provenance": []
    },
    "kernelspec": {
      "name": "python3",
      "display_name": "Python 3"
    },
    "language_info": {
      "name": "python"
    },
    "accelerator": "TPU",
    "widgets": {
      "application/vnd.jupyter.widget-state+json": {
        "2a635fdbe4cd408aada5d4f03800c72c": {
          "model_module": "@jupyter-widgets/controls",
          "model_name": "HBoxModel",
          "state": {
            "_view_name": "HBoxView",
            "_dom_classes": [],
            "_model_name": "HBoxModel",
            "_view_module": "@jupyter-widgets/controls",
            "_model_module_version": "1.5.0",
            "_view_count": null,
            "_view_module_version": "1.5.0",
            "box_style": "",
            "layout": "IPY_MODEL_e4552619304d4087a05a63b942f50b28",
            "_model_module": "@jupyter-widgets/controls",
            "children": [
              "IPY_MODEL_4de4dd1cba2f40b29ac5a5e81c16c5de",
              "IPY_MODEL_d5f1f6622ffd4e3d91364b9b52773142"
            ]
          }
        },
        "e4552619304d4087a05a63b942f50b28": {
          "model_module": "@jupyter-widgets/base",
          "model_name": "LayoutModel",
          "state": {
            "_view_name": "LayoutView",
            "grid_template_rows": null,
            "right": null,
            "justify_content": null,
            "_view_module": "@jupyter-widgets/base",
            "overflow": null,
            "_model_module_version": "1.2.0",
            "_view_count": null,
            "flex_flow": null,
            "width": null,
            "min_width": null,
            "border": null,
            "align_items": null,
            "bottom": null,
            "_model_module": "@jupyter-widgets/base",
            "top": null,
            "grid_column": null,
            "overflow_y": null,
            "overflow_x": null,
            "grid_auto_flow": null,
            "grid_area": null,
            "grid_template_columns": null,
            "flex": null,
            "_model_name": "LayoutModel",
            "justify_items": null,
            "grid_row": null,
            "max_height": null,
            "align_content": null,
            "visibility": null,
            "align_self": null,
            "height": null,
            "min_height": null,
            "padding": null,
            "grid_auto_rows": null,
            "grid_gap": null,
            "max_width": null,
            "order": null,
            "_view_module_version": "1.2.0",
            "grid_template_areas": null,
            "object_position": null,
            "object_fit": null,
            "grid_auto_columns": null,
            "margin": null,
            "display": null,
            "left": null
          }
        },
        "4de4dd1cba2f40b29ac5a5e81c16c5de": {
          "model_module": "@jupyter-widgets/controls",
          "model_name": "FloatProgressModel",
          "state": {
            "_view_name": "ProgressView",
            "style": "IPY_MODEL_e599d69717804b3da31bd1f6864756d2",
            "_dom_classes": [],
            "description": "Downloading: 100%",
            "_model_name": "FloatProgressModel",
            "bar_style": "success",
            "max": 231508,
            "_view_module": "@jupyter-widgets/controls",
            "_model_module_version": "1.5.0",
            "value": 231508,
            "_view_count": null,
            "_view_module_version": "1.5.0",
            "orientation": "horizontal",
            "min": 0,
            "description_tooltip": null,
            "_model_module": "@jupyter-widgets/controls",
            "layout": "IPY_MODEL_7aaae2f13eaa45b4961d5284eb177c8d"
          }
        },
        "d5f1f6622ffd4e3d91364b9b52773142": {
          "model_module": "@jupyter-widgets/controls",
          "model_name": "HTMLModel",
          "state": {
            "_view_name": "HTMLView",
            "style": "IPY_MODEL_c48ad59dac7c41848f0bb3d4bdcd0e0e",
            "_dom_classes": [],
            "description": "",
            "_model_name": "HTMLModel",
            "placeholder": "​",
            "_view_module": "@jupyter-widgets/controls",
            "_model_module_version": "1.5.0",
            "value": " 232k/232k [00:00&lt;00:00, 411kB/s]",
            "_view_count": null,
            "_view_module_version": "1.5.0",
            "description_tooltip": null,
            "_model_module": "@jupyter-widgets/controls",
            "layout": "IPY_MODEL_27b57618aea340499a82a0b97609ea92"
          }
        },
        "e599d69717804b3da31bd1f6864756d2": {
          "model_module": "@jupyter-widgets/controls",
          "model_name": "ProgressStyleModel",
          "state": {
            "_view_name": "StyleView",
            "_model_name": "ProgressStyleModel",
            "description_width": "initial",
            "_view_module": "@jupyter-widgets/base",
            "_model_module_version": "1.5.0",
            "_view_count": null,
            "_view_module_version": "1.2.0",
            "bar_color": null,
            "_model_module": "@jupyter-widgets/controls"
          }
        },
        "7aaae2f13eaa45b4961d5284eb177c8d": {
          "model_module": "@jupyter-widgets/base",
          "model_name": "LayoutModel",
          "state": {
            "_view_name": "LayoutView",
            "grid_template_rows": null,
            "right": null,
            "justify_content": null,
            "_view_module": "@jupyter-widgets/base",
            "overflow": null,
            "_model_module_version": "1.2.0",
            "_view_count": null,
            "flex_flow": null,
            "width": null,
            "min_width": null,
            "border": null,
            "align_items": null,
            "bottom": null,
            "_model_module": "@jupyter-widgets/base",
            "top": null,
            "grid_column": null,
            "overflow_y": null,
            "overflow_x": null,
            "grid_auto_flow": null,
            "grid_area": null,
            "grid_template_columns": null,
            "flex": null,
            "_model_name": "LayoutModel",
            "justify_items": null,
            "grid_row": null,
            "max_height": null,
            "align_content": null,
            "visibility": null,
            "align_self": null,
            "height": null,
            "min_height": null,
            "padding": null,
            "grid_auto_rows": null,
            "grid_gap": null,
            "max_width": null,
            "order": null,
            "_view_module_version": "1.2.0",
            "grid_template_areas": null,
            "object_position": null,
            "object_fit": null,
            "grid_auto_columns": null,
            "margin": null,
            "display": null,
            "left": null
          }
        },
        "c48ad59dac7c41848f0bb3d4bdcd0e0e": {
          "model_module": "@jupyter-widgets/controls",
          "model_name": "DescriptionStyleModel",
          "state": {
            "_view_name": "StyleView",
            "_model_name": "DescriptionStyleModel",
            "description_width": "",
            "_view_module": "@jupyter-widgets/base",
            "_model_module_version": "1.5.0",
            "_view_count": null,
            "_view_module_version": "1.2.0",
            "_model_module": "@jupyter-widgets/controls"
          }
        },
        "27b57618aea340499a82a0b97609ea92": {
          "model_module": "@jupyter-widgets/base",
          "model_name": "LayoutModel",
          "state": {
            "_view_name": "LayoutView",
            "grid_template_rows": null,
            "right": null,
            "justify_content": null,
            "_view_module": "@jupyter-widgets/base",
            "overflow": null,
            "_model_module_version": "1.2.0",
            "_view_count": null,
            "flex_flow": null,
            "width": null,
            "min_width": null,
            "border": null,
            "align_items": null,
            "bottom": null,
            "_model_module": "@jupyter-widgets/base",
            "top": null,
            "grid_column": null,
            "overflow_y": null,
            "overflow_x": null,
            "grid_auto_flow": null,
            "grid_area": null,
            "grid_template_columns": null,
            "flex": null,
            "_model_name": "LayoutModel",
            "justify_items": null,
            "grid_row": null,
            "max_height": null,
            "align_content": null,
            "visibility": null,
            "align_self": null,
            "height": null,
            "min_height": null,
            "padding": null,
            "grid_auto_rows": null,
            "grid_gap": null,
            "max_width": null,
            "order": null,
            "_view_module_version": "1.2.0",
            "grid_template_areas": null,
            "object_position": null,
            "object_fit": null,
            "grid_auto_columns": null,
            "margin": null,
            "display": null,
            "left": null
          }
        },
        "4ae2bbb957d24faf86558470799e5ba8": {
          "model_module": "@jupyter-widgets/controls",
          "model_name": "HBoxModel",
          "state": {
            "_view_name": "HBoxView",
            "_dom_classes": [],
            "_model_name": "HBoxModel",
            "_view_module": "@jupyter-widgets/controls",
            "_model_module_version": "1.5.0",
            "_view_count": null,
            "_view_module_version": "1.5.0",
            "box_style": "",
            "layout": "IPY_MODEL_5b0c2d6061fa4f07890f8c3123e3fa4d",
            "_model_module": "@jupyter-widgets/controls",
            "children": [
              "IPY_MODEL_cea8537fc0a947d4a4981f1b62727ecc",
              "IPY_MODEL_edd76ac573114b19baf454067447a226"
            ]
          }
        },
        "5b0c2d6061fa4f07890f8c3123e3fa4d": {
          "model_module": "@jupyter-widgets/base",
          "model_name": "LayoutModel",
          "state": {
            "_view_name": "LayoutView",
            "grid_template_rows": null,
            "right": null,
            "justify_content": null,
            "_view_module": "@jupyter-widgets/base",
            "overflow": null,
            "_model_module_version": "1.2.0",
            "_view_count": null,
            "flex_flow": null,
            "width": null,
            "min_width": null,
            "border": null,
            "align_items": null,
            "bottom": null,
            "_model_module": "@jupyter-widgets/base",
            "top": null,
            "grid_column": null,
            "overflow_y": null,
            "overflow_x": null,
            "grid_auto_flow": null,
            "grid_area": null,
            "grid_template_columns": null,
            "flex": null,
            "_model_name": "LayoutModel",
            "justify_items": null,
            "grid_row": null,
            "max_height": null,
            "align_content": null,
            "visibility": null,
            "align_self": null,
            "height": null,
            "min_height": null,
            "padding": null,
            "grid_auto_rows": null,
            "grid_gap": null,
            "max_width": null,
            "order": null,
            "_view_module_version": "1.2.0",
            "grid_template_areas": null,
            "object_position": null,
            "object_fit": null,
            "grid_auto_columns": null,
            "margin": null,
            "display": null,
            "left": null
          }
        },
        "cea8537fc0a947d4a4981f1b62727ecc": {
          "model_module": "@jupyter-widgets/controls",
          "model_name": "FloatProgressModel",
          "state": {
            "_view_name": "ProgressView",
            "style": "IPY_MODEL_74ec56062a14489b873de3be5e9fcb33",
            "_dom_classes": [],
            "description": "Downloading: 100%",
            "_model_name": "FloatProgressModel",
            "bar_style": "success",
            "max": 28,
            "_view_module": "@jupyter-widgets/controls",
            "_model_module_version": "1.5.0",
            "value": 28,
            "_view_count": null,
            "_view_module_version": "1.5.0",
            "orientation": "horizontal",
            "min": 0,
            "description_tooltip": null,
            "_model_module": "@jupyter-widgets/controls",
            "layout": "IPY_MODEL_3000c88ddc2c434b96b3d8deedd96e2a"
          }
        },
        "edd76ac573114b19baf454067447a226": {
          "model_module": "@jupyter-widgets/controls",
          "model_name": "HTMLModel",
          "state": {
            "_view_name": "HTMLView",
            "style": "IPY_MODEL_b869c35ece0e4ae88baa5a5d9f2a9a11",
            "_dom_classes": [],
            "description": "",
            "_model_name": "HTMLModel",
            "placeholder": "​",
            "_view_module": "@jupyter-widgets/controls",
            "_model_module_version": "1.5.0",
            "value": " 28.0/28.0 [00:00&lt;00:00, 56.9B/s]",
            "_view_count": null,
            "_view_module_version": "1.5.0",
            "description_tooltip": null,
            "_model_module": "@jupyter-widgets/controls",
            "layout": "IPY_MODEL_659e5b09779747d2a81b3c5cf32643e5"
          }
        },
        "74ec56062a14489b873de3be5e9fcb33": {
          "model_module": "@jupyter-widgets/controls",
          "model_name": "ProgressStyleModel",
          "state": {
            "_view_name": "StyleView",
            "_model_name": "ProgressStyleModel",
            "description_width": "initial",
            "_view_module": "@jupyter-widgets/base",
            "_model_module_version": "1.5.0",
            "_view_count": null,
            "_view_module_version": "1.2.0",
            "bar_color": null,
            "_model_module": "@jupyter-widgets/controls"
          }
        },
        "3000c88ddc2c434b96b3d8deedd96e2a": {
          "model_module": "@jupyter-widgets/base",
          "model_name": "LayoutModel",
          "state": {
            "_view_name": "LayoutView",
            "grid_template_rows": null,
            "right": null,
            "justify_content": null,
            "_view_module": "@jupyter-widgets/base",
            "overflow": null,
            "_model_module_version": "1.2.0",
            "_view_count": null,
            "flex_flow": null,
            "width": null,
            "min_width": null,
            "border": null,
            "align_items": null,
            "bottom": null,
            "_model_module": "@jupyter-widgets/base",
            "top": null,
            "grid_column": null,
            "overflow_y": null,
            "overflow_x": null,
            "grid_auto_flow": null,
            "grid_area": null,
            "grid_template_columns": null,
            "flex": null,
            "_model_name": "LayoutModel",
            "justify_items": null,
            "grid_row": null,
            "max_height": null,
            "align_content": null,
            "visibility": null,
            "align_self": null,
            "height": null,
            "min_height": null,
            "padding": null,
            "grid_auto_rows": null,
            "grid_gap": null,
            "max_width": null,
            "order": null,
            "_view_module_version": "1.2.0",
            "grid_template_areas": null,
            "object_position": null,
            "object_fit": null,
            "grid_auto_columns": null,
            "margin": null,
            "display": null,
            "left": null
          }
        },
        "b869c35ece0e4ae88baa5a5d9f2a9a11": {
          "model_module": "@jupyter-widgets/controls",
          "model_name": "DescriptionStyleModel",
          "state": {
            "_view_name": "StyleView",
            "_model_name": "DescriptionStyleModel",
            "description_width": "",
            "_view_module": "@jupyter-widgets/base",
            "_model_module_version": "1.5.0",
            "_view_count": null,
            "_view_module_version": "1.2.0",
            "_model_module": "@jupyter-widgets/controls"
          }
        },
        "659e5b09779747d2a81b3c5cf32643e5": {
          "model_module": "@jupyter-widgets/base",
          "model_name": "LayoutModel",
          "state": {
            "_view_name": "LayoutView",
            "grid_template_rows": null,
            "right": null,
            "justify_content": null,
            "_view_module": "@jupyter-widgets/base",
            "overflow": null,
            "_model_module_version": "1.2.0",
            "_view_count": null,
            "flex_flow": null,
            "width": null,
            "min_width": null,
            "border": null,
            "align_items": null,
            "bottom": null,
            "_model_module": "@jupyter-widgets/base",
            "top": null,
            "grid_column": null,
            "overflow_y": null,
            "overflow_x": null,
            "grid_auto_flow": null,
            "grid_area": null,
            "grid_template_columns": null,
            "flex": null,
            "_model_name": "LayoutModel",
            "justify_items": null,
            "grid_row": null,
            "max_height": null,
            "align_content": null,
            "visibility": null,
            "align_self": null,
            "height": null,
            "min_height": null,
            "padding": null,
            "grid_auto_rows": null,
            "grid_gap": null,
            "max_width": null,
            "order": null,
            "_view_module_version": "1.2.0",
            "grid_template_areas": null,
            "object_position": null,
            "object_fit": null,
            "grid_auto_columns": null,
            "margin": null,
            "display": null,
            "left": null
          }
        },
        "f386a73540e5464dac7b41c2d20baabf": {
          "model_module": "@jupyter-widgets/controls",
          "model_name": "HBoxModel",
          "state": {
            "_view_name": "HBoxView",
            "_dom_classes": [],
            "_model_name": "HBoxModel",
            "_view_module": "@jupyter-widgets/controls",
            "_model_module_version": "1.5.0",
            "_view_count": null,
            "_view_module_version": "1.5.0",
            "box_style": "",
            "layout": "IPY_MODEL_4959a650679840f4a754a5c4b9af6024",
            "_model_module": "@jupyter-widgets/controls",
            "children": [
              "IPY_MODEL_6f44ed709ebd4db5b61693ba4e7ee50a",
              "IPY_MODEL_a3aef56c11284a8a9f06c4df34a055a0"
            ]
          }
        },
        "4959a650679840f4a754a5c4b9af6024": {
          "model_module": "@jupyter-widgets/base",
          "model_name": "LayoutModel",
          "state": {
            "_view_name": "LayoutView",
            "grid_template_rows": null,
            "right": null,
            "justify_content": null,
            "_view_module": "@jupyter-widgets/base",
            "overflow": null,
            "_model_module_version": "1.2.0",
            "_view_count": null,
            "flex_flow": null,
            "width": null,
            "min_width": null,
            "border": null,
            "align_items": null,
            "bottom": null,
            "_model_module": "@jupyter-widgets/base",
            "top": null,
            "grid_column": null,
            "overflow_y": null,
            "overflow_x": null,
            "grid_auto_flow": null,
            "grid_area": null,
            "grid_template_columns": null,
            "flex": null,
            "_model_name": "LayoutModel",
            "justify_items": null,
            "grid_row": null,
            "max_height": null,
            "align_content": null,
            "visibility": null,
            "align_self": null,
            "height": null,
            "min_height": null,
            "padding": null,
            "grid_auto_rows": null,
            "grid_gap": null,
            "max_width": null,
            "order": null,
            "_view_module_version": "1.2.0",
            "grid_template_areas": null,
            "object_position": null,
            "object_fit": null,
            "grid_auto_columns": null,
            "margin": null,
            "display": null,
            "left": null
          }
        },
        "6f44ed709ebd4db5b61693ba4e7ee50a": {
          "model_module": "@jupyter-widgets/controls",
          "model_name": "FloatProgressModel",
          "state": {
            "_view_name": "ProgressView",
            "style": "IPY_MODEL_39c0d2d1f04e43ba801bb9ef5e75d6ae",
            "_dom_classes": [],
            "description": "Downloading: 100%",
            "_model_name": "FloatProgressModel",
            "bar_style": "success",
            "max": 466062,
            "_view_module": "@jupyter-widgets/controls",
            "_model_module_version": "1.5.0",
            "value": 466062,
            "_view_count": null,
            "_view_module_version": "1.5.0",
            "orientation": "horizontal",
            "min": 0,
            "description_tooltip": null,
            "_model_module": "@jupyter-widgets/controls",
            "layout": "IPY_MODEL_ae1892c81f4540c5983628cd3e8b34cc"
          }
        },
        "a3aef56c11284a8a9f06c4df34a055a0": {
          "model_module": "@jupyter-widgets/controls",
          "model_name": "HTMLModel",
          "state": {
            "_view_name": "HTMLView",
            "style": "IPY_MODEL_17da31d7af804595bfed87073a781525",
            "_dom_classes": [],
            "description": "",
            "_model_name": "HTMLModel",
            "placeholder": "​",
            "_view_module": "@jupyter-widgets/controls",
            "_model_module_version": "1.5.0",
            "value": " 466k/466k [00:00&lt;00:00, 2.35MB/s]",
            "_view_count": null,
            "_view_module_version": "1.5.0",
            "description_tooltip": null,
            "_model_module": "@jupyter-widgets/controls",
            "layout": "IPY_MODEL_30d90ac9b91948a0ba8cf4e472cca1e4"
          }
        },
        "39c0d2d1f04e43ba801bb9ef5e75d6ae": {
          "model_module": "@jupyter-widgets/controls",
          "model_name": "ProgressStyleModel",
          "state": {
            "_view_name": "StyleView",
            "_model_name": "ProgressStyleModel",
            "description_width": "initial",
            "_view_module": "@jupyter-widgets/base",
            "_model_module_version": "1.5.0",
            "_view_count": null,
            "_view_module_version": "1.2.0",
            "bar_color": null,
            "_model_module": "@jupyter-widgets/controls"
          }
        },
        "ae1892c81f4540c5983628cd3e8b34cc": {
          "model_module": "@jupyter-widgets/base",
          "model_name": "LayoutModel",
          "state": {
            "_view_name": "LayoutView",
            "grid_template_rows": null,
            "right": null,
            "justify_content": null,
            "_view_module": "@jupyter-widgets/base",
            "overflow": null,
            "_model_module_version": "1.2.0",
            "_view_count": null,
            "flex_flow": null,
            "width": null,
            "min_width": null,
            "border": null,
            "align_items": null,
            "bottom": null,
            "_model_module": "@jupyter-widgets/base",
            "top": null,
            "grid_column": null,
            "overflow_y": null,
            "overflow_x": null,
            "grid_auto_flow": null,
            "grid_area": null,
            "grid_template_columns": null,
            "flex": null,
            "_model_name": "LayoutModel",
            "justify_items": null,
            "grid_row": null,
            "max_height": null,
            "align_content": null,
            "visibility": null,
            "align_self": null,
            "height": null,
            "min_height": null,
            "padding": null,
            "grid_auto_rows": null,
            "grid_gap": null,
            "max_width": null,
            "order": null,
            "_view_module_version": "1.2.0",
            "grid_template_areas": null,
            "object_position": null,
            "object_fit": null,
            "grid_auto_columns": null,
            "margin": null,
            "display": null,
            "left": null
          }
        },
        "17da31d7af804595bfed87073a781525": {
          "model_module": "@jupyter-widgets/controls",
          "model_name": "DescriptionStyleModel",
          "state": {
            "_view_name": "StyleView",
            "_model_name": "DescriptionStyleModel",
            "description_width": "",
            "_view_module": "@jupyter-widgets/base",
            "_model_module_version": "1.5.0",
            "_view_count": null,
            "_view_module_version": "1.2.0",
            "_model_module": "@jupyter-widgets/controls"
          }
        },
        "30d90ac9b91948a0ba8cf4e472cca1e4": {
          "model_module": "@jupyter-widgets/base",
          "model_name": "LayoutModel",
          "state": {
            "_view_name": "LayoutView",
            "grid_template_rows": null,
            "right": null,
            "justify_content": null,
            "_view_module": "@jupyter-widgets/base",
            "overflow": null,
            "_model_module_version": "1.2.0",
            "_view_count": null,
            "flex_flow": null,
            "width": null,
            "min_width": null,
            "border": null,
            "align_items": null,
            "bottom": null,
            "_model_module": "@jupyter-widgets/base",
            "top": null,
            "grid_column": null,
            "overflow_y": null,
            "overflow_x": null,
            "grid_auto_flow": null,
            "grid_area": null,
            "grid_template_columns": null,
            "flex": null,
            "_model_name": "LayoutModel",
            "justify_items": null,
            "grid_row": null,
            "max_height": null,
            "align_content": null,
            "visibility": null,
            "align_self": null,
            "height": null,
            "min_height": null,
            "padding": null,
            "grid_auto_rows": null,
            "grid_gap": null,
            "max_width": null,
            "order": null,
            "_view_module_version": "1.2.0",
            "grid_template_areas": null,
            "object_position": null,
            "object_fit": null,
            "grid_auto_columns": null,
            "margin": null,
            "display": null,
            "left": null
          }
        }
      }
    }
  },
  "cells": [
    {
      "cell_type": "code",
      "metadata": {
        "colab": {
          "base_uri": "https://localhost:8080/"
        },
        "id": "9mIkydz2Hs-0",
        "outputId": "a1cee6d1-d873-4281-df49-820475435c5d"
      },
      "source": [
        "from google.colab import drive\n",
        "drive.mount('/content/gdrive')"
      ],
      "execution_count": 1,
      "outputs": [
        {
          "output_type": "stream",
          "text": [
            "Mounted at /content/gdrive\n"
          ],
          "name": "stdout"
        }
      ]
    },
    {
      "cell_type": "code",
      "metadata": {
        "colab": {
          "base_uri": "https://localhost:8080/"
        },
        "id": "RKwo-U3sH03y",
        "outputId": "7f916339-dfc0-494e-eee5-872a54642f7c"
      },
      "source": [
        "import tensorflow as tf\n",
        "import matplotlib.pyplot as plt\n",
        "import pandas as pd\n",
        "import numpy as np\n",
        "import seaborn as sns\n",
        "import plotly.express as px\n",
        "import plotly.graph_objects as go\n",
        "print(\"Tensorflow Version\",tf.__version__)"
      ],
      "execution_count": 12,
      "outputs": [
        {
          "output_type": "stream",
          "text": [
            "Tensorflow Version 2.4.1\n"
          ],
          "name": "stdout"
        }
      ]
    },
    {
      "cell_type": "code",
      "metadata": {
        "id": "PfL2Aq9o83RG"
      },
      "source": [
        "import nltk \n",
        "nltk.download('stopwords')\n",
        "from nltk.corpus import stopwords\n",
        "from nltk.stem import SnowballStemmer\n",
        "from nltk.corpus import wordnet\n",
        "nltk.download('wordnet')\n",
        "from nltk.stem.wordnet import WordNetLemmatizer\n",
        "\n",
        "\n",
        "from sklearn.model_selection import train_test_split\n",
        "from sklearn.preprocessing import LabelEncoder\n",
        "\n",
        "\n",
        "import re\n"
      ],
      "execution_count": null,
      "outputs": []
    },
    {
      "cell_type": "code",
      "metadata": {
        "colab": {
          "base_uri": "https://localhost:8080/"
        },
        "id": "oRVpB5uYH_XB",
        "outputId": "ac68f748-ad1e-48ab-ddce-73a5edad2916"
      },
      "source": [
        "!ls 'gdrive/My Drive/Twitter_sentiment/input'"
      ],
      "execution_count": 3,
      "outputs": [
        {
          "output_type": "stream",
          "text": [
            "clean_covid_input.csv  training.1600000.processed.noemoticon.csv\n",
            "clean_covid_pred.csv   vaccination_tweets.csv\n",
            "clean_input.csv\n"
          ],
          "name": "stdout"
        }
      ]
    },
    {
      "cell_type": "code",
      "metadata": {
        "id": "HRcPqV0CIyBe"
      },
      "source": [
        "col_names=['id', 'user_name', 'user_location', 'user_description', 'user_created',\n",
        "       'user_followers', 'user_friends', 'user_favourites', 'user_verified',\n",
        "       'date', 'tweet', 'hashtags', 'source', 'retweets', 'favorites',\n",
        "       'is_retweet']"
      ],
      "execution_count": 71,
      "outputs": []
    },
    {
      "cell_type": "code",
      "metadata": {
        "id": "jDcs8Gi5ICCY"
      },
      "source": [
        "df = pd.read_csv('gdrive/My Drive/Twitter_sentiment/input/vaccination_tweets.csv', names=col_names)"
      ],
      "execution_count": 72,
      "outputs": []
    },
    {
      "cell_type": "code",
      "metadata": {
        "colab": {
          "base_uri": "https://localhost:8080/",
          "height": 445
        },
        "id": "PIME-lSvILO6",
        "outputId": "c64a7052-a429-4de1-be4c-34a5b31043e2"
      },
      "source": [
        "df.head()"
      ],
      "execution_count": 73,
      "outputs": [
        {
          "output_type": "execute_result",
          "data": {
            "text/html": [
              "<div>\n",
              "<style scoped>\n",
              "    .dataframe tbody tr th:only-of-type {\n",
              "        vertical-align: middle;\n",
              "    }\n",
              "\n",
              "    .dataframe tbody tr th {\n",
              "        vertical-align: top;\n",
              "    }\n",
              "\n",
              "    .dataframe thead th {\n",
              "        text-align: right;\n",
              "    }\n",
              "</style>\n",
              "<table border=\"1\" class=\"dataframe\">\n",
              "  <thead>\n",
              "    <tr style=\"text-align: right;\">\n",
              "      <th></th>\n",
              "      <th>id</th>\n",
              "      <th>user_name</th>\n",
              "      <th>user_location</th>\n",
              "      <th>user_description</th>\n",
              "      <th>user_created</th>\n",
              "      <th>user_followers</th>\n",
              "      <th>user_friends</th>\n",
              "      <th>user_favourites</th>\n",
              "      <th>user_verified</th>\n",
              "      <th>date</th>\n",
              "      <th>tweet</th>\n",
              "      <th>hashtags</th>\n",
              "      <th>source</th>\n",
              "      <th>retweets</th>\n",
              "      <th>favorites</th>\n",
              "      <th>is_retweet</th>\n",
              "    </tr>\n",
              "  </thead>\n",
              "  <tbody>\n",
              "    <tr>\n",
              "      <th>0</th>\n",
              "      <td>id</td>\n",
              "      <td>user_name</td>\n",
              "      <td>user_location</td>\n",
              "      <td>user_description</td>\n",
              "      <td>user_created</td>\n",
              "      <td>user_followers</td>\n",
              "      <td>user_friends</td>\n",
              "      <td>user_favourites</td>\n",
              "      <td>user_verified</td>\n",
              "      <td>date</td>\n",
              "      <td>text</td>\n",
              "      <td>hashtags</td>\n",
              "      <td>source</td>\n",
              "      <td>retweets</td>\n",
              "      <td>favorites</td>\n",
              "      <td>is_retweet</td>\n",
              "    </tr>\n",
              "    <tr>\n",
              "      <th>1</th>\n",
              "      <td>1340539111971516416</td>\n",
              "      <td>Rachel Roh</td>\n",
              "      <td>La Crescenta-Montrose, CA</td>\n",
              "      <td>Aggregator of Asian American news; scanning di...</td>\n",
              "      <td>2009-04-08 17:52:46</td>\n",
              "      <td>405</td>\n",
              "      <td>1692</td>\n",
              "      <td>3247</td>\n",
              "      <td>False</td>\n",
              "      <td>2020-12-20 06:06:44</td>\n",
              "      <td>Same folks said daikon paste could treat a cyt...</td>\n",
              "      <td>['PfizerBioNTech']</td>\n",
              "      <td>Twitter for Android</td>\n",
              "      <td>0</td>\n",
              "      <td>0</td>\n",
              "      <td>False</td>\n",
              "    </tr>\n",
              "    <tr>\n",
              "      <th>2</th>\n",
              "      <td>1338158543359250433</td>\n",
              "      <td>Albert Fong</td>\n",
              "      <td>San Francisco, CA</td>\n",
              "      <td>Marketing dude, tech geek, heavy metal &amp; '80s ...</td>\n",
              "      <td>2009-09-21 15:27:30</td>\n",
              "      <td>834</td>\n",
              "      <td>666</td>\n",
              "      <td>178</td>\n",
              "      <td>False</td>\n",
              "      <td>2020-12-13 16:27:13</td>\n",
              "      <td>While the world has been on the wrong side of ...</td>\n",
              "      <td>NaN</td>\n",
              "      <td>Twitter Web App</td>\n",
              "      <td>1</td>\n",
              "      <td>1</td>\n",
              "      <td>False</td>\n",
              "    </tr>\n",
              "    <tr>\n",
              "      <th>3</th>\n",
              "      <td>1337858199140118533</td>\n",
              "      <td>eli🇱🇹🇪🇺👌</td>\n",
              "      <td>Your Bed</td>\n",
              "      <td>heil, hydra 🖐☺</td>\n",
              "      <td>2020-06-25 23:30:28</td>\n",
              "      <td>10</td>\n",
              "      <td>88</td>\n",
              "      <td>155</td>\n",
              "      <td>False</td>\n",
              "      <td>2020-12-12 20:33:45</td>\n",
              "      <td>#coronavirus #SputnikV #AstraZeneca #PfizerBio...</td>\n",
              "      <td>['coronavirus', 'SputnikV', 'AstraZeneca', 'Pf...</td>\n",
              "      <td>Twitter for Android</td>\n",
              "      <td>0</td>\n",
              "      <td>0</td>\n",
              "      <td>False</td>\n",
              "    </tr>\n",
              "    <tr>\n",
              "      <th>4</th>\n",
              "      <td>1337855739918835717</td>\n",
              "      <td>Charles Adler</td>\n",
              "      <td>Vancouver, BC - Canada</td>\n",
              "      <td>Hosting \"CharlesAdlerTonight\" Global News Radi...</td>\n",
              "      <td>2008-09-10 11:28:53</td>\n",
              "      <td>49165</td>\n",
              "      <td>3933</td>\n",
              "      <td>21853</td>\n",
              "      <td>True</td>\n",
              "      <td>2020-12-12 20:23:59</td>\n",
              "      <td>Facts are immutable, Senator, even when you're...</td>\n",
              "      <td>NaN</td>\n",
              "      <td>Twitter Web App</td>\n",
              "      <td>446</td>\n",
              "      <td>2129</td>\n",
              "      <td>False</td>\n",
              "    </tr>\n",
              "  </tbody>\n",
              "</table>\n",
              "</div>"
            ],
            "text/plain": [
              "                    id      user_name  ...  favorites  is_retweet\n",
              "0                   id      user_name  ...  favorites  is_retweet\n",
              "1  1340539111971516416     Rachel Roh  ...          0       False\n",
              "2  1338158543359250433    Albert Fong  ...          1       False\n",
              "3  1337858199140118533       eli🇱🇹🇪🇺👌  ...          0       False\n",
              "4  1337855739918835717  Charles Adler  ...       2129       False\n",
              "\n",
              "[5 rows x 16 columns]"
            ]
          },
          "metadata": {
            "tags": []
          },
          "execution_count": 73
        }
      ]
    },
    {
      "cell_type": "code",
      "metadata": {
        "colab": {
          "base_uri": "https://localhost:8080/"
        },
        "id": "joH-j4SUINuV",
        "outputId": "e93a3896-04d9-4886-e490-e43879ce6560"
      },
      "source": [
        "df.columns"
      ],
      "execution_count": 35,
      "outputs": [
        {
          "output_type": "execute_result",
          "data": {
            "text/plain": [
              "Index(['id', 'user_name', 'user_location', 'user_description', 'user_created',\n",
              "       'user_followers', 'user_friends', 'user_favourites', 'user_verified',\n",
              "       'date', 'tweet', 'hashtags', 'source', 'retweets', 'favorites',\n",
              "       'is_retweet'],\n",
              "      dtype='object')"
            ]
          },
          "metadata": {
            "tags": []
          },
          "execution_count": 35
        }
      ]
    },
    {
      "cell_type": "code",
      "metadata": {
        "id": "z5hNxVVbIQDA"
      },
      "source": [
        "df.drop(['id', 'user_name', 'user_location', 'user_description', 'user_created', 'user_followers', 'user_friends', 'user_favourites', 'user_verified','date', 'hashtags', 'source', 'retweets', 'favorites','is_retweet'],axis=1,inplace=True)"
      ],
      "execution_count": 43,
      "outputs": []
    },
    {
      "cell_type": "markdown",
      "metadata": {
        "id": "8J4k2smOJ-ty"
      },
      "source": [
        "## Data Cleaning"
      ]
    },
    {
      "cell_type": "code",
      "metadata": {
        "id": "_kQFhJLKIiBu"
      },
      "source": [
        "\n",
        "# Lower Case\n",
        "df[\"tweet\"] = df[\"tweet\"].map(lambda x: x.lower())\n",
        "\n",
        "# Removing Emails\n",
        "df[\"tweet\"] = df[\"tweet\"].str.replace(r'(\\w+\\.)*\\w+@(\\w+\\.)+[a-z]+', '')\n",
        "\n",
        "# Removing URL's\n",
        "df[\"tweet\"] = df[\"tweet\"].str.replace(r'(http|ftp|https)://[-\\w.]+(:\\d+)?(/([\\w/_.]*)?)?|www[\\.]\\S+', '')\n",
        "\n",
        "# Removing hashtag\n",
        "df[\"tweet\"] = df[\"tweet\"].str.replace(r'[\\@\\#]\\S+', '')"
      ],
      "execution_count": 44,
      "outputs": []
    },
    {
      "cell_type": "code",
      "metadata": {
        "id": "SMLYWmbXJGF0"
      },
      "source": [
        "\n",
        "# Converting Emoticons\n",
        "emo_info = {\n",
        "    # positive emoticons\n",
        "    \":‑)\": \" good \",\n",
        "    \":)\": \" good \",\n",
        "    \";)\": \" good \",\n",
        "    \":-}\": \" good \",\n",
        "    \"=]\": \" good \",\n",
        "    \"=)\": \" good \",\n",
        "    \";d\": \" good \",\n",
        "    \":d\": \" good \",\n",
        "    \":dd\": \" good \",\n",
        "    \"xd\": \" good \",\n",
        "    \":p\": \" good \",\n",
        "    \"xp\": \" good \",\n",
        "    \"<3\": \" love \",\n",
        "\n",
        "    # negative emoticons\n",
        "    \":‑(\": \" sad \",\n",
        "    \":‑[\": \" sad \",\n",
        "    \":(\": \" sad \",\n",
        "    \"=(\": \" sad \",\n",
        "    \"=/\": \" sad \",\n",
        "    \":{\": \" sad \",\n",
        "    \":/\": \" sad \",\n",
        "    \":|\": \" sad \",\n",
        "    \":-/\": \" sad \",\n",
        "    \":o\": \" shock \"\n",
        "}\n",
        "\n",
        "emo_info_order = [k for (k_len, k) in reversed(sorted([(len(k), k) for k in emo_info.keys()]))]\n",
        "\n",
        "def emo_repl(phrase):\n",
        "    for k in emo_info_order:\n",
        "        phrase = phrase.replace(k, emo_info[k])\n",
        "    return phrase\n",
        "\n",
        "df['tweet'] = df['tweet'].apply(emo_repl)\n"
      ],
      "execution_count": 45,
      "outputs": []
    },
    {
      "cell_type": "code",
      "metadata": {
        "id": "ePQtEgvjJJVh"
      },
      "source": [
        "# Expanding Contractions\n",
        "\n",
        "def decontracted(phrase):\n",
        "    # specific\n",
        "    phrase = re.sub(r\"won\\'t\", \"will not\", phrase)\n",
        "    phrase = re.sub(r\"can\\'t\", \"can not\", phrase)\n",
        "    phrase = re.sub(r\"\\bdon't\\b\", \"do not\", phrase)\n",
        "    phrase = re.sub(r\"\\bdoesn't\\b\", \"does not\", phrase)\n",
        "    phrase = re.sub(r\"\\bdidn't\\b\", \"did not\", phrase)\n",
        "    phrase = re.sub(r\"\\bdidnt\\b\", \"did not\", phrase)\n",
        "    phrase = re.sub(r\"\\bhasn't\\b\", \"has not\", phrase)\n",
        "    phrase = re.sub(r\"\\bhaven't\\b\", \"have not\", phrase)\n",
        "    phrase = re.sub(r\"\\bhavent\\b\", \"have not\", phrase)\n",
        "    phrase = re.sub(r\"\\bhadn't\\b\", \"had not\", phrase)\n",
        "    phrase = re.sub(r\"\\bwon't\\b\", \"will not\", phrase)\n",
        "    phrase = re.sub(r\"\\bwouldn't\\b\", \"would not\", phrase)\n",
        "\n",
        "    # general\n",
        "    phrase = re.sub(r\"n\\'t\", \" not\", phrase)\n",
        "    phrase = re.sub(r\"\\'re\", \" are\", phrase)\n",
        "    phrase = re.sub(r\"\\'s\", \" is\", phrase)\n",
        "\n",
        "    # using regular expressions to expand the contractions\n",
        "    phrase = re.sub(r\"\\'d\", \" would\", phrase)\n",
        "    phrase = re.sub(r\"\\'ll\", \" will\", phrase)\n",
        "    phrase = re.sub(r\"\\'ve\", \" have\", phrase)\n",
        "    phrase = re.sub(r\"\\'m\", \" am\", phrase)\n",
        "\n",
        "    return phrase\n",
        "\n",
        "df['tweet'] = df['tweet'].apply(decontracted)"
      ],
      "execution_count": 46,
      "outputs": []
    },
    {
      "cell_type": "code",
      "metadata": {
        "id": "tfKpUAUWJLrE"
      },
      "source": [
        "\n",
        "# Removing Stop Words\n",
        "\n",
        "stop = stopwords.words('english')\n",
        "manual_sw_list = ['retweet', 'retwet', 'rt', 'oh', 'dm', 'mt', 'ht', 'ff', 'shoulda', 'woulda', 'coulda', 'might', 'im', 'tb', 'mysql', 'hah', \"a\", \"an\", \"the\", \"and\", \"but\", \"if\",\n",
        "                  \"or\", \"because\", \"as\", \"until\", \"while\", \"of\", \"at\", \"by\", \"for\", \"with\", \"about\", \"against\", \"between\", \"into\", \"through\", \"during\", \"before\", \"after\", \"above\", \"below\", \"to\", \"from\", \"up\", \"down\", \"in\", \"out\", \"on\", \"off\", \"over\",\n",
        "                  \"under\", \"again\", \"further\", \"then\", \"once\", \"here\", \"there\", \"when\", \"where\", \"why\", \"how\", \"all\", \"any\", \"both\", \"each\", \"few\", \"more\", \"most\", \"other\", \"some\", \"such\", \"nor\", \"only\", \"own\", \"same\", \"so\", \"than\", \"too\", \"very\", \"s\",\n",
        "                  \"t\", \"just\", \"don\", \"now\", 'tweet', 'x', 'f']\n",
        "\n",
        "stop.extend(manual_sw_list)\n",
        "\n",
        "df['tweet'] = df['tweet'].apply(lambda x: ' '.join([word for word in x.split() if word not in (stop)]))\n"
      ],
      "execution_count": 47,
      "outputs": []
    },
    {
      "cell_type": "code",
      "metadata": {
        "id": "xilCUOMvJN6h"
      },
      "source": [
        "# Applying Lemmatization\n",
        "\n",
        "lem = WordNetLemmatizer()\n",
        "df['tweet'] = df['tweet'].apply(lambda x: ' '.join([lem.lemmatize(word, 'v') for word in x.split()]))\n",
        "\n",
        "# Removing extra punctuations\n",
        "\n",
        "df[\"tweet\"] = df[\"tweet\"].str.replace(r'[^\\w\\s]', '')\n",
        "\n",
        "# Removing Digits\n",
        "\n",
        "df[\"tweet\"] = df[\"tweet\"].str.replace(r'[0-9]+', '')\n",
        "\n",
        "# Removing Non-Alphabet\n",
        "\n",
        "non_alphabet = re.compile(r'[^a-z]+')\n",
        "df['tweet'] = df['tweet'].apply(lambda x: ' '.join([word for word in x.split() if non_alphabet.search(word) is None]))\n",
        "\n",
        "# Removing Duplicate Letters\n",
        "\n",
        "df['tweet'] = df['tweet'].str.replace(r'([a-z])\\1{1,}', r'\\1\\1')\n",
        "df['tweet'] = df['tweet'].apply(lambda x: ' '.join([word if len(wordnet.synsets(word)) > 0 else re.sub(r'([a-z])\\1{1,}', r'\\1', word) for word in x.split()]))\n",
        "\n",
        "# Cutting Duplicate Laughing Sound\n",
        "\n",
        "df['tweet'] = df['tweet'].str.replace(r'(ha)\\1{1,}', r'\\1')\n",
        "\n",
        "# Remove Empty Rows\n",
        "\n",
        "df.drop(df[df[\"tweet\"] == ''].index, inplace=True)\n",
        "df = df.reset_index(drop=True)\n",
        "\n"
      ],
      "execution_count": 48,
      "outputs": []
    },
    {
      "cell_type": "code",
      "metadata": {
        "colab": {
          "base_uri": "https://localhost:8080/",
          "height": 204
        },
        "id": "I1OZ1knhK-IP",
        "outputId": "13fb98a4-80b6-4a3f-aaef-61b87ff1903f"
      },
      "source": [
        "df.head()"
      ],
      "execution_count": 49,
      "outputs": [
        {
          "output_type": "execute_result",
          "data": {
            "text/html": [
              "<div>\n",
              "<style scoped>\n",
              "    .dataframe tbody tr th:only-of-type {\n",
              "        vertical-align: middle;\n",
              "    }\n",
              "\n",
              "    .dataframe tbody tr th {\n",
              "        vertical-align: top;\n",
              "    }\n",
              "\n",
              "    .dataframe thead th {\n",
              "        text-align: right;\n",
              "    }\n",
              "</style>\n",
              "<table border=\"1\" class=\"dataframe\">\n",
              "  <thead>\n",
              "    <tr style=\"text-align: right;\">\n",
              "      <th></th>\n",
              "      <th>tweet</th>\n",
              "    </tr>\n",
              "  </thead>\n",
              "  <tbody>\n",
              "    <tr>\n",
              "      <th>0</th>\n",
              "      <td>text</td>\n",
              "    </tr>\n",
              "    <tr>\n",
              "      <th>1</th>\n",
              "      <td>folks say daikon paste could treat cytokine storm</td>\n",
              "    </tr>\n",
              "    <tr>\n",
              "      <th>2</th>\n",
              "      <td>world wrong side history year hopefully bigges...</td>\n",
              "    </tr>\n",
              "    <tr>\n",
              "      <th>3</th>\n",
              "      <td>russian vaccine create last years</td>\n",
              "    </tr>\n",
              "    <tr>\n",
              "      <th>4</th>\n",
              "      <td>facts immutable senator even ethically sturdy ...</td>\n",
              "    </tr>\n",
              "  </tbody>\n",
              "</table>\n",
              "</div>"
            ],
            "text/plain": [
              "                                               tweet\n",
              "0                                               text\n",
              "1  folks say daikon paste could treat cytokine storm\n",
              "2  world wrong side history year hopefully bigges...\n",
              "3                  russian vaccine create last years\n",
              "4  facts immutable senator even ethically sturdy ..."
            ]
          },
          "metadata": {
            "tags": []
          },
          "execution_count": 49
        }
      ]
    },
    {
      "cell_type": "code",
      "metadata": {
        "id": "MSo8HreJJTKn"
      },
      "source": [
        "df.to_csv('gdrive/My Drive/Twitter_sentiment/input/clean_covid_input.csv')"
      ],
      "execution_count": 50,
      "outputs": []
    },
    {
      "cell_type": "markdown",
      "metadata": {
        "id": "wg1_45YeJzJg"
      },
      "source": [
        "## Using the pre-trained model to predict covid vaccine tweets"
      ]
    },
    {
      "cell_type": "code",
      "metadata": {
        "id": "tjGYg47aN-yk"
      },
      "source": [
        "df = pd.read_csv('gdrive/My Drive/Twitter_sentiment/input/clean_covid_input.csv')\n",
        "df.drop('Unnamed: 0', axis=1, inplace=True)"
      ],
      "execution_count": 5,
      "outputs": []
    },
    {
      "cell_type": "code",
      "metadata": {
        "colab": {
          "base_uri": "https://localhost:8080/"
        },
        "id": "shhQQ8AWOZxJ",
        "outputId": "ddf88dac-e0a8-49c8-d4dd-c311b1c8d890"
      },
      "source": [
        "df.columns"
      ],
      "execution_count": 6,
      "outputs": [
        {
          "output_type": "execute_result",
          "data": {
            "text/plain": [
              "Index(['tweet'], dtype='object')"
            ]
          },
          "metadata": {
            "tags": []
          },
          "execution_count": 6
        }
      ]
    },
    {
      "cell_type": "code",
      "metadata": {
        "colab": {
          "base_uri": "https://localhost:8080/"
        },
        "id": "V0efRxkpJefn",
        "outputId": "80f4651d-399d-4d9b-ca13-67e5b303df96"
      },
      "source": [
        "!pip install transformers"
      ],
      "execution_count": 7,
      "outputs": [
        {
          "output_type": "stream",
          "text": [
            "Collecting transformers\n",
            "\u001b[?25l  Downloading https://files.pythonhosted.org/packages/d8/b2/57495b5309f09fa501866e225c84532d1fd89536ea62406b2181933fb418/transformers-4.5.1-py3-none-any.whl (2.1MB)\n",
            "\u001b[K     |████████████████████████████████| 2.1MB 5.7MB/s \n",
            "\u001b[?25hRequirement already satisfied: packaging in /usr/local/lib/python3.7/dist-packages (from transformers) (20.9)\n",
            "Collecting tokenizers<0.11,>=0.10.1\n",
            "\u001b[?25l  Downloading https://files.pythonhosted.org/packages/ae/04/5b870f26a858552025a62f1649c20d29d2672c02ff3c3fb4c688ca46467a/tokenizers-0.10.2-cp37-cp37m-manylinux2010_x86_64.whl (3.3MB)\n",
            "\u001b[K     |████████████████████████████████| 3.3MB 49.6MB/s \n",
            "\u001b[?25hRequirement already satisfied: numpy>=1.17 in /usr/local/lib/python3.7/dist-packages (from transformers) (1.19.5)\n",
            "Requirement already satisfied: requests in /usr/local/lib/python3.7/dist-packages (from transformers) (2.23.0)\n",
            "Requirement already satisfied: regex!=2019.12.17 in /usr/local/lib/python3.7/dist-packages (from transformers) (2019.12.20)\n",
            "Collecting sacremoses\n",
            "\u001b[?25l  Downloading https://files.pythonhosted.org/packages/75/ee/67241dc87f266093c533a2d4d3d69438e57d7a90abb216fa076e7d475d4a/sacremoses-0.0.45-py3-none-any.whl (895kB)\n",
            "\u001b[K     |████████████████████████████████| 901kB 37.1MB/s \n",
            "\u001b[?25hRequirement already satisfied: tqdm>=4.27 in /usr/local/lib/python3.7/dist-packages (from transformers) (4.41.1)\n",
            "Requirement already satisfied: importlib-metadata; python_version < \"3.8\" in /usr/local/lib/python3.7/dist-packages (from transformers) (3.10.1)\n",
            "Requirement already satisfied: filelock in /usr/local/lib/python3.7/dist-packages (from transformers) (3.0.12)\n",
            "Requirement already satisfied: pyparsing>=2.0.2 in /usr/local/lib/python3.7/dist-packages (from packaging->transformers) (2.4.7)\n",
            "Requirement already satisfied: certifi>=2017.4.17 in /usr/local/lib/python3.7/dist-packages (from requests->transformers) (2020.12.5)\n",
            "Requirement already satisfied: idna<3,>=2.5 in /usr/local/lib/python3.7/dist-packages (from requests->transformers) (2.10)\n",
            "Requirement already satisfied: chardet<4,>=3.0.2 in /usr/local/lib/python3.7/dist-packages (from requests->transformers) (3.0.4)\n",
            "Requirement already satisfied: urllib3!=1.25.0,!=1.25.1,<1.26,>=1.21.1 in /usr/local/lib/python3.7/dist-packages (from requests->transformers) (1.24.3)\n",
            "Requirement already satisfied: joblib in /usr/local/lib/python3.7/dist-packages (from sacremoses->transformers) (1.0.1)\n",
            "Requirement already satisfied: click in /usr/local/lib/python3.7/dist-packages (from sacremoses->transformers) (7.1.2)\n",
            "Requirement already satisfied: six in /usr/local/lib/python3.7/dist-packages (from sacremoses->transformers) (1.15.0)\n",
            "Requirement already satisfied: zipp>=0.5 in /usr/local/lib/python3.7/dist-packages (from importlib-metadata; python_version < \"3.8\"->transformers) (3.4.1)\n",
            "Requirement already satisfied: typing-extensions>=3.6.4; python_version < \"3.8\" in /usr/local/lib/python3.7/dist-packages (from importlib-metadata; python_version < \"3.8\"->transformers) (3.7.4.3)\n",
            "Installing collected packages: tokenizers, sacremoses, transformers\n",
            "Successfully installed sacremoses-0.0.45 tokenizers-0.10.2 transformers-4.5.1\n"
          ],
          "name": "stdout"
        }
      ]
    },
    {
      "cell_type": "code",
      "metadata": {
        "id": "qTasb-1DJygJ"
      },
      "source": [
        "from transformers import BertTokenizer, TFBertForSequenceClassification\n",
        "from transformers import InputExample, InputFeatures"
      ],
      "execution_count": 8,
      "outputs": []
    },
    {
      "cell_type": "code",
      "metadata": {
        "colab": {
          "base_uri": "https://localhost:8080/",
          "height": 252,
          "referenced_widgets": [
            "2a635fdbe4cd408aada5d4f03800c72c",
            "e4552619304d4087a05a63b942f50b28",
            "4de4dd1cba2f40b29ac5a5e81c16c5de",
            "d5f1f6622ffd4e3d91364b9b52773142",
            "e599d69717804b3da31bd1f6864756d2",
            "7aaae2f13eaa45b4961d5284eb177c8d",
            "c48ad59dac7c41848f0bb3d4bdcd0e0e",
            "27b57618aea340499a82a0b97609ea92",
            "4ae2bbb957d24faf86558470799e5ba8",
            "5b0c2d6061fa4f07890f8c3123e3fa4d",
            "cea8537fc0a947d4a4981f1b62727ecc",
            "edd76ac573114b19baf454067447a226",
            "74ec56062a14489b873de3be5e9fcb33",
            "3000c88ddc2c434b96b3d8deedd96e2a",
            "b869c35ece0e4ae88baa5a5d9f2a9a11",
            "659e5b09779747d2a81b3c5cf32643e5",
            "f386a73540e5464dac7b41c2d20baabf",
            "4959a650679840f4a754a5c4b9af6024",
            "6f44ed709ebd4db5b61693ba4e7ee50a",
            "a3aef56c11284a8a9f06c4df34a055a0",
            "39c0d2d1f04e43ba801bb9ef5e75d6ae",
            "ae1892c81f4540c5983628cd3e8b34cc",
            "17da31d7af804595bfed87073a781525",
            "30d90ac9b91948a0ba8cf4e472cca1e4"
          ]
        },
        "id": "R9I8ASc5KX6p",
        "outputId": "6baebe49-adab-4e5f-fa3d-5882394c431a"
      },
      "source": [
        "# use this line to import the exported model\n",
        "model = TFBertForSequenceClassification.from_pretrained(\"gdrive/My Drive/Twitter_sentiment/output/bert75k\")\n",
        "tokenizer = BertTokenizer.from_pretrained(\"bert-base-uncased\")"
      ],
      "execution_count": 9,
      "outputs": [
        {
          "output_type": "stream",
          "text": [
            "All model checkpoint layers were used when initializing TFBertForSequenceClassification.\n",
            "\n",
            "All the layers of TFBertForSequenceClassification were initialized from the model checkpoint at gdrive/My Drive/Twitter_sentiment/output/bert75k.\n",
            "If your task is similar to the task the model of the checkpoint was trained on, you can already use TFBertForSequenceClassification for predictions without further training.\n"
          ],
          "name": "stderr"
        },
        {
          "output_type": "display_data",
          "data": {
            "application/vnd.jupyter.widget-view+json": {
              "model_id": "2a635fdbe4cd408aada5d4f03800c72c",
              "version_minor": 0,
              "version_major": 2
            },
            "text/plain": [
              "HBox(children=(FloatProgress(value=0.0, description='Downloading', max=231508.0, style=ProgressStyle(descripti…"
            ]
          },
          "metadata": {
            "tags": []
          }
        },
        {
          "output_type": "stream",
          "text": [
            "\n"
          ],
          "name": "stdout"
        },
        {
          "output_type": "display_data",
          "data": {
            "application/vnd.jupyter.widget-view+json": {
              "model_id": "4ae2bbb957d24faf86558470799e5ba8",
              "version_minor": 0,
              "version_major": 2
            },
            "text/plain": [
              "HBox(children=(FloatProgress(value=0.0, description='Downloading', max=28.0, style=ProgressStyle(description_w…"
            ]
          },
          "metadata": {
            "tags": []
          }
        },
        {
          "output_type": "stream",
          "text": [
            "\n"
          ],
          "name": "stdout"
        },
        {
          "output_type": "display_data",
          "data": {
            "application/vnd.jupyter.widget-view+json": {
              "model_id": "f386a73540e5464dac7b41c2d20baabf",
              "version_minor": 0,
              "version_major": 2
            },
            "text/plain": [
              "HBox(children=(FloatProgress(value=0.0, description='Downloading', max=466062.0, style=ProgressStyle(descripti…"
            ]
          },
          "metadata": {
            "tags": []
          }
        },
        {
          "output_type": "stream",
          "text": [
            "\n"
          ],
          "name": "stdout"
        }
      ]
    },
    {
      "cell_type": "code",
      "metadata": {
        "colab": {
          "base_uri": "https://localhost:8080/",
          "height": 204
        },
        "id": "pjrFGfZFKvSy",
        "outputId": "02344e2a-cf89-4618-88e6-32d31747382b"
      },
      "source": [
        "df.head()"
      ],
      "execution_count": 10,
      "outputs": [
        {
          "output_type": "execute_result",
          "data": {
            "text/html": [
              "<div>\n",
              "<style scoped>\n",
              "    .dataframe tbody tr th:only-of-type {\n",
              "        vertical-align: middle;\n",
              "    }\n",
              "\n",
              "    .dataframe tbody tr th {\n",
              "        vertical-align: top;\n",
              "    }\n",
              "\n",
              "    .dataframe thead th {\n",
              "        text-align: right;\n",
              "    }\n",
              "</style>\n",
              "<table border=\"1\" class=\"dataframe\">\n",
              "  <thead>\n",
              "    <tr style=\"text-align: right;\">\n",
              "      <th></th>\n",
              "      <th>tweet</th>\n",
              "    </tr>\n",
              "  </thead>\n",
              "  <tbody>\n",
              "    <tr>\n",
              "      <th>0</th>\n",
              "      <td>text</td>\n",
              "    </tr>\n",
              "    <tr>\n",
              "      <th>1</th>\n",
              "      <td>folks say daikon paste could treat cytokine storm</td>\n",
              "    </tr>\n",
              "    <tr>\n",
              "      <th>2</th>\n",
              "      <td>world wrong side history year hopefully bigges...</td>\n",
              "    </tr>\n",
              "    <tr>\n",
              "      <th>3</th>\n",
              "      <td>russian vaccine create last years</td>\n",
              "    </tr>\n",
              "    <tr>\n",
              "      <th>4</th>\n",
              "      <td>facts immutable senator even ethically sturdy ...</td>\n",
              "    </tr>\n",
              "  </tbody>\n",
              "</table>\n",
              "</div>"
            ],
            "text/plain": [
              "                                               tweet\n",
              "0                                               text\n",
              "1  folks say daikon paste could treat cytokine storm\n",
              "2  world wrong side history year hopefully bigges...\n",
              "3                  russian vaccine create last years\n",
              "4  facts immutable senator even ethically sturdy ..."
            ]
          },
          "metadata": {
            "tags": []
          },
          "execution_count": 10
        }
      ]
    },
    {
      "cell_type": "code",
      "metadata": {
        "id": "hNYpW1Q-PhK1"
      },
      "source": [
        "labelArray = []"
      ],
      "execution_count": 32,
      "outputs": []
    },
    {
      "cell_type": "code",
      "metadata": {
        "colab": {
          "base_uri": "https://localhost:8080/"
        },
        "id": "WM7SaHqTKlFU",
        "outputId": "ba94acaf-9d87-4b27-95d3-45e206661109"
      },
      "source": [
        "for i in range(len(df)): \n",
        "  sample_input = tokenizer(df['tweet'].iloc[i], max_length=128, padding=True, truncation=True, return_tensors='tf')\n",
        "  tf_outputs = model(sample_input)\n",
        "  tf_predictions = tf.nn.softmax(tf_outputs[0], axis=-1)\n",
        "  labels = ['Negative','Positive']\n",
        "  label = tf.argmax(tf_predictions, axis=1)\n",
        "  label = label.numpy()\n",
        "  # labelArray+=label\n",
        "  labelArray.append(label[0])\n",
        "print('done')\n",
        "  # for i in range(len(pred_sentences)):\n",
        "  #   print(pred_sentences[i], \": \\n\", labels[label[i]])"
      ],
      "execution_count": 34,
      "outputs": [
        {
          "output_type": "stream",
          "text": [
            "done\n"
          ],
          "name": "stdout"
        }
      ]
    },
    {
      "cell_type": "code",
      "metadata": {
        "colab": {
          "base_uri": "https://localhost:8080/"
        },
        "id": "JGlMD8iOLWyP",
        "outputId": "776304d0-7c27-4c73-cc63-9b7e29470e5a"
      },
      "source": [
        "len(labelArray)"
      ],
      "execution_count": 35,
      "outputs": [
        {
          "output_type": "execute_result",
          "data": {
            "text/plain": [
              "8014"
            ]
          },
          "metadata": {
            "tags": []
          },
          "execution_count": 35
        }
      ]
    },
    {
      "cell_type": "code",
      "metadata": {
        "colab": {
          "base_uri": "https://localhost:8080/"
        },
        "id": "NyNbMvdTVOtG",
        "outputId": "7352914c-dd33-4e7d-8af8-d41eea9b732c"
      },
      "source": [
        "labelArray[1:10]"
      ],
      "execution_count": 37,
      "outputs": [
        {
          "output_type": "execute_result",
          "data": {
            "text/plain": [
              "[0, 0, 0, 1, 0, 0, 0, 1, 0]"
            ]
          },
          "metadata": {
            "tags": []
          },
          "execution_count": 37
        }
      ]
    },
    {
      "cell_type": "code",
      "metadata": {
        "id": "aU48B2JJm3wj"
      },
      "source": [
        "df['predicted_label'] = labelArray"
      ],
      "execution_count": 38,
      "outputs": []
    },
    {
      "cell_type": "code",
      "metadata": {
        "id": "RkOw39WhnAVN"
      },
      "source": [
        "df.drop(index=0, inplace=True)"
      ],
      "execution_count": 42,
      "outputs": []
    },
    {
      "cell_type": "code",
      "metadata": {
        "colab": {
          "base_uri": "https://localhost:8080/",
          "height": 204
        },
        "id": "HtF1W8ZNnBRq",
        "outputId": "b350bf85-2174-43a1-e78d-856a3e4e8d1a"
      },
      "source": [
        "df.head()"
      ],
      "execution_count": 43,
      "outputs": [
        {
          "output_type": "execute_result",
          "data": {
            "text/html": [
              "<div>\n",
              "<style scoped>\n",
              "    .dataframe tbody tr th:only-of-type {\n",
              "        vertical-align: middle;\n",
              "    }\n",
              "\n",
              "    .dataframe tbody tr th {\n",
              "        vertical-align: top;\n",
              "    }\n",
              "\n",
              "    .dataframe thead th {\n",
              "        text-align: right;\n",
              "    }\n",
              "</style>\n",
              "<table border=\"1\" class=\"dataframe\">\n",
              "  <thead>\n",
              "    <tr style=\"text-align: right;\">\n",
              "      <th></th>\n",
              "      <th>tweet</th>\n",
              "      <th>predicted_label</th>\n",
              "    </tr>\n",
              "  </thead>\n",
              "  <tbody>\n",
              "    <tr>\n",
              "      <th>1</th>\n",
              "      <td>folks say daikon paste could treat cytokine storm</td>\n",
              "      <td>0</td>\n",
              "    </tr>\n",
              "    <tr>\n",
              "      <th>2</th>\n",
              "      <td>world wrong side history year hopefully bigges...</td>\n",
              "      <td>0</td>\n",
              "    </tr>\n",
              "    <tr>\n",
              "      <th>3</th>\n",
              "      <td>russian vaccine create last years</td>\n",
              "      <td>0</td>\n",
              "    </tr>\n",
              "    <tr>\n",
              "      <th>4</th>\n",
              "      <td>facts immutable senator even ethically sturdy ...</td>\n",
              "      <td>1</td>\n",
              "    </tr>\n",
              "    <tr>\n",
              "      <th>5</th>\n",
              "      <td>e good lie need vaccine</td>\n",
              "      <td>0</td>\n",
              "    </tr>\n",
              "  </tbody>\n",
              "</table>\n",
              "</div>"
            ],
            "text/plain": [
              "                                               tweet  predicted_label\n",
              "1  folks say daikon paste could treat cytokine storm                0\n",
              "2  world wrong side history year hopefully bigges...                0\n",
              "3                  russian vaccine create last years                0\n",
              "4  facts immutable senator even ethically sturdy ...                1\n",
              "5                            e good lie need vaccine                0"
            ]
          },
          "metadata": {
            "tags": []
          },
          "execution_count": 43
        }
      ]
    },
    {
      "cell_type": "code",
      "metadata": {
        "id": "v2fmLyp0nSC4"
      },
      "source": [
        "df.to_csv('gdrive/My Drive/Twitter_sentiment/input/clean_covid_pred.csv')"
      ],
      "execution_count": 44,
      "outputs": []
    },
    {
      "cell_type": "markdown",
      "metadata": {
        "id": "aqEny35tKUJQ"
      },
      "source": [
        "## Visualizations"
      ]
    },
    {
      "cell_type": "code",
      "metadata": {
        "id": "qOQEfehpnVj8"
      },
      "source": [
        "pred_df = pd.read_csv('gdrive/My Drive/Twitter_sentiment/input/clean_covid_pred.csv')\n",
        "pred_df.drop('Unnamed: 0', axis=1, inplace=True)"
      ],
      "execution_count": 74,
      "outputs": []
    },
    {
      "cell_type": "code",
      "metadata": {
        "id": "Q39CBVdE9JV6"
      },
      "source": [
        "df.drop(index=0, inplace=True)\n",
        "df['label'] = pred_df['predicted_label']\n"
      ],
      "execution_count": 75,
      "outputs": []
    },
    {
      "cell_type": "code",
      "metadata": {
        "id": "13m42IGnFoTi"
      },
      "source": [
        "df_save = df"
      ],
      "execution_count": 76,
      "outputs": []
    },
    {
      "cell_type": "code",
      "metadata": {
        "id": "86-d_lXeG1Hc"
      },
      "source": [
        "df = df_save"
      ],
      "execution_count": 68,
      "outputs": []
    },
    {
      "cell_type": "code",
      "metadata": {
        "colab": {
          "base_uri": "https://localhost:8080/",
          "height": 513
        },
        "id": "6ek5O8Qq9K4C",
        "outputId": "290e01e4-abf5-4b46-b939-90f6ce416a23"
      },
      "source": [
        "df_save.head()"
      ],
      "execution_count": 77,
      "outputs": [
        {
          "output_type": "execute_result",
          "data": {
            "text/html": [
              "<div>\n",
              "<style scoped>\n",
              "    .dataframe tbody tr th:only-of-type {\n",
              "        vertical-align: middle;\n",
              "    }\n",
              "\n",
              "    .dataframe tbody tr th {\n",
              "        vertical-align: top;\n",
              "    }\n",
              "\n",
              "    .dataframe thead th {\n",
              "        text-align: right;\n",
              "    }\n",
              "</style>\n",
              "<table border=\"1\" class=\"dataframe\">\n",
              "  <thead>\n",
              "    <tr style=\"text-align: right;\">\n",
              "      <th></th>\n",
              "      <th>id</th>\n",
              "      <th>user_name</th>\n",
              "      <th>user_location</th>\n",
              "      <th>user_description</th>\n",
              "      <th>user_created</th>\n",
              "      <th>user_followers</th>\n",
              "      <th>user_friends</th>\n",
              "      <th>user_favourites</th>\n",
              "      <th>user_verified</th>\n",
              "      <th>date</th>\n",
              "      <th>tweet</th>\n",
              "      <th>hashtags</th>\n",
              "      <th>source</th>\n",
              "      <th>retweets</th>\n",
              "      <th>favorites</th>\n",
              "      <th>is_retweet</th>\n",
              "      <th>label</th>\n",
              "    </tr>\n",
              "  </thead>\n",
              "  <tbody>\n",
              "    <tr>\n",
              "      <th>1</th>\n",
              "      <td>1340539111971516416</td>\n",
              "      <td>Rachel Roh</td>\n",
              "      <td>La Crescenta-Montrose, CA</td>\n",
              "      <td>Aggregator of Asian American news; scanning di...</td>\n",
              "      <td>2009-04-08 17:52:46</td>\n",
              "      <td>405</td>\n",
              "      <td>1692</td>\n",
              "      <td>3247</td>\n",
              "      <td>False</td>\n",
              "      <td>2020-12-20 06:06:44</td>\n",
              "      <td>Same folks said daikon paste could treat a cyt...</td>\n",
              "      <td>['PfizerBioNTech']</td>\n",
              "      <td>Twitter for Android</td>\n",
              "      <td>0</td>\n",
              "      <td>0</td>\n",
              "      <td>False</td>\n",
              "      <td>0.0</td>\n",
              "    </tr>\n",
              "    <tr>\n",
              "      <th>2</th>\n",
              "      <td>1338158543359250433</td>\n",
              "      <td>Albert Fong</td>\n",
              "      <td>San Francisco, CA</td>\n",
              "      <td>Marketing dude, tech geek, heavy metal &amp; '80s ...</td>\n",
              "      <td>2009-09-21 15:27:30</td>\n",
              "      <td>834</td>\n",
              "      <td>666</td>\n",
              "      <td>178</td>\n",
              "      <td>False</td>\n",
              "      <td>2020-12-13 16:27:13</td>\n",
              "      <td>While the world has been on the wrong side of ...</td>\n",
              "      <td>NaN</td>\n",
              "      <td>Twitter Web App</td>\n",
              "      <td>1</td>\n",
              "      <td>1</td>\n",
              "      <td>False</td>\n",
              "      <td>0.0</td>\n",
              "    </tr>\n",
              "    <tr>\n",
              "      <th>3</th>\n",
              "      <td>1337858199140118533</td>\n",
              "      <td>eli🇱🇹🇪🇺👌</td>\n",
              "      <td>Your Bed</td>\n",
              "      <td>heil, hydra 🖐☺</td>\n",
              "      <td>2020-06-25 23:30:28</td>\n",
              "      <td>10</td>\n",
              "      <td>88</td>\n",
              "      <td>155</td>\n",
              "      <td>False</td>\n",
              "      <td>2020-12-12 20:33:45</td>\n",
              "      <td>#coronavirus #SputnikV #AstraZeneca #PfizerBio...</td>\n",
              "      <td>['coronavirus', 'SputnikV', 'AstraZeneca', 'Pf...</td>\n",
              "      <td>Twitter for Android</td>\n",
              "      <td>0</td>\n",
              "      <td>0</td>\n",
              "      <td>False</td>\n",
              "      <td>1.0</td>\n",
              "    </tr>\n",
              "    <tr>\n",
              "      <th>4</th>\n",
              "      <td>1337855739918835717</td>\n",
              "      <td>Charles Adler</td>\n",
              "      <td>Vancouver, BC - Canada</td>\n",
              "      <td>Hosting \"CharlesAdlerTonight\" Global News Radi...</td>\n",
              "      <td>2008-09-10 11:28:53</td>\n",
              "      <td>49165</td>\n",
              "      <td>3933</td>\n",
              "      <td>21853</td>\n",
              "      <td>True</td>\n",
              "      <td>2020-12-12 20:23:59</td>\n",
              "      <td>Facts are immutable, Senator, even when you're...</td>\n",
              "      <td>NaN</td>\n",
              "      <td>Twitter Web App</td>\n",
              "      <td>446</td>\n",
              "      <td>2129</td>\n",
              "      <td>False</td>\n",
              "      <td>0.0</td>\n",
              "    </tr>\n",
              "    <tr>\n",
              "      <th>5</th>\n",
              "      <td>1337854064604966912</td>\n",
              "      <td>Citizen News Channel</td>\n",
              "      <td>NaN</td>\n",
              "      <td>Citizen News Channel bringing you an alternati...</td>\n",
              "      <td>2020-04-23 17:58:42</td>\n",
              "      <td>152</td>\n",
              "      <td>580</td>\n",
              "      <td>1473</td>\n",
              "      <td>False</td>\n",
              "      <td>2020-12-12 20:17:19</td>\n",
              "      <td>Explain to me again why we need a vaccine @Bor...</td>\n",
              "      <td>['whereareallthesickpeople', 'PfizerBioNTech']</td>\n",
              "      <td>Twitter for iPhone</td>\n",
              "      <td>0</td>\n",
              "      <td>0</td>\n",
              "      <td>False</td>\n",
              "      <td>0.0</td>\n",
              "    </tr>\n",
              "  </tbody>\n",
              "</table>\n",
              "</div>"
            ],
            "text/plain": [
              "                    id             user_name  ... is_retweet label\n",
              "1  1340539111971516416            Rachel Roh  ...      False   0.0\n",
              "2  1338158543359250433           Albert Fong  ...      False   0.0\n",
              "3  1337858199140118533              eli🇱🇹🇪🇺👌  ...      False   1.0\n",
              "4  1337855739918835717         Charles Adler  ...      False   0.0\n",
              "5  1337854064604966912  Citizen News Channel  ...      False   0.0\n",
              "\n",
              "[5 rows x 17 columns]"
            ]
          },
          "metadata": {
            "tags": []
          },
          "execution_count": 77
        }
      ]
    },
    {
      "cell_type": "code",
      "metadata": {
        "colab": {
          "base_uri": "https://localhost:8080/"
        },
        "id": "8zr3t0LSHQ0C",
        "outputId": "7e86f98d-7032-411e-cd10-951baf882d9a"
      },
      "source": [
        "df.dtypes"
      ],
      "execution_count": 80,
      "outputs": [
        {
          "output_type": "execute_result",
          "data": {
            "text/plain": [
              "id                   object\n",
              "user_name            object\n",
              "user_location        object\n",
              "user_description     object\n",
              "user_created         object\n",
              "user_followers       object\n",
              "user_friends         object\n",
              "user_favourites      object\n",
              "user_verified        object\n",
              "date                 object\n",
              "tweet                object\n",
              "hashtags             object\n",
              "source               object\n",
              "retweets            float64\n",
              "favorites           float64\n",
              "is_retweet           object\n",
              "label               float64\n",
              "dtype: object"
            ]
          },
          "metadata": {
            "tags": []
          },
          "execution_count": 80
        }
      ]
    },
    {
      "cell_type": "code",
      "metadata": {
        "id": "dQuJR3Z2HZ22"
      },
      "source": [
        "df['retweets']=df.retweets.astype(float)\n",
        "df['favorites']=df.favorites.astype(float)"
      ],
      "execution_count": 79,
      "outputs": []
    },
    {
      "cell_type": "code",
      "metadata": {
        "id": "QOIkOTbW9YwD"
      },
      "source": [
        "df['user_verified']=df['user_verified'].apply(lambda x:'verified' if x==True else 'not_verified')\n",
        "from datetime import date\n",
        "df['today']=date.today()\n",
        "df['user_created']=pd.to_datetime(df['user_created']).dt.year\n",
        "df['today']=pd.to_datetime(df['today'])\n",
        "df['today']=df['today'].dt.year\n",
        "df['acc_age']= df['today']-df['user_created']\n",
        "df['total_engagement']=df['retweets']+df['favorites']\n",
        "df['tweet_lenght']=df['tweet'].apply(lambda x:len(x))\n",
        "df['tweet_lenght'].describe()\n",
        "df['tweet_length']=df['tweet'].apply(lambda x:'short' if len(x)<=130 else 'long')"
      ],
      "execution_count": 81,
      "outputs": []
    },
    {
      "cell_type": "code",
      "metadata": {
        "colab": {
          "base_uri": "https://localhost:8080/"
        },
        "id": "ysiSFOoME2Hb",
        "outputId": "6bd8f553-2f71-4992-ba25-dccb7c42b4ec"
      },
      "source": [
        "df['date']=pd.to_datetime(df['date'])\n",
        "L = ['year', 'month', 'day', 'dayofweek', 'dayofyear', 'weekofyear', 'quarter']\n",
        "df = df.join(pd.concat((getattr(df['date'].dt, i).rename(i) for i in L), axis=1))"
      ],
      "execution_count": 82,
      "outputs": [
        {
          "output_type": "stream",
          "text": [
            "/usr/local/lib/python3.7/dist-packages/ipykernel_launcher.py:3: FutureWarning:\n",
            "\n",
            "Series.dt.weekofyear and Series.dt.week have been deprecated.  Please use Series.dt.isocalendar().week instead.\n",
            "\n"
          ],
          "name": "stderr"
        }
      ]
    },
    {
      "cell_type": "code",
      "metadata": {
        "colab": {
          "base_uri": "https://localhost:8080/"
        },
        "id": "u7nXwQ5MCltD",
        "outputId": "f9f0504f-64a5-4b3c-b387-b46c5d91a280"
      },
      "source": [
        "loc_df = df['user_location'].str.split(',',expand=True)\n",
        "loc_df=loc_df.rename(columns={0:'first_loc',1:'second_loc'})\n",
        "\n",
        "# Remove Spaces \n",
        "loc_df['second_loc'] = loc_df['second_loc'].str.strip()\n",
        "# Rename States \n",
        "state_fix = {'Ontario': 'Canada','United Arab Emirates': 'UAE','TX': 'USA','NY': 'USA'\n",
        "                  ,'FL': 'USA','England': 'UK','Watford': 'UK','GA': 'USA','IL': 'USA'\n",
        "                  ,'Alberta': 'Canada','WA': 'USA','NC': 'USA','British Columbia': 'Canada','MA': 'USA','ON':'Canada'\n",
        "            ,'OH':'USA','MO':'USA','AZ':'USA','NJ':'USA','CA':'USA','DC':'USA','AB':'USA','PA':'USA','SC':'USA'\n",
        "            ,'VA':'USA','TN':'USA','New York':'USA','Dubai':'UAE','CO':'USA'}\n",
        "loc_df = loc_df.replace({\"second_loc\": state_fix}) \n",
        "loc_df['second_loc'].value_counts()[:20]"
      ],
      "execution_count": 83,
      "outputs": [
        {
          "output_type": "execute_result",
          "data": {
            "text/plain": [
              "USA                863\n",
              "UK                 540\n",
              "Canada             186\n",
              "India              178\n",
              "Ireland             91\n",
              "UAE                 77\n",
              "United Kingdom      75\n",
              "Germany             61\n",
              "Belgium             26\n",
              "France              24\n",
              "South Africa        23\n",
              "Scotland            22\n",
              "Pakistan            19\n",
              "London              17\n",
              "Qatar               17\n",
              "New South Wales     16\n",
              "Malaysia            16\n",
              "Deutschland         16\n",
              "MI                  16\n",
              "Australia           15\n",
              "Name: second_loc, dtype: int64"
            ]
          },
          "metadata": {
            "tags": []
          },
          "execution_count": 83
        }
      ]
    },
    {
      "cell_type": "code",
      "metadata": {
        "id": "0MOWxdi_DcPj"
      },
      "source": [
        "df['Hash'] = df['tweet'].apply(lambda word:word.count('#'))"
      ],
      "execution_count": 84,
      "outputs": []
    },
    {
      "cell_type": "code",
      "metadata": {
        "id": "j9w3D6HfDb_R"
      },
      "source": [
        "df['Men'] = df['tweet'].apply(lambda word:word.count('@'))"
      ],
      "execution_count": 85,
      "outputs": []
    },
    {
      "cell_type": "code",
      "metadata": {
        "id": "CD24zQ_qDnsk"
      },
      "source": [
        "#('https://t.co/) this part in tweets refers to photos,videos\n",
        "df['med'] = df['tweet'].apply(lambda word:word.count('https://t.co/'))\n",
        "df['med'] = df['med'].apply(lambda x:'No Media' if x==0 else 'Media')"
      ],
      "execution_count": 86,
      "outputs": []
    },
    {
      "cell_type": "code",
      "metadata": {
        "colab": {
          "base_uri": "https://localhost:8080/"
        },
        "id": "NN-B34QTD-NA",
        "outputId": "0d8b0863-6ccb-4d4c-c03b-96df30d9d565"
      },
      "source": [
        "df['user_followers'].value_counts()"
      ],
      "execution_count": 87,
      "outputs": [
        {
          "output_type": "execute_result",
          "data": {
            "text/plain": [
              "2        52\n",
              "1        44\n",
              "106      41\n",
              "0        38\n",
              "6        36\n",
              "         ..\n",
              "626       1\n",
              "2027      1\n",
              "7460      1\n",
              "17928     1\n",
              "1413      1\n",
              "Name: user_followers, Length: 2991, dtype: int64"
            ]
          },
          "metadata": {
            "tags": []
          },
          "execution_count": 87
        }
      ]
    },
    {
      "cell_type": "code",
      "metadata": {
        "colab": {
          "base_uri": "https://localhost:8080/",
          "height": 513
        },
        "id": "Jq4_ewd-Dnco",
        "outputId": "3ea69ca1-0f19-4b32-e46d-cd98e6400ca7"
      },
      "source": [
        "df['acc_class'] = df['user_followers'].apply(lambda x:'weak'if int(x)<=100 else ('norm' if 1000>=int(x)>100 else ('strong' if 10000>=int(x)>1000 else 'influencer')))\n",
        "df.head()"
      ],
      "execution_count": 88,
      "outputs": [
        {
          "output_type": "execute_result",
          "data": {
            "text/html": [
              "<div>\n",
              "<style scoped>\n",
              "    .dataframe tbody tr th:only-of-type {\n",
              "        vertical-align: middle;\n",
              "    }\n",
              "\n",
              "    .dataframe tbody tr th {\n",
              "        vertical-align: top;\n",
              "    }\n",
              "\n",
              "    .dataframe thead th {\n",
              "        text-align: right;\n",
              "    }\n",
              "</style>\n",
              "<table border=\"1\" class=\"dataframe\">\n",
              "  <thead>\n",
              "    <tr style=\"text-align: right;\">\n",
              "      <th></th>\n",
              "      <th>id</th>\n",
              "      <th>user_name</th>\n",
              "      <th>user_location</th>\n",
              "      <th>user_description</th>\n",
              "      <th>user_created</th>\n",
              "      <th>user_followers</th>\n",
              "      <th>user_friends</th>\n",
              "      <th>user_favourites</th>\n",
              "      <th>user_verified</th>\n",
              "      <th>date</th>\n",
              "      <th>tweet</th>\n",
              "      <th>hashtags</th>\n",
              "      <th>source</th>\n",
              "      <th>retweets</th>\n",
              "      <th>favorites</th>\n",
              "      <th>is_retweet</th>\n",
              "      <th>label</th>\n",
              "      <th>today</th>\n",
              "      <th>acc_age</th>\n",
              "      <th>total_engagement</th>\n",
              "      <th>tweet_lenght</th>\n",
              "      <th>tweet_length</th>\n",
              "      <th>year</th>\n",
              "      <th>month</th>\n",
              "      <th>day</th>\n",
              "      <th>dayofweek</th>\n",
              "      <th>dayofyear</th>\n",
              "      <th>weekofyear</th>\n",
              "      <th>quarter</th>\n",
              "      <th>Hash</th>\n",
              "      <th>Men</th>\n",
              "      <th>med</th>\n",
              "      <th>acc_class</th>\n",
              "    </tr>\n",
              "  </thead>\n",
              "  <tbody>\n",
              "    <tr>\n",
              "      <th>1</th>\n",
              "      <td>1340539111971516416</td>\n",
              "      <td>Rachel Roh</td>\n",
              "      <td>La Crescenta-Montrose, CA</td>\n",
              "      <td>Aggregator of Asian American news; scanning di...</td>\n",
              "      <td>2009</td>\n",
              "      <td>405</td>\n",
              "      <td>1692</td>\n",
              "      <td>3247</td>\n",
              "      <td>not_verified</td>\n",
              "      <td>2020-12-20 06:06:44</td>\n",
              "      <td>Same folks said daikon paste could treat a cyt...</td>\n",
              "      <td>['PfizerBioNTech']</td>\n",
              "      <td>Twitter for Android</td>\n",
              "      <td>0.0</td>\n",
              "      <td>0.0</td>\n",
              "      <td>False</td>\n",
              "      <td>0.0</td>\n",
              "      <td>2021</td>\n",
              "      <td>12</td>\n",
              "      <td>0.0</td>\n",
              "      <td>97</td>\n",
              "      <td>short</td>\n",
              "      <td>2020</td>\n",
              "      <td>12</td>\n",
              "      <td>20</td>\n",
              "      <td>6</td>\n",
              "      <td>355</td>\n",
              "      <td>51</td>\n",
              "      <td>4</td>\n",
              "      <td>1</td>\n",
              "      <td>0</td>\n",
              "      <td>Media</td>\n",
              "      <td>norm</td>\n",
              "    </tr>\n",
              "    <tr>\n",
              "      <th>2</th>\n",
              "      <td>1338158543359250433</td>\n",
              "      <td>Albert Fong</td>\n",
              "      <td>San Francisco, CA</td>\n",
              "      <td>Marketing dude, tech geek, heavy metal &amp; '80s ...</td>\n",
              "      <td>2009</td>\n",
              "      <td>834</td>\n",
              "      <td>666</td>\n",
              "      <td>178</td>\n",
              "      <td>not_verified</td>\n",
              "      <td>2020-12-13 16:27:13</td>\n",
              "      <td>While the world has been on the wrong side of ...</td>\n",
              "      <td>NaN</td>\n",
              "      <td>Twitter Web App</td>\n",
              "      <td>1.0</td>\n",
              "      <td>1.0</td>\n",
              "      <td>False</td>\n",
              "      <td>0.0</td>\n",
              "      <td>2021</td>\n",
              "      <td>12</td>\n",
              "      <td>2.0</td>\n",
              "      <td>140</td>\n",
              "      <td>long</td>\n",
              "      <td>2020</td>\n",
              "      <td>12</td>\n",
              "      <td>13</td>\n",
              "      <td>6</td>\n",
              "      <td>348</td>\n",
              "      <td>50</td>\n",
              "      <td>4</td>\n",
              "      <td>0</td>\n",
              "      <td>0</td>\n",
              "      <td>Media</td>\n",
              "      <td>norm</td>\n",
              "    </tr>\n",
              "    <tr>\n",
              "      <th>3</th>\n",
              "      <td>1337858199140118533</td>\n",
              "      <td>eli🇱🇹🇪🇺👌</td>\n",
              "      <td>Your Bed</td>\n",
              "      <td>heil, hydra 🖐☺</td>\n",
              "      <td>2020</td>\n",
              "      <td>10</td>\n",
              "      <td>88</td>\n",
              "      <td>155</td>\n",
              "      <td>not_verified</td>\n",
              "      <td>2020-12-12 20:33:45</td>\n",
              "      <td>#coronavirus #SputnikV #AstraZeneca #PfizerBio...</td>\n",
              "      <td>['coronavirus', 'SputnikV', 'AstraZeneca', 'Pf...</td>\n",
              "      <td>Twitter for Android</td>\n",
              "      <td>0.0</td>\n",
              "      <td>0.0</td>\n",
              "      <td>False</td>\n",
              "      <td>1.0</td>\n",
              "      <td>2021</td>\n",
              "      <td>1</td>\n",
              "      <td>0.0</td>\n",
              "      <td>140</td>\n",
              "      <td>long</td>\n",
              "      <td>2020</td>\n",
              "      <td>12</td>\n",
              "      <td>12</td>\n",
              "      <td>5</td>\n",
              "      <td>347</td>\n",
              "      <td>50</td>\n",
              "      <td>4</td>\n",
              "      <td>6</td>\n",
              "      <td>0</td>\n",
              "      <td>Media</td>\n",
              "      <td>weak</td>\n",
              "    </tr>\n",
              "    <tr>\n",
              "      <th>4</th>\n",
              "      <td>1337855739918835717</td>\n",
              "      <td>Charles Adler</td>\n",
              "      <td>Vancouver, BC - Canada</td>\n",
              "      <td>Hosting \"CharlesAdlerTonight\" Global News Radi...</td>\n",
              "      <td>2008</td>\n",
              "      <td>49165</td>\n",
              "      <td>3933</td>\n",
              "      <td>21853</td>\n",
              "      <td>not_verified</td>\n",
              "      <td>2020-12-12 20:23:59</td>\n",
              "      <td>Facts are immutable, Senator, even when you're...</td>\n",
              "      <td>NaN</td>\n",
              "      <td>Twitter Web App</td>\n",
              "      <td>446.0</td>\n",
              "      <td>2129.0</td>\n",
              "      <td>False</td>\n",
              "      <td>0.0</td>\n",
              "      <td>2021</td>\n",
              "      <td>13</td>\n",
              "      <td>2575.0</td>\n",
              "      <td>140</td>\n",
              "      <td>long</td>\n",
              "      <td>2020</td>\n",
              "      <td>12</td>\n",
              "      <td>12</td>\n",
              "      <td>5</td>\n",
              "      <td>347</td>\n",
              "      <td>50</td>\n",
              "      <td>4</td>\n",
              "      <td>0</td>\n",
              "      <td>0</td>\n",
              "      <td>Media</td>\n",
              "      <td>influencer</td>\n",
              "    </tr>\n",
              "    <tr>\n",
              "      <th>5</th>\n",
              "      <td>1337854064604966912</td>\n",
              "      <td>Citizen News Channel</td>\n",
              "      <td>NaN</td>\n",
              "      <td>Citizen News Channel bringing you an alternati...</td>\n",
              "      <td>2020</td>\n",
              "      <td>152</td>\n",
              "      <td>580</td>\n",
              "      <td>1473</td>\n",
              "      <td>not_verified</td>\n",
              "      <td>2020-12-12 20:17:19</td>\n",
              "      <td>Explain to me again why we need a vaccine @Bor...</td>\n",
              "      <td>['whereareallthesickpeople', 'PfizerBioNTech']</td>\n",
              "      <td>Twitter for iPhone</td>\n",
              "      <td>0.0</td>\n",
              "      <td>0.0</td>\n",
              "      <td>False</td>\n",
              "      <td>0.0</td>\n",
              "      <td>2021</td>\n",
              "      <td>1</td>\n",
              "      <td>0.0</td>\n",
              "      <td>135</td>\n",
              "      <td>long</td>\n",
              "      <td>2020</td>\n",
              "      <td>12</td>\n",
              "      <td>12</td>\n",
              "      <td>5</td>\n",
              "      <td>347</td>\n",
              "      <td>50</td>\n",
              "      <td>4</td>\n",
              "      <td>2</td>\n",
              "      <td>2</td>\n",
              "      <td>Media</td>\n",
              "      <td>norm</td>\n",
              "    </tr>\n",
              "  </tbody>\n",
              "</table>\n",
              "</div>"
            ],
            "text/plain": [
              "                    id             user_name  ...    med   acc_class\n",
              "1  1340539111971516416            Rachel Roh  ...  Media        norm\n",
              "2  1338158543359250433           Albert Fong  ...  Media        norm\n",
              "3  1337858199140118533              eli🇱🇹🇪🇺👌  ...  Media        weak\n",
              "4  1337855739918835717         Charles Adler  ...  Media  influencer\n",
              "5  1337854064604966912  Citizen News Channel  ...  Media        norm\n",
              "\n",
              "[5 rows x 33 columns]"
            ]
          },
          "metadata": {
            "tags": []
          },
          "execution_count": 88
        }
      ]
    },
    {
      "cell_type": "code",
      "metadata": {
        "id": "3i9kHv-rDnJ7"
      },
      "source": [
        "df=df[['user_name','tweet','date', 'acc_age','user_verified','retweets','favorites','total_engagement', 'day', 'tweet_length',\n",
        "       'Hash', 'Men', 'med', 'acc_class','month','label']]\n",
        "df_copy=df.copy()"
      ],
      "execution_count": 89,
      "outputs": []
    },
    {
      "cell_type": "code",
      "metadata": {
        "colab": {
          "base_uri": "https://localhost:8080/",
          "height": 459
        },
        "id": "GIrjvfD_GTrX",
        "outputId": "d005c48f-8c04-42b4-a841-79a88a12d3b1"
      },
      "source": [
        "df.head()"
      ],
      "execution_count": 90,
      "outputs": [
        {
          "output_type": "execute_result",
          "data": {
            "text/html": [
              "<div>\n",
              "<style scoped>\n",
              "    .dataframe tbody tr th:only-of-type {\n",
              "        vertical-align: middle;\n",
              "    }\n",
              "\n",
              "    .dataframe tbody tr th {\n",
              "        vertical-align: top;\n",
              "    }\n",
              "\n",
              "    .dataframe thead th {\n",
              "        text-align: right;\n",
              "    }\n",
              "</style>\n",
              "<table border=\"1\" class=\"dataframe\">\n",
              "  <thead>\n",
              "    <tr style=\"text-align: right;\">\n",
              "      <th></th>\n",
              "      <th>user_name</th>\n",
              "      <th>tweet</th>\n",
              "      <th>date</th>\n",
              "      <th>acc_age</th>\n",
              "      <th>user_verified</th>\n",
              "      <th>retweets</th>\n",
              "      <th>favorites</th>\n",
              "      <th>total_engagement</th>\n",
              "      <th>day</th>\n",
              "      <th>tweet_length</th>\n",
              "      <th>Hash</th>\n",
              "      <th>Men</th>\n",
              "      <th>med</th>\n",
              "      <th>acc_class</th>\n",
              "      <th>month</th>\n",
              "      <th>label</th>\n",
              "    </tr>\n",
              "  </thead>\n",
              "  <tbody>\n",
              "    <tr>\n",
              "      <th>1</th>\n",
              "      <td>Rachel Roh</td>\n",
              "      <td>Same folks said daikon paste could treat a cyt...</td>\n",
              "      <td>2020-12-20 06:06:44</td>\n",
              "      <td>12</td>\n",
              "      <td>not_verified</td>\n",
              "      <td>0.0</td>\n",
              "      <td>0.0</td>\n",
              "      <td>0.0</td>\n",
              "      <td>20</td>\n",
              "      <td>short</td>\n",
              "      <td>1</td>\n",
              "      <td>0</td>\n",
              "      <td>Media</td>\n",
              "      <td>norm</td>\n",
              "      <td>12</td>\n",
              "      <td>0.0</td>\n",
              "    </tr>\n",
              "    <tr>\n",
              "      <th>2</th>\n",
              "      <td>Albert Fong</td>\n",
              "      <td>While the world has been on the wrong side of ...</td>\n",
              "      <td>2020-12-13 16:27:13</td>\n",
              "      <td>12</td>\n",
              "      <td>not_verified</td>\n",
              "      <td>1.0</td>\n",
              "      <td>1.0</td>\n",
              "      <td>2.0</td>\n",
              "      <td>13</td>\n",
              "      <td>long</td>\n",
              "      <td>0</td>\n",
              "      <td>0</td>\n",
              "      <td>Media</td>\n",
              "      <td>norm</td>\n",
              "      <td>12</td>\n",
              "      <td>0.0</td>\n",
              "    </tr>\n",
              "    <tr>\n",
              "      <th>3</th>\n",
              "      <td>eli🇱🇹🇪🇺👌</td>\n",
              "      <td>#coronavirus #SputnikV #AstraZeneca #PfizerBio...</td>\n",
              "      <td>2020-12-12 20:33:45</td>\n",
              "      <td>1</td>\n",
              "      <td>not_verified</td>\n",
              "      <td>0.0</td>\n",
              "      <td>0.0</td>\n",
              "      <td>0.0</td>\n",
              "      <td>12</td>\n",
              "      <td>long</td>\n",
              "      <td>6</td>\n",
              "      <td>0</td>\n",
              "      <td>Media</td>\n",
              "      <td>weak</td>\n",
              "      <td>12</td>\n",
              "      <td>1.0</td>\n",
              "    </tr>\n",
              "    <tr>\n",
              "      <th>4</th>\n",
              "      <td>Charles Adler</td>\n",
              "      <td>Facts are immutable, Senator, even when you're...</td>\n",
              "      <td>2020-12-12 20:23:59</td>\n",
              "      <td>13</td>\n",
              "      <td>not_verified</td>\n",
              "      <td>446.0</td>\n",
              "      <td>2129.0</td>\n",
              "      <td>2575.0</td>\n",
              "      <td>12</td>\n",
              "      <td>long</td>\n",
              "      <td>0</td>\n",
              "      <td>0</td>\n",
              "      <td>Media</td>\n",
              "      <td>influencer</td>\n",
              "      <td>12</td>\n",
              "      <td>0.0</td>\n",
              "    </tr>\n",
              "    <tr>\n",
              "      <th>5</th>\n",
              "      <td>Citizen News Channel</td>\n",
              "      <td>Explain to me again why we need a vaccine @Bor...</td>\n",
              "      <td>2020-12-12 20:17:19</td>\n",
              "      <td>1</td>\n",
              "      <td>not_verified</td>\n",
              "      <td>0.0</td>\n",
              "      <td>0.0</td>\n",
              "      <td>0.0</td>\n",
              "      <td>12</td>\n",
              "      <td>long</td>\n",
              "      <td>2</td>\n",
              "      <td>2</td>\n",
              "      <td>Media</td>\n",
              "      <td>norm</td>\n",
              "      <td>12</td>\n",
              "      <td>0.0</td>\n",
              "    </tr>\n",
              "  </tbody>\n",
              "</table>\n",
              "</div>"
            ],
            "text/plain": [
              "              user_name  ... label\n",
              "1            Rachel Roh  ...   0.0\n",
              "2           Albert Fong  ...   0.0\n",
              "3              eli🇱🇹🇪🇺👌  ...   1.0\n",
              "4         Charles Adler  ...   0.0\n",
              "5  Citizen News Channel  ...   0.0\n",
              "\n",
              "[5 rows x 16 columns]"
            ]
          },
          "metadata": {
            "tags": []
          },
          "execution_count": 90
        }
      ]
    },
    {
      "cell_type": "code",
      "metadata": {
        "colab": {
          "base_uri": "https://localhost:8080/"
        },
        "id": "pc86-h-YGonD",
        "outputId": "e8640c48-86eb-4c29-d349-a93bcdce4de0"
      },
      "source": [
        "df.dtypes"
      ],
      "execution_count": 91,
      "outputs": [
        {
          "output_type": "execute_result",
          "data": {
            "text/plain": [
              "user_name                   object\n",
              "tweet                       object\n",
              "date                datetime64[ns]\n",
              "acc_age                      int64\n",
              "user_verified               object\n",
              "retweets                   float64\n",
              "favorites                  float64\n",
              "total_engagement           float64\n",
              "day                          int64\n",
              "tweet_length                object\n",
              "Hash                         int64\n",
              "Men                          int64\n",
              "med                         object\n",
              "acc_class                   object\n",
              "month                        int64\n",
              "label                      float64\n",
              "dtype: object"
            ]
          },
          "metadata": {
            "tags": []
          },
          "execution_count": 91
        }
      ]
    },
    {
      "cell_type": "code",
      "metadata": {
        "colab": {
          "base_uri": "https://localhost:8080/",
          "height": 531
        },
        "id": "TrcFK8FV_dv_",
        "outputId": "d024ac0e-bba5-4eed-c1f0-0bdd42d727ea"
      },
      "source": [
        "corr=df.corr()\n",
        "plt.figure(figsize=(10,7))\n",
        "sns.heatmap(corr,annot=True)"
      ],
      "execution_count": 92,
      "outputs": [
        {
          "output_type": "execute_result",
          "data": {
            "text/plain": [
              "<matplotlib.axes._subplots.AxesSubplot at 0x7f273e784990>"
            ]
          },
          "metadata": {
            "tags": []
          },
          "execution_count": 92
        },
        {
          "output_type": "display_data",
          "data": {
            "image/png": "[encoded data removed]",
            "text/plain": [
              "<Figure size 720x504 with 2 Axes>"
            ]
          },
          "metadata": {
            "tags": [],
            "needs_background": "light"
          }
        }
      ]
    },
    {
      "cell_type": "code",
      "metadata": {
        "colab": {
          "base_uri": "https://localhost:8080/",
          "height": 443
        },
        "id": "1ISDPkQpGITM",
        "outputId": "7407ae95-6a6a-4cb2-ce59-ac0e54b59fd1"
      },
      "source": [
        "plt.figure(figsize=(7,7))\n",
        "sns.countplot(x='tweet_length',data=df);"
      ],
      "execution_count": 93,
      "outputs": [
        {
          "output_type": "display_data",
          "data": {
            "image/png": "[encoded data removed]",
            "text/plain": [
              "<Figure size 504x504 with 1 Axes>"
            ]
          },
          "metadata": {
            "tags": [],
            "needs_background": "light"
          }
        }
      ]
    },
    {
      "cell_type": "code",
      "metadata": {
        "colab": {
          "base_uri": "https://localhost:8080/",
          "height": 371
        },
        "id": "9l48m_c9IEUt",
        "outputId": "270a85b7-cf35-45d6-881a-adb83353043d"
      },
      "source": [
        "labels = 'not_verified', 'verified'\n",
        "sizes = [1888, 319]\n",
        "explode = (0.1, 0)  \n",
        "plt.figure(figsize=(10,5))\n",
        "plt.pie(sizes, explode=explode, labels=labels, autopct='%1.1f%%',\n",
        "        shadow=True, startangle=90);\n",
        "plt.axis('equal')"
      ],
      "execution_count": 94,
      "outputs": [
        {
          "output_type": "execute_result",
          "data": {
            "text/plain": [
              "(-1.1505029161234455,\n",
              " 1.0574951215706034,\n",
              " -1.2009314800414903,\n",
              " 1.1048062907740432)"
            ]
          },
          "metadata": {
            "tags": []
          },
          "execution_count": 94
        },
        {
          "output_type": "display_data",
          "data": {
            "image/png": "[encoded data removed]",
            "text/plain": [
              "<Figure size 720x360 with 1 Axes>"
            ]
          },
          "metadata": {
            "tags": []
          }
        }
      ]
    },
    {
      "cell_type": "code",
      "metadata": {
        "id": "yAZ5qUK9IU2m"
      },
      "source": [
        "class_eng = df.groupby('acc_class',as_index=False).agg({'total_engagement':'sum',})"
      ],
      "execution_count": 95,
      "outputs": []
    },
    {
      "cell_type": "code",
      "metadata": {
        "colab": {
          "base_uri": "https://localhost:8080/",
          "height": 542
        },
        "id": "sHglVnyCIaWp",
        "outputId": "0cc13029-9492-4842-905f-856d6d5a8b9b"
      },
      "source": [
        "fig = px.bar(class_eng,\n",
        "             x='acc_class',\n",
        "             y='total_engagement',\n",
        "             color='total_engagement',\n",
        "             color_continuous_scale='Rainbow',\n",
        "             title='Engagement By Account_Class')\n",
        "fig.show()"
      ],
      "execution_count": 96,
      "outputs": [
        {
          "output_type": "display_data",
          "data": {
            "text/html": [
              "<html>\n",
              "<head><meta charset=\"utf-8\" /></head>\n",
              "<body>\n",
              "    <div>\n",
              "            <script src=\"https://cdnjs.cloudflare.com/ajax/libs/mathjax/2.7.5/MathJax.js?config=TeX-AMS-MML_SVG\"></script><script type=\"text/javascript\">if (window.MathJax) {MathJax.Hub.Config({SVG: {font: \"STIX-Web\"}});}</script>\n",
              "                <script type=\"text/javascript\">window.PlotlyConfig = {MathJaxConfig: 'local'};</script>\n",
              "        <script src=\"https://cdn.plot.ly/plotly-latest.min.js\"></script>    \n",
              "            <div id=\"0d2948f6-50f1-46e3-9c01-17dfaefa82ed\" class=\"plotly-graph-div\" style=\"height:525px; width:100%;\"></div>\n",
              "            <script type=\"text/javascript\">\n",
              "                \n",
              "                    window.PLOTLYENV=window.PLOTLYENV || {};\n",
              "                    \n",
              "                if (document.getElementById(\"0d2948f6-50f1-46e3-9c01-17dfaefa82ed\")) {\n",
              "                    Plotly.newPlot(\n",
              "                        '0d2948f6-50f1-46e3-9c01-17dfaefa82ed',\n",
              "                        [{\"alignmentgroup\": \"True\", \"hoverlabel\": {\"namelength\": 0}, \"hovertemplate\": \"acc_class=%{x}<br>total_engagement=%{marker.color}\", \"legendgroup\": \"\", \"marker\": {\"color\": [29032.0, 17395.0, 31261.0, 4447.0], \"coloraxis\": \"coloraxis\"}, \"name\": \"\", \"offsetgroup\": \"\", \"orientation\": \"v\", \"showlegend\": false, \"textposition\": \"auto\", \"type\": \"bar\", \"x\": [\"influencer\", \"norm\", \"strong\", \"weak\"], \"xaxis\": \"x\", \"y\": [29032.0, 17395.0, 31261.0, 4447.0], \"yaxis\": \"y\"}],\n",
              "                        {\"barmode\": \"relative\", \"coloraxis\": {\"colorbar\": {\"title\": {\"text\": \"total_engagement\"}}, \"colorscale\": [[0.0, \"rgb(150,0,90)\"], [0.125, \"rgb(0,0,200)\"], [0.25, \"rgb(0,25,255)\"], [0.375, \"rgb(0,152,255)\"], [0.5, \"rgb(44,255,150)\"], [0.625, \"rgb(151,255,0)\"], [0.75, \"rgb(255,234,0)\"], [0.875, \"rgb(255,111,0)\"], [1.0, \"rgb(255,0,0)\"]]}, \"legend\": {\"tracegroupgap\": 0}, \"template\": {\"data\": {\"bar\": [{\"error_x\": {\"color\": \"#2a3f5f\"}, \"error_y\": {\"color\": \"#2a3f5f\"}, \"marker\": {\"line\": {\"color\": \"#E5ECF6\", \"width\": 0.5}}, \"type\": \"bar\"}], \"barpolar\": [{\"marker\": {\"line\": {\"color\": \"#E5ECF6\", \"width\": 0.5}}, \"type\": \"barpolar\"}], \"carpet\": [{\"aaxis\": {\"endlinecolor\": \"#2a3f5f\", \"gridcolor\": \"white\", \"linecolor\": \"white\", \"minorgridcolor\": \"white\", \"startlinecolor\": \"#2a3f5f\"}, \"baxis\": {\"endlinecolor\": \"#2a3f5f\", \"gridcolor\": \"white\", \"linecolor\": \"white\", \"minorgridcolor\": \"white\", \"startlinecolor\": \"#2a3f5f\"}, \"type\": \"carpet\"}], \"choropleth\": [{\"colorbar\": {\"outlinewidth\": 0, \"ticks\": \"\"}, \"type\": \"choropleth\"}], \"contour\": [{\"colorbar\": {\"outlinewidth\": 0, \"ticks\": \"\"}, \"colorscale\": [[0.0, \"#0d0887\"], [0.1111111111111111, \"#46039f\"], [0.2222222222222222, \"#7201a8\"], [0.3333333333333333, \"#9c179e\"], [0.4444444444444444, \"#bd3786\"], [0.5555555555555556, \"#d8576b\"], [0.6666666666666666, \"#ed7953\"], [0.7777777777777778, \"#fb9f3a\"], [0.8888888888888888, \"#fdca26\"], [1.0, \"#f0f921\"]], \"type\": \"contour\"}], \"contourcarpet\": [{\"colorbar\": {\"outlinewidth\": 0, \"ticks\": \"\"}, \"type\": \"contourcarpet\"}], \"heatmap\": [{\"colorbar\": {\"outlinewidth\": 0, \"ticks\": \"\"}, \"colorscale\": [[0.0, \"#0d0887\"], [0.1111111111111111, \"#46039f\"], [0.2222222222222222, \"#7201a8\"], [0.3333333333333333, \"#9c179e\"], [0.4444444444444444, \"#bd3786\"], [0.5555555555555556, \"#d8576b\"], [0.6666666666666666, \"#ed7953\"], [0.7777777777777778, \"#fb9f3a\"], [0.8888888888888888, \"#fdca26\"], [1.0, \"#f0f921\"]], \"type\": \"heatmap\"}], \"heatmapgl\": [{\"colorbar\": {\"outlinewidth\": 0, \"ticks\": \"\"}, \"colorscale\": [[0.0, \"#0d0887\"], [0.1111111111111111, \"#46039f\"], [0.2222222222222222, \"#7201a8\"], [0.3333333333333333, \"#9c179e\"], [0.4444444444444444, \"#bd3786\"], [0.5555555555555556, \"#d8576b\"], [0.6666666666666666, \"#ed7953\"], [0.7777777777777778, \"#fb9f3a\"], [0.8888888888888888, \"#fdca26\"], [1.0, \"#f0f921\"]], \"type\": \"heatmapgl\"}], \"histogram\": [{\"marker\": {\"colorbar\": {\"outlinewidth\": 0, \"ticks\": \"\"}}, \"type\": \"histogram\"}], \"histogram2d\": [{\"colorbar\": {\"outlinewidth\": 0, \"ticks\": \"\"}, \"colorscale\": [[0.0, \"#0d0887\"], [0.1111111111111111, \"#46039f\"], [0.2222222222222222, \"#7201a8\"], [0.3333333333333333, \"#9c179e\"], [0.4444444444444444, \"#bd3786\"], [0.5555555555555556, \"#d8576b\"], [0.6666666666666666, \"#ed7953\"], [0.7777777777777778, \"#fb9f3a\"], [0.8888888888888888, \"#fdca26\"], [1.0, \"#f0f921\"]], \"type\": \"histogram2d\"}], \"histogram2dcontour\": [{\"colorbar\": {\"outlinewidth\": 0, \"ticks\": \"\"}, \"colorscale\": [[0.0, \"#0d0887\"], [0.1111111111111111, \"#46039f\"], [0.2222222222222222, \"#7201a8\"], [0.3333333333333333, \"#9c179e\"], [0.4444444444444444, \"#bd3786\"], [0.5555555555555556, \"#d8576b\"], [0.6666666666666666, \"#ed7953\"], [0.7777777777777778, \"#fb9f3a\"], [0.8888888888888888, \"#fdca26\"], [1.0, \"#f0f921\"]], \"type\": \"histogram2dcontour\"}], \"mesh3d\": [{\"colorbar\": {\"outlinewidth\": 0, \"ticks\": \"\"}, \"type\": \"mesh3d\"}], \"parcoords\": [{\"line\": {\"colorbar\": {\"outlinewidth\": 0, \"ticks\": \"\"}}, \"type\": \"parcoords\"}], \"pie\": [{\"automargin\": true, \"type\": \"pie\"}], \"scatter\": [{\"marker\": {\"colorbar\": {\"outlinewidth\": 0, \"ticks\": \"\"}}, \"type\": \"scatter\"}], \"scatter3d\": [{\"line\": {\"colorbar\": {\"outlinewidth\": 0, \"ticks\": \"\"}}, \"marker\": {\"colorbar\": {\"outlinewidth\": 0, \"ticks\": \"\"}}, \"type\": \"scatter3d\"}], \"scattercarpet\": [{\"marker\": {\"colorbar\": {\"outlinewidth\": 0, \"ticks\": \"\"}}, \"type\": \"scattercarpet\"}], \"scattergeo\": [{\"marker\": {\"colorbar\": {\"outlinewidth\": 0, \"ticks\": \"\"}}, \"type\": \"scattergeo\"}], \"scattergl\": [{\"marker\": {\"colorbar\": {\"outlinewidth\": 0, \"ticks\": \"\"}}, \"type\": \"scattergl\"}], \"scattermapbox\": [{\"marker\": {\"colorbar\": {\"outlinewidth\": 0, \"ticks\": \"\"}}, \"type\": \"scattermapbox\"}], \"scatterpolar\": [{\"marker\": {\"colorbar\": {\"outlinewidth\": 0, \"ticks\": \"\"}}, \"type\": \"scatterpolar\"}], \"scatterpolargl\": [{\"marker\": {\"colorbar\": {\"outlinewidth\": 0, \"ticks\": \"\"}}, \"type\": \"scatterpolargl\"}], \"scatterternary\": [{\"marker\": {\"colorbar\": {\"outlinewidth\": 0, \"ticks\": \"\"}}, \"type\": \"scatterternary\"}], \"surface\": [{\"colorbar\": {\"outlinewidth\": 0, \"ticks\": \"\"}, \"colorscale\": [[0.0, \"#0d0887\"], [0.1111111111111111, \"#46039f\"], [0.2222222222222222, \"#7201a8\"], [0.3333333333333333, \"#9c179e\"], [0.4444444444444444, \"#bd3786\"], [0.5555555555555556, \"#d8576b\"], [0.6666666666666666, \"#ed7953\"], [0.7777777777777778, \"#fb9f3a\"], [0.8888888888888888, \"#fdca26\"], [1.0, \"#f0f921\"]], \"type\": \"surface\"}], \"table\": [{\"cells\": {\"fill\": {\"color\": \"#EBF0F8\"}, \"line\": {\"color\": \"white\"}}, \"header\": {\"fill\": {\"color\": \"#C8D4E3\"}, \"line\": {\"color\": \"white\"}}, \"type\": \"table\"}]}, \"layout\": {\"annotationdefaults\": {\"arrowcolor\": \"#2a3f5f\", \"arrowhead\": 0, \"arrowwidth\": 1}, \"coloraxis\": {\"colorbar\": {\"outlinewidth\": 0, \"ticks\": \"\"}}, \"colorscale\": {\"diverging\": [[0, \"#8e0152\"], [0.1, \"#c51b7d\"], [0.2, \"#de77ae\"], [0.3, \"#f1b6da\"], [0.4, \"#fde0ef\"], [0.5, \"#f7f7f7\"], [0.6, \"#e6f5d0\"], [0.7, \"#b8e186\"], [0.8, \"#7fbc41\"], [0.9, \"#4d9221\"], [1, \"#276419\"]], \"sequential\": [[0.0, \"#0d0887\"], [0.1111111111111111, \"#46039f\"], [0.2222222222222222, \"#7201a8\"], [0.3333333333333333, \"#9c179e\"], [0.4444444444444444, \"#bd3786\"], [0.5555555555555556, \"#d8576b\"], [0.6666666666666666, \"#ed7953\"], [0.7777777777777778, \"#fb9f3a\"], [0.8888888888888888, \"#fdca26\"], [1.0, \"#f0f921\"]], \"sequentialminus\": [[0.0, \"#0d0887\"], [0.1111111111111111, \"#46039f\"], [0.2222222222222222, \"#7201a8\"], [0.3333333333333333, \"#9c179e\"], [0.4444444444444444, \"#bd3786\"], [0.5555555555555556, \"#d8576b\"], [0.6666666666666666, \"#ed7953\"], [0.7777777777777778, \"#fb9f3a\"], [0.8888888888888888, \"#fdca26\"], [1.0, \"#f0f921\"]]}, \"colorway\": [\"#636efa\", \"#EF553B\", \"#00cc96\", \"#ab63fa\", \"#FFA15A\", \"#19d3f3\", \"#FF6692\", \"#B6E880\", \"#FF97FF\", \"#FECB52\"], \"font\": {\"color\": \"#2a3f5f\"}, \"geo\": {\"bgcolor\": \"white\", \"lakecolor\": \"white\", \"landcolor\": \"#E5ECF6\", \"showlakes\": true, \"showland\": true, \"subunitcolor\": \"white\"}, \"hoverlabel\": {\"align\": \"left\"}, \"hovermode\": \"closest\", \"mapbox\": {\"style\": \"light\"}, \"paper_bgcolor\": \"white\", \"plot_bgcolor\": \"#E5ECF6\", \"polar\": {\"angularaxis\": {\"gridcolor\": \"white\", \"linecolor\": \"white\", \"ticks\": \"\"}, \"bgcolor\": \"#E5ECF6\", \"radialaxis\": {\"gridcolor\": \"white\", \"linecolor\": \"white\", \"ticks\": \"\"}}, \"scene\": {\"xaxis\": {\"backgroundcolor\": \"#E5ECF6\", \"gridcolor\": \"white\", \"gridwidth\": 2, \"linecolor\": \"white\", \"showbackground\": true, \"ticks\": \"\", \"zerolinecolor\": \"white\"}, \"yaxis\": {\"backgroundcolor\": \"#E5ECF6\", \"gridcolor\": \"white\", \"gridwidth\": 2, \"linecolor\": \"white\", \"showbackground\": true, \"ticks\": \"\", \"zerolinecolor\": \"white\"}, \"zaxis\": {\"backgroundcolor\": \"#E5ECF6\", \"gridcolor\": \"white\", \"gridwidth\": 2, \"linecolor\": \"white\", \"showbackground\": true, \"ticks\": \"\", \"zerolinecolor\": \"white\"}}, \"shapedefaults\": {\"line\": {\"color\": \"#2a3f5f\"}}, \"ternary\": {\"aaxis\": {\"gridcolor\": \"white\", \"linecolor\": \"white\", \"ticks\": \"\"}, \"baxis\": {\"gridcolor\": \"white\", \"linecolor\": \"white\", \"ticks\": \"\"}, \"bgcolor\": \"#E5ECF6\", \"caxis\": {\"gridcolor\": \"white\", \"linecolor\": \"white\", \"ticks\": \"\"}}, \"title\": {\"x\": 0.05}, \"xaxis\": {\"automargin\": true, \"gridcolor\": \"white\", \"linecolor\": \"white\", \"ticks\": \"\", \"title\": {\"standoff\": 15}, \"zerolinecolor\": \"white\", \"zerolinewidth\": 2}, \"yaxis\": {\"automargin\": true, \"gridcolor\": \"white\", \"linecolor\": \"white\", \"ticks\": \"\", \"title\": {\"standoff\": 15}, \"zerolinecolor\": \"white\", \"zerolinewidth\": 2}}}, \"title\": {\"text\": \"Engagement By Account_Class\"}, \"xaxis\": {\"anchor\": \"y\", \"domain\": [0.0, 1.0], \"title\": {\"text\": \"acc_class\"}}, \"yaxis\": {\"anchor\": \"x\", \"domain\": [0.0, 1.0], \"title\": {\"text\": \"total_engagement\"}}},\n",
              "                        {\"responsive\": true}\n",
              "                    ).then(function(){\n",
              "                            \n",
              "var gd = document.getElementById('0d2948f6-50f1-46e3-9c01-17dfaefa82ed');\n",
              "var x = new MutationObserver(function (mutations, observer) {{\n",
              "        var display = window.getComputedStyle(gd).display;\n",
              "        if (!display || display === 'none') {{\n",
              "            console.log([gd, 'removed!']);\n",
              "            Plotly.purge(gd);\n",
              "            observer.disconnect();\n",
              "        }}\n",
              "}});\n",
              "\n",
              "// Listen for the removal of the full notebook cells\n",
              "var notebookContainer = gd.closest('#notebook-container');\n",
              "if (notebookContainer) {{\n",
              "    x.observe(notebookContainer, {childList: true});\n",
              "}}\n",
              "\n",
              "// Listen for the clearing of the current output cell\n",
              "var outputEl = gd.closest('.output');\n",
              "if (outputEl) {{\n",
              "    x.observe(outputEl, {childList: true});\n",
              "}}\n",
              "\n",
              "                        })\n",
              "                };\n",
              "                \n",
              "            </script>\n",
              "        </div>\n",
              "</body>\n",
              "</html>"
            ]
          },
          "metadata": {
            "tags": []
          }
        }
      ]
    },
    {
      "cell_type": "code",
      "metadata": {
        "colab": {
          "base_uri": "https://localhost:8080/",
          "height": 542
        },
        "id": "mIoMC1kMIc8h",
        "outputId": "03c3e42a-3f2d-461f-9836-0c22ee078a0c"
      },
      "source": [
        "Media = len(df[df['med']=='Media'])\n",
        "No_Media = len(df[df['med']=='No Media'])\n",
        "Platform = ['Media','No Media']\n",
        "Count = [Media,No_Media]\n",
        "#====\n",
        "fig = px.pie(names = Platform,\n",
        "             values = Count,\n",
        "             title='Media/No Media',\n",
        "            color_discrete_sequence = px.colors.sequential.Rainbow)\n",
        "fig.update_traces(textposition='inside', textinfo='percent+label')"
      ],
      "execution_count": 97,
      "outputs": [
        {
          "output_type": "display_data",
          "data": {
            "text/html": [
              "<html>\n",
              "<head><meta charset=\"utf-8\" /></head>\n",
              "<body>\n",
              "    <div>\n",
              "            <script src=\"https://cdnjs.cloudflare.com/ajax/libs/mathjax/2.7.5/MathJax.js?config=TeX-AMS-MML_SVG\"></script><script type=\"text/javascript\">if (window.MathJax) {MathJax.Hub.Config({SVG: {font: \"STIX-Web\"}});}</script>\n",
              "                <script type=\"text/javascript\">window.PlotlyConfig = {MathJaxConfig: 'local'};</script>\n",
              "        <script src=\"https://cdn.plot.ly/plotly-latest.min.js\"></script>    \n",
              "            <div id=\"6207c962-f150-43fe-b16f-6c9f7fa1810d\" class=\"plotly-graph-div\" style=\"height:525px; width:100%;\"></div>\n",
              "            <script type=\"text/javascript\">\n",
              "                \n",
              "                    window.PLOTLYENV=window.PLOTLYENV || {};\n",
              "                    \n",
              "                if (document.getElementById(\"6207c962-f150-43fe-b16f-6c9f7fa1810d\")) {\n",
              "                    Plotly.newPlot(\n",
              "                        '6207c962-f150-43fe-b16f-6c9f7fa1810d',\n",
              "                        [{\"domain\": {\"x\": [0.0, 1.0], \"y\": [0.0, 1.0]}, \"hoverlabel\": {\"namelength\": 0}, \"hovertemplate\": \"label=%{label}<br>value=%{value}\", \"labels\": [\"Media\", \"No Media\"], \"legendgroup\": \"\", \"name\": \"\", \"showlegend\": true, \"textinfo\": \"percent+label\", \"textposition\": \"inside\", \"type\": \"pie\", \"values\": [7428, 654]}],\n",
              "                        {\"legend\": {\"tracegroupgap\": 0}, \"piecolorway\": [\"rgb(150,0,90)\", \"rgb(0,0,200)\", \"rgb(0,25,255)\", \"rgb(0,152,255)\", \"rgb(44,255,150)\", \"rgb(151,255,0)\", \"rgb(255,234,0)\", \"rgb(255,111,0)\", \"rgb(255,0,0)\"], \"template\": {\"data\": {\"bar\": [{\"error_x\": {\"color\": \"#2a3f5f\"}, \"error_y\": {\"color\": \"#2a3f5f\"}, \"marker\": {\"line\": {\"color\": \"#E5ECF6\", \"width\": 0.5}}, \"type\": \"bar\"}], \"barpolar\": [{\"marker\": {\"line\": {\"color\": \"#E5ECF6\", \"width\": 0.5}}, \"type\": \"barpolar\"}], \"carpet\": [{\"aaxis\": {\"endlinecolor\": \"#2a3f5f\", \"gridcolor\": \"white\", \"linecolor\": \"white\", \"minorgridcolor\": \"white\", \"startlinecolor\": \"#2a3f5f\"}, \"baxis\": {\"endlinecolor\": \"#2a3f5f\", \"gridcolor\": \"white\", \"linecolor\": \"white\", \"minorgridcolor\": \"white\", \"startlinecolor\": \"#2a3f5f\"}, \"type\": \"carpet\"}], \"choropleth\": [{\"colorbar\": {\"outlinewidth\": 0, \"ticks\": \"\"}, \"type\": \"choropleth\"}], \"contour\": [{\"colorbar\": {\"outlinewidth\": 0, \"ticks\": \"\"}, \"colorscale\": [[0.0, \"#0d0887\"], [0.1111111111111111, \"#46039f\"], [0.2222222222222222, \"#7201a8\"], [0.3333333333333333, \"#9c179e\"], [0.4444444444444444, \"#bd3786\"], [0.5555555555555556, \"#d8576b\"], [0.6666666666666666, \"#ed7953\"], [0.7777777777777778, \"#fb9f3a\"], [0.8888888888888888, \"#fdca26\"], [1.0, \"#f0f921\"]], \"type\": \"contour\"}], \"contourcarpet\": [{\"colorbar\": {\"outlinewidth\": 0, \"ticks\": \"\"}, \"type\": \"contourcarpet\"}], \"heatmap\": [{\"colorbar\": {\"outlinewidth\": 0, \"ticks\": \"\"}, \"colorscale\": [[0.0, \"#0d0887\"], [0.1111111111111111, \"#46039f\"], [0.2222222222222222, \"#7201a8\"], [0.3333333333333333, \"#9c179e\"], [0.4444444444444444, \"#bd3786\"], [0.5555555555555556, \"#d8576b\"], [0.6666666666666666, \"#ed7953\"], [0.7777777777777778, \"#fb9f3a\"], [0.8888888888888888, \"#fdca26\"], [1.0, \"#f0f921\"]], \"type\": \"heatmap\"}], \"heatmapgl\": [{\"colorbar\": {\"outlinewidth\": 0, \"ticks\": \"\"}, \"colorscale\": [[0.0, \"#0d0887\"], [0.1111111111111111, \"#46039f\"], [0.2222222222222222, \"#7201a8\"], [0.3333333333333333, \"#9c179e\"], [0.4444444444444444, \"#bd3786\"], [0.5555555555555556, \"#d8576b\"], [0.6666666666666666, \"#ed7953\"], [0.7777777777777778, \"#fb9f3a\"], [0.8888888888888888, \"#fdca26\"], [1.0, \"#f0f921\"]], \"type\": \"heatmapgl\"}], \"histogram\": [{\"marker\": {\"colorbar\": {\"outlinewidth\": 0, \"ticks\": \"\"}}, \"type\": \"histogram\"}], \"histogram2d\": [{\"colorbar\": {\"outlinewidth\": 0, \"ticks\": \"\"}, \"colorscale\": [[0.0, \"#0d0887\"], [0.1111111111111111, \"#46039f\"], [0.2222222222222222, \"#7201a8\"], [0.3333333333333333, \"#9c179e\"], [0.4444444444444444, \"#bd3786\"], [0.5555555555555556, \"#d8576b\"], [0.6666666666666666, \"#ed7953\"], [0.7777777777777778, \"#fb9f3a\"], [0.8888888888888888, \"#fdca26\"], [1.0, \"#f0f921\"]], \"type\": \"histogram2d\"}], \"histogram2dcontour\": [{\"colorbar\": {\"outlinewidth\": 0, \"ticks\": \"\"}, \"colorscale\": [[0.0, \"#0d0887\"], [0.1111111111111111, \"#46039f\"], [0.2222222222222222, \"#7201a8\"], [0.3333333333333333, \"#9c179e\"], [0.4444444444444444, \"#bd3786\"], [0.5555555555555556, \"#d8576b\"], [0.6666666666666666, \"#ed7953\"], [0.7777777777777778, \"#fb9f3a\"], [0.8888888888888888, \"#fdca26\"], [1.0, \"#f0f921\"]], \"type\": \"histogram2dcontour\"}], \"mesh3d\": [{\"colorbar\": {\"outlinewidth\": 0, \"ticks\": \"\"}, \"type\": \"mesh3d\"}], \"parcoords\": [{\"line\": {\"colorbar\": {\"outlinewidth\": 0, \"ticks\": \"\"}}, \"type\": \"parcoords\"}], \"pie\": [{\"automargin\": true, \"type\": \"pie\"}], \"scatter\": [{\"marker\": {\"colorbar\": {\"outlinewidth\": 0, \"ticks\": \"\"}}, \"type\": \"scatter\"}], \"scatter3d\": [{\"line\": {\"colorbar\": {\"outlinewidth\": 0, \"ticks\": \"\"}}, \"marker\": {\"colorbar\": {\"outlinewidth\": 0, \"ticks\": \"\"}}, \"type\": \"scatter3d\"}], \"scattercarpet\": [{\"marker\": {\"colorbar\": {\"outlinewidth\": 0, \"ticks\": \"\"}}, \"type\": \"scattercarpet\"}], \"scattergeo\": [{\"marker\": {\"colorbar\": {\"outlinewidth\": 0, \"ticks\": \"\"}}, \"type\": \"scattergeo\"}], \"scattergl\": [{\"marker\": {\"colorbar\": {\"outlinewidth\": 0, \"ticks\": \"\"}}, \"type\": \"scattergl\"}], \"scattermapbox\": [{\"marker\": {\"colorbar\": {\"outlinewidth\": 0, \"ticks\": \"\"}}, \"type\": \"scattermapbox\"}], \"scatterpolar\": [{\"marker\": {\"colorbar\": {\"outlinewidth\": 0, \"ticks\": \"\"}}, \"type\": \"scatterpolar\"}], \"scatterpolargl\": [{\"marker\": {\"colorbar\": {\"outlinewidth\": 0, \"ticks\": \"\"}}, \"type\": \"scatterpolargl\"}], \"scatterternary\": [{\"marker\": {\"colorbar\": {\"outlinewidth\": 0, \"ticks\": \"\"}}, \"type\": \"scatterternary\"}], \"surface\": [{\"colorbar\": {\"outlinewidth\": 0, \"ticks\": \"\"}, \"colorscale\": [[0.0, \"#0d0887\"], [0.1111111111111111, \"#46039f\"], [0.2222222222222222, \"#7201a8\"], [0.3333333333333333, \"#9c179e\"], [0.4444444444444444, \"#bd3786\"], [0.5555555555555556, \"#d8576b\"], [0.6666666666666666, \"#ed7953\"], [0.7777777777777778, \"#fb9f3a\"], [0.8888888888888888, \"#fdca26\"], [1.0, \"#f0f921\"]], \"type\": \"surface\"}], \"table\": [{\"cells\": {\"fill\": {\"color\": \"#EBF0F8\"}, \"line\": {\"color\": \"white\"}}, \"header\": {\"fill\": {\"color\": \"#C8D4E3\"}, \"line\": {\"color\": \"white\"}}, \"type\": \"table\"}]}, \"layout\": {\"annotationdefaults\": {\"arrowcolor\": \"#2a3f5f\", \"arrowhead\": 0, \"arrowwidth\": 1}, \"coloraxis\": {\"colorbar\": {\"outlinewidth\": 0, \"ticks\": \"\"}}, \"colorscale\": {\"diverging\": [[0, \"#8e0152\"], [0.1, \"#c51b7d\"], [0.2, \"#de77ae\"], [0.3, \"#f1b6da\"], [0.4, \"#fde0ef\"], [0.5, \"#f7f7f7\"], [0.6, \"#e6f5d0\"], [0.7, \"#b8e186\"], [0.8, \"#7fbc41\"], [0.9, \"#4d9221\"], [1, \"#276419\"]], \"sequential\": [[0.0, \"#0d0887\"], [0.1111111111111111, \"#46039f\"], [0.2222222222222222, \"#7201a8\"], [0.3333333333333333, \"#9c179e\"], [0.4444444444444444, \"#bd3786\"], [0.5555555555555556, \"#d8576b\"], [0.6666666666666666, \"#ed7953\"], [0.7777777777777778, \"#fb9f3a\"], [0.8888888888888888, \"#fdca26\"], [1.0, \"#f0f921\"]], \"sequentialminus\": [[0.0, \"#0d0887\"], [0.1111111111111111, \"#46039f\"], [0.2222222222222222, \"#7201a8\"], [0.3333333333333333, \"#9c179e\"], [0.4444444444444444, \"#bd3786\"], [0.5555555555555556, \"#d8576b\"], [0.6666666666666666, \"#ed7953\"], [0.7777777777777778, \"#fb9f3a\"], [0.8888888888888888, \"#fdca26\"], [1.0, \"#f0f921\"]]}, \"colorway\": [\"#636efa\", \"#EF553B\", \"#00cc96\", \"#ab63fa\", \"#FFA15A\", \"#19d3f3\", \"#FF6692\", \"#B6E880\", \"#FF97FF\", \"#FECB52\"], \"font\": {\"color\": \"#2a3f5f\"}, \"geo\": {\"bgcolor\": \"white\", \"lakecolor\": \"white\", \"landcolor\": \"#E5ECF6\", \"showlakes\": true, \"showland\": true, \"subunitcolor\": \"white\"}, \"hoverlabel\": {\"align\": \"left\"}, \"hovermode\": \"closest\", \"mapbox\": {\"style\": \"light\"}, \"paper_bgcolor\": \"white\", \"plot_bgcolor\": \"#E5ECF6\", \"polar\": {\"angularaxis\": {\"gridcolor\": \"white\", \"linecolor\": \"white\", \"ticks\": \"\"}, \"bgcolor\": \"#E5ECF6\", \"radialaxis\": {\"gridcolor\": \"white\", \"linecolor\": \"white\", \"ticks\": \"\"}}, \"scene\": {\"xaxis\": {\"backgroundcolor\": \"#E5ECF6\", \"gridcolor\": \"white\", \"gridwidth\": 2, \"linecolor\": \"white\", \"showbackground\": true, \"ticks\": \"\", \"zerolinecolor\": \"white\"}, \"yaxis\": {\"backgroundcolor\": \"#E5ECF6\", \"gridcolor\": \"white\", \"gridwidth\": 2, \"linecolor\": \"white\", \"showbackground\": true, \"ticks\": \"\", \"zerolinecolor\": \"white\"}, \"zaxis\": {\"backgroundcolor\": \"#E5ECF6\", \"gridcolor\": \"white\", \"gridwidth\": 2, \"linecolor\": \"white\", \"showbackground\": true, \"ticks\": \"\", \"zerolinecolor\": \"white\"}}, \"shapedefaults\": {\"line\": {\"color\": \"#2a3f5f\"}}, \"ternary\": {\"aaxis\": {\"gridcolor\": \"white\", \"linecolor\": \"white\", \"ticks\": \"\"}, \"baxis\": {\"gridcolor\": \"white\", \"linecolor\": \"white\", \"ticks\": \"\"}, \"bgcolor\": \"#E5ECF6\", \"caxis\": {\"gridcolor\": \"white\", \"linecolor\": \"white\", \"ticks\": \"\"}}, \"title\": {\"x\": 0.05}, \"xaxis\": {\"automargin\": true, \"gridcolor\": \"white\", \"linecolor\": \"white\", \"ticks\": \"\", \"title\": {\"standoff\": 15}, \"zerolinecolor\": \"white\", \"zerolinewidth\": 2}, \"yaxis\": {\"automargin\": true, \"gridcolor\": \"white\", \"linecolor\": \"white\", \"ticks\": \"\", \"title\": {\"standoff\": 15}, \"zerolinecolor\": \"white\", \"zerolinewidth\": 2}}}, \"title\": {\"text\": \"Media/No Media\"}},\n",
              "                        {\"responsive\": true}\n",
              "                    ).then(function(){\n",
              "                            \n",
              "var gd = document.getElementById('6207c962-f150-43fe-b16f-6c9f7fa1810d');\n",
              "var x = new MutationObserver(function (mutations, observer) {{\n",
              "        var display = window.getComputedStyle(gd).display;\n",
              "        if (!display || display === 'none') {{\n",
              "            console.log([gd, 'removed!']);\n",
              "            Plotly.purge(gd);\n",
              "            observer.disconnect();\n",
              "        }}\n",
              "}});\n",
              "\n",
              "// Listen for the removal of the full notebook cells\n",
              "var notebookContainer = gd.closest('#notebook-container');\n",
              "if (notebookContainer) {{\n",
              "    x.observe(notebookContainer, {childList: true});\n",
              "}}\n",
              "\n",
              "// Listen for the clearing of the current output cell\n",
              "var outputEl = gd.closest('.output');\n",
              "if (outputEl) {{\n",
              "    x.observe(outputEl, {childList: true});\n",
              "}}\n",
              "\n",
              "                        })\n",
              "                };\n",
              "                \n",
              "            </script>\n",
              "        </div>\n",
              "</body>\n",
              "</html>"
            ]
          },
          "metadata": {
            "tags": []
          }
        }
      ]
    },
    {
      "cell_type": "code",
      "metadata": {
        "colab": {
          "base_uri": "https://localhost:8080/",
          "height": 542
        },
        "id": "AGGpUD0QIlVR",
        "outputId": "3460f87b-1458-4200-93ee-f20a390c8b8c"
      },
      "source": [
        "line = df.groupby('date',as_index=False).agg({'total_engagement':'sum'})\n",
        "fig = go.Figure()\n",
        "fig.add_trace(go.Scatter(x=line.date, y=line.total_engagement,\n",
        "                    mode='lines+markers'))"
      ],
      "execution_count": 100,
      "outputs": [
        {
          "output_type": "display_data",
          "data": {
            "text/html": [
              "<html>\n",
              "<head><meta charset=\"utf-8\" /></head>\n",
              "<body>\n",
              "    <div>\n",
              "            <script src=\"https://cdnjs.cloudflare.com/ajax/libs/mathjax/2.7.5/MathJax.js?config=TeX-AMS-MML_SVG\"></script><script type=\"text/javascript\">if (window.MathJax) {MathJax.Hub.Config({SVG: {font: \"STIX-Web\"}});}</script>\n",
              "                <script type=\"text/javascript\">window.PlotlyConfig = {MathJaxConfig: 'local'};</script>\n",
              "        <script src=\"https://cdn.plot.ly/plotly-latest.min.js\"></script>    \n",
              "            <div id=\"01078455-3060-4af7-9434-743df36c673c\" class=\"plotly-graph-div\" style=\"height:525px; width:100%;\"></div>\n",
              "            <script type=\"text/javascript\">\n",
              "                \n",
              "                    window.PLOTLYENV=window.PLOTLYENV || {};\n",
              "                    \n",
              "                if (document.getElementById(\"01078455-3060-4af7-9434-743df36c673c\")) {\n",
              "                    Plotly.newPlot(\n",
              "                        '01078455-3060-4af7-9434-743df36c673c',\n",
              "                        [{\"mode\": \"lines+markers\", \"type\": \"scatter\", \"x\": [\"2020-12-12T11:55:28\", \"2020-12-12T11:59:10\", \"2020-12-12T12:12:35\", \"2020-12-12T12:16:14\", \"2020-12-12T12:16:27\", \"2020-12-12T12:19:40\", \"2020-12-12T12:19:56\", \"2020-12-12T12:20:30\", \"2020-12-12T12:26:34\", \"2020-12-12T12:42:31\", \"2020-12-12T12:54:07\", \"2020-12-12T12:54:24\", \"2020-12-12T13:00:00\", \"2020-12-12T13:56:01\", \"2020-12-12T14:04:37\", \"2020-12-12T14:11:09\", \"2020-12-12T14:26:28\", \"2020-12-12T14:41:19\", \"2020-12-12T14:42:45\", \"2020-12-12T14:43:45\", \"2020-12-12T14:46:27\", \"2020-12-12T14:58:11\", \"2020-12-12T14:59:02\", \"2020-12-12T14:59:25\", \"2020-12-12T15:00:17\", \"2020-12-12T15:10:09\", \"2020-12-12T15:27:42\", \"2020-12-12T15:38:00\", \"2020-12-12T15:59:32\", \"2020-12-12T16:00:38\", \"2020-12-12T17:10:44\", \"2020-12-12T17:19:02\", \"2020-12-12T17:45:00\", \"2020-12-12T19:22:45\", \"2020-12-12T19:29:07\", \"2020-12-12T19:30:33\", \"2020-12-12T20:01:16\", \"2020-12-12T20:04:29\", \"2020-12-12T20:06:00\", \"2020-12-12T20:11:42\", \"2020-12-12T20:17:19\", \"2020-12-12T20:23:59\", \"2020-12-12T20:33:45\", \"2020-12-12T20:40:16\", \"2020-12-12T20:51:26\", \"2020-12-12T20:53:02\", \"2020-12-12T20:59:07\", \"2020-12-12T21:18:56\", \"2020-12-12T21:26:59\", \"2020-12-12T21:30:00\", \"2020-12-12T21:35:17\", \"2020-12-12T21:55:13\", \"2020-12-12T21:59:19\", \"2020-12-12T22:17:46\", \"2020-12-12T22:30:00\", \"2020-12-12T22:36:49\", \"2020-12-12T22:58:43\", \"2020-12-12T23:00:34\", \"2020-12-12T23:13:56\", \"2020-12-12T23:18:57\", \"2020-12-12T23:31:10\", \"2020-12-12T23:44:07\", \"2020-12-12T23:52:24\", \"2020-12-13T00:01:12\", \"2020-12-13T00:03:45\", \"2020-12-13T00:18:01\", \"2020-12-13T00:29:21\", \"2020-12-13T00:54:26\", \"2020-12-13T01:14:47\", \"2020-12-13T01:22:11\", \"2020-12-13T01:31:41\", \"2020-12-13T01:35:39\", \"2020-12-13T02:16:39\", \"2020-12-13T02:33:17\", \"2020-12-13T02:35:49\", \"2020-12-13T02:53:29\", \"2020-12-13T02:59:33\", \"2020-12-13T03:01:13\", \"2020-12-13T03:30:47\", \"2020-12-13T03:46:05\", \"2020-12-13T03:48:57\", \"2020-12-13T03:49:15\", \"2020-12-13T03:49:38\", \"2020-12-13T04:16:20\", \"2020-12-13T04:24:59\", \"2020-12-13T04:25:48\", \"2020-12-13T04:28:04\", \"2020-12-13T04:33:51\", \"2020-12-13T04:34:11\", \"2020-12-13T04:36:07\", \"2020-12-13T04:45:00\", \"2020-12-13T04:46:53\", \"2020-12-13T05:08:31\", \"2020-12-13T05:28:06\", \"2020-12-13T05:41:56\", \"2020-12-13T06:21:37\", \"2020-12-13T06:26:03\", \"2020-12-13T06:33:18\", \"2020-12-13T07:02:21\", \"2020-12-13T07:08:00\", \"2020-12-13T07:11:11\", \"2020-12-13T07:46:33\", \"2020-12-13T08:24:33\", \"2020-12-13T09:56:49\", \"2020-12-13T09:59:12\", \"2020-12-13T10:39:00\", \"2020-12-13T11:51:02\", \"2020-12-13T12:30:08\", \"2020-12-13T12:37:24\", \"2020-12-13T12:56:20\", \"2020-12-13T13:05:18\", \"2020-12-13T13:43:49\", \"2020-12-13T13:45:00\", \"2020-12-13T13:47:02\", \"2020-12-13T13:57:03\", \"2020-12-13T14:06:40\", \"2020-12-13T14:08:32\", \"2020-12-13T14:12:21\", \"2020-12-13T14:30:00\", \"2020-12-13T14:48:39\", \"2020-12-13T15:00:02\", \"2020-12-13T15:01:00\", \"2020-12-13T15:08:27\", \"2020-12-13T15:08:57\", \"2020-12-13T15:25:42\", \"2020-12-13T15:25:56\", \"2020-12-13T15:33:19\", \"2020-12-13T15:47:41\", \"2020-12-13T15:50:20\", \"2020-12-13T15:54:23\", \"2020-12-13T15:55:01\", \"2020-12-13T16:06:10\", \"2020-12-13T16:17:08\", \"2020-12-13T16:20:08\", \"2020-12-13T16:24:45\", \"2020-12-13T16:27:13\", \"2020-12-13T16:43:57\", \"2020-12-13T16:47:24\", \"2020-12-13T16:49:27\", \"2020-12-13T16:52:31\", \"2020-12-13T16:58:57\", \"2020-12-13T17:07:26\", \"2020-12-13T18:39:30\", \"2020-12-13T19:07:08\", \"2020-12-13T19:10:26\", \"2020-12-13T19:49:01\", \"2020-12-13T19:52:14\", \"2020-12-13T20:09:05\", \"2020-12-13T20:22:37\", \"2020-12-13T20:32:11\", \"2020-12-13T20:47:03\", \"2020-12-13T20:53:41\", \"2020-12-13T21:07:54\", \"2020-12-13T21:16:12\", \"2020-12-13T21:52:58\", \"2020-12-13T21:54:06\", \"2020-12-13T22:30:00\", \"2020-12-13T22:49:36\", \"2020-12-13T23:48:32\", \"2020-12-13T23:51:22\", \"2020-12-13T23:55:21\", \"2020-12-14T00:10:31\", \"2020-12-14T00:20:13\", \"2020-12-14T00:36:12\", \"2020-12-14T00:57:25\", \"2020-12-14T01:00:18\", \"2020-12-14T01:22:36\", \"2020-12-14T01:23:44\", \"2020-12-14T02:05:54\", \"2020-12-14T02:25:03\", \"2020-12-14T02:30:20\", \"2020-12-14T02:34:20\", \"2020-12-14T02:41:30\", \"2020-12-14T02:41:51\", \"2020-12-14T02:46:31\", \"2020-12-14T02:49:08\", \"2020-12-14T03:11:47\", \"2020-12-14T03:17:15\", \"2020-12-14T03:19:48\", \"2020-12-14T03:36:35\", \"2020-12-14T03:37:18\", \"2020-12-14T03:40:00\", \"2020-12-14T04:09:00\", \"2020-12-14T04:38:08\", \"2020-12-14T04:44:53\", \"2020-12-14T05:03:43\", \"2020-12-14T06:07:20\", \"2020-12-14T06:08:10\", \"2020-12-14T06:26:17\", \"2020-12-14T06:57:09\", \"2020-12-14T06:58:39\", \"2020-12-14T07:18:15\", \"2020-12-14T08:02:29\", \"2020-12-14T08:44:18\", \"2020-12-14T08:46:11\", \"2020-12-14T09:07:57\", \"2020-12-14T09:18:47\", \"2020-12-14T09:24:42\", \"2020-12-14T09:41:38\", \"2020-12-14T09:56:08\", \"2020-12-14T10:07:09\", \"2020-12-14T10:22:46\", \"2020-12-14T10:51:07\", \"2020-12-14T11:08:27\", \"2020-12-14T11:08:32\", \"2020-12-14T11:20:05\", \"2020-12-14T11:32:33\", \"2020-12-14T11:41:22\", \"2020-12-14T11:50:00\", \"2020-12-14T11:53:41\", \"2020-12-14T11:56:37\", \"2020-12-14T11:58:05\", \"2020-12-14T12:08:10\", \"2020-12-14T12:38:48\", \"2020-12-14T12:40:18\", \"2020-12-14T12:40:55\", \"2020-12-14T12:48:17\", \"2020-12-14T12:48:58\", \"2020-12-14T12:52:40\", \"2020-12-14T13:02:00\", \"2020-12-14T13:04:26\", \"2020-12-14T13:20:49\", \"2020-12-14T13:27:04\", \"2020-12-14T13:29:52\", \"2020-12-14T13:32:42\", \"2020-12-14T13:51:02\", \"2020-12-14T13:56:36\", \"2020-12-14T14:00:26\", \"2020-12-14T14:07:09\", \"2020-12-14T14:11:14\", \"2020-12-14T14:11:26\", \"2020-12-14T14:29:51\", \"2020-12-14T14:31:00\", \"2020-12-14T14:33:56\", \"2020-12-14T14:37:17\", \"2020-12-14T14:51:11\", \"2020-12-14T15:00:10\", \"2020-12-14T15:08:16\", \"2020-12-14T15:22:58\", \"2020-12-14T16:00:01\", \"2020-12-14T16:02:20\", \"2020-12-14T16:14:08\", \"2020-12-14T16:38:46\", \"2020-12-14T16:46:26\", \"2020-12-14T17:06:00\", \"2020-12-14T17:13:06\", \"2020-12-14T17:26:30\", \"2020-12-14T17:41:58\", \"2020-12-14T17:53:27\", \"2020-12-14T17:55:43\", \"2020-12-14T18:00:29\", \"2020-12-14T18:03:44\", \"2020-12-14T18:08:11\", \"2020-12-14T18:16:06\", \"2020-12-14T18:27:23\", \"2020-12-14T18:33:46\", \"2020-12-14T18:38:48\", \"2020-12-14T18:43:39\", \"2020-12-14T18:44:06\", \"2020-12-14T18:52:57\", \"2020-12-14T19:05:26\", \"2020-12-14T19:19:35\", \"2020-12-14T19:23:16\", \"2020-12-14T19:23:55\", \"2020-12-14T19:26:08\", \"2020-12-14T19:27:42\", \"2020-12-14T19:31:35\", \"2020-12-14T19:38:15\", \"2020-12-14T19:40:44\", \"2020-12-14T19:52:00\", \"2020-12-14T19:54:06\", \"2020-12-14T19:55:09\", \"2020-12-14T19:59:11\", \"2020-12-14T20:00:51\", \"2020-12-14T20:07:07\", \"2020-12-14T20:14:40\", \"2020-12-14T20:15:05\", \"2020-12-14T20:21:04\", \"2020-12-14T20:37:23\", \"2020-12-14T20:52:13\", \"2020-12-14T20:53:31\", \"2020-12-14T21:02:21\", \"2020-12-14T21:11:19\", \"2020-12-14T21:18:10\", \"2020-12-14T21:18:55\", \"2020-12-14T21:24:28\", \"2020-12-14T21:28:58\", \"2020-12-14T21:33:06\", \"2020-12-14T21:41:12\", \"2020-12-14T22:11:40\", \"2020-12-14T22:25:26\", \"2020-12-14T22:32:45\", \"2020-12-14T22:41:20\", \"2020-12-14T22:55:26\", \"2020-12-14T23:00:00\", \"2020-12-14T23:13:35\", \"2020-12-14T23:14:56\", \"2020-12-14T23:48:04\", \"2020-12-15T00:12:19\", \"2020-12-15T00:26:45\", \"2020-12-15T01:00:48\", \"2020-12-15T01:10:30\", \"2020-12-15T01:16:17\", \"2020-12-15T01:30:33\", \"2020-12-15T01:32:42\", \"2020-12-15T01:50:57\", \"2020-12-15T01:53:39\", \"2020-12-15T01:53:45\", \"2020-12-15T01:57:10\", \"2020-12-15T01:59:54\", \"2020-12-15T02:00:35\", \"2020-12-15T02:10:58\", \"2020-12-15T02:20:55\", \"2020-12-15T02:25:46\", \"2020-12-15T02:25:59\", \"2020-12-15T02:46:35\", \"2020-12-15T02:47:09\", \"2020-12-15T02:55:58\", \"2020-12-15T02:59:25\", \"2020-12-15T03:14:52\", \"2020-12-15T03:32:36\", \"2020-12-15T03:39:28\", \"2020-12-15T03:44:31\", \"2020-12-15T03:45:13\", \"2020-12-15T03:52:43\", \"2020-12-15T04:05:51\", \"2020-12-15T04:14:41\", \"2020-12-15T04:25:26\", \"2020-12-15T04:32:13\", \"2020-12-15T04:33:52\", \"2020-12-15T04:35:18\", \"2020-12-15T05:28:56\", \"2020-12-15T05:50:05\", \"2020-12-15T06:04:57\", \"2020-12-15T06:10:57\", \"2020-12-15T06:39:59\", \"2020-12-15T06:41:17\", \"2020-12-15T06:57:26\", \"2020-12-15T07:00:00\", \"2020-12-15T07:10:26\", \"2020-12-15T07:44:09\", \"2020-12-15T07:51:24\", \"2020-12-15T09:20:47\", \"2020-12-15T09:46:06\", \"2020-12-15T09:56:31\", \"2020-12-15T10:49:24\", \"2020-12-15T10:56:14\", \"2020-12-15T10:59:54\", \"2020-12-15T11:21:43\", \"2020-12-15T11:26:02\", \"2020-12-15T11:46:04\", \"2020-12-15T12:18:54\", \"2020-12-15T12:28:59\", \"2020-12-15T12:43:56\", \"2020-12-15T12:52:16\", \"2020-12-15T13:03:19\", \"2020-12-15T13:07:18\", \"2020-12-15T13:12:07\", \"2020-12-15T13:21:13\", \"2020-12-15T13:33:06\", \"2020-12-15T13:34:17\", \"2020-12-15T13:34:32\", \"2020-12-15T13:39:40\", \"2020-12-15T13:43:13\", \"2020-12-15T13:54:42\", \"2020-12-15T14:19:46\", \"2020-12-15T14:29:26\", \"2020-12-15T14:31:03\", \"2020-12-15T14:32:52\", \"2020-12-15T15:05:00\", \"2020-12-15T15:11:58\", \"2020-12-15T15:15:55\", \"2020-12-15T15:19:46\", \"2020-12-15T15:20:13\", \"2020-12-15T15:22:06\", \"2020-12-15T15:26:45\", \"2020-12-15T15:36:17\", \"2020-12-15T16:13:31\", \"2020-12-15T16:14:22\", \"2020-12-15T16:37:30\", \"2020-12-15T16:38:46\", \"2020-12-15T16:47:14\", \"2020-12-15T16:54:34\", \"2020-12-15T16:56:41\", \"2020-12-15T17:00:41\", \"2020-12-15T17:05:47\", \"2020-12-15T17:08:40\", \"2020-12-15T17:15:00\", \"2020-12-15T17:19:06\", \"2020-12-15T17:19:25\", \"2020-12-15T17:30:13\", \"2020-12-15T17:34:46\", \"2020-12-15T17:35:42\", \"2020-12-15T17:39:17\", \"2020-12-15T17:40:29\", \"2020-12-15T17:40:32\", \"2020-12-15T17:44:26\", \"2020-12-15T17:53:51\", \"2020-12-15T17:58:35\", \"2020-12-15T18:00:12\", \"2020-12-15T18:06:54\", \"2020-12-15T18:08:37\", \"2020-12-15T18:13:43\", \"2020-12-15T18:14:13\", \"2020-12-15T18:25:19\", \"2020-12-15T18:32:48\", \"2020-12-15T18:40:58\", \"2020-12-15T18:42:05\", \"2020-12-15T18:42:24\", \"2020-12-15T18:45:02\", \"2020-12-15T18:48:43\", \"2020-12-15T18:51:48\", \"2020-12-15T18:51:58\", \"2020-12-15T18:54:18\", \"2020-12-15T18:54:23\", \"2020-12-15T18:58:45\", \"2020-12-15T19:01:04\", \"2020-12-15T19:01:25\", \"2020-12-15T19:02:00\", \"2020-12-15T19:02:59\", \"2020-12-15T19:03:01\", \"2020-12-15T19:03:23\", \"2020-12-15T19:04:07\", \"2020-12-15T19:07:28\", \"2020-12-15T19:07:32\", \"2020-12-15T19:17:48\", \"2020-12-15T19:25:51\", \"2020-12-15T19:30:46\", \"2020-12-15T19:31:11\", \"2020-12-15T19:31:36\", \"2020-12-15T19:33:13\", \"2020-12-15T19:38:20\", \"2020-12-15T19:42:59\", \"2020-12-15T20:15:00\", \"2020-12-15T20:19:40\", \"2020-12-15T20:55:21\", \"2020-12-15T21:01:36\", \"2020-12-15T21:30:55\", \"2020-12-15T22:09:47\", \"2020-12-15T22:12:10\", \"2020-12-15T22:20:30\", \"2020-12-15T22:44:15\", \"2020-12-15T22:56:20\", \"2020-12-15T23:00:00\", \"2020-12-15T23:04:18\", \"2020-12-15T23:07:00\", \"2020-12-15T23:17:33\", \"2020-12-15T23:58:00\", \"2020-12-16T00:01:38\", \"2020-12-16T00:31:55\", \"2020-12-16T00:44:53\", \"2020-12-16T00:52:31\", \"2020-12-16T01:19:39\", \"2020-12-16T02:22:36\", \"2020-12-16T02:23:42\", \"2020-12-16T02:53:41\", \"2020-12-16T03:00:40\", \"2020-12-16T03:07:45\", \"2020-12-16T03:29:48\", \"2020-12-16T03:41:56\", \"2020-12-16T03:48:35\", \"2020-12-16T05:36:49\", \"2020-12-16T05:59:13\", \"2020-12-16T07:27:16\", \"2020-12-16T08:25:37\", \"2020-12-16T08:38:09\", \"2020-12-16T08:39:41\", \"2020-12-16T08:40:04\", \"2020-12-16T08:49:32\", \"2020-12-16T09:50:38\", \"2020-12-16T10:09:52\", \"2020-12-16T10:33:57\", \"2020-12-16T10:50:00\", \"2020-12-16T10:51:54\", \"2020-12-16T11:00:42\", \"2020-12-16T11:09:24\", \"2020-12-16T11:49:27\", \"2020-12-16T11:52:11\", \"2020-12-16T11:53:08\", \"2020-12-16T12:14:02\", \"2020-12-16T12:15:50\", \"2020-12-16T12:19:31\", \"2020-12-16T12:27:29\", \"2020-12-16T12:35:04\", \"2020-12-16T12:48:17\", \"2020-12-16T12:55:16\", \"2020-12-16T13:03:05\", \"2020-12-16T13:10:50\", \"2020-12-16T13:38:07\", \"2020-12-16T13:43:41\", \"2020-12-16T13:48:40\", \"2020-12-16T13:53:31\", \"2020-12-16T13:57:47\", \"2020-12-16T14:08:26\", \"2020-12-16T14:31:44\", \"2020-12-16T14:48:25\", \"2020-12-16T14:55:04\", \"2020-12-16T15:01:45\", \"2020-12-16T15:05:44\", \"2020-12-16T15:15:35\", \"2020-12-16T15:20:37\", \"2020-12-16T15:28:53\", \"2020-12-16T15:32:52\", \"2020-12-16T15:54:58\", \"2020-12-16T15:57:12\", \"2020-12-16T15:58:00\", \"2020-12-16T15:58:49\", \"2020-12-16T16:00:37\", \"2020-12-16T16:01:00\", \"2020-12-16T16:02:59\", \"2020-12-16T16:04:18\", \"2020-12-16T17:20:56\", \"2020-12-16T17:22:12\", \"2020-12-16T17:23:26\", \"2020-12-16T17:38:33\", \"2020-12-16T17:41:10\", \"2020-12-16T17:44:26\", \"2020-12-16T17:45:02\", \"2020-12-16T17:46:58\", \"2020-12-16T17:48:00\", \"2020-12-16T17:50:51\", \"2020-12-16T18:04:49\", \"2020-12-16T18:25:10\", \"2020-12-16T18:44:06\", \"2020-12-16T18:46:02\", \"2020-12-16T18:46:11\", \"2020-12-16T18:51:53\", \"2020-12-16T19:02:58\", \"2020-12-16T19:16:45\", \"2020-12-16T19:19:06\", \"2020-12-16T19:20:45\", \"2020-12-16T19:23:25\", \"2020-12-16T19:24:30\", \"2020-12-16T19:37:09\", \"2020-12-16T19:39:41\", \"2020-12-16T19:42:00\", \"2020-12-16T19:42:45\", \"2020-12-16T19:49:52\", \"2020-12-16T19:51:11\", \"2020-12-16T19:55:01\", \"2020-12-16T20:00:30\", \"2020-12-16T20:02:02\", \"2020-12-16T20:02:11\", \"2020-12-16T20:03:20\", \"2020-12-16T20:11:38\", \"2020-12-16T20:16:48\", \"2020-12-16T20:17:37\", \"2020-12-16T20:18:45\", \"2020-12-16T20:19:25\", \"2020-12-16T20:20:45\", \"2020-12-16T20:22:02\", \"2020-12-16T20:23:10\", \"2020-12-16T20:23:42\", \"2020-12-16T20:23:53\", \"2020-12-16T20:27:25\", \"2020-12-16T20:32:57\", \"2020-12-16T20:32:58\", \"2020-12-16T20:35:11\", \"2020-12-16T20:37:49\", \"2020-12-16T20:53:43\", \"2020-12-16T20:54:35\", \"2020-12-16T20:57:10\", \"2020-12-16T21:00:01\", \"2020-12-16T21:09:05\", \"2020-12-16T21:16:59\", \"2020-12-16T21:17:12\", \"2020-12-16T21:20:39\", \"2020-12-16T21:54:06\", \"2020-12-16T21:55:32\", \"2020-12-16T21:56:17\", \"2020-12-16T22:03:49\", \"2020-12-16T22:14:19\", \"2020-12-16T22:15:07\", \"2020-12-16T22:20:42\", \"2020-12-16T22:27:26\", \"2020-12-16T22:39:12\", \"2020-12-16T22:44:51\", \"2020-12-16T22:50:12\", \"2020-12-16T22:51:25\", \"2020-12-16T22:53:51\", \"2020-12-16T22:54:41\", \"2020-12-16T22:55:31\", \"2020-12-16T22:56:22\", \"2020-12-16T23:05:51\", \"2020-12-16T23:21:33\", \"2020-12-16T23:23:03\", \"2020-12-16T23:25:09\", \"2020-12-16T23:26:07\", \"2020-12-16T23:31:43\", \"2020-12-16T23:38:37\", \"2020-12-16T23:52:40\", \"2020-12-16T23:54:33\", \"2020-12-17T00:09:25\", \"2020-12-17T00:12:57\", \"2020-12-17T00:14:08\", \"2020-12-17T00:19:18\", \"2020-12-17T00:21:26\", \"2020-12-17T00:26:42\", \"2020-12-17T00:29:54\", \"2020-12-17T00:30:50\", \"2020-12-17T00:45:11\", \"2020-12-17T00:46:53\", \"2020-12-17T01:02:09\", \"2020-12-17T01:06:46\", \"2020-12-17T01:08:43\", \"2020-12-17T01:21:11\", \"2020-12-17T01:26:17\", \"2020-12-17T01:48:52\", \"2020-12-17T02:08:10\", \"2020-12-17T02:12:18\", \"2020-12-17T03:02:40\", \"2020-12-17T03:43:48\", \"2020-12-17T03:46:22\", \"2020-12-17T03:59:00\", \"2020-12-17T04:00:21\", \"2020-12-17T05:04:56\", \"2020-12-17T05:06:27\", \"2020-12-17T05:06:35\", \"2020-12-17T05:06:48\", \"2020-12-17T05:06:58\", \"2020-12-17T05:07:04\", \"2020-12-17T05:07:06\", \"2020-12-17T05:07:15\", \"2020-12-17T05:07:21\", \"2020-12-17T05:07:28\", \"2020-12-17T05:07:37\", \"2020-12-17T05:07:56\", \"2020-12-17T05:08:10\", \"2020-12-17T05:08:18\", \"2020-12-17T05:08:25\", \"2020-12-17T05:08:37\", \"2020-12-17T05:09:08\", \"2020-12-17T05:09:29\", \"2020-12-17T05:09:49\", \"2020-12-17T05:17:11\", \"2020-12-17T05:25:19\", \"2020-12-17T05:26:42\", \"2020-12-17T05:33:18\", \"2020-12-17T05:44:39\", \"2020-12-17T05:45:16\", \"2020-12-17T06:23:35\", \"2020-12-17T06:24:10\", \"2020-12-17T07:04:56\", \"2020-12-17T07:47:21\", \"2020-12-17T08:30:16\", \"2020-12-17T08:52:12\", \"2020-12-17T09:00:09\", \"2020-12-17T09:01:17\", \"2020-12-17T09:02:51\", \"2020-12-17T09:08:08\", \"2020-12-17T09:12:40\", \"2020-12-17T09:14:43\", \"2020-12-17T09:24:36\", \"2020-12-17T09:39:37\", \"2020-12-17T09:42:39\", \"2020-12-17T10:02:09\", \"2020-12-17T10:06:20\", \"2020-12-17T10:32:05\", \"2020-12-17T11:22:57\", \"2020-12-17T11:23:16\", \"2020-12-17T12:05:00\", \"2020-12-17T12:22:07\", \"2020-12-17T13:04:58\", \"2020-12-17T13:47:34\", \"2020-12-17T13:52:34\", \"2020-12-17T14:01:59\", \"2020-12-17T14:07:51\", \"2020-12-17T14:22:36\", \"2020-12-17T14:31:55\", \"2020-12-17T14:48:41\", \"2020-12-17T14:55:04\", \"2020-12-17T15:03:23\", \"2020-12-17T15:13:57\", \"2020-12-17T15:14:54\", \"2020-12-17T15:15:06\", \"2020-12-17T15:27:50\", \"2020-12-17T15:42:53\", \"2020-12-17T15:58:28\", \"2020-12-17T16:08:29\", \"2020-12-17T16:10:24\", \"2020-12-17T16:10:56\", \"2020-12-17T16:11:22\", \"2020-12-17T16:14:10\", \"2020-12-17T16:34:04\", \"2020-12-17T16:40:22\", \"2020-12-17T16:41:25\", \"2020-12-17T16:51:39\", \"2020-12-17T17:23:43\", \"2020-12-17T17:24:55\", \"2020-12-17T17:42:59\", \"2020-12-17T17:44:41\", \"2020-12-17T17:49:13\", \"2020-12-17T18:03:32\", \"2020-12-17T18:10:23\", \"2020-12-17T18:21:36\", \"2020-12-17T18:23:31\", \"2020-12-17T18:23:55\", \"2020-12-17T18:32:15\", \"2020-12-17T18:55:20\", \"2020-12-17T19:08:25\", \"2020-12-17T19:12:52\", \"2020-12-17T19:14:18\", \"2020-12-17T19:17:51\", \"2020-12-17T19:18:52\", \"2020-12-17T19:27:13\", \"2020-12-17T19:41:14\", \"2020-12-17T19:50:01\", \"2020-12-17T19:58:26\", \"2020-12-17T20:01:54\", \"2020-12-17T20:04:51\", \"2020-12-17T20:44:22\", \"2020-12-17T20:44:26\", \"2020-12-17T20:46:02\", \"2020-12-17T20:50:17\", \"2020-12-17T20:57:38\", \"2020-12-17T21:09:57\", \"2020-12-17T21:11:52\", \"2020-12-17T21:15:42\", \"2020-12-17T21:31:10\", \"2020-12-17T21:48:32\", \"2020-12-17T22:09:10\", \"2020-12-17T22:14:49\", \"2020-12-17T22:17:19\", \"2020-12-17T22:19:14\", \"2020-12-17T22:30:55\", \"2020-12-17T22:53:44\", \"2020-12-17T22:55:47\", \"2020-12-17T23:22:28\", \"2020-12-17T23:30:00\", \"2020-12-17T23:54:47\", \"2020-12-18T00:13:31\", \"2020-12-18T00:34:07\", \"2020-12-18T00:38:49\", \"2020-12-18T00:59:25\", \"2020-12-18T01:07:47\", \"2020-12-18T01:17:08\", \"2020-12-18T01:36:02\", \"2020-12-18T01:51:51\", \"2020-12-18T01:52:57\", \"2020-12-18T01:57:42\", \"2020-12-18T02:04:40\", \"2020-12-18T02:31:54\", \"2020-12-18T02:40:20\", \"2020-12-18T02:42:57\", \"2020-12-18T03:19:29\", \"2020-12-18T03:30:15\", \"2020-12-18T03:45:30\", \"2020-12-18T04:00:29\", \"2020-12-18T04:18:11\", \"2020-12-18T06:25:05\", \"2020-12-18T06:28:32\", \"2020-12-18T06:38:22\", \"2020-12-18T06:51:12\", \"2020-12-18T07:00:12\", \"2020-12-18T07:35:28\", \"2020-12-18T07:47:06\", \"2020-12-18T08:04:57\", \"2020-12-18T08:23:12\", \"2020-12-18T08:25:44\", \"2020-12-18T08:30:51\", \"2020-12-18T09:28:49\", \"2020-12-18T10:01:30\", \"2020-12-18T10:08:08\", \"2020-12-18T10:15:51\", \"2020-12-18T10:17:33\", \"2020-12-18T10:38:14\", \"2020-12-18T10:55:04\", \"2020-12-18T10:55:36\", \"2020-12-18T11:11:32\", \"2020-12-18T11:30:00\", \"2020-12-18T12:26:12\", \"2020-12-18T12:59:32\", \"2020-12-18T13:06:45\", \"2020-12-18T13:07:02\", \"2020-12-18T13:12:22\", \"2020-12-18T13:12:39\", \"2020-12-18T13:12:58\", \"2020-12-18T13:13:11\", \"2020-12-18T13:13:31\", \"2020-12-18T13:13:47\", \"2020-12-18T13:14:58\", \"2020-12-18T13:20:13\", \"2020-12-18T13:34:42\", \"2020-12-18T14:14:01\", \"2020-12-18T14:20:22\", \"2020-12-18T14:24:00\", \"2020-12-18T14:27:52\", \"2020-12-18T14:29:30\", \"2020-12-18T14:55:28\", \"2020-12-18T14:56:55\", \"2020-12-18T15:02:28\", \"2020-12-18T15:06:05\", \"2020-12-18T15:27:42\", \"2020-12-18T15:31:02\", \"2020-12-18T15:51:05\", \"2020-12-18T15:53:14\", \"2020-12-18T16:04:32\", \"2020-12-18T16:04:56\", \"2020-12-18T16:09:23\", \"2020-12-18T16:10:24\", \"2020-12-18T16:21:19\", \"2020-12-18T16:24:09\", \"2020-12-18T16:43:14\", \"2020-12-18T16:49:29\", \"2020-12-18T16:53:50\", \"2020-12-18T16:56:08\", \"2020-12-18T16:56:25\", \"2020-12-18T16:56:56\", \"2020-12-18T17:06:59\", \"2020-12-18T17:25:44\", \"2020-12-18T17:35:50\", \"2020-12-18T17:44:48\", \"2020-12-18T18:04:19\", \"2020-12-18T18:26:00\", \"2020-12-18T18:31:06\", \"2020-12-18T18:41:11\", \"2020-12-18T18:43:21\", \"2020-12-18T19:00:53\", \"2020-12-18T19:03:47\", \"2020-12-18T19:04:35\", \"2020-12-18T19:22:07\", \"2020-12-18T19:22:36\", \"2020-12-18T19:30:31\", \"2020-12-18T19:40:10\", \"2020-12-18T19:51:57\", \"2020-12-18T20:41:46\", \"2020-12-18T20:45:09\", \"2020-12-18T21:04:22\", \"2020-12-18T21:18:26\", \"2020-12-18T21:25:00\", \"2020-12-18T21:25:01\", \"2020-12-18T21:26:25\", \"2020-12-18T21:36:14\", \"2020-12-18T21:44:42\", \"2020-12-18T21:48:23\", \"2020-12-18T22:43:49\", \"2020-12-18T22:59:25\", \"2020-12-18T23:09:14\", \"2020-12-18T23:24:02\", \"2020-12-18T23:34:28\", \"2020-12-18T23:48:02\", \"2020-12-18T23:50:30\", \"2020-12-19T00:00:52\", \"2020-12-19T00:00:55\", \"2020-12-19T00:06:19\", \"2020-12-19T00:07:17\", \"2020-12-19T00:22:09\", \"2020-12-19T00:39:14\", \"2020-12-19T01:03:26\", \"2020-12-19T01:03:48\", \"2020-12-19T01:21:44\", \"2020-12-19T01:55:10\", \"2020-12-19T02:18:30\", \"2020-12-19T02:37:09\", \"2020-12-19T03:00:00\", \"2020-12-19T03:00:01\", \"2020-12-19T03:02:07\", \"2020-12-19T03:13:16\", \"2020-12-19T03:59:27\", \"2020-12-19T04:05:20\", \"2020-12-19T04:15:56\", \"2020-12-19T06:40:38\", \"2020-12-19T06:41:00\", \"2020-12-19T06:41:08\", \"2020-12-19T06:41:29\", \"2020-12-19T06:41:35\", \"2020-12-19T06:41:42\", \"2020-12-19T06:54:02\", \"2020-12-19T07:33:54\", \"2020-12-19T08:01:15\", \"2020-12-19T08:16:43\", \"2020-12-19T08:36:34\", \"2020-12-19T08:48:31\", \"2020-12-19T09:57:11\", \"2020-12-19T10:19:27\", \"2020-12-19T11:00:00\", \"2020-12-19T11:17:17\", \"2020-12-19T11:30:54\", \"2020-12-19T11:40:11\", \"2020-12-19T11:47:18\", \"2020-12-19T11:49:27\", \"2020-12-19T11:50:50\", \"2020-12-19T11:52:37\", \"2020-12-19T11:56:24\", \"2020-12-19T12:01:46\", \"2020-12-19T12:06:03\", \"2020-12-19T12:07:36\", \"2020-12-19T12:56:32\", \"2020-12-19T14:00:18\", \"2020-12-19T14:31:29\", \"2020-12-19T14:33:25\", \"2020-12-19T14:43:45\", \"2020-12-19T14:47:41\", \"2020-12-19T14:50:04\", \"2020-12-19T14:58:09\", \"2020-12-19T15:00:00\", \"2020-12-19T15:04:09\", \"2020-12-19T15:10:58\", \"2020-12-19T15:13:05\", \"2020-12-19T15:17:07\", \"2020-12-19T15:29:49\", \"2020-12-19T15:50:59\", \"2020-12-19T16:03:25\", \"2020-12-19T16:15:24\", \"2020-12-19T16:21:24\", \"2020-12-19T16:21:55\", \"2020-12-19T16:30:36\", \"2020-12-19T16:39:05\", \"2020-12-19T16:45:17\", \"2020-12-19T17:04:18\", \"2020-12-19T17:12:44\", \"2020-12-19T17:15:36\", \"2020-12-19T17:20:35\", \"2020-12-19T17:37:19\", \"2020-12-19T17:40:39\", \"2020-12-19T17:44:50\", \"2020-12-19T17:58:50\", \"2020-12-19T18:03:55\", \"2020-12-19T18:13:55\", \"2020-12-19T18:19:24\", \"2020-12-19T18:20:56\", \"2020-12-19T18:23:29\", \"2020-12-19T18:27:47\", \"2020-12-19T18:29:52\", \"2020-12-19T18:42:33\", \"2020-12-19T18:52:52\", \"2020-12-19T18:54:36\", \"2020-12-19T18:55:02\", \"2020-12-19T18:58:05\", \"2020-12-19T19:07:01\", \"2020-12-19T19:22:21\", \"2020-12-19T19:36:58\", \"2020-12-19T19:39:41\", \"2020-12-19T19:40:20\", \"2020-12-19T19:43:32\", \"2020-12-19T19:49:42\", \"2020-12-19T19:54:52\", \"2020-12-19T19:57:42\", \"2020-12-19T19:58:53\", \"2020-12-19T20:01:45\", \"2020-12-19T20:57:35\", \"2020-12-19T21:41:52\", \"2020-12-19T21:46:51\", \"2020-12-19T21:52:00\", \"2020-12-19T21:57:06\", \"2020-12-19T22:02:40\", \"2020-12-19T22:11:20\", \"2020-12-19T22:17:21\", \"2020-12-19T22:28:10\", \"2020-12-19T22:51:11\", \"2020-12-19T22:52:58\", \"2020-12-19T23:04:05\", \"2020-12-20T00:40:01\", \"2020-12-20T00:46:52\", \"2020-12-20T01:05:53\", \"2020-12-20T01:21:37\", \"2020-12-20T02:14:29\", \"2020-12-20T02:41:18\", \"2020-12-20T02:41:49\", \"2020-12-20T03:47:53\", \"2020-12-20T04:02:22\", \"2020-12-20T05:10:51\", \"2020-12-20T05:20:11\", \"2020-12-20T05:33:26\", \"2020-12-20T06:06:44\", \"2020-12-20T06:41:20\", \"2020-12-20T06:42:15\", \"2020-12-20T06:59:08\", \"2020-12-20T07:20:39\", \"2020-12-20T07:39:33\", \"2020-12-20T08:07:02\", \"2020-12-20T08:12:15\", \"2020-12-20T08:15:20\", \"2020-12-20T08:43:15\", \"2020-12-20T09:02:29\", \"2020-12-20T09:02:56\", \"2020-12-20T09:28:59\", \"2020-12-20T10:14:29\", \"2020-12-20T11:16:49\", \"2020-12-20T11:22:22\", \"2020-12-20T11:44:27\", \"2020-12-20T11:48:21\", \"2020-12-20T12:07:18\", \"2020-12-20T12:50:00\", \"2020-12-20T13:03:18\", \"2020-12-20T13:18:23\", \"2020-12-20T13:19:50\", \"2020-12-20T13:33:49\", \"2020-12-20T13:56:07\", \"2020-12-20T14:03:37\", \"2020-12-20T15:28:22\", \"2020-12-20T15:32:00\", \"2020-12-20T16:26:22\", \"2020-12-20T16:31:14\", \"2020-12-20T16:57:18\", \"2020-12-20T17:00:47\", \"2020-12-20T17:09:00\", \"2020-12-20T17:15:07\", \"2020-12-20T17:44:52\", \"2020-12-20T18:04:37\", \"2020-12-20T18:09:57\", \"2020-12-20T18:46:57\", \"2020-12-20T19:37:40\", \"2020-12-20T19:58:11\", \"2020-12-20T20:20:11\", \"2020-12-20T20:57:23\", \"2020-12-20T21:08:37\", \"2020-12-20T21:18:26\", \"2020-12-20T21:26:49\", \"2020-12-20T21:49:54\", \"2020-12-20T21:57:52\", \"2020-12-20T22:01:31\", \"2020-12-20T22:04:24\", \"2020-12-20T22:08:42\", \"2020-12-20T22:17:18\", \"2020-12-20T22:26:04\", \"2020-12-20T22:46:35\", \"2020-12-20T22:49:05\", \"2020-12-20T23:06:01\", \"2020-12-20T23:22:05\", \"2020-12-21T00:02:10\", \"2020-12-21T00:27:00\", \"2020-12-21T00:32:33\", \"2020-12-21T00:33:18\", \"2020-12-21T01:11:53\", \"2020-12-21T03:36:55\", \"2020-12-21T04:42:23\", \"2020-12-21T05:03:18\", \"2020-12-21T06:35:03\", \"2020-12-21T06:48:25\", \"2020-12-21T07:17:44\", \"2020-12-21T08:29:12\", \"2020-12-21T09:12:01\", \"2020-12-21T09:38:39\", \"2020-12-21T09:46:40\", \"2020-12-21T09:54:41\", \"2020-12-21T11:00:00\", \"2020-12-21T11:15:04\", \"2020-12-21T11:39:47\", \"2020-12-21T11:45:45\", \"2020-12-21T11:46:06\", \"2020-12-21T12:04:44\", \"2020-12-21T12:15:10\", \"2020-12-21T12:16:57\", \"2020-12-21T12:22:49\", \"2020-12-21T12:54:06\", \"2020-12-21T12:55:00\", \"2020-12-21T13:00:01\", \"2020-12-21T13:31:01\", \"2020-12-21T13:33:06\", \"2020-12-21T13:49:00\", \"2020-12-21T14:31:02\", \"2020-12-21T15:00:35\", \"2020-12-21T15:14:40\", \"2020-12-21T15:29:22\", \"2020-12-21T15:31:55\", \"2020-12-21T15:42:53\", \"2020-12-21T15:45:44\", \"2020-12-21T15:57:34\", \"2020-12-21T16:00:00\", \"2020-12-21T16:03:10\", \"2020-12-21T16:35:14\", \"2020-12-21T16:45:16\", \"2020-12-21T16:53:28\", \"2020-12-21T17:15:38\", \"2020-12-21T17:18:00\", \"2020-12-21T17:22:05\", \"2020-12-21T17:25:03\", \"2020-12-21T17:25:44\", \"2020-12-21T17:39:04\", \"2020-12-21T17:39:33\", \"2020-12-21T17:54:11\", \"2020-12-21T17:54:52\", \"2020-12-21T17:57:50\", \"2020-12-21T18:03:42\", \"2020-12-21T18:10:16\", \"2020-12-21T18:20:22\", \"2020-12-21T18:25:24\", \"2020-12-21T18:41:48\", \"2020-12-21T18:43:32\", \"2020-12-21T19:00:30\", \"2020-12-21T19:03:33\", \"2020-12-21T19:12:06\", \"2020-12-21T19:14:05\", \"2020-12-21T19:16:52\", \"2020-12-21T19:20:31\", \"2020-12-21T19:32:09\", \"2020-12-21T19:33:33\", \"2020-12-21T19:33:52\", \"2020-12-21T19:39:00\", \"2020-12-21T19:44:30\", \"2020-12-21T19:46:36\", \"2020-12-21T19:51:42\", \"2020-12-21T19:55:51\", \"2020-12-21T20:02:59\", \"2020-12-21T20:11:21\", \"2020-12-21T20:29:45\", \"2020-12-21T20:29:47\", \"2020-12-21T20:36:44\", \"2020-12-21T20:38:57\", \"2020-12-21T20:40:02\", \"2020-12-21T20:42:17\", \"2020-12-21T20:43:47\", \"2020-12-21T20:50:21\", \"2020-12-21T20:53:49\", \"2020-12-21T20:54:55\", \"2020-12-21T20:56:34\", \"2020-12-21T20:57:31\", \"2020-12-21T20:58:16\", \"2020-12-21T20:59:30\", \"2020-12-21T21:21:10\", \"2020-12-21T21:45:16\", \"2020-12-21T21:53:28\", \"2020-12-21T21:58:23\", \"2020-12-21T22:15:53\", \"2020-12-21T22:24:33\", \"2020-12-21T22:28:01\", \"2020-12-21T22:54:12\", \"2020-12-21T23:25:02\", \"2020-12-21T23:50:17\", \"2020-12-21T23:52:36\", \"2020-12-21T23:56:14\", \"2020-12-22T00:09:13\", \"2020-12-22T00:17:26\", \"2020-12-22T00:17:46\", \"2020-12-22T00:21:16\", \"2020-12-22T00:23:37\", \"2020-12-22T00:30:29\", \"2020-12-22T00:35:53\", \"2020-12-22T00:37:14\", \"2020-12-22T00:42:43\", \"2020-12-22T00:57:48\", \"2020-12-22T01:01:30\", \"2020-12-22T01:41:34\", \"2020-12-22T01:42:45\", \"2020-12-22T01:46:20\", \"2020-12-22T01:58:25\", \"2020-12-22T02:27:00\", \"2020-12-22T02:37:34\", \"2020-12-22T02:39:18\", \"2020-12-22T02:40:00\", \"2020-12-22T02:50:36\", \"2020-12-22T02:51:31\", \"2020-12-22T02:53:27\", \"2020-12-22T03:17:25\", \"2020-12-22T03:20:46\", \"2020-12-22T03:23:30\", \"2020-12-22T03:24:43\", \"2020-12-22T03:37:36\", \"2020-12-22T03:39:48\", \"2020-12-22T03:51:22\", \"2020-12-22T03:56:06\", \"2020-12-22T04:01:07\", \"2020-12-22T04:05:41\", \"2020-12-22T04:23:20\", \"2020-12-22T04:26:51\", \"2020-12-22T04:45:06\", \"2020-12-22T04:49:37\", \"2020-12-22T05:01:05\", \"2020-12-22T05:05:22\", \"2020-12-22T05:15:46\", \"2020-12-22T05:26:35\", \"2020-12-22T05:50:36\", \"2020-12-22T05:56:55\", \"2020-12-22T06:24:21\", \"2020-12-22T06:30:00\", \"2020-12-22T06:33:39\", \"2020-12-22T06:35:38\", \"2020-12-22T07:11:23\", \"2020-12-22T07:32:52\", \"2020-12-22T07:35:02\", \"2020-12-22T07:40:00\", \"2020-12-22T07:49:20\", \"2020-12-22T08:25:57\", \"2020-12-22T08:37:11\", \"2020-12-22T08:49:41\", \"2020-12-22T08:50:33\", \"2020-12-22T08:56:31\", \"2020-12-22T09:00:01\", \"2020-12-22T09:01:12\", \"2020-12-22T09:02:35\", \"2020-12-22T09:02:55\", \"2020-12-22T09:15:05\", \"2020-12-22T09:41:11\", \"2020-12-22T09:47:28\", \"2020-12-22T09:49:11\", \"2020-12-22T09:53:27\", \"2020-12-22T09:54:02\", \"2020-12-22T10:06:34\", \"2020-12-22T10:20:58\", \"2020-12-22T10:32:22\", \"2020-12-22T10:43:58\", \"2020-12-22T10:48:57\", \"2020-12-22T11:10:23\", \"2020-12-22T11:15:05\", \"2020-12-22T11:40:01\", \"2020-12-22T11:49:59\", \"2020-12-22T12:06:17\", \"2020-12-22T12:08:31\", \"2020-12-22T12:29:30\", \"2020-12-22T12:35:03\", \"2020-12-22T12:45:25\", \"2020-12-22T13:03:00\", \"2020-12-22T13:04:08\", \"2020-12-22T13:09:53\", \"2020-12-22T13:14:42\", \"2020-12-22T13:17:29\", \"2020-12-22T13:21:40\", \"2020-12-22T13:22:29\", \"2020-12-22T13:52:25\", \"2020-12-22T14:05:03\", \"2020-12-22T14:05:30\", \"2020-12-22T14:13:29\", \"2020-12-22T14:14:31\", \"2020-12-22T14:18:45\", \"2020-12-22T14:25:33\", \"2020-12-22T14:26:17\", \"2020-12-22T14:32:09\", \"2020-12-22T14:35:19\", \"2020-12-22T14:46:25\", \"2020-12-22T14:53:51\", \"2020-12-22T15:00:12\", \"2020-12-22T15:02:58\", \"2020-12-22T15:15:20\", \"2020-12-22T15:15:49\", \"2020-12-22T15:26:31\", \"2020-12-22T15:41:42\", \"2020-12-22T15:49:14\", \"2020-12-22T15:59:39\", \"2020-12-22T16:04:56\", \"2020-12-22T16:42:37\", \"2020-12-22T16:46:17\", \"2020-12-22T17:02:10\", \"2020-12-22T17:08:25\", \"2020-12-22T17:10:56\", \"2020-12-22T17:26:53\", \"2020-12-22T17:37:30\", \"2020-12-22T17:40:44\", \"2020-12-22T17:52:42\", \"2020-12-22T17:54:32\", \"2020-12-22T18:03:49\", \"2020-12-22T18:07:23\", \"2020-12-22T18:11:10\", \"2020-12-22T18:11:15\", \"2020-12-22T18:20:29\", \"2020-12-22T18:30:00\", \"2020-12-22T18:34:37\", \"2020-12-22T18:36:52\", \"2020-12-22T18:47:30\", \"2020-12-22T19:03:43\", \"2020-12-22T19:05:59\", \"2020-12-22T19:09:03\", \"2020-12-22T19:13:51\", \"2020-12-22T19:25:27\", \"2020-12-22T19:33:34\", \"2020-12-22T20:03:07\", \"2020-12-22T20:16:53\", \"2020-12-22T20:26:14\", \"2020-12-22T20:32:00\", \"2020-12-22T20:51:53\", \"2020-12-22T21:31:35\", \"2020-12-22T21:35:56\", \"2020-12-22T21:44:22\", \"2020-12-22T21:46:00\", \"2020-12-22T21:56:07\", \"2020-12-22T22:04:03\", \"2020-12-22T22:09:00\", \"2020-12-22T22:14:59\", \"2020-12-22T22:24:58\", \"2020-12-22T22:35:14\", \"2020-12-22T22:43:44\", \"2020-12-22T22:45:13\", \"2020-12-22T23:02:03\", \"2020-12-22T23:31:21\", \"2020-12-22T23:37:38\", \"2020-12-22T23:39:15\", \"2020-12-22T23:49:26\", \"2020-12-22T23:51:31\", \"2020-12-22T23:59:38\", \"2020-12-23T01:08:22\", \"2020-12-23T01:25:13\", \"2020-12-23T01:25:53\", \"2020-12-23T01:47:32\", \"2020-12-23T01:48:11\", \"2020-12-23T01:55:03\", \"2020-12-23T02:07:55\", \"2020-12-23T02:54:45\", \"2020-12-23T04:14:51\", \"2020-12-23T04:22:10\", \"2020-12-23T04:52:54\", \"2020-12-23T05:06:03\", \"2020-12-23T05:48:15\", \"2020-12-23T05:49:45\", \"2020-12-23T06:02:32\", \"2020-12-23T06:27:52\", \"2020-12-23T06:32:43\", \"2020-12-23T06:34:00\", \"2020-12-23T06:36:01\", \"2020-12-23T06:36:45\", \"2020-12-23T06:40:32\", \"2020-12-23T06:40:37\", \"2020-12-23T07:35:57\", \"2020-12-23T07:47:06\", \"2020-12-23T07:56:58\", \"2020-12-23T07:57:54\", \"2020-12-23T07:57:57\", \"2020-12-23T08:40:40\", \"2020-12-23T08:55:54\", \"2020-12-23T08:57:44\", \"2020-12-23T09:04:10\", \"2020-12-23T09:12:26\", \"2020-12-23T09:20:01\", \"2020-12-23T09:45:18\", \"2020-12-23T09:55:19\", \"2020-12-23T10:18:03\", \"2020-12-23T10:39:57\", \"2020-12-23T10:43:34\", \"2020-12-23T10:46:03\", \"2020-12-23T10:59:30\", \"2020-12-23T11:01:44\", \"2020-12-23T11:37:36\", \"2020-12-23T11:45:44\", \"2020-12-23T11:47:04\", \"2020-12-23T11:48:09\", \"2020-12-23T11:52:05\", \"2020-12-23T12:07:11\", \"2020-12-23T12:08:05\", \"2020-12-23T12:14:05\", \"2020-12-23T12:31:57\", \"2020-12-23T12:34:58\", \"2020-12-23T13:01:15\", \"2020-12-23T13:03:48\", \"2020-12-23T13:08:04\", \"2020-12-23T13:10:01\", \"2020-12-23T13:20:15\", \"2020-12-23T13:22:06\", \"2020-12-23T13:24:13\", \"2020-12-23T13:27:05\", \"2020-12-23T13:28:15\", \"2020-12-23T13:48:29\", \"2020-12-23T13:52:13\", \"2020-12-23T13:59:00\", \"2020-12-23T14:04:13\", \"2020-12-23T14:28:28\", \"2020-12-23T14:51:00\", \"2020-12-23T15:00:41\", \"2020-12-23T15:24:48\", \"2020-12-23T15:28:18\", \"2020-12-23T15:29:17\", \"2020-12-23T15:34:02\", \"2020-12-23T15:42:48\", \"2020-12-23T16:25:57\", \"2020-12-23T16:27:48\", \"2020-12-23T16:31:31\", \"2020-12-23T16:37:54\", \"2020-12-23T16:49:20\", \"2020-12-23T16:51:23\", \"2020-12-23T16:52:18\", \"2020-12-23T16:56:21\", \"2020-12-23T16:58:05\", \"2020-12-23T17:00:00\", \"2020-12-23T17:03:37\", \"2020-12-23T17:05:00\", \"2020-12-23T17:08:09\", \"2020-12-23T17:10:10\", \"2020-12-23T17:18:50\", \"2020-12-23T17:24:38\", \"2020-12-23T17:38:50\", \"2020-12-23T17:52:01\", \"2020-12-23T17:56:32\", \"2020-12-23T17:57:33\", \"2020-12-23T18:18:26\", \"2020-12-23T18:22:52\", \"2020-12-23T18:25:21\", \"2020-12-23T18:44:34\", \"2020-12-23T18:48:59\", \"2020-12-23T18:51:47\", \"2020-12-23T18:52:00\", \"2020-12-23T18:52:48\", \"2020-12-23T19:00:00\", \"2020-12-23T19:02:06\", \"2020-12-23T19:03:10\", \"2020-12-23T19:04:02\", \"2020-12-23T19:19:20\", \"2020-12-23T19:29:27\", \"2020-12-23T19:40:33\", \"2020-12-23T20:00:53\", \"2020-12-23T20:15:45\", \"2020-12-23T20:16:49\", \"2020-12-23T20:20:13\", \"2020-12-23T20:30:42\", \"2020-12-23T20:41:52\", \"2020-12-23T20:53:46\", \"2020-12-23T21:04:59\", \"2020-12-23T22:01:34\", \"2020-12-23T22:54:41\", \"2020-12-23T23:05:06\", \"2020-12-23T23:06:46\", \"2020-12-23T23:18:29\", \"2020-12-23T23:21:13\", \"2020-12-23T23:29:58\", \"2020-12-23T23:45:53\", \"2020-12-24T00:13:40\", \"2020-12-24T00:17:11\", \"2020-12-24T00:23:44\", \"2020-12-24T00:26:21\", \"2020-12-24T00:28:55\", \"2020-12-24T00:29:36\", \"2020-12-24T00:33:51\", \"2020-12-24T00:35:24\", \"2020-12-24T01:06:20\", \"2020-12-24T01:25:04\", \"2020-12-24T02:30:00\", \"2020-12-24T02:56:00\", \"2020-12-24T02:58:53\", \"2020-12-24T03:04:13\", \"2020-12-24T03:09:09\", \"2020-12-24T03:34:37\", \"2020-12-24T03:38:02\", \"2020-12-24T04:05:14\", \"2020-12-24T04:14:35\", \"2020-12-24T04:15:51\", \"2020-12-24T04:18:08\", \"2020-12-24T04:22:34\", \"2020-12-24T04:33:21\", \"2020-12-24T05:12:25\", \"2020-12-24T05:14:29\", \"2020-12-24T05:24:07\", \"2020-12-24T05:30:00\", \"2020-12-24T05:34:35\", \"2020-12-24T05:43:19\", \"2020-12-24T05:45:26\", \"2020-12-24T05:51:14\", \"2020-12-24T05:55:33\", \"2020-12-24T05:57:49\", \"2020-12-24T06:03:03\", \"2020-12-24T06:10:00\", \"2020-12-24T06:10:22\", \"2020-12-24T06:24:48\", \"2020-12-24T06:55:50\", \"2020-12-24T07:00:59\", \"2020-12-24T07:39:29\", \"2020-12-24T07:46:24\", \"2020-12-24T07:50:42\", \"2020-12-24T08:08:50\", \"2020-12-24T08:14:13\", \"2020-12-24T09:57:06\", \"2020-12-24T10:03:07\", \"2020-12-24T10:08:16\", \"2020-12-24T10:11:55\", \"2020-12-24T10:28:59\", \"2020-12-24T10:38:47\", \"2020-12-24T10:44:57\", \"2020-12-24T10:50:41\", \"2020-12-24T11:02:55\", \"2020-12-24T11:04:02\", \"2020-12-24T11:07:21\", \"2020-12-24T11:10:32\", \"2020-12-24T11:25:02\", \"2020-12-24T11:52:55\", \"2020-12-24T11:57:27\", \"2020-12-24T12:12:45\", \"2020-12-24T12:16:30\", \"2020-12-24T12:24:07\", \"2020-12-24T12:24:33\", \"2020-12-24T12:33:51\", \"2020-12-24T12:53:08\", \"2020-12-24T13:10:43\", \"2020-12-24T13:11:44\", \"2020-12-24T13:17:38\", \"2020-12-24T13:19:01\", \"2020-12-24T13:45:51\", \"2020-12-24T13:59:29\", \"2020-12-24T14:00:58\", \"2020-12-24T14:04:30\", \"2020-12-24T14:13:57\", \"2020-12-24T14:28:47\", \"2020-12-24T14:38:33\", \"2020-12-24T14:46:57\", \"2020-12-24T15:07:53\", \"2020-12-24T15:33:57\", \"2020-12-24T15:35:34\", \"2020-12-24T15:41:25\", \"2020-12-24T15:43:47\", \"2020-12-24T15:47:16\", \"2020-12-24T15:49:25\", \"2020-12-24T15:50:18\", \"2020-12-24T15:51:16\", \"2020-12-24T15:52:13\", \"2020-12-24T15:52:34\", \"2020-12-24T16:00:02\", \"2020-12-24T16:10:32\", \"2020-12-24T16:25:14\", \"2020-12-24T16:52:07\", \"2020-12-24T16:57:17\", \"2020-12-24T17:01:00\", \"2020-12-24T17:03:59\", \"2020-12-24T17:07:47\", \"2020-12-24T17:09:01\", \"2020-12-24T17:12:22\", \"2020-12-24T17:29:24\", \"2020-12-24T17:36:11\", \"2020-12-24T17:49:19\", \"2020-12-24T18:50:04\", \"2020-12-24T18:52:43\", \"2020-12-24T20:35:24\", \"2020-12-24T21:01:17\", \"2020-12-24T21:06:51\", \"2020-12-24T21:10:34\", \"2020-12-24T21:10:37\", \"2020-12-24T21:10:58\", \"2020-12-24T21:57:40\", \"2020-12-24T21:58:01\", \"2020-12-24T22:33:12\", \"2020-12-24T23:50:37\", \"2020-12-25T00:38:07\", \"2020-12-25T01:04:10\", \"2020-12-25T03:21:19\", \"2020-12-25T04:49:52\", \"2020-12-25T04:51:11\", \"2020-12-25T05:10:39\", \"2020-12-25T06:14:52\", \"2020-12-25T06:27:29\", \"2020-12-25T06:43:13\", \"2020-12-25T07:08:44\", \"2020-12-25T07:14:25\", \"2020-12-25T07:15:00\", \"2020-12-25T07:15:01\", \"2020-12-25T09:23:08\", \"2020-12-25T09:23:15\", \"2020-12-25T10:32:38\", \"2020-12-25T11:24:17\", \"2020-12-25T11:28:56\", \"2020-12-25T11:52:18\", \"2020-12-25T13:00:49\", \"2020-12-25T13:11:19\", \"2020-12-25T14:09:00\", \"2020-12-25T14:44:15\", \"2020-12-25T16:16:00\", \"2020-12-25T16:30:00\", \"2020-12-25T16:34:02\", \"2020-12-25T17:15:59\", \"2020-12-25T17:37:44\", \"2020-12-25T17:39:17\", \"2020-12-25T18:17:05\", \"2020-12-25T18:44:23\", \"2020-12-25T18:44:58\", \"2020-12-25T19:14:49\", \"2020-12-25T19:30:21\", \"2020-12-25T20:00:31\", \"2020-12-25T21:13:01\", \"2020-12-25T21:32:37\", \"2020-12-25T21:42:54\", \"2020-12-25T23:28:39\", \"2020-12-25T23:37:05\", \"2020-12-26T00:16:11\", \"2020-12-26T04:27:18\", \"2020-12-26T04:30:00\", \"2020-12-26T05:12:52\", \"2020-12-26T05:23:31\", \"2020-12-26T05:43:57\", \"2020-12-26T07:04:31\", \"2020-12-26T07:16:28\", \"2020-12-26T07:26:58\", \"2020-12-26T08:53:36\", \"2020-12-26T09:19:40\", \"2020-12-26T09:43:22\", \"2020-12-26T11:23:56\", \"2020-12-26T11:35:54\", \"2020-12-26T11:41:54\", \"2020-12-26T11:59:17\", \"2020-12-26T12:09:39\", \"2020-12-26T12:15:44\", \"2020-12-26T12:36:23\", \"2020-12-26T12:55:30\", \"2020-12-26T13:00:00\", \"2020-12-26T13:23:28\", \"2020-12-26T13:49:31\", \"2020-12-26T14:27:34\", \"2020-12-26T14:40:00\", \"2020-12-26T15:09:58\", \"2020-12-26T16:09:55\", \"2020-12-26T16:10:00\", \"2020-12-26T16:11:46\", \"2020-12-26T17:17:06\", \"2020-12-26T17:21:59\", \"2020-12-26T17:31:43\", \"2020-12-26T17:37:32\", \"2020-12-26T17:55:45\", \"2020-12-26T18:03:52\", \"2020-12-26T18:23:27\", \"2020-12-26T18:23:57\", \"2020-12-26T18:26:25\", \"2020-12-26T18:27:23\", \"2020-12-26T19:39:18\", \"2020-12-26T19:42:53\", \"2020-12-26T20:36:57\", \"2020-12-26T21:30:48\", \"2020-12-26T22:01:28\", \"2020-12-26T22:19:24\", \"2020-12-26T23:17:40\", \"2020-12-26T23:59:09\", \"2020-12-27T00:21:27\", \"2020-12-27T00:28:36\", \"2020-12-27T00:34:01\", \"2020-12-27T00:37:14\", \"2020-12-27T02:04:50\", \"2020-12-27T02:30:00\", \"2020-12-27T02:45:11\", \"2020-12-27T04:02:02\", \"2020-12-27T04:10:32\", \"2020-12-27T05:19:32\", \"2020-12-27T06:36:39\", \"2020-12-27T06:38:26\", \"2020-12-27T07:10:00\", \"2020-12-27T07:22:43\", \"2020-12-27T07:30:00\", \"2020-12-27T07:48:02\", \"2020-12-27T07:59:55\", \"2020-12-27T08:03:52\", \"2020-12-27T10:00:00\", \"2020-12-27T11:16:10\", \"2020-12-27T11:22:46\", \"2020-12-27T11:53:47\", \"2020-12-27T12:00:54\", \"2020-12-27T12:02:16\", \"2020-12-27T12:13:52\", \"2020-12-27T14:00:00\", \"2020-12-27T14:52:57\", \"2020-12-27T15:13:21\", \"2020-12-27T15:14:03\", \"2020-12-27T15:16:57\", \"2020-12-27T15:17:34\", \"2020-12-27T15:35:52\", \"2020-12-27T15:36:31\", \"2020-12-27T15:38:37\", \"2020-12-27T15:46:26\", \"2020-12-27T15:48:40\", \"2020-12-27T15:58:57\", \"2020-12-27T16:00:09\", \"2020-12-27T16:08:00\", \"2020-12-27T16:11:59\", \"2020-12-27T16:40:50\", \"2020-12-27T17:14:45\", \"2020-12-27T17:49:10\", \"2020-12-27T18:35:50\", \"2020-12-27T18:48:44\", \"2020-12-27T19:10:59\", \"2020-12-27T19:23:18\", \"2020-12-27T19:28:54\", \"2020-12-27T19:39:33\", \"2020-12-27T19:44:58\", \"2020-12-27T19:58:38\", \"2020-12-27T20:14:20\", \"2020-12-27T20:46:08\", \"2020-12-27T20:47:22\", \"2020-12-27T20:51:05\", \"2020-12-27T20:51:57\", \"2020-12-27T22:04:19\", \"2020-12-27T22:47:23\", \"2020-12-27T23:03:29\", \"2020-12-28T00:07:08\", \"2020-12-28T00:37:05\", \"2020-12-28T02:23:54\", \"2020-12-28T02:55:44\", \"2020-12-28T04:04:40\", \"2020-12-28T05:40:49\", \"2020-12-28T07:13:10\", \"2020-12-28T07:32:07\", \"2020-12-28T07:47:33\", \"2020-12-28T08:05:15\", \"2020-12-28T08:43:30\", \"2020-12-28T08:45:52\", \"2020-12-28T09:37:48\", \"2020-12-28T10:07:02\", \"2020-12-28T11:09:59\", \"2020-12-28T11:15:34\", \"2020-12-28T11:18:19\", \"2020-12-28T12:56:03\", \"2020-12-28T13:25:23\", \"2020-12-28T13:30:36\", \"2020-12-28T13:33:52\", \"2020-12-28T13:47:37\", \"2020-12-28T14:06:27\", \"2020-12-28T14:06:49\", \"2020-12-28T14:30:00\", \"2020-12-28T14:46:15\", \"2020-12-28T14:58:06\", \"2020-12-28T15:30:19\", \"2020-12-28T15:59:05\", \"2020-12-28T16:04:42\", \"2020-12-28T16:07:42\", \"2020-12-28T16:46:49\", \"2020-12-28T17:08:38\", \"2020-12-28T17:32:42\", \"2020-12-28T17:55:42\", \"2020-12-28T18:01:09\", \"2020-12-28T18:11:15\", \"2020-12-28T18:25:56\", \"2020-12-28T18:32:07\", \"2020-12-28T18:40:38\", \"2020-12-28T18:45:06\", \"2020-12-28T19:09:12\", \"2020-12-28T19:18:02\", \"2020-12-28T20:10:08\", \"2020-12-28T20:15:53\", \"2020-12-28T20:20:12\", \"2020-12-28T20:29:40\", \"2020-12-28T21:25:29\", \"2020-12-28T21:35:17\", \"2020-12-28T22:15:23\", \"2020-12-28T22:47:55\", \"2020-12-28T22:53:11\", \"2020-12-28T23:25:16\", \"2020-12-29T01:09:13\", \"2020-12-29T03:47:55\", \"2020-12-29T04:25:12\", \"2020-12-29T05:44:25\", \"2020-12-29T05:53:01\", \"2020-12-29T06:01:11\", \"2020-12-29T06:03:07\", \"2020-12-29T06:17:04\", \"2020-12-29T06:35:48\", \"2020-12-29T06:36:23\", \"2020-12-29T06:38:54\", \"2020-12-29T07:14:51\", \"2020-12-29T07:19:23\", \"2020-12-29T07:39:54\", \"2020-12-29T07:44:54\", \"2020-12-29T07:45:46\", \"2020-12-29T07:49:04\", \"2020-12-29T08:05:22\", \"2020-12-29T08:17:46\", \"2020-12-29T08:19:29\", \"2020-12-29T09:06:06\", \"2020-12-29T09:31:03\", \"2020-12-29T09:41:02\", \"2020-12-29T09:45:00\", \"2020-12-29T09:48:37\", \"2020-12-29T10:31:30\", \"2020-12-29T10:43:13\", \"2020-12-29T10:48:17\", \"2020-12-29T10:48:39\", \"2020-12-29T10:48:59\", \"2020-12-29T11:11:12\", \"2020-12-29T11:29:45\", \"2020-12-29T11:38:13\", \"2020-12-29T11:56:29\", \"2020-12-29T12:04:24\", \"2020-12-29T12:16:23\", \"2020-12-29T12:17:31\", \"2020-12-29T12:26:34\", \"2020-12-29T12:53:03\", \"2020-12-29T13:09:53\", \"2020-12-29T13:36:29\", \"2020-12-29T13:52:10\", \"2020-12-29T14:20:29\", \"2020-12-29T14:29:53\", \"2020-12-29T14:35:44\", \"2020-12-29T14:46:23\", \"2020-12-29T15:09:09\", \"2020-12-29T15:17:38\", \"2020-12-29T15:32:59\", \"2020-12-29T16:00:48\", \"2020-12-29T16:02:50\", \"2020-12-29T16:07:20\", \"2020-12-29T16:13:33\", \"2020-12-29T16:23:56\", \"2020-12-29T16:30:00\", \"2020-12-29T16:51:16\", \"2020-12-29T16:59:31\", \"2020-12-29T17:03:05\", \"2020-12-29T17:07:42\", \"2020-12-29T17:15:12\", \"2020-12-29T17:17:03\", \"2020-12-29T17:23:52\", \"2020-12-29T17:27:10\", \"2020-12-29T17:38:20\", \"2020-12-29T17:43:42\", \"2020-12-29T17:49:18\", \"2020-12-29T17:50:17\", \"2020-12-29T18:06:55\", \"2020-12-29T18:53:57\", \"2020-12-29T19:02:36\", \"2020-12-29T19:12:28\", \"2020-12-29T19:46:22\", \"2020-12-29T19:53:33\", \"2020-12-29T20:13:49\", \"2020-12-29T20:15:00\", \"2020-12-29T20:21:05\", \"2020-12-29T20:30:43\", \"2020-12-29T21:11:36\", \"2020-12-29T21:17:13\", \"2020-12-29T21:33:03\", \"2020-12-29T22:46:03\", \"2020-12-29T23:07:32\", \"2020-12-29T23:07:33\", \"2020-12-29T23:17:53\", \"2020-12-29T23:44:28\", \"2020-12-30T02:11:40\", \"2020-12-30T03:53:57\", \"2020-12-30T04:17:47\", \"2020-12-30T04:31:37\", \"2020-12-30T05:14:07\", \"2020-12-30T05:57:10\", \"2020-12-30T05:59:36\", \"2020-12-30T06:12:42\", \"2020-12-30T06:29:17\", \"2020-12-30T07:10:12\", \"2020-12-30T07:17:30\", \"2020-12-30T07:26:54\", \"2020-12-30T07:40:20\", \"2020-12-30T07:45:19\", \"2020-12-30T07:49:11\", \"2020-12-30T07:56:08\", \"2020-12-30T08:13:32\", \"2020-12-30T08:32:05\", \"2020-12-30T08:54:59\", \"2020-12-30T09:15:33\", \"2020-12-30T09:22:28\", \"2020-12-30T09:50:04\", \"2020-12-30T09:51:16\", \"2020-12-30T09:53:34\", \"2020-12-30T09:55:23\", \"2020-12-30T10:02:54\", \"2020-12-30T10:09:07\", \"2020-12-30T10:16:27\", \"2020-12-30T10:20:19\", \"2020-12-30T10:23:28\", \"2020-12-30T10:31:44\", \"2020-12-30T11:00:42\", \"2020-12-30T11:01:31\", \"2020-12-30T11:11:14\", \"2020-12-30T11:16:56\", \"2020-12-30T11:17:01\", \"2020-12-30T11:24:48\", \"2020-12-30T11:25:41\", \"2020-12-30T11:29:25\", \"2020-12-30T11:30:56\", \"2020-12-30T11:41:11\", \"2020-12-30T12:04:53\", \"2020-12-30T12:13:23\", \"2020-12-30T12:15:43\", \"2020-12-30T12:16:42\", \"2020-12-30T12:31:19\", \"2020-12-30T12:33:22\", \"2020-12-30T12:35:19\", \"2020-12-30T12:36:39\", \"2020-12-30T12:37:17\", \"2020-12-30T12:39:20\", \"2020-12-30T12:50:18\", \"2020-12-30T12:59:55\", \"2020-12-30T13:05:30\", \"2020-12-30T13:08:29\", \"2020-12-30T13:27:59\", \"2020-12-30T14:02:26\", \"2020-12-30T14:10:40\", \"2020-12-30T14:22:18\", \"2020-12-30T14:55:21\", \"2020-12-30T15:01:40\", \"2020-12-30T15:33:10\", \"2020-12-30T15:46:19\", \"2020-12-30T15:47:48\", \"2020-12-30T15:54:41\", \"2020-12-30T15:59:24\", \"2020-12-30T16:04:49\", \"2020-12-30T16:10:10\", \"2020-12-30T16:15:51\", \"2020-12-30T16:24:30\", \"2020-12-30T16:42:08\", \"2020-12-30T17:00:00\", \"2020-12-30T17:02:40\", \"2020-12-30T17:22:37\", \"2020-12-30T17:31:35\", \"2020-12-30T17:38:54\", \"2020-12-30T17:44:06\", \"2020-12-30T18:03:24\", \"2020-12-30T18:06:29\", \"2020-12-30T18:16:59\", \"2020-12-30T18:18:57\", \"2020-12-30T18:19:25\", \"2020-12-30T18:20:23\", \"2020-12-30T18:27:09\", \"2020-12-30T18:27:16\", \"2020-12-30T18:31:13\", \"2020-12-30T18:38:16\", \"2020-12-30T18:43:26\", \"2020-12-30T19:08:38\", \"2020-12-30T19:30:00\", \"2020-12-30T19:37:27\", \"2020-12-30T19:52:15\", \"2020-12-30T19:58:05\", \"2020-12-30T20:06:27\", \"2020-12-30T20:07:46\", \"2020-12-30T21:01:37\", \"2020-12-30T21:16:28\", \"2020-12-30T22:06:59\", \"2020-12-30T22:11:09\", \"2020-12-30T22:14:42\", \"2020-12-30T22:21:18\", \"2020-12-30T22:41:40\", \"2020-12-30T22:52:57\", \"2020-12-30T22:59:56\", \"2020-12-30T23:25:29\", \"2020-12-30T23:31:09\", \"2020-12-30T23:45:30\", \"2020-12-31T00:09:32\", \"2020-12-31T00:27:20\", \"2020-12-31T02:43:05\", \"2020-12-31T04:24:48\", \"2020-12-31T05:52:41\", \"2020-12-31T06:57:14\", \"2020-12-31T07:18:14\", \"2020-12-31T08:08:37\", \"2020-12-31T08:22:11\", \"2020-12-31T09:46:34\", \"2020-12-31T09:50:17\", \"2020-12-31T09:56:25\", \"2020-12-31T10:18:10\", \"2020-12-31T10:28:29\", \"2020-12-31T10:33:58\", \"2020-12-31T10:35:28\", \"2020-12-31T10:35:58\", \"2020-12-31T10:40:45\", \"2020-12-31T10:49:45\", \"2020-12-31T11:00:40\", \"2020-12-31T11:07:47\", \"2020-12-31T11:16:39\", \"2020-12-31T11:28:52\", \"2020-12-31T11:36:35\", \"2020-12-31T11:49:30\", \"2020-12-31T12:15:50\", \"2020-12-31T12:21:34\", \"2020-12-31T12:35:19\", \"2020-12-31T12:37:44\", \"2020-12-31T12:38:08\", \"2020-12-31T12:45:35\", \"2020-12-31T13:00:01\", \"2020-12-31T13:17:25\", \"2020-12-31T13:36:42\", \"2020-12-31T14:33:00\", \"2020-12-31T14:38:56\", \"2020-12-31T14:55:27\", \"2020-12-31T15:52:56\", \"2020-12-31T15:58:30\", \"2020-12-31T16:01:08\", \"2020-12-31T16:20:19\", \"2020-12-31T16:28:40\", \"2020-12-31T16:32:27\", \"2020-12-31T16:58:08\", \"2020-12-31T17:05:49\", \"2020-12-31T17:15:34\", \"2020-12-31T17:30:07\", \"2020-12-31T17:34:55\", \"2020-12-31T17:53:48\", \"2020-12-31T18:01:29\", \"2020-12-31T18:16:57\", \"2020-12-31T18:17:16\", \"2020-12-31T18:39:59\", \"2020-12-31T19:00:06\", \"2020-12-31T20:20:01\", \"2020-12-31T20:22:53\", \"2020-12-31T20:40:48\", \"2020-12-31T20:42:01\", \"2020-12-31T20:44:03\", \"2020-12-31T20:46:17\", \"2020-12-31T20:49:54\", \"2020-12-31T20:52:33\", \"2020-12-31T21:06:22\", \"2020-12-31T21:13:54\", \"2020-12-31T21:31:41\", \"2020-12-31T21:37:51\", \"2020-12-31T22:08:30\", \"2020-12-31T22:17:28\", \"2020-12-31T22:17:34\", \"2020-12-31T22:56:40\", \"2020-12-31T23:04:58\", \"2020-12-31T23:05:51\", \"2021-01-01T00:20:18\", \"2021-01-01T00:24:08\", \"2021-01-01T00:36:33\", \"2021-01-01T01:10:43\", \"2021-01-01T01:18:21\", \"2021-01-01T02:23:19\", \"2021-01-01T02:34:47\", \"2021-01-01T02:34:56\", \"2021-01-01T02:40:46\", \"2021-01-01T02:41:50\", \"2021-01-01T02:43:46\", \"2021-01-01T02:49:13\", \"2021-01-01T02:49:35\", \"2021-01-01T03:07:10\", \"2021-01-01T03:13:53\", \"2021-01-01T03:30:44\", \"2021-01-01T03:38:20\", \"2021-01-01T03:50:49\", \"2021-01-01T03:53:00\", \"2021-01-01T03:55:16\", \"2021-01-01T03:57:14\", \"2021-01-01T04:07:23\", \"2021-01-01T04:08:29\", \"2021-01-01T04:08:52\", \"2021-01-01T04:09:52\", \"2021-01-01T04:21:35\", \"2021-01-01T04:27:47\", \"2021-01-01T04:37:06\", \"2021-01-01T04:54:53\", \"2021-01-01T05:16:20\", \"2021-01-01T05:28:52\", \"2021-01-01T05:45:25\", \"2021-01-01T06:09:44\", \"2021-01-01T06:15:15\", \"2021-01-01T06:23:40\", \"2021-01-01T06:25:49\", \"2021-01-01T06:29:43\", \"2021-01-01T06:51:01\", \"2021-01-01T06:53:03\", \"2021-01-01T06:53:45\", \"2021-01-01T06:57:30\", \"2021-01-01T07:12:09\", \"2021-01-01T08:15:05\", \"2021-01-01T08:51:41\", \"2021-01-01T09:37:21\", \"2021-01-01T09:44:33\", \"2021-01-01T10:09:14\", \"2021-01-01T10:11:21\", \"2021-01-01T10:30:40\", \"2021-01-01T10:34:48\", \"2021-01-01T11:03:26\", \"2021-01-01T11:04:56\", \"2021-01-01T11:23:45\", \"2021-01-01T11:45:00\", \"2021-01-01T12:00:00\", \"2021-01-01T12:00:08\", \"2021-01-01T12:30:00\", \"2021-01-01T12:36:51\", \"2021-01-01T12:37:12\", \"2021-01-01T12:56:19\", \"2021-01-01T12:58:37\", \"2021-01-01T13:04:47\", \"2021-01-01T13:18:10\", \"2021-01-01T13:23:18\", \"2021-01-01T13:30:04\", \"2021-01-01T13:47:13\", \"2021-01-01T13:54:45\", \"2021-01-01T14:43:48\", \"2021-01-01T14:45:13\", \"2021-01-01T15:07:44\", \"2021-01-01T15:28:54\", \"2021-01-01T15:46:49\", \"2021-01-01T15:57:55\", \"2021-01-01T15:59:03\", \"2021-01-01T16:03:03\", \"2021-01-01T16:24:22\", \"2021-01-01T16:46:37\", \"2021-01-01T17:04:05\", \"2021-01-01T17:15:47\", \"2021-01-01T17:25:00\", \"2021-01-01T17:39:17\", \"2021-01-01T17:46:04\", \"2021-01-01T18:45:07\", \"2021-01-01T18:59:17\", \"2021-01-01T19:43:44\", \"2021-01-01T19:48:27\", \"2021-01-01T20:12:39\", \"2021-01-01T20:45:52\", \"2021-01-01T20:51:59\", \"2021-01-01T21:22:14\", \"2021-01-01T22:06:40\", \"2021-01-01T22:16:58\", \"2021-01-01T22:46:57\", \"2021-01-01T23:14:10\", \"2021-01-01T23:37:31\", \"2021-01-02T00:25:10\", \"2021-01-02T00:32:21\", \"2021-01-02T00:53:54\", \"2021-01-02T01:08:21\", \"2021-01-02T02:05:24\", \"2021-01-02T02:08:21\", \"2021-01-02T02:24:58\", \"2021-01-02T02:52:16\", \"2021-01-02T03:04:29\", \"2021-01-02T03:13:45\", \"2021-01-02T03:19:09\", \"2021-01-02T03:24:40\", \"2021-01-02T03:37:20\", \"2021-01-02T04:50:37\", \"2021-01-02T05:19:25\", \"2021-01-02T05:25:29\", \"2021-01-02T05:35:26\", \"2021-01-02T05:41:49\", \"2021-01-02T07:02:56\", \"2021-01-02T07:11:00\", \"2021-01-02T07:19:02\", \"2021-01-02T07:57:56\", \"2021-01-02T08:35:23\", \"2021-01-02T09:14:02\", \"2021-01-02T09:14:56\", \"2021-01-02T09:35:41\", \"2021-01-02T10:44:17\", \"2021-01-02T10:50:08\", \"2021-01-02T10:51:55\", \"2021-01-02T10:52:32\", \"2021-01-02T10:58:54\", \"2021-01-02T10:58:55\", \"2021-01-02T11:03:44\", \"2021-01-02T11:19:59\", \"2021-01-02T11:33:12\", \"2021-01-02T11:49:49\", \"2021-01-02T12:21:57\", \"2021-01-02T12:23:30\", \"2021-01-02T12:49:36\", \"2021-01-02T12:52:22\", \"2021-01-02T13:35:18\", \"2021-01-02T13:44:18\", \"2021-01-02T14:17:35\", \"2021-01-02T14:24:39\", \"2021-01-02T15:31:29\", \"2021-01-02T15:32:44\", \"2021-01-02T15:53:44\", \"2021-01-02T16:21:40\", \"2021-01-02T16:26:37\", \"2021-01-02T16:41:10\", \"2021-01-02T16:47:35\", \"2021-01-02T16:53:47\", \"2021-01-02T16:59:29\", \"2021-01-02T17:06:33\", \"2021-01-02T17:17:50\", \"2021-01-02T17:34:17\", \"2021-01-02T17:39:56\", \"2021-01-02T17:55:19\", \"2021-01-02T18:15:04\", \"2021-01-02T18:22:43\", \"2021-01-02T18:35:23\", \"2021-01-02T18:37:55\", \"2021-01-02T18:43:39\", \"2021-01-02T18:44:38\", \"2021-01-02T18:47:24\", \"2021-01-02T18:54:21\", \"2021-01-02T18:59:59\", \"2021-01-02T19:57:59\", \"2021-01-02T19:58:42\", \"2021-01-02T20:21:00\", \"2021-01-02T20:29:44\", \"2021-01-02T20:46:03\", \"2021-01-02T20:46:46\", \"2021-01-02T21:13:00\", \"2021-01-02T21:35:21\", \"2021-01-02T21:48:17\", \"2021-01-02T22:06:12\", \"2021-01-02T22:13:43\", \"2021-01-02T22:20:01\", \"2021-01-02T22:36:45\", \"2021-01-02T22:52:09\", \"2021-01-02T23:02:32\", \"2021-01-02T23:38:39\", \"2021-01-03T00:26:59\", \"2021-01-03T01:02:42\", \"2021-01-03T01:33:12\", \"2021-01-03T01:56:54\", \"2021-01-03T02:29:14\", \"2021-01-03T02:47:15\", \"2021-01-03T03:52:55\", \"2021-01-03T04:27:31\", \"2021-01-03T05:10:58\", \"2021-01-03T06:00:49\", \"2021-01-03T06:19:00\", \"2021-01-03T08:36:09\", \"2021-01-03T08:44:58\", \"2021-01-03T10:01:03\", \"2021-01-03T10:02:13\", \"2021-01-03T10:09:08\", \"2021-01-03T10:40:33\", \"2021-01-03T10:52:36\", \"2021-01-03T11:38:20\", \"2021-01-03T11:49:29\", \"2021-01-03T11:51:49\", \"2021-01-03T11:53:17\", \"2021-01-03T12:10:47\", \"2021-01-03T12:56:40\", \"2021-01-03T13:10:55\", \"2021-01-03T13:14:55\", \"2021-01-03T13:20:23\", \"2021-01-03T13:27:02\", \"2021-01-03T13:27:51\", \"2021-01-03T13:50:40\", \"2021-01-03T14:07:50\", \"2021-01-03T14:38:57\", \"2021-01-03T14:40:37\", \"2021-01-03T15:01:12\", \"2021-01-03T15:05:40\", \"2021-01-03T15:07:28\", \"2021-01-03T15:17:21\", \"2021-01-03T15:17:51\", \"2021-01-03T16:01:57\", \"2021-01-03T16:17:42\", \"2021-01-03T16:41:13\", \"2021-01-03T17:22:21\", \"2021-01-03T17:36:18\", \"2021-01-03T17:55:19\", \"2021-01-03T18:15:00\", \"2021-01-03T18:32:28\", \"2021-01-03T18:39:50\", \"2021-01-03T18:48:20\", \"2021-01-03T18:56:48\", \"2021-01-03T19:10:55\", \"2021-01-03T19:20:15\", \"2021-01-03T20:56:52\", \"2021-01-03T22:09:09\", \"2021-01-03T22:20:47\", \"2021-01-03T22:50:31\", \"2021-01-03T23:21:02\", \"2021-01-04T00:23:58\", \"2021-01-04T01:24:08\", \"2021-01-04T02:27:15\", \"2021-01-04T03:48:21\", \"2021-01-04T04:16:04\", \"2021-01-04T04:44:44\", \"2021-01-04T06:03:55\", \"2021-01-04T08:33:52\", \"2021-01-04T10:16:01\", \"2021-01-04T11:42:24\", \"2021-01-04T11:54:17\", \"2021-01-04T12:24:13\", \"2021-01-04T12:50:18\", \"2021-01-04T13:28:52\", \"2021-01-04T13:30:58\", \"2021-01-04T13:35:09\", \"2021-01-04T13:53:38\", \"2021-01-04T13:57:18\", \"2021-01-04T14:15:02\", \"2021-01-04T14:24:32\", \"2021-01-04T14:30:11\", \"2021-01-04T14:31:00\", \"2021-01-04T14:37:26\", \"2021-01-04T14:48:40\", \"2021-01-04T14:57:05\", \"2021-01-04T15:08:19\", \"2021-01-04T15:30:00\", \"2021-01-04T15:33:53\", \"2021-01-04T15:34:09\", \"2021-01-04T15:42:33\", \"2021-01-04T15:59:32\", \"2021-01-04T16:06:41\", \"2021-01-04T16:12:00\", \"2021-01-04T16:19:49\", \"2021-01-04T16:33:19\", \"2021-01-04T16:41:38\", \"2021-01-04T16:43:03\", \"2021-01-04T17:01:00\", \"2021-01-04T17:10:48\", \"2021-01-04T17:17:38\", \"2021-01-04T17:20:57\", \"2021-01-04T17:25:37\", \"2021-01-04T17:37:26\", \"2021-01-04T17:48:45\", \"2021-01-04T17:49:14\", \"2021-01-04T18:00:00\", \"2021-01-04T18:15:00\", \"2021-01-04T18:16:01\", \"2021-01-04T18:50:33\", \"2021-01-04T18:52:18\", \"2021-01-04T19:03:52\", \"2021-01-04T21:02:32\", \"2021-01-04T21:02:33\", \"2021-01-04T21:10:20\", \"2021-01-04T21:13:21\", \"2021-01-04T21:15:29\", \"2021-01-04T21:20:07\", \"2021-01-04T21:52:47\", \"2021-01-04T22:08:40\", \"2021-01-04T22:17:32\", \"2021-01-04T22:33:34\", \"2021-01-04T22:34:06\", \"2021-01-04T22:34:59\", \"2021-01-04T22:42:16\", \"2021-01-04T22:48:57\", \"2021-01-04T22:49:24\", \"2021-01-04T23:20:08\", \"2021-01-04T23:25:23\", \"2021-01-04T23:27:09\", \"2021-01-04T23:36:30\", \"2021-01-04T23:37:38\", \"2021-01-04T23:44:09\", \"2021-01-05T00:08:33\", \"2021-01-05T00:51:11\", \"2021-01-05T01:06:12\", \"2021-01-05T01:13:30\", \"2021-01-05T01:14:29\", \"2021-01-05T01:18:33\", \"2021-01-05T01:21:24\", \"2021-01-05T02:01:01\", \"2021-01-05T02:52:02\", \"2021-01-05T03:11:13\", \"2021-01-05T03:34:23\", \"2021-01-05T04:15:50\", \"2021-01-05T04:20:52\", \"2021-01-05T04:25:32\", \"2021-01-05T04:55:50\", \"2021-01-05T05:10:44\", \"2021-01-05T05:19:00\", \"2021-01-05T05:42:50\", \"2021-01-05T06:19:03\", \"2021-01-05T07:08:23\", \"2021-01-05T07:20:50\", \"2021-01-05T07:41:43\", \"2021-01-05T07:52:14\", \"2021-01-05T08:00:01\", \"2021-01-05T08:05:29\", \"2021-01-05T08:35:56\", \"2021-01-05T08:45:13\", \"2021-01-05T08:48:17\", \"2021-01-05T08:52:56\", \"2021-01-05T08:53:08\", \"2021-01-05T08:57:14\", \"2021-01-05T08:57:33\", \"2021-01-05T09:00:56\", \"2021-01-05T09:18:46\", \"2021-01-05T09:20:19\", \"2021-01-05T09:28:39\", \"2021-01-05T09:33:32\", \"2021-01-05T09:56:24\", \"2021-01-05T10:07:52\", \"2021-01-05T10:16:25\", \"2021-01-05T10:26:14\", \"2021-01-05T10:35:22\", \"2021-01-05T11:17:15\", \"2021-01-05T11:51:29\", \"2021-01-05T12:32:09\", \"2021-01-05T12:35:59\", \"2021-01-05T12:48:02\", \"2021-01-05T13:02:08\", \"2021-01-05T13:12:21\", \"2021-01-05T13:26:11\", \"2021-01-05T13:33:01\", \"2021-01-05T13:57:15\", \"2021-01-05T13:58:37\", \"2021-01-05T14:15:33\", \"2021-01-05T14:33:11\", \"2021-01-05T14:38:20\", \"2021-01-05T14:38:38\", \"2021-01-05T14:38:39\", \"2021-01-05T14:40:36\", \"2021-01-05T14:47:18\", \"2021-01-05T14:56:13\", \"2021-01-05T15:08:16\", \"2021-01-05T15:55:26\", \"2021-01-05T16:16:37\", \"2021-01-05T16:27:24\", \"2021-01-05T16:28:59\", \"2021-01-05T16:41:57\", \"2021-01-05T16:44:50\", \"2021-01-05T17:01:00\", \"2021-01-05T17:11:13\", \"2021-01-05T17:20:06\", \"2021-01-05T17:21:10\", \"2021-01-05T17:23:17\", \"2021-01-05T17:25:57\", \"2021-01-05T17:31:04\", \"2021-01-05T17:40:43\", \"2021-01-05T17:42:22\", \"2021-01-05T17:42:33\", \"2021-01-05T17:47:13\", \"2021-01-05T17:47:50\", \"2021-01-05T17:51:32\", \"2021-01-05T17:56:01\", \"2021-01-05T18:03:20\", \"2021-01-05T18:07:52\", \"2021-01-05T18:10:45\", \"2021-01-05T18:16:10\", \"2021-01-05T18:28:38\", \"2021-01-05T18:29:58\", \"2021-01-05T18:59:39\", \"2021-01-05T18:59:51\", \"2021-01-05T19:01:17\", \"2021-01-05T19:15:00\", \"2021-01-05T19:22:00\", \"2021-01-05T19:35:56\", \"2021-01-05T19:46:17\", \"2021-01-05T19:46:45\", \"2021-01-05T19:57:48\", \"2021-01-05T20:05:49\", \"2021-01-05T20:08:50\", \"2021-01-05T20:20:51\", \"2021-01-05T20:43:46\", \"2021-01-05T20:51:25\", \"2021-01-05T21:19:18\", \"2021-01-05T21:37:04\", \"2021-01-05T21:37:43\", \"2021-01-05T21:58:43\", \"2021-01-05T22:31:22\", \"2021-01-05T22:32:15\", \"2021-01-05T22:40:35\", \"2021-01-05T22:40:54\", \"2021-01-05T23:13:53\", \"2021-01-06T00:05:55\", \"2021-01-06T01:01:02\", \"2021-01-06T01:40:05\", \"2021-01-06T02:14:14\", \"2021-01-06T02:23:56\", \"2021-01-06T03:49:33\", \"2021-01-06T04:10:32\", \"2021-01-06T06:35:48\", \"2021-01-06T06:36:17\", \"2021-01-06T06:58:58\", \"2021-01-06T07:03:48\", \"2021-01-06T07:05:02\", \"2021-01-06T07:10:10\", \"2021-01-06T07:13:13\", \"2021-01-06T07:35:14\", \"2021-01-06T07:50:17\", \"2021-01-06T08:59:13\", \"2021-01-06T09:24:27\", \"2021-01-06T09:48:00\", \"2021-01-06T09:51:20\", \"2021-01-06T09:51:48\", \"2021-01-06T09:51:53\", \"2021-01-06T10:06:44\", \"2021-01-06T10:25:23\", \"2021-01-06T10:28:58\", \"2021-01-06T10:46:33\", \"2021-01-06T10:48:09\", \"2021-01-06T10:54:57\", \"2021-01-06T10:58:46\", \"2021-01-06T11:13:01\", \"2021-01-06T11:13:51\", \"2021-01-06T11:51:36\", \"2021-01-06T12:05:18\", \"2021-01-06T12:12:16\", \"2021-01-06T12:16:26\", \"2021-01-06T12:18:46\", \"2021-01-06T12:27:21\", \"2021-01-06T12:43:35\", \"2021-01-06T12:46:35\", \"2021-01-06T12:50:25\", \"2021-01-06T12:51:59\", \"2021-01-06T12:53:44\", \"2021-01-06T13:05:07\", \"2021-01-06T13:09:05\", \"2021-01-06T13:11:37\", \"2021-01-06T13:17:20\", \"2021-01-06T13:24:22\", \"2021-01-06T13:24:38\", \"2021-01-06T13:31:40\", \"2021-01-06T13:33:48\", \"2021-01-06T13:48:23\", \"2021-01-06T13:53:59\", \"2021-01-06T13:56:59\", \"2021-01-06T14:12:04\", \"2021-01-06T14:20:40\", \"2021-01-06T14:25:24\", \"2021-01-06T14:29:32\", \"2021-01-06T14:34:16\", \"2021-01-06T14:57:00\", \"2021-01-06T14:58:57\", \"2021-01-06T15:02:14\", \"2021-01-06T15:14:56\", \"2021-01-06T15:15:01\", \"2021-01-06T15:16:57\", \"2021-01-06T15:26:03\", \"2021-01-06T15:27:31\", \"2021-01-06T15:55:00\", \"2021-01-06T16:00:43\", \"2021-01-06T16:04:13\", \"2021-01-06T16:16:16\", \"2021-01-06T16:17:19\", \"2021-01-06T16:17:48\", \"2021-01-06T16:19:20\", \"2021-01-06T16:20:10\", \"2021-01-06T16:25:32\", \"2021-01-06T16:33:17\", \"2021-01-06T16:50:00\", \"2021-01-06T16:56:23\", \"2021-01-06T16:57:16\", \"2021-01-06T16:59:31\", \"2021-01-06T17:00:21\", \"2021-01-06T17:08:56\", \"2021-01-06T17:20:41\", \"2021-01-06T17:21:44\", \"2021-01-06T18:15:42\", \"2021-01-06T18:18:35\", \"2021-01-06T18:32:39\", \"2021-01-06T18:34:04\", \"2021-01-06T18:47:22\", \"2021-01-06T18:50:56\", \"2021-01-06T18:54:31\", \"2021-01-06T19:05:38\", \"2021-01-06T19:16:13\", \"2021-01-06T19:26:34\", \"2021-01-06T19:29:00\", \"2021-01-06T19:31:33\", \"2021-01-06T19:45:12\", \"2021-01-06T19:46:09\", \"2021-01-06T19:48:56\", \"2021-01-06T20:18:24\", \"2021-01-06T20:25:25\", \"2021-01-06T21:13:01\", \"2021-01-06T21:25:11\", \"2021-01-06T21:42:02\", \"2021-01-06T21:51:54\", \"2021-01-06T21:59:08\", \"2021-01-06T22:46:06\", \"2021-01-06T23:07:23\", \"2021-01-06T23:16:36\", \"2021-01-06T23:20:00\", \"2021-01-06T23:29:21\", \"2021-01-06T23:42:55\", \"2021-01-07T00:03:10\", \"2021-01-07T00:50:41\", \"2021-01-07T02:04:04\", \"2021-01-07T02:37:57\", \"2021-01-07T02:52:36\", \"2021-01-07T04:39:40\", \"2021-01-07T05:22:41\", \"2021-01-07T05:25:03\", \"2021-01-07T08:02:15\", \"2021-01-07T08:55:37\", \"2021-01-07T09:06:58\", \"2021-01-07T09:43:39\", \"2021-01-07T10:05:12\", \"2021-01-07T10:40:58\", \"2021-01-07T11:37:45\", \"2021-01-07T11:57:21\", \"2021-01-07T12:49:00\", \"2021-01-07T12:51:43\", \"2021-01-07T13:09:17\", \"2021-01-07T13:58:35\", \"2021-01-07T14:42:27\", \"2021-01-07T14:53:35\", \"2021-01-07T15:01:57\", \"2021-01-07T15:05:05\", \"2021-01-07T15:06:14\", \"2021-01-07T15:15:38\", \"2021-01-07T15:17:22\", \"2021-01-07T15:23:00\", \"2021-01-07T15:23:39\", \"2021-01-07T15:30:08\", \"2021-01-07T15:33:01\", \"2021-01-07T15:37:46\", \"2021-01-07T15:40:53\", \"2021-01-07T15:47:29\", \"2021-01-07T15:49:26\", \"2021-01-07T16:02:37\", \"2021-01-07T16:03:07\", \"2021-01-07T16:22:45\", \"2021-01-07T16:37:06\", \"2021-01-07T16:44:23\", \"2021-01-07T16:44:42\", \"2021-01-07T16:46:36\", \"2021-01-07T17:03:03\", \"2021-01-07T17:20:48\", \"2021-01-07T17:22:00\", \"2021-01-07T17:36:05\", \"2021-01-07T17:51:59\", \"2021-01-07T17:56:55\", \"2021-01-07T18:25:27\", \"2021-01-07T18:31:25\", \"2021-01-07T18:38:27\", \"2021-01-07T18:43:37\", \"2021-01-07T18:53:01\", \"2021-01-07T19:00:48\", \"2021-01-07T19:14:07\", \"2021-01-07T19:22:48\", \"2021-01-07T19:27:01\", \"2021-01-07T19:39:08\", \"2021-01-07T19:40:39\", \"2021-01-07T19:46:51\", \"2021-01-07T19:56:21\", \"2021-01-07T20:02:58\", \"2021-01-07T20:39:04\", \"2021-01-07T20:53:09\", \"2021-01-07T21:06:45\", \"2021-01-07T21:15:03\", \"2021-01-07T21:16:39\", \"2021-01-07T21:19:41\", \"2021-01-07T21:26:31\", \"2021-01-07T21:40:18\", \"2021-01-07T22:48:53\", \"2021-01-07T23:03:09\", \"2021-01-07T23:08:19\", \"2021-01-07T23:23:43\", \"2021-01-07T23:24:41\", \"2021-01-07T23:58:39\", \"2021-01-08T00:02:59\", \"2021-01-08T00:04:06\", \"2021-01-08T00:07:48\", \"2021-01-08T00:14:05\", \"2021-01-08T00:15:11\", \"2021-01-08T00:17:28\", \"2021-01-08T00:34:09\", \"2021-01-08T00:39:02\", \"2021-01-08T00:54:11\", \"2021-01-08T00:56:39\", \"2021-01-08T01:27:58\", \"2021-01-08T01:33:34\", \"2021-01-08T01:43:52\", \"2021-01-08T01:45:00\", \"2021-01-08T02:24:46\", \"2021-01-08T03:26:07\", \"2021-01-08T03:26:20\", \"2021-01-08T03:38:41\", \"2021-01-08T03:45:38\", \"2021-01-08T04:09:19\", \"2021-01-08T04:10:24\", \"2021-01-08T04:41:03\", \"2021-01-08T04:42:45\", \"2021-01-08T05:10:45\", \"2021-01-08T05:28:43\", \"2021-01-08T05:29:14\", \"2021-01-08T05:37:22\", \"2021-01-08T05:43:47\", \"2021-01-08T06:05:12\", \"2021-01-08T06:16:35\", \"2021-01-08T06:17:33\", \"2021-01-08T06:35:18\", \"2021-01-08T07:12:36\", \"2021-01-08T07:41:10\", \"2021-01-08T07:54:27\", \"2021-01-08T08:00:35\", \"2021-01-08T08:02:57\", \"2021-01-08T08:12:02\", \"2021-01-08T08:25:02\", \"2021-01-08T08:33:04\", \"2021-01-08T08:49:34\", \"2021-01-08T09:00:47\", \"2021-01-08T09:05:47\", \"2021-01-08T09:06:24\", \"2021-01-08T09:13:19\", \"2021-01-08T09:15:02\", \"2021-01-08T09:20:14\", \"2021-01-08T09:26:04\", \"2021-01-08T09:26:17\", \"2021-01-08T09:28:58\", \"2021-01-08T09:30:00\", \"2021-01-08T09:33:25\", \"2021-01-08T09:37:46\", \"2021-01-08T09:39:32\", \"2021-01-08T09:40:45\", \"2021-01-08T09:46:13\", \"2021-01-08T09:47:20\", \"2021-01-08T09:48:56\", \"2021-01-08T09:53:03\", \"2021-01-08T10:14:07\", \"2021-01-08T10:22:17\", \"2021-01-08T10:32:36\", \"2021-01-08T10:34:54\", \"2021-01-08T10:43:13\", \"2021-01-08T10:50:01\", \"2021-01-08T10:52:37\", \"2021-01-08T10:53:02\", \"2021-01-08T10:56:14\", \"2021-01-08T10:56:26\", \"2021-01-08T11:05:45\", \"2021-01-08T11:11:13\", \"2021-01-08T11:15:35\", \"2021-01-08T11:52:06\", \"2021-01-08T11:58:06\", \"2021-01-08T12:07:52\", \"2021-01-08T12:12:23\", \"2021-01-08T12:21:11\", \"2021-01-08T12:21:26\", \"2021-01-08T12:22:37\", \"2021-01-08T12:24:50\", \"2021-01-08T12:25:21\", \"2021-01-08T12:28:06\", \"2021-01-08T12:30:43\", \"2021-01-08T12:35:59\", \"2021-01-08T12:36:52\", \"2021-01-08T12:42:39\", \"2021-01-08T12:53:08\", \"2021-01-08T12:53:19\", \"2021-01-08T12:57:32\", \"2021-01-08T12:59:00\", \"2021-01-08T12:59:22\", \"2021-01-08T12:59:53\", \"2021-01-08T13:03:52\", \"2021-01-08T13:04:20\", \"2021-01-08T13:04:49\", \"2021-01-08T13:07:38\", \"2021-01-08T13:11:36\", \"2021-01-08T13:14:26\", \"2021-01-08T13:15:40\", \"2021-01-08T13:16:05\", \"2021-01-08T13:22:06\", \"2021-01-08T13:27:37\", \"2021-01-08T13:29:28\", \"2021-01-08T13:34:17\", \"2021-01-08T13:37:19\", \"2021-01-08T13:37:32\", \"2021-01-08T13:58:24\", \"2021-01-08T14:00:17\", \"2021-01-08T14:05:39\", \"2021-01-08T14:11:04\", \"2021-01-08T14:13:48\", \"2021-01-08T14:13:54\", \"2021-01-08T14:21:53\", \"2021-01-08T15:04:22\", \"2021-01-08T15:15:58\", \"2021-01-08T15:30:43\", \"2021-01-08T15:31:50\", \"2021-01-08T15:40:00\", \"2021-01-08T15:41:42\", \"2021-01-08T15:48:47\", \"2021-01-08T15:53:23\", \"2021-01-08T15:54:25\", \"2021-01-08T15:55:28\", \"2021-01-08T16:02:18\", \"2021-01-08T16:04:51\", \"2021-01-08T16:09:12\", \"2021-01-08T16:14:05\", \"2021-01-08T16:14:16\", \"2021-01-08T16:14:28\", \"2021-01-08T16:14:38\", \"2021-01-08T16:15:51\", \"2021-01-08T16:20:08\", \"2021-01-08T16:20:44\", \"2021-01-08T16:21:02\", \"2021-01-08T16:32:21\", \"2021-01-08T16:45:29\", \"2021-01-08T16:45:50\", \"2021-01-08T16:47:00\", \"2021-01-08T16:53:31\", \"2021-01-08T16:53:59\", \"2021-01-08T16:58:29\", \"2021-01-08T17:03:21\", \"2021-01-08T17:11:34\", \"2021-01-08T17:14:35\", \"2021-01-08T17:17:54\", \"2021-01-08T17:21:10\", \"2021-01-08T17:21:51\", \"2021-01-08T17:25:51\", \"2021-01-08T17:29:41\", \"2021-01-08T17:31:26\", \"2021-01-08T17:42:41\", \"2021-01-08T17:46:31\", \"2021-01-08T17:47:04\", \"2021-01-08T17:47:29\", \"2021-01-08T17:48:15\", \"2021-01-08T17:48:45\", \"2021-01-08T17:52:27\", \"2021-01-08T17:54:50\", \"2021-01-08T18:00:56\", \"2021-01-08T18:05:00\", \"2021-01-08T18:05:58\", \"2021-01-08T18:14:50\", \"2021-01-08T18:15:52\", \"2021-01-08T18:18:21\", \"2021-01-08T18:23:39\", \"2021-01-08T18:35:05\", \"2021-01-08T18:40:34\", \"2021-01-08T18:45:06\", \"2021-01-08T18:49:33\", \"2021-01-08T19:14:47\", \"2021-01-08T19:17:06\", \"2021-01-08T19:23:15\", \"2021-01-08T19:28:51\", \"2021-01-08T19:39:53\", \"2021-01-08T19:40:57\", \"2021-01-08T19:42:45\", \"2021-01-08T19:45:37\", \"2021-01-08T19:48:46\", \"2021-01-08T19:48:58\", \"2021-01-08T19:53:58\", \"2021-01-08T19:54:35\", \"2021-01-08T19:57:38\", \"2021-01-08T20:02:24\", \"2021-01-08T20:15:05\", \"2021-01-08T20:15:17\", \"2021-01-08T20:34:16\", \"2021-01-08T20:50:46\", \"2021-01-08T20:57:37\", \"2021-01-08T21:00:14\", \"2021-01-08T21:02:24\", \"2021-01-08T21:02:58\", \"2021-01-08T21:09:58\", \"2021-01-08T21:13:48\", \"2021-01-08T21:15:22\", \"2021-01-08T21:16:34\", \"2021-01-08T21:18:22\", \"2021-01-08T21:24:23\", \"2021-01-08T21:33:40\", \"2021-01-08T21:35:40\", \"2021-01-08T21:36:00\", \"2021-01-08T21:37:11\", \"2021-01-08T22:02:03\", \"2021-01-08T22:08:58\", \"2021-01-08T22:09:37\", \"2021-01-08T22:11:52\", \"2021-01-08T22:14:19\", \"2021-01-08T22:35:05\", \"2021-01-08T23:14:01\", \"2021-01-08T23:15:47\", \"2021-01-08T23:42:41\", \"2021-01-09T00:01:17\", \"2021-01-09T00:06:49\", \"2021-01-09T00:16:14\", \"2021-01-09T00:33:06\", \"2021-01-09T01:00:00\", \"2021-01-09T01:00:16\", \"2021-01-09T01:22:24\", \"2021-01-09T01:34:49\", \"2021-01-09T01:47:23\", \"2021-01-09T01:56:42\", \"2021-01-09T01:57:28\", \"2021-01-09T03:32:11\", \"2021-01-09T04:30:00\", \"2021-01-09T07:03:13\", \"2021-01-09T07:51:15\", \"2021-01-09T08:00:02\", \"2021-01-09T08:04:56\", \"2021-01-09T08:28:42\", \"2021-01-09T08:33:22\", \"2021-01-09T08:34:48\", \"2021-01-09T08:35:20\", \"2021-01-09T08:36:44\", \"2021-01-09T08:40:05\", \"2021-01-09T08:52:54\", \"2021-01-09T09:41:48\", \"2021-01-09T10:21:18\", \"2021-01-09T10:24:55\", \"2021-01-09T10:27:50\", \"2021-01-09T10:57:23\", \"2021-01-09T10:58:36\", \"2021-01-09T10:59:10\", \"2021-01-09T11:03:31\", \"2021-01-09T11:07:56\", \"2021-01-09T11:10:16\", \"2021-01-09T11:14:00\", \"2021-01-09T11:17:14\", \"2021-01-09T11:18:15\", \"2021-01-09T11:26:02\", \"2021-01-09T11:26:25\", \"2021-01-09T11:31:11\", \"2021-01-09T11:33:24\", \"2021-01-09T11:43:37\", \"2021-01-09T11:47:18\", \"2021-01-09T11:50:42\", \"2021-01-09T11:51:12\", \"2021-01-09T11:55:05\", \"2021-01-09T11:59:22\", \"2021-01-09T12:08:24\", \"2021-01-09T12:16:00\", \"2021-01-09T12:31:59\", \"2021-01-09T12:39:53\", \"2021-01-09T13:03:09\", \"2021-01-09T13:24:20\", \"2021-01-09T13:29:26\", \"2021-01-09T13:30:29\", \"2021-01-09T13:31:22\", \"2021-01-09T13:38:36\", \"2021-01-09T13:40:16\", \"2021-01-09T13:41:24\", \"2021-01-09T13:44:23\", \"2021-01-09T14:03:37\", \"2021-01-09T14:05:33\", \"2021-01-09T14:06:47\", \"2021-01-09T14:10:37\", \"2021-01-09T14:15:53\", \"2021-01-09T14:22:21\", \"2021-01-09T14:28:46\", \"2021-01-09T14:39:26\", \"2021-01-09T14:40:03\", \"2021-01-09T15:00:43\", \"2021-01-09T15:10:45\", \"2021-01-09T15:13:01\", \"2021-01-09T15:13:42\", \"2021-01-09T15:14:09\", \"2021-01-09T15:15:21\", \"2021-01-09T15:24:48\", \"2021-01-09T15:31:03\", \"2021-01-09T15:49:56\", \"2021-01-09T16:01:57\", \"2021-01-09T16:08:52\", \"2021-01-09T16:09:54\", \"2021-01-09T16:15:16\", \"2021-01-09T16:16:31\", \"2021-01-09T16:25:41\", \"2021-01-09T16:26:29\", \"2021-01-09T16:39:44\", \"2021-01-09T16:43:39\", \"2021-01-09T16:44:06\", \"2021-01-09T16:44:14\", \"2021-01-09T16:50:11\", \"2021-01-09T16:52:18\", \"2021-01-09T16:52:56\", \"2021-01-09T17:11:02\", \"2021-01-09T17:12:07\", \"2021-01-09T17:13:31\", \"2021-01-09T17:31:15\", \"2021-01-09T17:36:21\", \"2021-01-09T17:37:46\", \"2021-01-09T17:39:17\", \"2021-01-09T17:42:15\", \"2021-01-09T17:57:40\", \"2021-01-09T17:57:45\", \"2021-01-09T17:59:16\", \"2021-01-09T17:59:24\", \"2021-01-09T17:59:35\", \"2021-01-09T18:05:53\", \"2021-01-09T18:07:32\", \"2021-01-09T18:18:16\", \"2021-01-09T18:19:48\", \"2021-01-09T18:23:02\", \"2021-01-09T18:24:33\", \"2021-01-09T18:27:42\", \"2021-01-09T18:27:58\", \"2021-01-09T18:30:08\", \"2021-01-09T18:35:49\", \"2021-01-09T18:45:24\", \"2021-01-09T18:45:52\", \"2021-01-09T18:47:56\", \"2021-01-09T18:48:09\", \"2021-01-09T19:00:04\", \"2021-01-09T19:01:44\", \"2021-01-09T19:11:32\", \"2021-01-09T19:12:32\", \"2021-01-09T19:15:32\", \"2021-01-09T19:20:31\", \"2021-01-09T19:40:57\", \"2021-01-09T19:41:46\", \"2021-01-09T19:52:01\", \"2021-01-09T20:01:50\", \"2021-01-09T20:20:05\", \"2021-01-09T20:20:49\", \"2021-01-09T20:26:15\", \"2021-01-09T20:27:35\", \"2021-01-09T20:32:06\", \"2021-01-09T20:36:55\", \"2021-01-09T20:38:52\", \"2021-01-09T20:41:05\", \"2021-01-09T20:46:22\", \"2021-01-09T21:02:44\", \"2021-01-09T21:13:20\", \"2021-01-09T21:24:22\", \"2021-01-09T21:24:39\", \"2021-01-09T21:28:02\", \"2021-01-09T21:29:33\", \"2021-01-09T21:31:01\", \"2021-01-09T21:31:20\", \"2021-01-09T21:35:26\", \"2021-01-09T21:43:52\", \"2021-01-09T21:47:44\", \"2021-01-09T21:48:00\", \"2021-01-09T21:57:28\", \"2021-01-09T21:58:00\", \"2021-01-09T21:59:19\", \"2021-01-09T22:07:46\", \"2021-01-09T22:09:23\", \"2021-01-09T22:09:59\", \"2021-01-09T22:11:57\", \"2021-01-09T22:16:23\", \"2021-01-09T22:25:13\", \"2021-01-09T22:35:43\", \"2021-01-09T22:38:26\", \"2021-01-09T23:26:56\", \"2021-01-09T23:33:33\", \"2021-01-09T23:34:38\", \"2021-01-09T23:37:45\", \"2021-01-09T23:44:03\", \"2021-01-09T23:47:26\", \"2021-01-09T23:49:04\", \"2021-01-09T23:51:09\", \"2021-01-09T23:52:33\", \"2021-01-10T00:03:31\", \"2021-01-10T00:04:27\", \"2021-01-10T00:06:18\", \"2021-01-10T00:11:24\", \"2021-01-10T00:28:52\", \"2021-01-10T00:46:59\", \"2021-01-10T01:08:38\", \"2021-01-10T01:35:02\", \"2021-01-10T01:38:53\", \"2021-01-10T01:58:23\", \"2021-01-10T03:12:19\", \"2021-01-10T04:09:13\", \"2021-01-10T04:53:28\", \"2021-01-10T06:20:02\", \"2021-01-10T06:22:13\", \"2021-01-10T06:37:38\", \"2021-01-10T06:40:15\", \"2021-01-10T06:48:15\", \"2021-01-10T06:49:42\", \"2021-01-10T07:15:19\", \"2021-01-10T07:16:57\", \"2021-01-10T07:21:23\", \"2021-01-10T07:30:06\", \"2021-01-10T08:49:40\", \"2021-01-10T08:50:56\", \"2021-01-10T09:18:52\", \"2021-01-10T09:27:50\", \"2021-01-10T09:58:01\", \"2021-01-10T10:04:22\", \"2021-01-10T10:18:02\", \"2021-01-10T10:31:05\", \"2021-01-10T10:35:42\", \"2021-01-10T10:43:08\", \"2021-01-10T11:08:42\", \"2021-01-10T11:29:31\", \"2021-01-10T11:38:58\", \"2021-01-10T11:41:24\", \"2021-01-10T11:54:45\", \"2021-01-10T12:11:41\", \"2021-01-10T12:18:47\", \"2021-01-10T12:23:46\", \"2021-01-10T12:24:25\", \"2021-01-10T12:32:17\", \"2021-01-10T12:33:27\", \"2021-01-10T12:35:14\", \"2021-01-10T12:37:17\", \"2021-01-10T12:43:02\", \"2021-01-10T12:47:44\", \"2021-01-10T12:54:07\", \"2021-01-10T12:58:54\", \"2021-01-10T13:11:18\", \"2021-01-10T13:17:58\", \"2021-01-10T13:18:45\", \"2021-01-10T13:19:15\", \"2021-01-10T13:21:34\", \"2021-01-10T13:23:24\", \"2021-01-10T13:24:02\", \"2021-01-10T13:25:15\", \"2021-01-10T13:42:48\", \"2021-01-10T13:47:36\", \"2021-01-10T14:02:12\", \"2021-01-10T14:20:22\", \"2021-01-10T14:35:01\", \"2021-01-10T14:45:16\", \"2021-01-10T14:46:27\", \"2021-01-10T14:57:37\", \"2021-01-10T15:05:55\", \"2021-01-10T15:10:52\", \"2021-01-10T15:19:02\", \"2021-01-10T15:30:00\", \"2021-01-10T15:32:46\", \"2021-01-10T15:33:23\", \"2021-01-10T15:50:56\", \"2021-01-10T16:47:23\", \"2021-01-10T16:53:19\", \"2021-01-10T16:54:52\", \"2021-01-10T16:57:40\", \"2021-01-10T17:00:15\", \"2021-01-10T17:12:13\", \"2021-01-10T17:16:30\", \"2021-01-10T17:25:35\", \"2021-01-10T17:42:55\", \"2021-01-10T18:12:28\", \"2021-01-10T18:15:17\", \"2021-01-10T18:19:32\", \"2021-01-10T18:21:54\", \"2021-01-10T18:27:08\", \"2021-01-10T18:30:29\", \"2021-01-10T18:32:48\", \"2021-01-10T18:48:41\", \"2021-01-10T18:49:21\", \"2021-01-10T18:51:16\", \"2021-01-10T18:58:14\", \"2021-01-10T18:59:52\", \"2021-01-10T19:10:33\", \"2021-01-10T19:11:26\", \"2021-01-10T19:13:21\", \"2021-01-10T19:13:52\", \"2021-01-10T19:13:59\", \"2021-01-10T19:20:15\", \"2021-01-10T19:33:34\", \"2021-01-10T19:45:05\", \"2021-01-10T20:11:33\", \"2021-01-10T20:19:33\", \"2021-01-10T20:38:37\", \"2021-01-10T20:38:49\", \"2021-01-10T21:00:15\", \"2021-01-10T21:03:34\", \"2021-01-10T21:09:22\", \"2021-01-10T21:14:02\", \"2021-01-10T21:59:14\", \"2021-01-10T22:01:23\", \"2021-01-10T22:10:54\", \"2021-01-10T22:20:27\", \"2021-01-10T22:51:03\", \"2021-01-10T23:06:09\", \"2021-01-10T23:07:06\", \"2021-01-10T23:20:59\", \"2021-01-11T00:28:35\", \"2021-01-11T00:54:47\", \"2021-01-11T01:20:06\", \"2021-01-11T02:37:14\", \"2021-01-11T02:41:25\", \"2021-01-11T02:44:08\", \"2021-01-11T02:46:13\", \"2021-01-11T02:53:32\", \"2021-01-11T02:58:11\", \"2021-01-11T04:25:14\", \"2021-01-11T06:48:40\", \"2021-01-11T08:23:08\", \"2021-01-11T08:27:55\", \"2021-01-11T08:50:56\", \"2021-01-11T08:54:24\", \"2021-01-11T09:16:38\", \"2021-01-11T09:33:26\", \"2021-01-11T09:36:16\", \"2021-01-11T09:55:14\", \"2021-01-11T09:59:41\", \"2021-01-11T10:05:47\", \"2021-01-11T10:06:08\", \"2021-01-11T11:10:37\", \"2021-01-11T11:43:02\", \"2021-01-11T11:49:10\", \"2021-01-11T12:02:48\", \"2021-01-11T12:08:16\", \"2021-01-11T12:08:35\", \"2021-01-11T12:09:01\", \"2021-01-11T12:13:09\", \"2021-01-11T12:13:14\", \"2021-01-11T12:18:35\", \"2021-01-11T12:35:34\", \"2021-01-11T12:51:14\", \"2021-01-11T13:06:43\", \"2021-01-11T13:22:57\", \"2021-01-11T13:42:51\", \"2021-01-11T14:12:15\", \"2021-01-11T15:04:30\", \"2021-01-11T15:05:16\", \"2021-01-11T15:10:00\", \"2021-01-11T15:17:14\", \"2021-01-11T15:23:51\", \"2021-01-11T15:25:51\", \"2021-01-11T15:26:51\", \"2021-01-11T15:38:12\", \"2021-01-11T15:40:25\", \"2021-01-11T15:42:22\", \"2021-01-11T15:53:59\", \"2021-01-11T16:31:00\", \"2021-01-11T16:34:40\", \"2021-01-11T17:17:39\", \"2021-01-11T17:22:22\", \"2021-01-11T17:29:20\", \"2021-01-11T17:32:49\", \"2021-01-11T17:33:55\", \"2021-01-11T17:34:09\", \"2021-01-11T17:40:16\", \"2021-01-11T17:53:10\", \"2021-01-11T17:55:44\", \"2021-01-11T17:58:03\", \"2021-01-11T17:59:33\", \"2021-01-11T18:28:26\", \"2021-01-11T18:33:27\", \"2021-01-11T18:33:48\", \"2021-01-11T18:42:12\", \"2021-01-11T18:42:34\", \"2021-01-11T18:47:09\", \"2021-01-11T18:53:40\", \"2021-01-11T19:12:01\", \"2021-01-11T19:15:00\", \"2021-01-11T19:28:01\", \"2021-01-11T19:30:04\", \"2021-01-11T19:31:22\", \"2021-01-11T19:35:40\", \"2021-01-11T19:36:42\", \"2021-01-11T19:37:22\", \"2021-01-11T19:40:03\", \"2021-01-11T19:44:00\", \"2021-01-11T20:04:43\", \"2021-01-11T20:09:25\", \"2021-01-11T20:23:10\", \"2021-01-11T20:23:31\", \"2021-01-11T21:13:12\", \"2021-01-11T21:14:14\", \"2021-01-11T21:23:04\", \"2021-01-11T21:31:41\", \"2021-01-11T21:45:22\", \"2021-01-11T22:21:54\", \"2021-01-11T22:45:56\", \"2021-01-11T23:03:31\", \"2021-01-11T23:52:23\", \"2021-01-12T00:04:10\", \"2021-01-12T00:09:07\", \"2021-01-12T00:16:36\", \"2021-01-12T00:20:29\", \"2021-01-12T02:44:46\", \"2021-01-12T03:01:11\", \"2021-01-12T03:29:33\", \"2021-01-12T05:27:11\", \"2021-01-12T06:15:58\", \"2021-01-12T06:17:13\", \"2021-01-12T06:17:44\", \"2021-01-12T06:18:12\", \"2021-01-12T07:01:58\", \"2021-01-12T07:10:21\", \"2021-01-12T07:13:44\", \"2021-01-12T07:55:02\", \"2021-01-12T07:59:15\", \"2021-01-12T08:48:01\", \"2021-01-12T08:48:40\", \"2021-01-12T09:04:18\", \"2021-01-12T09:05:58\", \"2021-01-12T09:18:36\", \"2021-01-12T09:19:50\", \"2021-01-12T09:35:25\", \"2021-01-12T09:51:00\", \"2021-01-12T09:57:59\", \"2021-01-12T09:59:03\", \"2021-01-12T10:10:10\", \"2021-01-12T10:13:53\", \"2021-01-12T10:16:08\", \"2021-01-12T10:20:30\", \"2021-01-12T10:46:45\", \"2021-01-12T10:47:32\", \"2021-01-12T10:53:58\", \"2021-01-12T11:02:50\", \"2021-01-12T11:08:19\", \"2021-01-12T11:36:22\", \"2021-01-12T12:36:55\", \"2021-01-12T12:36:58\", \"2021-01-12T12:47:41\", \"2021-01-12T13:04:15\", \"2021-01-12T13:12:40\", \"2021-01-12T13:24:20\", \"2021-01-12T13:30:00\", \"2021-01-12T14:06:44\", \"2021-01-12T15:36:10\", \"2021-01-12T16:03:24\", \"2021-01-12T16:12:54\", \"2021-01-12T16:25:45\", \"2021-01-12T16:59:39\", \"2021-01-12T17:04:43\", \"2021-01-12T17:07:13\", \"2021-01-12T17:09:20\", \"2021-01-12T17:28:43\", \"2021-01-12T17:31:58\", \"2021-01-12T17:36:32\", \"2021-01-12T17:39:20\", \"2021-01-12T17:42:51\", \"2021-01-12T17:46:20\", \"2021-01-12T18:12:39\", \"2021-01-12T18:13:10\", \"2021-01-12T18:15:11\", \"2021-01-12T18:20:40\", \"2021-01-12T18:29:56\", \"2021-01-12T18:31:19\", \"2021-01-12T18:56:03\", \"2021-01-12T18:59:02\", \"2021-01-12T19:06:10\", \"2021-01-12T19:10:37\", \"2021-01-12T19:11:52\", \"2021-01-12T19:14:09\", \"2021-01-12T19:19:33\", \"2021-01-12T19:41:53\", \"2021-01-12T19:45:05\", \"2021-01-12T19:49:56\", \"2021-01-12T19:58:13\", \"2021-01-12T20:03:44\", \"2021-01-12T20:04:49\", \"2021-01-12T20:06:24\", \"2021-01-12T20:23:03\", \"2021-01-12T20:25:44\", \"2021-01-12T20:31:03\", \"2021-01-12T20:33:44\", \"2021-01-12T20:40:25\", \"2021-01-12T20:43:33\", \"2021-01-12T20:49:51\", \"2021-01-12T20:51:57\", \"2021-01-12T21:02:50\", \"2021-01-12T21:20:44\", \"2021-01-12T21:24:28\", \"2021-01-12T21:25:54\", \"2021-01-12T21:28:39\", \"2021-01-12T21:29:36\", \"2021-01-12T21:42:18\", \"2021-01-12T21:47:03\", \"2021-01-12T21:57:47\", \"2021-01-12T22:10:36\", \"2021-01-12T22:14:00\", \"2021-01-12T22:16:17\", \"2021-01-12T22:19:09\", \"2021-01-12T22:20:13\", \"2021-01-12T22:26:31\", \"2021-01-12T22:29:14\", \"2021-01-12T23:00:48\", \"2021-01-12T23:27:20\", \"2021-01-12T23:55:18\", \"2021-01-13T00:00:08\", \"2021-01-13T00:17:55\", \"2021-01-13T01:03:23\", \"2021-01-13T01:30:05\", \"2021-01-13T01:31:46\", \"2021-01-13T01:43:58\", \"2021-01-13T01:49:58\", \"2021-01-13T01:52:16\", \"2021-01-13T02:05:16\", \"2021-01-13T02:15:07\", \"2021-01-13T02:24:32\", \"2021-01-13T02:48:17\", \"2021-01-13T02:49:28\", \"2021-01-13T02:55:53\", \"2021-01-13T03:02:40\", \"2021-01-13T03:52:07\", \"2021-01-13T03:57:22\", \"2021-01-13T04:45:10\", \"2021-01-13T05:07:53\", \"2021-01-13T06:27:23\", \"2021-01-13T07:11:16\", \"2021-01-13T07:29:30\", \"2021-01-13T08:26:02\", \"2021-01-13T08:32:53\", \"2021-01-13T08:44:00\", \"2021-01-13T09:06:12\", \"2021-01-13T10:17:12\", \"2021-01-13T10:19:35\", \"2021-01-13T10:51:49\", \"2021-01-13T11:08:11\", \"2021-01-13T11:09:54\", \"2021-01-13T11:15:41\", \"2021-01-13T12:00:07\", \"2021-01-13T12:09:30\", \"2021-01-13T12:15:09\", \"2021-01-13T12:16:26\", \"2021-01-13T12:16:47\", \"2021-01-13T12:19:58\", \"2021-01-13T12:20:19\", \"2021-01-13T12:21:27\", \"2021-01-13T12:23:48\", \"2021-01-13T12:23:52\", \"2021-01-13T12:27:05\", \"2021-01-13T12:28:32\", \"2021-01-13T12:34:45\", \"2021-01-13T12:40:48\", \"2021-01-13T12:40:56\", \"2021-01-13T12:51:29\", \"2021-01-13T12:56:57\", \"2021-01-13T13:03:38\", \"2021-01-13T13:11:37\", \"2021-01-13T13:12:38\", \"2021-01-13T13:44:00\", \"2021-01-13T13:59:35\", \"2021-01-13T14:01:46\", \"2021-01-13T14:09:00\", \"2021-01-13T14:17:21\", \"2021-01-13T14:25:26\", \"2021-01-13T14:46:05\", \"2021-01-13T15:05:58\", \"2021-01-13T15:07:05\", \"2021-01-13T15:16:23\", \"2021-01-13T15:30:00\", \"2021-01-13T15:32:47\", \"2021-01-13T15:39:31\", \"2021-01-13T15:50:47\", \"2021-01-13T16:01:22\", \"2021-01-13T16:03:19\", \"2021-01-13T16:06:03\", \"2021-01-13T16:13:43\", \"2021-01-13T16:35:33\", \"2021-01-13T17:02:17\", \"2021-01-13T17:22:24\", \"2021-01-13T17:23:23\", \"2021-01-13T17:32:37\", \"2021-01-13T17:33:10\", \"2021-01-13T17:35:20\", \"2021-01-13T17:36:31\", \"2021-01-13T17:38:54\", \"2021-01-13T17:43:15\", \"2021-01-13T17:44:13\", \"2021-01-13T17:47:26\", \"2021-01-13T17:47:38\", \"2021-01-13T17:54:20\", \"2021-01-13T18:01:47\", \"2021-01-13T18:03:09\", \"2021-01-13T18:05:51\", \"2021-01-13T18:17:44\", \"2021-01-13T18:19:34\", \"2021-01-13T18:37:14\", \"2021-01-13T18:52:56\", \"2021-01-13T18:55:21\", \"2021-01-13T19:04:47\", \"2021-01-13T19:18:15\", \"2021-01-13T19:26:08\", \"2021-01-13T20:09:23\", \"2021-01-13T20:20:55\", \"2021-01-13T20:47:13\", \"2021-01-13T20:49:13\", \"2021-01-13T20:52:09\", \"2021-01-13T21:03:15\", \"2021-01-13T21:04:45\", \"2021-01-13T21:05:24\", \"2021-01-13T21:30:41\", \"2021-01-13T21:32:07\", \"2021-01-13T21:40:21\", \"2021-01-13T21:58:18\", \"2021-01-13T22:45:48\", \"2021-01-13T22:52:46\", \"2021-01-13T23:17:57\", \"2021-01-13T23:43:58\", \"2021-01-14T00:13:00\", \"2021-01-14T01:22:02\", \"2021-01-14T02:12:59\", \"2021-01-14T02:52:23\", \"2021-01-14T04:03:26\", \"2021-01-14T04:38:04\", \"2021-01-14T05:13:40\", \"2021-01-14T05:24:42\", \"2021-01-14T06:23:50\", \"2021-01-14T06:51:33\", \"2021-01-14T07:21:04\", \"2021-01-14T07:31:42\", \"2021-01-14T07:52:32\", \"2021-01-14T08:08:30\", \"2021-01-14T08:13:18\", \"2021-01-14T08:19:52\", \"2021-01-14T08:32:53\", \"2021-01-14T08:37:38\", \"2021-01-14T08:43:48\", \"2021-01-14T09:36:48\", \"2021-01-14T10:37:26\", \"2021-01-14T10:40:44\", \"2021-01-14T11:32:43\", \"2021-01-14T11:38:26\", \"2021-01-14T11:55:07\", \"2021-01-14T12:38:45\", \"2021-01-14T13:03:30\", \"2021-01-14T13:09:56\", \"2021-01-14T13:40:36\", \"2021-01-14T13:42:22\", \"2021-01-14T14:10:00\", \"2021-01-14T14:22:31\", \"2021-01-14T14:25:39\", \"2021-01-14T14:28:09\", \"2021-01-14T14:28:51\", \"2021-01-14T14:30:48\", \"2021-01-14T14:35:33\", \"2021-01-14T14:35:34\", \"2021-01-14T14:47:53\", \"2021-01-14T15:21:05\", \"2021-01-14T15:27:42\", \"2021-01-14T15:30:08\", \"2021-01-14T15:40:11\", \"2021-01-14T15:45:38\", \"2021-01-14T15:45:53\", \"2021-01-14T15:47:20\", \"2021-01-14T15:49:05\", \"2021-01-14T15:50:12\", \"2021-01-14T15:54:07\", \"2021-01-14T15:57:39\", \"2021-01-14T16:03:36\", \"2021-01-14T16:18:53\", \"2021-01-14T16:22:06\", \"2021-01-14T16:24:14\", \"2021-01-14T16:37:53\", \"2021-01-14T16:39:51\", \"2021-01-14T16:43:00\", \"2021-01-14T16:46:25\", \"2021-01-14T16:49:47\", \"2021-01-14T16:51:51\", \"2021-01-14T16:52:23\", \"2021-01-14T16:58:13\", \"2021-01-14T17:04:59\", \"2021-01-14T17:05:42\", \"2021-01-14T17:07:13\", \"2021-01-14T17:16:12\", \"2021-01-14T17:17:56\", \"2021-01-14T17:35:31\", \"2021-01-14T17:40:10\", \"2021-01-14T17:43:04\", \"2021-01-14T17:43:44\", \"2021-01-14T17:48:11\", \"2021-01-14T18:02:31\", \"2021-01-14T18:07:01\", \"2021-01-14T18:24:49\", \"2021-01-14T18:51:56\", \"2021-01-14T19:08:03\", \"2021-01-14T19:18:09\", \"2021-01-14T19:20:51\", \"2021-01-14T19:25:08\", \"2021-01-14T19:27:19\", \"2021-01-14T19:27:29\", \"2021-01-14T19:50:24\", \"2021-01-14T19:52:07\", \"2021-01-14T20:13:41\", \"2021-01-14T20:29:10\", \"2021-01-14T20:41:00\", \"2021-01-14T20:41:31\", \"2021-01-14T20:49:46\", \"2021-01-14T20:51:19\", \"2021-01-14T20:58:17\", \"2021-01-14T21:07:09\", \"2021-01-14T21:15:55\", \"2021-01-14T21:21:08\", \"2021-01-14T21:24:06\", \"2021-01-14T21:40:34\", \"2021-01-14T22:09:27\", \"2021-01-14T22:31:59\", \"2021-01-14T22:33:49\", \"2021-01-14T22:43:00\", \"2021-01-14T23:00:43\", \"2021-01-14T23:11:55\", \"2021-01-14T23:18:06\", \"2021-01-14T23:46:43\", \"2021-01-14T23:51:42\", \"2021-01-14T23:58:48\", \"2021-01-15T00:07:27\", \"2021-01-15T00:11:54\", \"2021-01-15T00:22:12\", \"2021-01-15T00:26:37\", \"2021-01-15T00:56:22\", \"2021-01-15T01:04:23\", \"2021-01-15T01:16:05\", \"2021-01-15T01:19:15\", \"2021-01-15T01:22:28\", \"2021-01-15T01:30:19\", \"2021-01-15T02:25:55\", \"2021-01-15T02:34:01\", \"2021-01-15T02:40:23\", \"2021-01-15T03:27:08\", \"2021-01-15T03:33:20\", \"2021-01-15T03:46:08\", \"2021-01-15T04:07:57\", \"2021-01-15T05:31:19\", \"2021-01-15T06:04:28\", \"2021-01-15T06:18:44\", \"2021-01-15T06:24:33\", \"2021-01-15T07:11:53\", \"2021-01-15T07:46:39\", \"2021-01-15T08:02:35\", \"2021-01-15T08:03:18\", \"2021-01-15T08:03:40\", \"2021-01-15T08:04:20\", \"2021-01-15T08:24:00\", \"2021-01-15T08:48:36\", \"2021-01-15T09:12:22\", \"2021-01-15T09:37:43\", \"2021-01-15T10:12:24\", \"2021-01-15T10:21:42\", \"2021-01-15T10:30:44\", \"2021-01-15T10:37:51\", \"2021-01-15T10:48:37\", \"2021-01-15T10:50:50\", \"2021-01-15T10:56:26\", \"2021-01-15T11:02:43\", \"2021-01-15T12:06:30\", \"2021-01-15T12:12:49\", \"2021-01-15T12:25:23\", \"2021-01-15T12:30:32\", \"2021-01-15T12:40:28\", \"2021-01-15T12:41:07\", \"2021-01-15T12:47:15\", \"2021-01-15T12:48:46\", \"2021-01-15T13:10:06\", \"2021-01-15T13:10:25\", \"2021-01-15T13:13:36\", \"2021-01-15T13:20:23\", \"2021-01-15T13:20:44\", \"2021-01-15T13:29:55\", \"2021-01-15T13:32:16\", \"2021-01-15T13:36:45\", \"2021-01-15T13:45:04\", \"2021-01-15T13:46:05\", \"2021-01-15T14:00:50\", \"2021-01-15T14:04:45\", \"2021-01-15T14:13:01\", \"2021-01-15T14:24:20\", \"2021-01-15T14:26:05\", \"2021-01-15T14:27:55\", \"2021-01-15T14:38:30\", \"2021-01-15T14:47:24\", \"2021-01-15T14:48:00\", \"2021-01-15T14:52:06\", \"2021-01-15T15:06:09\", \"2021-01-15T15:14:47\", \"2021-01-15T15:17:52\", \"2021-01-15T15:21:35\", \"2021-01-15T15:24:58\", \"2021-01-15T15:32:33\", \"2021-01-15T15:33:23\", \"2021-01-15T15:35:07\", \"2021-01-15T15:51:38\", \"2021-01-15T16:10:53\", \"2021-01-15T16:11:17\", \"2021-01-15T16:13:32\", \"2021-01-15T16:19:49\", \"2021-01-15T16:28:56\", \"2021-01-15T16:41:37\", \"2021-01-15T16:44:35\", \"2021-01-15T16:47:52\", \"2021-01-15T16:54:15\", \"2021-01-15T16:55:26\", \"2021-01-15T16:57:31\", \"2021-01-15T16:58:44\", \"2021-01-15T17:00:27\", \"2021-01-15T17:00:28\", \"2021-01-15T17:05:59\", \"2021-01-15T17:08:01\", \"2021-01-15T17:10:49\", \"2021-01-15T17:12:55\", \"2021-01-15T17:15:39\", \"2021-01-15T17:22:04\", \"2021-01-15T17:23:04\", \"2021-01-15T17:26:07\", \"2021-01-15T17:34:28\", \"2021-01-15T17:36:42\", \"2021-01-15T17:40:37\", \"2021-01-15T17:40:50\", \"2021-01-15T17:52:01\", \"2021-01-15T17:57:03\", \"2021-01-15T17:58:31\", \"2021-01-15T18:01:07\", \"2021-01-15T18:05:16\", \"2021-01-15T18:13:12\", \"2021-01-15T18:15:07\", \"2021-01-15T18:25:23\", \"2021-01-15T18:53:57\", \"2021-01-15T18:54:19\", \"2021-01-15T18:56:56\", \"2021-01-15T19:01:53\", \"2021-01-15T19:16:25\", \"2021-01-15T19:34:20\", \"2021-01-15T19:59:00\", \"2021-01-15T20:08:03\", \"2021-01-15T20:09:28\", \"2021-01-15T20:09:49\", \"2021-01-15T20:21:33\", \"2021-01-15T20:22:44\", \"2021-01-15T20:40:49\", \"2021-01-15T20:44:10\", \"2021-01-15T20:50:35\", \"2021-01-15T20:52:42\", \"2021-01-15T20:57:18\", \"2021-01-15T20:58:45\", \"2021-01-15T21:14:15\", \"2021-01-15T21:16:15\", \"2021-01-15T21:17:54\", \"2021-01-15T21:18:41\", \"2021-01-15T21:21:12\", \"2021-01-15T21:24:09\", \"2021-01-15T21:26:51\", \"2021-01-15T21:29:13\", \"2021-01-15T21:55:45\", \"2021-01-15T22:00:35\", \"2021-01-15T22:08:49\", \"2021-01-15T22:53:45\", \"2021-01-15T23:07:25\", \"2021-01-15T23:13:17\", \"2021-01-15T23:18:32\", \"2021-01-15T23:32:44\", \"2021-01-15T23:39:24\", \"2021-01-15T23:41:00\", \"2021-01-15T23:59:20\", \"2021-01-16T00:03:12\", \"2021-01-16T00:21:22\", \"2021-01-16T00:43:09\", \"2021-01-16T00:44:03\", \"2021-01-16T01:06:55\", \"2021-01-16T01:07:19\", \"2021-01-16T02:18:20\", \"2021-01-16T02:25:50\", \"2021-01-16T03:02:45\", \"2021-01-16T03:47:04\", \"2021-01-16T03:50:43\", \"2021-01-16T04:19:47\", \"2021-01-16T04:21:01\", \"2021-01-16T05:05:11\", \"2021-01-16T05:05:14\", \"2021-01-16T05:23:25\", \"2021-01-16T05:27:12\", \"2021-01-16T05:46:34\", \"2021-01-16T05:47:45\", \"2021-01-16T06:10:24\", \"2021-01-16T06:14:17\", \"2021-01-16T06:31:09\", \"2021-01-16T07:07:05\", \"2021-01-16T07:18:14\", \"2021-01-16T07:21:19\", \"2021-01-16T07:30:11\", \"2021-01-16T07:30:14\", \"2021-01-16T07:46:06\", \"2021-01-16T07:48:12\", \"2021-01-16T07:50:21\", \"2021-01-16T08:19:04\", \"2021-01-16T08:31:10\", \"2021-01-16T08:32:48\", \"2021-01-16T09:01:28\", \"2021-01-16T09:20:51\", \"2021-01-16T09:30:00\", \"2021-01-16T09:36:18\", \"2021-01-16T09:44:07\", \"2021-01-16T09:44:45\", \"2021-01-16T09:57:52\", \"2021-01-16T10:04:54\", \"2021-01-16T10:07:35\", \"2021-01-16T10:14:51\", \"2021-01-16T10:39:34\", \"2021-01-16T10:45:30\", \"2021-01-16T10:53:41\", \"2021-01-16T10:55:51\", \"2021-01-16T11:06:20\", \"2021-01-16T11:08:47\", \"2021-01-16T11:11:10\", \"2021-01-16T11:14:29\", \"2021-01-16T11:14:49\", \"2021-01-16T11:20:02\", \"2021-01-16T11:28:43\", \"2021-01-16T11:42:56\", \"2021-01-16T11:43:09\", \"2021-01-16T11:48:21\", \"2021-01-16T11:49:37\", \"2021-01-16T12:41:09\", \"2021-01-16T13:00:25\", \"2021-01-16T13:04:00\", \"2021-01-16T13:04:23\", \"2021-01-16T13:07:21\", \"2021-01-16T13:09:43\", \"2021-01-16T13:16:59\", \"2021-01-16T13:21:30\", \"2021-01-16T13:24:00\", \"2021-01-16T13:26:45\", \"2021-01-16T13:35:14\", \"2021-01-16T13:42:40\", \"2021-01-16T13:55:43\", \"2021-01-16T13:56:25\", \"2021-01-16T14:00:01\", \"2021-01-16T14:04:29\", \"2021-01-16T14:13:23\", \"2021-01-16T14:16:45\", \"2021-01-16T14:24:23\", \"2021-01-16T14:30:42\", \"2021-01-16T14:47:27\", \"2021-01-16T15:12:15\", \"2021-01-16T15:13:30\", \"2021-01-16T15:18:06\", \"2021-01-16T15:49:41\", \"2021-01-16T15:53:13\", \"2021-01-16T16:10:26\", \"2021-01-16T16:15:13\", \"2021-01-16T16:24:39\", \"2021-01-16T16:31:52\", \"2021-01-16T16:37:43\", \"2021-01-16T16:38:22\", \"2021-01-16T16:43:39\", \"2021-01-16T17:03:32\", \"2021-01-16T17:07:11\", \"2021-01-16T17:10:33\", \"2021-01-16T17:14:21\", \"2021-01-16T17:16:51\", \"2021-01-16T17:36:40\", \"2021-01-16T17:37:49\", \"2021-01-16T17:38:07\", \"2021-01-16T17:44:37\", \"2021-01-16T17:56:04\", \"2021-01-16T18:06:32\", \"2021-01-16T18:17:55\", \"2021-01-16T18:25:37\", \"2021-01-16T18:38:36\", \"2021-01-16T18:39:28\", \"2021-01-16T18:45:59\", \"2021-01-16T18:46:13\", \"2021-01-16T18:48:19\", \"2021-01-16T18:49:22\", \"2021-01-16T18:50:21\", \"2021-01-16T19:01:12\", \"2021-01-16T19:03:26\", \"2021-01-16T19:11:47\", \"2021-01-16T19:21:10\", \"2021-01-16T19:32:38\", \"2021-01-16T20:06:05\", \"2021-01-16T20:10:00\", \"2021-01-16T21:06:46\", \"2021-01-16T21:21:46\", \"2021-01-16T21:39:57\", \"2021-01-16T21:49:15\", \"2021-01-16T21:53:29\", \"2021-01-16T22:23:42\", \"2021-01-16T22:37:06\", \"2021-01-16T22:48:45\", \"2021-01-16T22:58:41\", \"2021-01-16T23:06:55\", \"2021-01-16T23:07:46\", \"2021-01-17T00:00:31\", \"2021-01-17T00:02:14\", \"2021-01-17T00:14:52\", \"2021-01-17T02:03:42\", \"2021-01-17T03:14:24\", \"2021-01-17T03:24:10\", \"2021-01-17T04:25:16\", \"2021-01-17T04:28:33\", \"2021-01-17T04:44:04\", \"2021-01-17T05:12:06\", \"2021-01-17T05:21:14\", \"2021-01-17T05:27:19\", \"2021-01-17T06:11:07\", \"2021-01-17T06:30:00\", \"2021-01-17T06:51:21\", \"2021-01-17T07:16:42\", \"2021-01-17T07:35:13\", \"2021-01-17T08:16:28\", \"2021-01-17T08:19:09\", \"2021-01-17T08:32:28\", \"2021-01-17T08:47:37\", \"2021-01-17T09:01:28\", \"2021-01-17T09:01:36\", \"2021-01-17T09:18:34\", \"2021-01-17T09:19:48\", \"2021-01-17T09:28:30\", \"2021-01-17T09:44:46\", \"2021-01-17T09:49:45\", \"2021-01-17T10:10:48\", \"2021-01-17T10:11:06\", \"2021-01-17T10:17:22\", \"2021-01-17T10:27:13\", \"2021-01-17T10:28:48\", \"2021-01-17T10:45:32\", \"2021-01-17T10:50:41\", \"2021-01-17T10:52:42\", \"2021-01-17T11:05:56\", \"2021-01-17T11:14:32\", \"2021-01-17T11:29:42\", \"2021-01-17T11:32:18\", \"2021-01-17T11:49:16\", \"2021-01-17T11:57:29\", \"2021-01-17T12:03:30\", \"2021-01-17T12:16:40\", \"2021-01-17T12:37:07\", \"2021-01-17T12:42:46\", \"2021-01-17T12:44:20\", \"2021-01-17T12:46:44\", \"2021-01-17T13:23:15\", \"2021-01-17T13:29:00\", \"2021-01-17T13:36:16\", \"2021-01-17T13:54:57\", \"2021-01-17T13:55:00\", \"2021-01-17T14:07:11\", \"2021-01-17T14:07:41\", \"2021-01-17T14:17:54\", \"2021-01-17T14:18:42\", \"2021-01-17T14:41:21\", \"2021-01-17T14:54:16\", \"2021-01-17T15:00:38\", \"2021-01-17T15:21:45\", \"2021-01-17T15:25:54\", \"2021-01-17T15:33:02\", \"2021-01-17T15:39:00\", \"2021-01-17T16:09:41\", \"2021-01-17T16:30:56\", \"2021-01-17T16:33:47\", \"2021-01-17T16:34:49\", \"2021-01-17T16:37:55\", \"2021-01-17T16:57:10\", \"2021-01-17T16:58:46\", \"2021-01-17T17:01:03\", \"2021-01-17T17:03:49\", \"2021-01-17T17:05:43\", \"2021-01-17T17:07:24\", \"2021-01-17T17:08:34\", \"2021-01-17T17:13:25\", \"2021-01-17T17:30:39\", \"2021-01-17T17:41:04\", \"2021-01-17T17:41:20\", \"2021-01-17T17:42:20\", \"2021-01-17T18:15:43\", \"2021-01-17T18:17:28\", \"2021-01-17T18:34:29\", \"2021-01-17T18:57:02\", \"2021-01-17T18:57:21\", \"2021-01-17T19:20:02\", \"2021-01-17T19:36:42\", \"2021-01-17T19:42:55\", \"2021-01-17T19:51:15\", \"2021-01-17T20:02:16\", \"2021-01-17T20:02:32\", \"2021-01-17T20:21:26\", \"2021-01-17T20:36:00\", \"2021-01-17T20:54:27\", \"2021-01-17T21:06:37\", \"2021-01-17T22:09:40\", \"2021-01-17T22:38:22\", \"2021-01-17T23:42:30\", \"2021-01-18T00:52:22\", \"2021-01-18T02:38:42\", \"2021-01-18T03:30:00\", \"2021-01-18T04:00:03\", \"2021-01-18T04:35:36\", \"2021-01-18T04:43:21\", \"2021-01-18T05:29:41\", \"2021-01-18T05:32:32\", \"2021-01-18T06:04:15\", \"2021-01-18T06:08:49\", \"2021-01-18T06:16:06\", \"2021-01-18T06:22:48\", \"2021-01-18T06:54:10\", \"2021-01-18T07:13:21\", \"2021-01-18T07:54:12\", \"2021-01-18T08:08:05\", \"2021-01-18T08:13:46\", \"2021-01-18T08:29:07\", \"2021-01-18T09:03:51\", \"2021-01-18T09:24:51\", \"2021-01-18T09:39:07\", \"2021-01-18T09:57:54\", \"2021-01-18T10:18:02\", \"2021-01-18T10:29:09\", \"2021-01-18T10:53:54\", \"2021-01-18T10:58:58\", \"2021-01-18T11:19:15\", \"2021-01-18T11:23:41\", \"2021-01-18T11:24:06\", \"2021-01-18T11:28:59\", \"2021-01-18T11:29:15\", \"2021-01-18T11:32:30\", \"2021-01-18T13:00:36\", \"2021-01-18T13:40:29\", \"2021-01-18T13:45:33\", \"2021-01-18T14:11:03\", \"2021-01-18T14:20:04\", \"2021-01-18T15:25:45\", \"2021-01-18T15:39:25\", \"2021-01-18T15:52:27\", \"2021-01-18T15:53:18\", \"2021-01-18T16:22:04\", \"2021-01-18T16:32:29\", \"2021-01-18T16:40:17\", \"2021-01-18T16:41:41\", \"2021-01-18T16:49:11\", \"2021-01-18T16:59:24\", \"2021-01-18T17:11:54\", \"2021-01-18T17:15:32\", \"2021-01-18T17:19:33\", \"2021-01-18T17:22:18\", \"2021-01-18T17:27:35\", \"2021-01-18T17:46:27\", \"2021-01-18T18:11:13\", \"2021-01-18T18:27:12\", \"2021-01-18T19:40:01\", \"2021-01-18T20:00:17\", \"2021-01-18T20:15:00\", \"2021-01-18T20:21:43\", \"2021-01-18T21:18:03\", \"2021-01-18T21:33:22\", \"2021-01-18T21:47:25\", \"2021-01-18T22:17:01\", \"2021-01-18T22:30:18\", \"2021-01-18T22:30:32\", \"2021-01-18T22:42:16\", \"2021-01-19T01:31:43\", \"2021-01-19T02:20:14\", \"2021-01-19T02:58:39\", \"2021-01-19T03:00:36\", \"2021-01-19T03:34:30\", \"2021-01-19T03:55:49\", \"2021-01-19T04:05:56\", \"2021-01-19T04:20:02\", \"2021-01-19T04:33:58\", \"2021-01-19T04:39:50\", \"2021-01-19T05:44:08\", \"2021-01-19T06:08:43\", \"2021-01-19T07:46:23\", \"2021-01-19T08:14:04\", \"2021-01-19T09:03:50\", \"2021-01-19T09:33:13\", \"2021-01-19T09:47:05\", \"2021-01-19T10:18:24\", \"2021-01-19T10:18:27\", \"2021-01-19T10:30:00\", \"2021-01-19T10:51:05\", \"2021-01-19T10:57:41\", \"2021-01-19T11:00:39\", \"2021-01-19T11:16:25\", \"2021-01-19T11:30:29\", \"2021-01-19T11:33:10\", \"2021-01-19T12:03:07\", \"2021-01-19T12:10:31\", \"2021-01-19T12:24:33\", \"2021-01-19T12:33:45\", \"2021-01-19T12:39:39\", \"2021-01-19T13:18:04\", \"2021-01-19T13:19:20\", \"2021-01-19T13:28:42\", \"2021-01-19T13:30:42\", \"2021-01-19T13:47:57\", \"2021-01-19T13:48:04\", \"2021-01-19T13:57:16\", \"2021-01-19T14:04:52\", \"2021-01-19T14:11:44\", \"2021-01-19T14:24:30\", \"2021-01-19T14:25:08\", \"2021-01-19T14:25:49\", \"2021-01-19T14:27:22\", \"2021-01-19T15:22:40\", \"2021-01-19T15:26:01\", \"2021-01-19T15:39:14\", \"2021-01-19T15:58:09\", \"2021-01-19T16:25:01\", \"2021-01-19T16:35:25\", \"2021-01-19T16:44:18\", \"2021-01-19T17:15:37\", \"2021-01-19T17:23:15\", \"2021-01-19T17:23:49\", \"2021-01-19T17:26:22\", \"2021-01-19T17:27:27\", \"2021-01-19T17:34:00\", \"2021-01-19T18:15:00\", \"2021-01-19T18:20:29\", \"2021-01-19T18:26:41\", \"2021-01-19T18:31:06\", \"2021-01-19T18:32:11\", \"2021-01-19T18:43:57\", \"2021-01-19T18:55:38\", \"2021-01-19T19:00:21\", \"2021-01-19T19:02:31\", \"2021-01-19T19:10:20\", \"2021-01-19T19:15:08\", \"2021-01-19T19:21:16\", \"2021-01-19T19:26:41\", \"2021-01-19T19:29:25\", \"2021-01-19T19:30:01\", \"2021-01-19T19:33:33\", \"2021-01-19T19:33:35\", \"2021-01-19T20:00:16\", \"2021-01-19T20:10:28\", \"2021-01-19T20:13:24\", \"2021-01-19T21:03:51\", \"2021-01-19T21:14:11\", \"2021-01-19T21:25:23\", \"2021-01-19T21:28:32\", \"2021-01-19T21:34:14\", \"2021-01-19T21:53:05\", \"2021-01-19T21:55:01\", \"2021-01-19T22:00:22\", \"2021-01-19T22:04:29\", \"2021-01-19T22:20:01\", \"2021-01-19T22:20:04\", \"2021-01-19T22:21:35\", \"2021-01-19T22:32:16\", \"2021-01-19T22:43:25\", \"2021-01-19T22:45:00\", \"2021-01-19T22:47:52\", \"2021-01-19T22:53:23\", \"2021-01-19T22:59:21\", \"2021-01-19T23:02:01\", \"2021-01-19T23:03:33\", \"2021-01-19T23:13:06\", \"2021-01-19T23:30:51\", \"2021-01-19T23:59:48\", \"2021-01-20T00:07:07\", \"2021-01-20T00:10:28\", \"2021-01-20T00:15:19\", \"2021-01-20T00:18:10\", \"2021-01-20T04:16:26\", \"2021-01-20T05:20:17\", \"2021-01-20T05:24:36\", \"2021-01-20T05:33:12\", \"2021-01-20T05:49:09\", \"2021-01-20T06:00:00\", \"2021-01-20T06:02:36\", \"2021-01-20T06:09:51\", \"2021-01-20T06:33:33\", \"2021-01-20T06:37:27\", \"2021-01-20T06:59:59\", \"2021-01-20T07:23:32\", \"2021-01-20T07:34:00\", \"2021-01-20T07:40:31\", \"2021-01-20T07:45:42\", \"2021-01-20T08:24:10\", \"2021-01-20T08:29:34\", \"2021-01-20T08:49:38\", \"2021-01-20T08:50:11\", \"2021-01-20T09:33:19\", \"2021-01-20T09:51:48\", \"2021-01-20T10:07:15\", \"2021-01-20T10:08:42\", \"2021-01-20T10:10:14\", \"2021-01-20T10:10:45\", \"2021-01-20T10:32:14\", \"2021-01-20T10:35:43\", \"2021-01-20T10:53:06\", \"2021-01-20T11:07:16\", \"2021-01-20T11:30:21\", \"2021-01-20T11:38:47\", \"2021-01-20T11:49:40\", \"2021-01-20T11:54:12\", \"2021-01-20T11:54:19\", \"2021-01-20T12:00:02\", \"2021-01-20T12:13:57\", \"2021-01-20T12:35:36\", \"2021-01-20T12:44:09\", \"2021-01-20T12:51:37\", \"2021-01-20T12:55:53\", \"2021-01-20T13:03:06\", \"2021-01-20T13:37:33\", \"2021-01-20T13:54:21\", \"2021-01-20T13:59:27\", \"2021-01-20T14:06:47\", \"2021-01-20T14:13:36\", \"2021-01-20T14:20:17\", \"2021-01-20T14:25:02\", \"2021-01-20T14:27:51\", \"2021-01-20T14:44:42\", \"2021-01-20T14:52:08\", \"2021-01-20T14:58:30\", \"2021-01-20T15:24:49\", \"2021-01-20T15:27:06\", \"2021-01-20T15:29:00\", \"2021-01-20T15:29:53\", \"2021-01-20T15:30:49\", \"2021-01-20T16:03:08\", \"2021-01-20T16:06:31\", \"2021-01-20T16:13:42\", \"2021-01-20T16:16:36\", \"2021-01-20T16:17:15\", \"2021-01-20T16:36:40\", \"2021-01-20T16:58:16\", \"2021-01-20T17:15:59\", \"2021-01-20T17:17:11\", \"2021-01-20T17:42:58\", \"2021-01-20T17:49:46\", \"2021-01-20T18:48:40\", \"2021-01-20T19:01:08\", \"2021-01-20T19:14:00\", \"2021-01-20T19:21:58\", \"2021-01-20T19:25:42\", \"2021-01-20T19:37:51\", \"2021-01-20T20:13:00\", \"2021-01-20T20:23:26\", \"2021-01-20T20:27:49\", \"2021-01-20T20:29:15\", \"2021-01-20T20:42:55\", \"2021-01-20T20:43:22\", \"2021-01-20T20:46:04\", \"2021-01-20T20:53:21\", \"2021-01-20T21:15:00\", \"2021-01-20T21:17:04\", \"2021-01-20T21:24:42\", \"2021-01-20T21:40:53\", \"2021-01-20T21:41:49\", \"2021-01-20T21:44:59\", \"2021-01-20T21:47:49\", \"2021-01-20T21:47:56\", \"2021-01-20T21:47:59\", \"2021-01-20T21:50:47\", \"2021-01-20T22:14:12\", \"2021-01-20T22:18:06\", \"2021-01-20T22:19:15\", \"2021-01-20T22:33:26\", \"2021-01-20T23:04:52\", \"2021-01-20T23:07:27\", \"2021-01-20T23:42:54\", \"2021-01-20T23:46:24\", \"2021-01-21T01:01:11\", \"2021-01-21T01:24:05\", \"2021-01-21T01:54:54\", \"2021-01-21T02:46:56\", \"2021-01-21T02:58:51\", \"2021-01-21T03:30:57\", \"2021-01-21T04:01:05\", \"2021-01-21T04:03:07\", \"2021-01-21T04:17:05\", \"2021-01-21T05:37:01\", \"2021-01-21T07:03:17\", \"2021-01-21T07:13:05\", \"2021-01-21T07:15:28\", \"2021-01-21T07:18:42\", \"2021-01-21T07:19:35\", \"2021-01-21T07:19:47\", \"2021-01-21T07:21:00\", \"2021-01-21T07:23:53\", \"2021-01-21T07:24:03\", \"2021-01-21T07:33:54\", \"2021-01-21T07:36:45\", \"2021-01-21T07:36:55\", \"2021-01-21T08:32:09\", \"2021-01-21T08:55:05\", \"2021-01-21T09:04:36\", \"2021-01-21T09:08:08\", \"2021-01-21T09:24:03\", \"2021-01-21T09:37:33\", \"2021-01-21T10:55:55\", \"2021-01-21T11:01:23\", \"2021-01-21T11:07:21\", \"2021-01-21T11:08:40\", \"2021-01-21T11:21:44\", \"2021-01-21T11:29:18\", \"2021-01-21T11:29:51\", \"2021-01-21T11:31:51\", \"2021-01-21T11:37:25\", \"2021-01-21T11:39:16\", \"2021-01-21T11:45:15\", \"2021-01-21T11:45:35\", \"2021-01-21T11:57:34\", \"2021-01-21T11:58:57\", \"2021-01-21T12:01:08\", \"2021-01-21T12:07:05\", \"2021-01-21T12:14:29\", \"2021-01-21T12:20:49\", \"2021-01-21T12:21:21\", \"2021-01-21T12:21:42\", \"2021-01-21T12:34:09\", \"2021-01-21T12:45:11\", \"2021-01-21T12:48:02\", \"2021-01-21T13:04:06\", \"2021-01-21T13:13:04\", \"2021-01-21T13:13:32\", \"2021-01-21T13:14:10\", \"2021-01-21T13:19:31\", \"2021-01-21T13:41:16\", \"2021-01-21T13:44:26\", \"2021-01-21T13:48:13\", \"2021-01-21T13:52:08\", \"2021-01-21T13:53:05\", \"2021-01-21T14:00:43\", \"2021-01-21T14:02:01\", \"2021-01-21T14:21:02\", \"2021-01-21T14:34:15\", \"2021-01-21T14:38:35\", \"2021-01-21T14:53:25\", \"2021-01-21T14:55:10\", \"2021-01-21T15:15:11\", \"2021-01-21T15:24:29\", \"2021-01-21T15:26:43\", \"2021-01-21T15:34:22\", \"2021-01-21T15:38:49\", \"2021-01-21T15:40:12\", \"2021-01-21T15:48:12\", \"2021-01-21T16:06:45\", \"2021-01-21T16:24:30\", \"2021-01-21T16:35:15\", \"2021-01-21T17:22:24\", \"2021-01-21T17:39:56\", \"2021-01-21T17:55:38\", \"2021-01-21T18:02:50\", \"2021-01-21T18:03:30\", \"2021-01-21T18:16:04\", \"2021-01-21T18:19:39\", \"2021-01-21T18:20:58\", \"2021-01-21T18:29:09\", \"2021-01-21T18:33:01\", \"2021-01-21T18:48:03\", \"2021-01-21T19:02:18\", \"2021-01-21T19:03:40\", \"2021-01-21T19:07:06\", \"2021-01-21T19:14:21\", \"2021-01-21T19:25:53\", \"2021-01-21T19:30:56\", \"2021-01-21T19:32:21\", \"2021-01-21T19:32:39\", \"2021-01-21T19:33:23\", \"2021-01-21T19:35:10\", \"2021-01-21T19:37:48\", \"2021-01-21T19:37:57\", \"2021-01-21T19:39:05\", \"2021-01-21T19:39:24\", \"2021-01-21T19:40:26\", \"2021-01-21T19:42:50\", \"2021-01-21T19:43:43\", \"2021-01-21T19:44:37\", \"2021-01-21T19:49:40\", \"2021-01-21T19:59:59\", \"2021-01-21T20:05:51\", \"2021-01-21T20:09:32\", \"2021-01-21T20:15:53\", \"2021-01-21T20:17:39\", \"2021-01-21T20:21:19\", \"2021-01-21T20:24:47\", \"2021-01-21T20:25:27\", \"2021-01-21T20:30:13\", \"2021-01-21T20:34:56\", \"2021-01-21T20:35:10\", \"2021-01-21T20:40:01\", \"2021-01-21T20:48:27\", \"2021-01-21T20:51:57\", \"2021-01-21T20:52:27\", \"2021-01-21T20:59:04\", \"2021-01-21T21:09:19\", \"2021-01-21T21:13:57\", \"2021-01-21T21:19:49\", \"2021-01-21T21:22:32\", \"2021-01-21T21:44:26\", \"2021-01-21T21:54:05\", \"2021-01-21T21:59:25\", \"2021-01-21T22:14:35\", \"2021-01-21T22:15:46\", \"2021-01-21T22:16:54\", \"2021-01-21T22:33:29\", \"2021-01-21T22:40:06\", \"2021-01-21T23:10:06\", \"2021-01-21T23:19:57\", \"2021-01-21T23:23:37\", \"2021-01-21T23:27:22\", \"2021-01-21T23:30:46\", \"2021-01-21T23:40:03\", \"2021-01-21T23:40:04\", \"2021-01-21T23:42:09\", \"2021-01-21T23:53:09\", \"2021-01-22T00:14:35\", \"2021-01-22T00:15:12\", \"2021-01-22T01:11:08\", \"2021-01-22T01:30:11\", \"2021-01-22T01:31:06\", \"2021-01-22T01:32:58\", \"2021-01-22T02:12:06\", \"2021-01-22T02:30:45\", \"2021-01-22T03:47:14\", \"2021-01-22T04:00:50\", \"2021-01-22T05:51:48\", \"2021-01-22T06:08:40\", \"2021-01-22T08:33:03\", \"2021-01-22T08:41:07\", \"2021-01-22T09:04:40\", \"2021-01-22T09:17:26\", \"2021-01-22T09:58:29\", \"2021-01-22T11:30:52\", \"2021-01-22T12:49:52\", \"2021-01-22T13:03:24\", \"2021-01-22T13:19:14\", \"2021-01-22T13:23:51\", \"2021-01-22T13:34:17\", \"2021-01-22T13:34:26\", \"2021-01-22T13:55:49\", \"2021-01-22T14:21:10\", \"2021-01-22T14:28:03\", \"2021-01-22T14:34:32\", \"2021-01-22T14:38:24\", \"2021-01-22T14:38:42\", \"2021-01-22T15:26:25\", \"2021-01-22T15:34:12\", \"2021-01-22T15:44:42\", \"2021-01-22T16:00:00\", \"2021-01-22T16:47:02\", \"2021-01-22T16:47:35\", \"2021-01-22T17:01:06\", \"2021-01-22T17:10:03\", \"2021-01-22T17:35:35\", \"2021-01-22T17:41:23\", \"2021-01-22T17:41:42\", \"2021-01-22T17:46:44\", \"2021-01-22T17:48:39\", \"2021-01-22T17:53:25\", \"2021-01-22T18:00:49\", \"2021-01-22T18:35:29\", \"2021-01-22T18:35:42\", \"2021-01-22T18:46:54\", \"2021-01-22T18:56:34\", \"2021-01-22T19:01:52\", \"2021-01-22T19:06:10\", \"2021-01-22T19:14:47\", \"2021-01-22T19:40:23\", \"2021-01-22T19:53:45\", \"2021-01-22T19:55:56\", \"2021-01-22T19:56:33\", \"2021-01-22T19:59:54\", \"2021-01-22T20:12:28\", \"2021-01-22T20:30:04\", \"2021-01-22T20:32:03\", \"2021-01-22T21:00:33\", \"2021-01-22T22:02:23\", \"2021-01-22T22:14:35\", \"2021-01-22T22:45:13\", \"2021-01-22T23:26:18\", \"2021-01-23T00:43:55\", \"2021-01-23T01:59:43\", \"2021-01-23T02:13:26\", \"2021-01-23T03:47:18\", \"2021-01-23T04:34:47\", \"2021-01-23T07:19:19\", \"2021-01-23T07:30:19\", \"2021-01-23T07:48:08\", \"2021-01-23T08:15:00\", \"2021-01-23T08:17:09\", \"2021-01-23T08:43:49\", \"2021-01-23T09:32:46\", \"2021-01-23T09:38:00\", \"2021-01-23T09:44:56\", \"2021-01-23T09:46:18\", \"2021-01-23T09:55:52\", \"2021-01-23T09:59:43\", \"2021-01-23T10:04:28\", \"2021-01-23T10:20:58\", \"2021-01-23T10:42:59\", \"2021-01-23T10:43:35\", \"2021-01-23T10:54:58\", \"2021-01-23T11:18:23\", \"2021-01-23T11:51:30\", \"2021-01-23T11:57:21\", \"2021-01-23T11:58:27\", \"2021-01-23T12:03:56\", \"2021-01-23T12:30:00\", \"2021-01-23T12:45:36\", \"2021-01-23T12:53:50\", \"2021-01-23T12:59:02\", \"2021-01-23T13:00:07\", \"2021-01-23T13:00:13\", \"2021-01-23T13:13:06\", \"2021-01-23T13:42:44\", \"2021-01-23T13:46:57\", \"2021-01-23T13:53:46\", \"2021-01-23T13:56:10\", \"2021-01-23T14:00:01\", \"2021-01-23T14:10:12\", \"2021-01-23T14:16:27\", \"2021-01-23T15:08:52\", \"2021-01-23T15:14:33\", \"2021-01-23T15:19:07\", \"2021-01-23T15:24:58\", \"2021-01-23T15:27:11\", \"2021-01-23T15:49:34\", \"2021-01-23T15:53:12\", \"2021-01-23T16:36:11\", \"2021-01-23T16:46:10\", \"2021-01-23T17:18:16\", \"2021-01-23T17:20:05\", \"2021-01-23T17:20:18\", \"2021-01-23T17:38:38\", \"2021-01-23T17:38:46\", \"2021-01-23T17:52:19\", \"2021-01-23T17:56:56\", \"2021-01-23T18:01:21\", \"2021-01-23T18:34:56\", \"2021-01-23T20:29:24\", \"2021-01-23T20:59:50\", \"2021-01-23T21:51:21\", \"2021-01-23T21:58:06\", \"2021-01-23T22:17:08\", \"2021-01-23T22:24:19\", \"2021-01-24T01:14:23\", \"2021-01-24T02:47:15\", \"2021-01-24T03:45:24\", \"2021-01-24T03:52:26\", \"2021-01-24T04:00:00\", \"2021-01-24T04:49:41\", \"2021-01-24T05:30:12\", \"2021-01-24T08:04:02\", \"2021-01-24T08:18:58\", \"2021-01-24T08:51:22\", \"2021-01-24T08:53:46\", \"2021-01-24T09:01:19\", \"2021-01-24T09:06:08\", \"2021-01-24T09:50:55\", \"2021-01-24T10:07:34\", \"2021-01-24T10:35:02\", \"2021-01-24T11:04:12\", \"2021-01-24T11:39:27\", \"2021-01-24T11:56:11\", \"2021-01-24T12:16:32\", \"2021-01-24T12:26:04\", \"2021-01-24T12:30:00\", \"2021-01-24T12:57:30\", \"2021-01-24T13:13:20\", \"2021-01-24T13:54:11\", \"2021-01-24T13:56:55\", \"2021-01-24T14:43:08\", \"2021-01-24T15:15:45\", \"2021-01-24T15:19:27\", \"2021-01-24T15:55:36\", \"2021-01-24T15:58:33\", \"2021-01-24T16:35:39\", \"2021-01-24T17:04:44\", \"2021-01-24T17:13:36\", \"2021-01-24T17:32:38\", \"2021-01-24T18:07:13\", \"2021-01-24T18:17:20\", \"2021-01-24T18:22:48\", \"2021-01-24T18:36:01\", \"2021-01-24T18:40:29\", \"2021-01-24T18:55:40\", \"2021-01-24T19:39:38\", \"2021-01-24T19:50:33\", \"2021-01-24T19:50:46\", \"2021-01-24T19:54:01\", \"2021-01-24T20:02:09\", \"2021-01-24T21:04:17\", \"2021-01-24T21:23:08\", \"2021-01-24T21:34:28\", \"2021-01-24T21:36:44\", \"2021-01-24T21:44:34\", \"2021-01-24T22:26:15\", \"2021-01-24T22:50:43\", \"2021-01-25T01:27:46\", \"2021-01-25T02:06:58\", \"2021-01-25T02:48:11\", \"2021-01-25T04:23:11\", \"2021-01-25T04:31:24\", \"2021-01-25T05:10:51\", \"2021-01-25T05:21:59\", \"2021-01-25T05:26:57\", \"2021-01-25T05:38:28\", \"2021-01-25T06:18:26\", \"2021-01-25T06:48:36\", \"2021-01-25T07:22:20\", \"2021-01-25T08:47:47\", \"2021-01-25T09:35:16\", \"2021-01-25T09:50:00\", \"2021-01-25T09:53:34\", \"2021-01-25T09:56:02\", \"2021-01-25T10:10:07\", \"2021-01-25T10:14:25\", \"2021-01-25T10:25:54\", \"2021-01-25T10:32:56\", \"2021-01-25T10:34:49\", \"2021-01-25T10:54:17\", \"2021-01-25T10:57:15\", \"2021-01-25T10:57:49\", \"2021-01-25T10:58:45\", \"2021-01-25T11:05:29\", \"2021-01-25T11:19:02\", \"2021-01-25T11:55:54\", \"2021-01-25T12:13:03\", \"2021-01-25T12:24:06\", \"2021-01-25T12:37:34\", \"2021-01-25T13:30:25\", \"2021-01-25T13:47:05\", \"2021-01-25T14:23:23\", \"2021-01-25T14:30:18\", \"2021-01-25T14:35:53\", \"2021-01-25T15:00:01\", \"2021-01-25T15:02:38\", \"2021-01-25T15:03:00\", \"2021-01-25T15:05:03\", \"2021-01-25T15:50:15\", \"2021-01-25T16:10:20\", \"2021-01-25T16:15:03\", \"2021-01-25T16:23:08\", \"2021-01-25T16:35:02\", \"2021-01-25T16:35:46\", \"2021-01-25T16:45:53\", \"2021-01-25T16:45:57\", \"2021-01-25T16:52:53\", \"2021-01-25T16:53:08\", \"2021-01-25T17:16:04\", \"2021-01-25T17:18:16\", \"2021-01-25T17:21:17\", \"2021-01-25T17:27:54\", \"2021-01-25T17:32:06\", \"2021-01-25T17:34:00\", \"2021-01-25T17:41:54\", \"2021-01-25T17:47:55\", \"2021-01-25T17:49:54\", \"2021-01-25T18:10:09\", \"2021-01-25T18:21:08\", \"2021-01-25T18:25:41\", \"2021-01-25T18:50:48\", \"2021-01-25T18:55:58\", \"2021-01-25T19:11:51\", \"2021-01-25T19:52:27\", \"2021-01-25T20:06:13\", \"2021-01-25T20:18:20\", \"2021-01-25T20:53:44\", \"2021-01-25T22:11:59\", \"2021-01-25T22:16:56\", \"2021-01-25T22:21:54\", \"2021-01-25T22:51:54\", \"2021-01-25T23:13:22\", \"2021-01-25T23:28:40\", \"2021-01-25T23:39:56\", \"2021-01-26T00:10:37\", \"2021-01-26T02:12:28\", \"2021-01-26T03:22:18\", \"2021-01-26T03:36:59\", \"2021-01-26T03:48:11\", \"2021-01-26T04:31:18\", \"2021-01-26T05:00:06\", \"2021-01-26T05:12:00\", \"2021-01-26T05:41:36\", \"2021-01-26T06:42:13\", \"2021-01-26T06:54:38\", \"2021-01-26T06:59:45\", \"2021-01-26T07:09:07\", \"2021-01-26T07:12:46\", \"2021-01-26T07:14:47\", \"2021-01-26T07:23:31\", \"2021-01-26T07:48:53\", \"2021-01-26T07:55:40\", \"2021-01-26T08:07:39\", \"2021-01-26T08:10:38\", \"2021-01-26T08:20:55\", \"2021-01-26T08:47:37\", \"2021-01-26T08:59:38\", \"2021-01-26T09:01:42\", \"2021-01-26T09:02:48\", \"2021-01-26T09:24:17\", \"2021-01-26T09:27:24\", \"2021-01-26T09:52:33\", \"2021-01-26T10:09:12\", \"2021-01-26T10:28:29\", \"2021-01-26T10:32:06\", \"2021-01-26T10:34:07\", \"2021-01-26T10:37:09\", \"2021-01-26T10:39:33\", \"2021-01-26T10:50:24\", \"2021-01-26T10:50:25\", \"2021-01-26T10:54:17\", \"2021-01-26T11:29:07\", \"2021-01-26T11:38:12\", \"2021-01-26T11:46:24\", \"2021-01-26T11:51:04\", \"2021-01-26T12:41:37\", \"2021-01-26T12:51:40\", \"2021-01-26T13:03:16\", \"2021-01-26T13:04:59\", \"2021-01-26T13:06:41\", \"2021-01-26T13:16:45\", \"2021-01-26T13:25:53\", \"2021-01-26T13:52:33\", \"2021-01-26T13:56:56\", \"2021-01-26T14:01:05\", \"2021-01-26T14:01:44\", \"2021-01-26T14:24:32\", \"2021-01-26T14:48:00\", \"2021-01-26T14:49:15\", \"2021-01-26T14:50:17\", \"2021-01-26T15:02:15\", \"2021-01-26T15:26:09\", \"2021-01-26T15:36:05\", \"2021-01-26T15:37:42\", \"2021-01-26T15:47:30\", \"2021-01-26T16:21:09\", \"2021-01-26T16:22:53\", \"2021-01-26T16:28:10\", \"2021-01-26T17:09:13\", \"2021-01-26T17:19:58\", \"2021-01-26T17:24:49\", \"2021-01-26T17:33:04\", \"2021-01-26T17:34:23\", \"2021-01-26T17:38:37\", \"2021-01-26T17:44:26\", \"2021-01-26T17:49:23\", \"2021-01-26T17:54:15\", \"2021-01-26T18:10:41\", \"2021-01-26T18:14:41\", \"2021-01-26T18:22:19\", \"2021-01-26T18:32:23\", \"2021-01-26T18:33:48\", \"2021-01-26T18:35:27\", \"2021-01-26T18:54:43\", \"2021-01-26T19:24:37\", \"2021-01-26T19:41:05\", \"2021-01-26T20:20:43\", \"2021-01-26T20:23:04\", \"2021-01-26T21:04:27\", \"2021-01-26T21:20:55\", \"2021-01-26T21:24:14\", \"2021-01-26T21:31:50\", \"2021-01-26T21:48:03\", \"2021-01-26T22:23:32\", \"2021-01-26T23:02:03\", \"2021-01-27T00:09:23\", \"2021-01-27T00:21:54\", \"2021-01-27T00:38:16\", \"2021-01-27T01:24:16\", \"2021-01-27T02:24:34\", \"2021-01-27T02:27:57\", \"2021-01-27T02:37:55\", \"2021-01-27T02:50:25\", \"2021-01-27T03:23:34\", \"2021-01-27T04:06:59\", \"2021-01-27T04:28:59\", \"2021-01-27T04:29:29\", \"2021-01-27T06:01:28\", \"2021-01-27T06:29:20\", \"2021-01-27T06:44:19\", \"2021-01-27T06:51:10\", \"2021-01-27T07:00:00\", \"2021-01-27T07:13:27\", \"2021-01-27T07:14:11\", \"2021-01-27T07:39:50\", \"2021-01-27T07:50:16\", \"2021-01-27T08:10:42\", \"2021-01-27T08:33:29\", \"2021-01-27T08:40:46\", \"2021-01-27T08:46:56\", \"2021-01-27T08:51:23\", \"2021-01-27T09:03:56\", \"2021-01-27T09:10:39\", \"2021-01-27T09:41:40\", \"2021-01-27T09:47:30\", \"2021-01-27T10:28:11\", \"2021-01-27T11:11:55\", \"2021-01-27T12:12:03\", \"2021-01-27T12:47:16\", \"2021-01-27T12:48:08\", \"2021-01-27T12:57:12\", \"2021-01-27T12:57:57\", \"2021-01-27T13:08:26\", \"2021-01-27T13:09:05\", \"2021-01-27T13:15:50\", \"2021-01-27T13:17:20\", \"2021-01-27T13:20:07\", \"2021-01-27T13:30:28\", \"2021-01-27T13:38:20\", \"2021-01-27T13:41:23\", \"2021-01-27T13:50:56\", \"2021-01-27T13:54:00\", \"2021-01-27T14:24:44\", \"2021-01-27T14:30:29\", \"2021-01-27T15:29:47\", \"2021-01-27T15:38:58\", \"2021-01-27T15:50:10\", \"2021-01-27T15:52:55\", \"2021-01-27T15:57:36\", \"2021-01-27T15:58:54\", \"2021-01-27T16:01:06\", \"2021-01-27T16:09:53\", \"2021-01-27T16:25:23\", \"2021-01-27T17:20:09\", \"2021-01-27T17:27:03\", \"2021-01-27T17:30:56\", \"2021-01-27T17:39:25\", \"2021-01-27T17:56:42\", \"2021-01-27T18:00:00\", \"2021-01-27T18:26:41\", \"2021-01-27T18:28:25\", \"2021-01-27T19:07:37\", \"2021-01-27T19:24:01\", \"2021-01-27T19:34:28\", \"2021-01-27T20:00:48\", \"2021-01-27T20:06:08\", \"2021-01-27T20:09:11\", \"2021-01-27T20:41:06\", \"2021-01-27T20:41:26\", \"2021-01-27T20:44:55\", \"2021-01-27T21:01:33\", \"2021-01-27T21:02:23\", \"2021-01-27T21:04:43\", \"2021-01-27T21:11:28\", \"2021-01-27T21:35:13\", \"2021-01-27T21:44:04\", \"2021-01-27T22:09:06\", \"2021-01-27T22:22:33\", \"2021-01-27T22:27:27\", \"2021-01-27T22:30:23\", \"2021-01-27T22:33:29\", \"2021-01-27T23:11:48\", \"2021-01-27T23:52:49\", \"2021-01-27T23:56:03\", \"2021-01-28T00:03:46\", \"2021-01-28T01:09:39\", \"2021-01-28T02:09:56\", \"2021-01-28T02:12:01\", \"2021-01-28T02:12:58\", \"2021-01-28T02:17:44\", \"2021-01-28T02:33:56\", \"2021-01-28T03:32:25\", \"2021-01-28T03:42:39\", \"2021-01-28T04:48:35\", \"2021-01-28T07:13:11\", \"2021-01-28T07:19:15\", \"2021-01-28T07:59:05\", \"2021-01-28T08:05:42\", \"2021-01-28T08:14:08\", \"2021-01-28T08:35:43\", \"2021-01-28T08:37:01\", \"2021-01-28T08:50:28\", \"2021-01-28T08:51:24\", \"2021-01-28T09:23:03\", \"2021-01-28T09:27:55\", \"2021-01-28T09:34:33\", \"2021-01-28T09:41:58\", \"2021-01-28T09:50:06\", \"2021-01-28T09:50:43\", \"2021-01-28T10:35:29\", \"2021-01-28T11:00:00\", \"2021-01-28T11:15:13\", \"2021-01-28T11:21:03\", \"2021-01-28T11:45:28\", \"2021-01-28T11:52:52\", \"2021-01-28T12:13:49\", \"2021-01-28T12:14:31\", \"2021-01-28T12:24:11\", \"2021-01-28T12:31:06\", \"2021-01-28T13:43:05\", \"2021-01-28T13:50:15\", \"2021-01-28T14:08:21\", \"2021-01-28T14:10:19\", \"2021-01-28T14:33:38\", \"2021-01-28T14:40:26\", \"2021-01-28T14:55:35\", \"2021-01-28T15:19:03\", \"2021-01-28T15:28:31\", \"2021-01-28T15:30:30\", \"2021-01-28T15:32:56\", \"2021-01-28T15:32:58\", \"2021-01-28T15:44:33\", \"2021-01-28T15:58:12\", \"2021-01-28T16:06:02\", \"2021-01-28T16:56:16\", \"2021-01-28T17:00:55\", \"2021-01-28T17:07:59\", \"2021-01-28T17:22:09\", \"2021-01-28T17:24:16\", \"2021-01-28T17:53:40\", \"2021-01-28T17:56:26\", \"2021-01-28T18:05:31\", \"2021-01-28T18:39:46\", \"2021-01-28T18:55:25\", \"2021-01-28T18:55:56\", \"2021-01-28T19:09:46\", \"2021-01-28T19:36:48\", \"2021-01-28T19:40:17\", \"2021-01-28T19:45:22\", \"2021-01-28T19:45:44\", \"2021-01-28T19:50:40\", \"2021-01-28T20:15:03\", \"2021-01-28T20:19:55\", \"2021-01-28T20:24:41\", \"2021-01-28T20:28:47\", \"2021-01-28T20:32:47\", \"2021-01-28T21:05:28\", \"2021-01-28T21:12:06\", \"2021-01-28T22:09:24\", \"2021-01-28T22:34:29\", \"2021-01-28T22:51:52\", \"2021-01-28T22:53:37\", \"2021-01-28T22:58:22\", \"2021-01-28T23:58:26\", \"2021-01-29T00:20:53\", \"2021-01-29T00:50:24\", \"2021-01-29T01:16:56\", \"2021-01-29T01:26:11\", \"2021-01-29T03:24:16\", \"2021-01-29T03:36:02\", \"2021-01-29T03:59:22\", \"2021-01-29T04:15:56\", \"2021-01-29T04:18:55\", \"2021-01-29T04:19:54\", \"2021-01-29T04:33:41\", \"2021-01-29T04:50:52\", \"2021-01-29T04:56:18\", \"2021-01-29T05:56:49\", \"2021-01-29T06:19:06\", \"2021-01-29T06:27:09\", \"2021-01-29T07:27:00\", \"2021-01-29T07:58:01\", \"2021-01-29T08:04:50\", \"2021-01-29T08:37:12\", \"2021-01-29T08:43:40\", \"2021-01-29T08:48:37\", \"2021-01-29T09:03:25\", \"2021-01-29T09:12:40\", \"2021-01-29T09:27:17\", \"2021-01-29T09:29:50\", \"2021-01-29T09:30:00\", \"2021-01-29T09:34:25\", \"2021-01-29T09:47:35\", \"2021-01-29T09:51:15\", \"2021-01-29T09:57:02\", \"2021-01-29T09:59:18\", \"2021-01-29T10:09:37\", \"2021-01-29T10:20:29\", \"2021-01-29T11:02:33\", \"2021-01-29T11:04:23\", \"2021-01-29T11:20:51\", \"2021-01-29T11:37:44\", \"2021-01-29T11:39:50\", \"2021-01-29T11:44:10\", \"2021-01-29T11:45:00\", \"2021-01-29T11:46:03\", \"2021-01-29T11:52:57\", \"2021-01-29T11:54:25\", \"2021-01-29T12:11:55\", \"2021-01-29T12:29:59\", \"2021-01-29T12:39:57\", \"2021-01-29T12:43:45\", \"2021-01-29T12:45:52\", \"2021-01-29T13:10:01\", \"2021-01-29T13:22:41\", \"2021-01-29T13:22:48\", \"2021-01-29T13:23:36\", \"2021-01-29T13:26:23\", \"2021-01-29T13:30:41\", \"2021-01-29T13:35:49\", \"2021-01-29T14:13:37\", \"2021-01-29T14:20:30\", \"2021-01-29T14:41:45\", \"2021-01-29T15:12:09\", \"2021-01-29T15:12:41\", \"2021-01-29T15:16:56\", \"2021-01-29T16:55:32\", \"2021-01-29T17:00:39\", \"2021-01-29T17:53:33\", \"2021-01-29T18:15:39\", \"2021-01-29T18:35:13\", \"2021-01-29T18:35:35\", \"2021-01-29T18:39:37\", \"2021-01-29T18:40:56\", \"2021-01-29T18:42:48\", \"2021-01-29T18:44:55\", \"2021-01-29T18:45:27\", \"2021-01-29T18:48:55\", \"2021-01-29T19:10:17\", \"2021-01-29T19:17:59\", \"2021-01-29T19:31:47\", \"2021-01-29T19:40:04\", \"2021-01-29T19:44:08\", \"2021-01-29T19:57:16\", \"2021-01-29T20:21:57\", \"2021-01-29T20:30:00\", \"2021-01-29T21:04:25\", \"2021-01-29T21:08:04\", \"2021-01-29T21:10:46\", \"2021-01-29T21:24:56\", \"2021-01-29T21:35:46\", \"2021-01-29T22:17:34\", \"2021-01-29T22:20:12\", \"2021-01-29T22:20:49\", \"2021-01-29T22:38:30\", \"2021-01-29T23:08:34\", \"2021-01-29T23:13:19\", \"2021-01-29T23:48:50\", \"2021-01-29T23:54:55\", \"2021-01-29T23:55:41\", \"2021-01-30T01:10:13\", \"2021-01-30T01:33:43\", \"2021-01-30T03:39:42\", \"2021-01-30T04:38:50\", \"2021-01-30T04:49:50\", \"2021-01-30T05:30:43\", \"2021-01-30T06:01:55\", \"2021-01-30T07:10:12\", \"2021-01-30T07:16:12\", \"2021-01-30T07:32:46\", \"2021-01-30T08:17:32\", \"2021-01-30T08:37:18\", \"2021-01-30T08:48:49\", \"2021-01-30T09:02:17\", \"2021-01-30T09:03:38\", \"2021-01-30T09:06:12\", \"2021-01-30T09:12:50\", \"2021-01-30T09:13:48\", \"2021-01-30T09:17:14\", \"2021-01-30T09:18:29\", \"2021-01-30T09:21:33\", \"2021-01-30T09:22:24\", \"2021-01-30T09:22:47\", \"2021-01-30T09:40:31\", \"2021-01-30T09:43:14\", \"2021-01-30T09:55:51\", \"2021-01-30T10:29:00\", \"2021-01-30T10:44:16\", \"2021-01-30T10:59:14\", \"2021-01-30T11:22:24\", \"2021-01-30T11:25:12\", \"2021-01-30T11:25:44\", \"2021-01-30T11:48:48\", \"2021-01-30T11:53:23\", \"2021-01-30T12:01:28\", \"2021-01-30T12:19:41\", \"2021-01-30T12:37:40\", \"2021-01-30T12:40:13\", \"2021-01-30T12:46:36\", \"2021-01-30T12:47:11\", \"2021-01-30T12:57:31\", \"2021-01-30T13:16:09\", \"2021-01-30T13:24:08\", \"2021-01-30T13:37:28\", \"2021-01-30T14:05:29\", \"2021-01-30T14:20:03\", \"2021-01-30T14:26:19\", \"2021-01-30T14:36:10\", \"2021-01-30T14:50:31\", \"2021-01-30T14:57:34\", \"2021-01-30T16:08:18\", \"2021-01-30T17:42:50\", \"2021-01-30T18:06:43\", \"2021-01-30T18:21:05\", \"2021-01-30T18:23:16\", \"2021-01-30T18:24:23\", \"2021-01-30T18:28:01\", \"2021-01-30T18:59:35\", \"2021-01-30T19:05:14\", \"2021-01-30T19:15:25\", \"2021-01-30T19:18:38\", \"2021-01-30T19:38:57\", \"2021-01-30T19:49:08\", \"2021-01-30T19:59:10\", \"2021-01-30T20:55:08\", \"2021-01-30T20:56:29\", \"2021-01-30T21:06:28\", \"2021-01-30T21:09:42\", \"2021-01-30T22:45:43\", \"2021-01-30T22:47:48\", \"2021-01-30T23:18:33\", \"2021-01-30T23:38:54\", \"2021-01-30T23:44:59\", \"2021-01-31T05:25:06\", \"2021-01-31T07:52:50\", \"2021-01-31T08:18:42\", \"2021-01-31T08:38:31\", \"2021-01-31T09:00:00\", \"2021-01-31T09:04:59\", \"2021-01-31T09:55:26\", \"2021-01-31T10:00:45\", \"2021-01-31T10:13:21\", \"2021-01-31T10:39:16\", \"2021-01-31T10:48:54\", \"2021-01-31T12:05:13\", \"2021-01-31T12:24:12\", \"2021-01-31T13:11:03\", \"2021-01-31T13:22:17\", \"2021-01-31T13:43:15\", \"2021-01-31T14:46:08\", \"2021-01-31T15:18:36\", \"2021-01-31T15:29:51\", \"2021-01-31T16:26:27\", \"2021-01-31T18:23:15\", \"2021-01-31T18:41:38\", \"2021-01-31T18:41:53\", \"2021-01-31T19:18:22\", \"2021-01-31T20:16:08\", \"2021-01-31T20:56:24\", \"2021-01-31T22:03:17\", \"2021-01-31T22:45:23\", \"2021-01-31T23:28:23\", \"2021-01-31T23:40:35\", \"2021-02-01T02:03:06\", \"2021-02-01T02:58:00\", \"2021-02-01T03:03:11\", \"2021-02-01T09:08:42\", \"2021-02-01T09:35:46\", \"2021-02-01T09:37:42\", \"2021-02-01T10:19:45\", \"2021-02-01T11:25:01\", \"2021-02-01T11:42:34\", \"2021-02-01T12:11:51\", \"2021-02-01T13:13:27\", \"2021-02-01T14:03:19\", \"2021-02-01T14:26:25\", \"2021-02-01T14:33:49\", \"2021-02-01T14:46:40\", \"2021-02-01T14:52:37\", \"2021-02-01T15:06:22\", \"2021-02-01T15:13:53\", \"2021-02-01T15:44:39\", \"2021-02-01T16:00:00\", \"2021-02-01T17:09:10\", \"2021-02-01T17:33:29\", \"2021-02-01T17:56:51\", \"2021-02-01T18:05:25\", \"2021-02-01T18:48:43\", \"2021-02-01T18:56:34\", \"2021-02-01T19:35:28\", \"2021-02-01T19:47:12\", \"2021-02-01T19:51:58\", \"2021-02-01T19:54:09\", \"2021-02-01T19:57:20\", \"2021-02-02T00:45:23\", \"2021-02-02T01:36:55\", \"2021-02-02T01:56:16\", \"2021-02-02T03:52:53\", \"2021-02-02T04:21:28\", \"2021-02-02T05:57:32\", \"2021-02-02T06:02:27\", \"2021-02-02T06:58:59\", \"2021-02-02T07:07:14\", \"2021-02-02T07:13:25\", \"2021-02-02T08:04:56\", \"2021-02-02T08:24:26\", \"2021-02-02T08:42:06\", \"2021-02-02T08:57:03\", \"2021-02-02T09:08:37\", \"2021-02-02T09:43:59\", \"2021-02-02T10:16:29\", \"2021-02-02T10:35:06\", \"2021-02-02T11:17:13\", \"2021-02-02T12:00:09\", \"2021-02-02T12:02:23\", \"2021-02-02T12:10:01\", \"2021-02-02T12:11:31\", \"2021-02-02T12:29:57\", \"2021-02-02T12:40:59\", \"2021-02-02T12:49:52\", \"2021-02-02T13:15:00\", \"2021-02-02T13:45:00\", \"2021-02-02T13:46:42\", \"2021-02-02T14:11:19\", \"2021-02-02T14:12:05\", \"2021-02-02T14:34:47\", \"2021-02-02T14:51:36\", \"2021-02-02T15:04:54\", \"2021-02-02T15:11:37\", \"2021-02-02T16:45:28\", \"2021-02-02T16:54:52\", \"2021-02-02T16:59:38\", \"2021-02-02T17:13:24\", \"2021-02-02T18:02:34\", \"2021-02-02T18:10:45\", \"2021-02-02T18:27:44\", \"2021-02-02T18:28:24\", \"2021-02-02T19:03:59\", \"2021-02-02T19:58:03\", \"2021-02-02T21:12:34\", \"2021-02-02T21:26:55\", \"2021-02-02T21:38:22\", \"2021-02-02T21:44:10\", \"2021-02-02T22:07:02\", \"2021-02-02T22:42:11\", \"2021-02-02T23:13:18\", \"2021-02-02T23:25:06\", \"2021-02-03T00:08:43\", \"2021-02-03T00:18:41\", \"2021-02-03T01:01:21\", \"2021-02-03T01:54:18\", \"2021-02-03T04:40:41\", \"2021-02-03T06:53:30\", \"2021-02-03T08:12:47\", \"2021-02-03T08:17:12\", \"2021-02-03T10:06:33\", \"2021-02-03T11:13:21\", \"2021-02-03T11:40:50\", \"2021-02-03T12:14:43\", \"2021-02-03T13:01:08\", \"2021-02-03T13:48:13\", \"2021-02-03T14:44:00\", \"2021-02-03T15:00:02\", \"2021-02-03T15:02:30\", \"2021-02-03T15:08:11\", \"2021-02-03T16:54:54\", \"2021-02-03T17:45:21\", \"2021-02-03T17:49:02\", \"2021-02-03T18:06:45\", \"2021-02-03T18:24:58\", \"2021-02-03T18:31:37\", \"2021-02-03T19:30:29\", \"2021-02-03T19:42:21\", \"2021-02-03T19:51:08\", \"2021-02-03T20:04:03\", \"2021-02-03T20:10:37\", \"2021-02-03T20:13:49\", \"2021-02-03T20:26:38\", \"2021-02-03T20:56:39\", \"2021-02-03T22:26:50\", \"2021-02-03T22:27:38\", \"2021-02-03T22:28:13\", \"2021-02-03T23:53:02\", \"2021-02-03T23:54:42\", \"2021-02-04T00:01:19\", \"2021-02-04T00:09:17\", \"2021-02-04T02:27:41\", \"2021-02-04T02:41:00\", \"2021-02-04T04:38:45\", \"2021-02-04T06:18:32\", \"2021-02-04T06:29:23\", \"2021-02-04T08:00:07\", \"2021-02-04T08:03:05\", \"2021-02-04T08:09:19\", \"2021-02-04T08:09:39\", \"2021-02-04T08:16:27\", \"2021-02-04T08:18:36\", \"2021-02-04T08:35:40\", \"2021-02-04T08:54:42\", \"2021-02-04T09:17:36\", \"2021-02-04T09:18:43\", \"2021-02-04T09:21:00\", \"2021-02-04T09:30:23\", \"2021-02-04T10:54:21\", \"2021-02-04T11:12:05\", \"2021-02-04T11:59:05\", \"2021-02-04T12:08:44\", \"2021-02-04T12:19:39\", \"2021-02-04T12:19:40\", \"2021-02-04T12:32:32\", \"2021-02-04T13:05:14\", \"2021-02-04T13:30:01\", \"2021-02-04T13:30:39\", \"2021-02-04T13:35:40\", \"2021-02-04T13:41:09\", \"2021-02-04T14:14:27\", \"2021-02-04T14:45:26\", \"2021-02-04T14:54:08\", \"2021-02-04T15:07:39\", \"2021-02-04T15:27:14\", \"2021-02-04T15:29:55\", \"2021-02-04T15:55:37\", \"2021-02-04T15:58:09\", \"2021-02-04T16:11:06\", \"2021-02-04T16:16:18\", \"2021-02-04T16:26:10\", \"2021-02-04T17:37:03\", \"2021-02-04T17:37:25\", \"2021-02-04T17:53:12\", \"2021-02-04T18:14:00\", \"2021-02-04T18:56:35\", \"2021-02-04T18:56:43\", \"2021-02-04T19:06:41\", \"2021-02-04T19:07:25\", \"2021-02-04T19:08:46\", \"2021-02-04T19:09:13\", \"2021-02-04T19:16:56\", \"2021-02-04T19:22:29\", \"2021-02-04T19:50:31\", \"2021-02-04T20:10:42\", \"2021-02-04T20:41:24\", \"2021-02-04T21:20:11\", \"2021-02-04T21:41:54\", \"2021-02-04T21:56:28\", \"2021-02-04T21:57:56\", \"2021-02-04T22:08:23\", \"2021-02-04T22:13:42\", \"2021-02-04T22:18:44\", \"2021-02-04T22:22:40\", \"2021-02-04T22:28:45\", \"2021-02-04T22:40:35\", \"2021-02-04T23:46:06\", \"2021-02-04T23:50:58\", \"2021-02-05T00:18:00\", \"2021-02-05T01:46:19\", \"2021-02-05T06:56:11\", \"2021-02-05T07:01:39\", \"2021-02-05T07:10:14\", \"2021-02-05T07:11:05\", \"2021-02-05T07:12:09\", \"2021-02-05T07:22:17\", \"2021-02-05T07:26:20\", \"2021-02-05T07:30:00\", \"2021-02-05T08:03:37\", \"2021-02-05T08:41:07\", \"2021-02-05T09:34:34\", \"2021-02-05T09:58:57\", \"2021-02-05T11:00:01\", \"2021-02-05T11:03:58\", \"2021-02-05T11:42:55\", \"2021-02-05T11:49:17\", \"2021-02-05T12:07:25\", \"2021-02-05T12:22:56\", \"2021-02-05T12:29:14\", \"2021-02-05T12:59:58\", \"2021-02-05T13:10:34\", \"2021-02-05T13:15:50\", \"2021-02-05T13:45:45\", \"2021-02-05T13:47:56\", \"2021-02-05T14:19:53\", \"2021-02-05T14:28:25\", \"2021-02-05T14:37:07\", \"2021-02-05T14:38:31\", \"2021-02-05T14:44:40\", \"2021-02-05T14:44:42\", \"2021-02-05T14:59:08\", \"2021-02-05T15:02:12\", \"2021-02-05T15:05:12\", \"2021-02-05T15:43:00\", \"2021-02-05T15:48:00\", \"2021-02-05T15:50:08\", \"2021-02-05T16:12:03\", \"2021-02-05T16:28:43\", \"2021-02-05T16:48:22\", \"2021-02-05T17:04:32\", \"2021-02-05T17:21:46\", \"2021-02-05T17:48:15\", \"2021-02-05T18:02:48\", \"2021-02-05T18:38:39\", \"2021-02-05T18:41:20\", \"2021-02-05T18:48:30\", \"2021-02-05T19:07:10\", \"2021-02-05T19:14:17\", \"2021-02-05T19:40:12\", \"2021-02-05T20:16:50\", \"2021-02-05T20:22:41\", \"2021-02-05T20:35:30\", \"2021-02-05T20:35:59\", \"2021-02-05T21:31:02\", \"2021-02-05T21:46:52\", \"2021-02-05T21:56:56\", \"2021-02-05T22:02:58\", \"2021-02-05T22:03:30\", \"2021-02-05T22:10:32\", \"2021-02-05T22:37:18\", \"2021-02-05T22:37:53\", \"2021-02-05T22:39:34\", \"2021-02-05T22:52:50\", \"2021-02-05T22:58:17\", \"2021-02-05T23:00:28\", \"2021-02-05T23:08:17\", \"2021-02-05T23:25:01\", \"2021-02-05T23:34:31\", \"2021-02-06T00:04:11\", \"2021-02-06T00:44:50\", \"2021-02-06T01:24:02\", \"2021-02-06T02:00:00\", \"2021-02-06T02:34:18\", \"2021-02-06T02:37:22\", \"2021-02-06T04:31:13\", \"2021-02-06T05:21:36\", \"2021-02-06T06:50:55\", \"2021-02-06T06:55:24\", \"2021-02-06T09:12:03\", \"2021-02-06T09:18:21\", \"2021-02-06T09:53:30\", \"2021-02-06T10:28:32\", \"2021-02-06T10:35:24\", \"2021-02-06T10:38:29\", \"2021-02-06T10:47:02\", \"2021-02-06T11:02:28\", \"2021-02-06T11:10:47\", \"2021-02-06T11:16:12\", \"2021-02-06T14:10:59\", \"2021-02-06T15:04:00\", \"2021-02-06T15:19:54\", \"2021-02-06T15:27:26\", \"2021-02-06T15:44:42\", \"2021-02-06T16:07:47\", \"2021-02-06T16:30:14\", \"2021-02-06T17:25:16\", \"2021-02-06T18:37:44\", \"2021-02-06T19:37:26\", \"2021-02-06T19:59:01\", \"2021-02-06T20:27:33\", \"2021-02-06T21:03:45\", \"2021-02-06T21:40:26\", \"2021-02-06T22:43:34\", \"2021-02-06T22:52:40\", \"2021-02-06T23:03:59\", \"2021-02-06T23:25:05\", \"2021-02-07T00:18:02\", \"2021-02-07T00:23:42\", \"2021-02-07T03:00:40\", \"2021-02-07T04:29:27\", \"2021-02-07T08:21:58\", \"2021-02-07T08:33:35\", \"2021-02-07T09:02:38\", \"2021-02-07T11:00:57\", \"2021-02-07T11:31:16\", \"2021-02-07T12:04:42\", \"2021-02-07T12:12:27\", \"2021-02-07T12:17:25\", \"2021-02-07T13:02:53\", \"2021-02-07T13:54:42\", \"2021-02-07T14:17:15\", \"2021-02-07T15:00:17\", \"2021-02-07T15:04:00\", \"2021-02-07T15:14:24\", \"2021-02-07T15:27:22\", \"2021-02-07T16:03:43\", \"2021-02-07T17:13:00\", \"2021-02-07T18:24:38\", \"2021-02-07T18:24:44\", \"2021-02-07T19:58:57\", \"2021-02-07T20:50:52\", \"2021-02-07T21:16:40\", \"2021-02-07T21:49:33\", \"2021-02-07T22:15:29\", \"2021-02-08T00:07:39\", \"2021-02-08T00:28:48\", \"2021-02-08T05:17:54\", \"2021-02-08T06:34:01\", \"2021-02-08T06:34:16\", \"2021-02-08T06:40:39\", \"2021-02-08T07:29:11\", \"2021-02-08T08:46:48\", \"2021-02-08T10:32:40\", \"2021-02-08T10:45:37\", \"2021-02-08T10:54:38\", \"2021-02-08T13:27:44\", \"2021-02-08T13:30:18\", \"2021-02-08T13:56:11\", \"2021-02-08T14:02:29\", \"2021-02-08T14:04:26\", \"2021-02-08T15:32:38\", \"2021-02-08T15:39:39\", \"2021-02-08T15:50:36\", \"2021-02-08T16:35:59\", \"2021-02-08T16:37:14\", \"2021-02-08T16:41:13\", \"2021-02-08T16:50:04\", \"2021-02-08T17:05:57\", \"2021-02-08T17:39:17\", \"2021-02-08T18:03:03\", \"2021-02-08T18:13:58\", \"2021-02-08T18:27:49\", \"2021-02-08T18:30:57\", \"2021-02-08T19:19:57\", \"2021-02-08T19:26:24\", \"2021-02-08T20:04:29\", \"2021-02-08T20:08:05\", \"2021-02-08T21:36:52\", \"2021-02-08T22:43:07\", \"2021-02-08T22:52:38\", \"2021-02-08T22:53:58\", \"2021-02-08T23:51:51\", \"2021-02-09T01:45:09\", \"2021-02-09T02:26:06\", \"2021-02-09T02:42:45\", \"2021-02-09T04:41:24\", \"2021-02-09T07:43:54\", \"2021-02-09T08:06:13\", \"2021-02-09T08:28:23\", \"2021-02-09T08:41:49\", \"2021-02-09T10:33:59\", \"2021-02-09T10:36:16\", \"2021-02-09T11:17:40\", \"2021-02-09T12:44:14\", \"2021-02-09T13:28:01\", \"2021-02-09T14:10:27\", \"2021-02-09T15:05:27\", \"2021-02-09T15:20:14\", \"2021-02-09T15:59:05\", \"2021-02-09T16:28:33\", \"2021-02-09T17:32:29\", \"2021-02-09T18:17:26\", \"2021-02-09T18:46:02\", \"2021-02-09T19:06:48\", \"2021-02-09T19:13:39\", \"2021-02-09T19:20:00\", \"2021-02-09T19:22:30\", \"2021-02-09T19:44:42\", \"2021-02-09T20:06:41\", \"2021-02-09T20:11:52\", \"2021-02-09T20:26:03\", \"2021-02-09T20:35:45\", \"2021-02-09T20:40:50\", \"2021-02-09T21:35:20\", \"2021-02-09T22:32:37\", \"2021-02-09T23:08:07\", \"2021-02-09T23:45:04\", \"2021-02-10T01:35:18\", \"2021-02-10T02:02:20\", \"2021-02-10T02:16:31\", \"2021-02-10T02:32:11\", \"2021-02-10T02:48:32\", \"2021-02-10T03:16:11\", \"2021-02-10T03:23:05\", \"2021-02-10T08:21:39\", \"2021-02-10T08:22:45\", \"2021-02-10T08:27:00\", \"2021-02-10T08:37:27\", \"2021-02-10T10:02:20\", \"2021-02-10T10:38:52\", \"2021-02-10T10:39:54\", \"2021-02-10T10:41:50\", \"2021-02-10T10:56:43\", \"2021-02-10T10:57:32\", \"2021-02-10T11:15:12\", \"2021-02-10T12:15:02\", \"2021-02-10T12:22:40\", \"2021-02-10T12:28:39\", \"2021-02-10T12:33:52\", \"2021-02-10T12:57:34\", \"2021-02-10T13:16:49\", \"2021-02-10T13:27:00\", \"2021-02-10T13:46:29\", \"2021-02-10T15:29:04\", \"2021-02-10T15:35:23\", \"2021-02-10T16:18:29\", \"2021-02-10T17:07:46\", \"2021-02-10T17:45:13\", \"2021-02-10T18:10:39\", \"2021-02-10T18:21:19\", \"2021-02-10T18:39:55\", \"2021-02-10T18:44:36\", \"2021-02-10T18:55:46\", \"2021-02-10T18:57:18\", \"2021-02-10T19:04:00\", \"2021-02-10T19:14:42\", \"2021-02-10T19:28:00\", \"2021-02-10T19:33:08\", \"2021-02-10T22:31:32\", \"2021-02-10T23:19:18\", \"2021-02-10T23:26:52\", \"2021-02-11T00:42:27\", \"2021-02-11T03:39:14\", \"2021-02-11T08:16:00\", \"2021-02-11T08:17:25\", \"2021-02-11T09:24:29\", \"2021-02-11T09:48:56\", \"2021-02-11T10:11:16\", \"2021-02-11T10:48:51\", \"2021-02-11T14:16:00\", \"2021-02-11T15:42:30\", \"2021-02-11T15:50:22\", \"2021-02-11T15:58:46\", \"2021-02-11T16:06:07\", \"2021-02-11T16:09:30\", \"2021-02-11T16:11:00\", \"2021-02-11T16:17:53\", \"2021-02-11T16:26:07\", \"2021-02-11T16:34:27\", \"2021-02-11T17:01:32\", \"2021-02-11T17:08:22\", \"2021-02-11T17:14:59\", \"2021-02-11T17:18:03\", \"2021-02-11T18:53:57\", \"2021-02-11T19:06:59\", \"2021-02-11T19:35:04\", \"2021-02-11T19:41:18\", \"2021-02-11T19:48:56\", \"2021-02-11T20:30:09\", \"2021-02-11T20:46:59\", \"2021-02-11T21:15:57\", \"2021-02-11T21:48:03\", \"2021-02-11T22:26:05\", \"2021-02-11T22:40:37\", \"2021-02-12T03:18:18\", \"2021-02-12T04:06:22\", \"2021-02-12T04:06:40\", \"2021-02-12T04:34:00\", \"2021-02-12T05:46:40\", \"2021-02-12T05:53:11\", \"2021-02-12T07:08:59\", \"2021-02-12T08:04:40\", \"2021-02-12T08:17:36\", \"2021-02-12T09:22:01\", \"2021-02-12T09:33:32\", \"2021-02-12T09:52:00\", \"2021-02-12T13:18:47\", \"2021-02-12T13:23:12\", \"2021-02-12T13:27:05\", \"2021-02-12T13:29:13\", \"2021-02-12T14:26:01\", \"2021-02-12T14:31:23\", \"2021-02-12T14:36:19\", \"2021-02-12T14:49:05\", \"2021-02-12T15:01:00\", \"2021-02-12T15:30:36\", \"2021-02-12T16:55:59\", \"2021-02-12T17:19:10\", \"2021-02-12T17:26:23\", \"2021-02-12T17:29:04\", \"2021-02-12T17:52:10\", \"2021-02-12T18:28:43\", \"2021-02-12T18:59:06\", \"2021-02-12T19:02:50\", \"2021-02-12T19:03:49\", \"2021-02-12T19:13:53\", \"2021-02-12T19:26:57\", \"2021-02-12T21:22:52\", \"2021-02-12T21:51:10\", \"2021-02-12T22:01:00\", \"2021-02-13T00:30:00\", \"2021-02-13T03:12:08\", \"2021-02-13T04:18:00\", \"2021-02-13T05:45:11\", \"2021-02-13T07:40:18\", \"2021-02-13T07:56:40\", \"2021-02-13T11:30:38\", \"2021-02-13T13:06:39\", \"2021-02-13T13:55:58\", \"2021-02-13T14:51:43\", \"2021-02-13T16:03:39\", \"2021-02-13T16:09:38\", \"2021-02-13T16:35:36\", \"2021-02-13T17:00:18\", \"2021-02-13T17:20:54\", \"2021-02-13T18:57:11\", \"2021-02-13T19:05:38\", \"2021-02-13T19:07:47\", \"2021-02-13T19:20:40\", \"2021-02-13T19:48:17\", \"2021-02-13T20:21:00\", \"2021-02-13T20:32:37\", \"2021-02-13T20:51:33\", \"2021-02-14T01:36:44\", \"2021-02-14T02:40:07\", \"2021-02-14T06:26:57\", \"2021-02-14T07:54:23\", \"2021-02-14T08:07:12\", \"2021-02-14T08:45:15\", \"2021-02-14T09:13:07\", \"2021-02-14T09:19:05\", \"2021-02-14T09:52:52\", \"2021-02-14T10:12:34\", \"2021-02-14T11:22:46\", \"2021-02-14T11:27:07\", \"2021-02-14T11:31:17\", \"2021-02-14T12:14:15\", \"2021-02-14T13:05:00\", \"2021-02-14T13:23:32\", \"2021-02-14T15:35:00\", \"2021-02-14T15:41:07\", \"2021-02-14T15:59:17\", \"2021-02-14T17:00:28\", \"2021-02-14T17:02:40\", \"2021-02-14T17:02:50\", \"2021-02-14T17:41:05\", \"2021-02-14T19:03:09\", \"2021-02-14T20:22:36\", \"2021-02-14T20:45:59\", \"2021-02-14T20:58:56\", \"2021-02-14T21:54:44\", \"2021-02-14T22:08:20\", \"2021-02-14T22:36:50\", \"2021-02-14T23:30:52\", \"2021-02-15T00:00:52\", \"2021-02-15T00:44:36\", \"2021-02-15T02:33:22\", \"2021-02-15T04:46:15\", \"2021-02-15T04:47:55\", \"2021-02-15T05:22:21\", \"2021-02-15T05:51:44\", \"2021-02-15T07:10:20\", \"2021-02-15T07:43:26\", \"2021-02-15T08:17:12\", \"2021-02-15T09:24:53\", \"2021-02-15T09:40:03\", \"2021-02-15T11:25:05\", \"2021-02-15T14:14:29\", \"2021-02-15T14:39:27\", \"2021-02-15T14:54:27\", \"2021-02-15T15:04:41\", \"2021-02-15T15:13:14\", \"2021-02-15T15:27:32\", \"2021-02-15T15:28:35\", \"2021-02-15T15:35:05\", \"2021-02-15T15:42:50\", \"2021-02-15T18:55:58\", \"2021-02-15T19:01:34\", \"2021-02-15T19:20:18\", \"2021-02-15T20:41:45\", \"2021-02-15T21:24:40\", \"2021-02-15T21:36:23\", \"2021-02-15T22:09:48\", \"2021-02-15T23:48:05\", \"2021-02-15T23:51:42\", \"2021-02-16T00:00:29\", \"2021-02-16T01:47:02\", \"2021-02-16T01:49:43\", \"2021-02-16T02:57:22\", \"2021-02-16T02:58:20\", \"2021-02-16T03:42:32\", \"2021-02-16T04:05:58\", \"2021-02-16T04:30:37\", \"2021-02-16T04:54:51\", \"2021-02-16T07:03:37\", \"2021-02-16T08:06:09\", \"2021-02-16T08:17:23\", \"2021-02-16T08:46:46\", \"2021-02-16T09:04:49\", \"2021-02-16T09:18:38\", \"2021-02-16T09:28:15\", \"2021-02-16T09:45:00\", \"2021-02-16T11:00:44\", \"2021-02-16T12:16:26\", \"2021-02-16T12:33:25\", \"2021-02-16T12:53:49\", \"2021-02-16T13:16:09\", \"2021-02-16T13:16:54\", \"2021-02-16T13:38:35\", \"2021-02-16T13:44:55\", \"2021-02-16T13:48:24\", \"2021-02-16T13:52:06\", \"2021-02-16T14:23:11\", \"2021-02-16T14:41:19\", \"2021-02-16T14:44:54\", \"2021-02-16T14:52:30\", \"2021-02-16T14:54:02\", \"2021-02-16T15:12:16\", \"2021-02-16T15:23:04\", \"2021-02-16T15:30:31\", \"2021-02-16T17:24:50\", \"2021-02-16T17:37:54\", \"2021-02-16T18:11:48\", \"2021-02-16T18:20:53\", \"2021-02-16T18:46:36\", \"2021-02-16T20:08:16\", \"2021-02-16T20:16:07\", \"2021-02-16T20:25:07\", \"2021-02-16T23:02:55\", \"2021-02-17T02:39:12\", \"2021-02-17T03:28:29\", \"2021-02-17T04:30:31\", \"2021-02-17T04:49:02\", \"2021-02-17T08:24:34\", \"2021-02-17T08:30:32\", \"2021-02-17T08:33:05\", \"2021-02-17T08:53:56\", \"2021-02-17T09:41:28\", \"2021-02-17T09:43:09\", \"2021-02-17T10:00:01\", \"2021-02-17T10:15:12\", \"2021-02-17T11:32:25\", \"2021-02-17T12:14:58\", \"2021-02-17T12:15:31\", \"2021-02-17T12:39:18\", \"2021-02-17T12:40:21\", \"2021-02-17T13:10:00\", \"2021-02-17T13:15:24\", \"2021-02-17T13:28:00\", \"2021-02-17T14:00:02\", \"2021-02-17T14:14:56\", \"2021-02-17T14:33:27\", \"2021-02-17T14:33:46\", \"2021-02-17T14:47:30\", \"2021-02-17T14:55:31\", \"2021-02-17T14:56:52\", \"2021-02-17T15:03:01\", \"2021-02-17T15:27:26\", \"2021-02-17T15:30:29\", \"2021-02-17T15:44:32\", \"2021-02-17T16:23:10\", \"2021-02-17T16:36:36\", \"2021-02-17T16:38:27\", \"2021-02-17T16:39:23\", \"2021-02-17T16:48:32\", \"2021-02-17T17:00:55\", \"2021-02-17T17:30:33\", \"2021-02-17T17:40:24\", \"2021-02-17T17:42:58\", \"2021-02-17T18:00:01\", \"2021-02-17T18:21:48\", \"2021-02-17T18:29:09\", \"2021-02-17T18:29:33\", \"2021-02-17T18:40:51\", \"2021-02-17T18:44:04\", \"2021-02-17T19:22:36\", \"2021-02-17T21:20:22\", \"2021-02-17T22:00:01\", \"2021-02-17T22:41:20\", \"2021-02-17T22:46:19\", \"2021-02-17T22:50:34\", \"2021-02-17T22:55:36\", \"2021-02-17T23:06:57\", \"2021-02-17T23:17:27\", \"2021-02-18T02:00:01\", \"2021-02-18T02:22:30\", \"2021-02-18T04:15:49\", \"2021-02-18T04:41:27\", \"2021-02-18T05:06:36\", \"2021-02-18T05:28:20\", \"2021-02-18T06:00:00\", \"2021-02-18T06:39:35\", \"2021-02-18T06:44:21\", \"2021-02-18T08:01:34\", \"2021-02-18T08:35:59\", \"2021-02-18T09:14:34\", \"2021-02-18T09:15:51\", \"2021-02-18T09:20:41\", \"2021-02-18T09:43:31\", \"2021-02-18T10:03:52\", \"2021-02-18T10:34:19\", \"2021-02-18T11:40:35\", \"2021-02-18T12:29:23\", \"2021-02-18T12:42:55\", \"2021-02-18T12:44:00\", \"2021-02-18T13:08:19\", \"2021-02-18T13:23:29\", \"2021-02-18T13:39:46\", \"2021-02-18T13:40:43\", \"2021-02-18T14:07:06\", \"2021-02-18T14:15:04\", \"2021-02-18T15:08:35\", \"2021-02-18T15:25:53\", \"2021-02-18T16:36:03\", \"2021-02-18T16:43:43\", \"2021-02-18T17:00:59\", \"2021-02-18T17:08:18\", \"2021-02-18T17:33:52\", \"2021-02-18T17:41:08\", \"2021-02-18T18:09:50\", \"2021-02-18T18:23:24\", \"2021-02-18T18:28:15\", \"2021-02-18T18:34:50\", \"2021-02-18T18:42:12\", \"2021-02-18T18:43:06\", \"2021-02-18T18:43:16\", \"2021-02-18T19:03:26\", \"2021-02-18T19:26:33\", \"2021-02-18T19:45:06\", \"2021-02-18T19:48:42\", \"2021-02-18T20:34:20\", \"2021-02-18T20:51:15\", \"2021-02-18T20:55:57\", \"2021-02-19T03:46:31\", \"2021-02-19T03:53:32\", \"2021-02-19T05:08:15\", \"2021-02-19T05:57:00\", \"2021-02-19T06:33:59\", \"2021-02-19T06:49:25\", \"2021-02-19T07:06:07\", \"2021-02-19T07:34:45\", \"2021-02-19T07:59:38\", \"2021-02-19T07:59:43\", \"2021-02-19T08:27:37\", \"2021-02-19T09:07:04\", \"2021-02-19T09:09:37\", \"2021-02-19T10:01:13\", \"2021-02-19T10:05:54\", \"2021-02-19T10:06:29\", \"2021-02-19T10:16:43\", \"2021-02-19T10:17:00\", \"2021-02-19T10:18:53\", \"2021-02-19T11:19:27\", \"2021-02-19T11:30:00\", \"2021-02-19T11:32:57\", \"2021-02-19T11:39:13\", \"2021-02-19T11:48:27\", \"2021-02-19T11:54:27\", \"2021-02-19T12:57:05\", \"2021-02-19T13:14:24\", \"2021-02-19T13:15:00\", \"2021-02-19T14:00:02\", \"2021-02-19T14:21:46\", \"2021-02-19T14:29:26\", \"2021-02-19T14:37:28\", \"2021-02-19T14:44:19\", \"2021-02-19T14:46:07\", \"2021-02-19T15:02:13\", \"2021-02-19T15:42:14\", \"2021-02-19T16:04:39\", \"2021-02-19T16:24:16\", \"2021-02-19T16:24:54\", \"2021-02-19T16:32:17\", \"2021-02-19T16:34:01\", \"2021-02-19T16:40:32\", \"2021-02-19T16:53:54\", \"2021-02-19T16:55:20\", \"2021-02-19T16:55:40\", \"2021-02-19T17:01:00\", \"2021-02-19T17:16:31\", \"2021-02-19T17:18:35\", \"2021-02-19T17:20:48\", \"2021-02-19T17:23:06\", \"2021-02-19T17:26:41\", \"2021-02-19T17:27:25\", \"2021-02-19T17:40:50\", \"2021-02-19T17:59:24\", \"2021-02-19T18:22:12\", \"2021-02-19T18:28:18\", \"2021-02-19T18:32:49\", \"2021-02-19T18:44:15\", \"2021-02-19T18:45:48\", \"2021-02-19T18:57:35\", \"2021-02-19T19:02:04\", \"2021-02-19T19:03:24\", \"2021-02-19T19:14:04\", \"2021-02-19T19:18:17\", \"2021-02-19T19:22:17\", \"2021-02-19T19:29:51\", \"2021-02-19T19:53:37\", \"2021-02-19T19:53:50\", \"2021-02-19T19:56:48\", \"2021-02-19T19:57:04\", \"2021-02-19T19:58:27\", \"2021-02-19T19:59:18\", \"2021-02-19T20:02:52\", \"2021-02-19T20:05:43\", \"2021-02-19T20:05:52\", \"2021-02-19T20:13:28\", \"2021-02-19T20:13:31\", \"2021-02-19T20:25:11\", \"2021-02-19T20:26:20\", \"2021-02-19T20:29:56\", \"2021-02-19T20:34:29\", \"2021-02-19T20:55:36\", \"2021-02-19T20:58:30\", \"2021-02-19T21:00:00\", \"2021-02-19T22:22:04\", \"2021-02-19T22:25:44\", \"2021-02-19T22:29:45\", \"2021-02-19T22:43:43\", \"2021-02-19T23:19:52\", \"2021-02-19T23:22:30\", \"2021-02-19T23:54:51\", \"2021-02-20T00:37:52\", \"2021-02-20T00:39:28\", \"2021-02-20T00:44:31\", \"2021-02-20T01:32:38\", \"2021-02-20T02:40:16\", \"2021-02-20T03:28:18\", \"2021-02-20T04:20:58\", \"2021-02-20T05:29:48\", \"2021-02-20T05:53:16\", \"2021-02-20T08:48:52\", \"2021-02-20T09:24:00\", \"2021-02-20T09:56:26\", \"2021-02-20T10:57:40\", \"2021-02-20T11:01:37\", \"2021-02-20T11:08:29\", \"2021-02-20T11:18:18\", \"2021-02-20T11:38:11\", \"2021-02-20T12:52:24\", \"2021-02-20T13:01:33\", \"2021-02-20T13:32:36\", \"2021-02-20T13:52:29\", \"2021-02-20T14:54:30\", \"2021-02-20T15:01:45\", \"2021-02-20T15:27:42\", \"2021-02-20T15:46:34\", \"2021-02-20T16:03:16\", \"2021-02-20T17:36:54\", \"2021-02-20T18:20:19\", \"2021-02-20T19:56:55\", \"2021-02-20T19:58:19\", \"2021-02-20T20:18:33\", \"2021-02-20T20:20:04\", \"2021-02-20T21:07:36\", \"2021-02-20T21:18:09\", \"2021-02-20T21:32:23\", \"2021-02-20T22:07:55\", \"2021-02-20T22:34:37\", \"2021-02-20T23:21:42\", \"2021-02-20T23:27:57\", \"2021-02-21T02:22:20\", \"2021-02-21T02:27:52\", \"2021-02-21T02:28:56\", \"2021-02-21T03:03:03\", \"2021-02-21T03:18:19\", \"2021-02-21T03:35:16\", \"2021-02-21T03:45:46\", \"2021-02-21T04:05:40\", \"2021-02-21T05:40:31\", \"2021-02-21T05:40:54\", \"2021-02-21T05:47:18\", \"2021-02-21T06:39:25\", \"2021-02-21T08:47:11\", \"2021-02-21T08:57:45\", \"2021-02-21T09:12:55\", \"2021-02-21T09:18:16\", \"2021-02-21T09:54:03\", \"2021-02-21T10:10:02\", \"2021-02-21T10:42:09\", \"2021-02-21T10:48:41\", \"2021-02-21T11:07:33\", \"2021-02-21T11:12:33\", \"2021-02-21T11:17:52\", \"2021-02-21T11:22:21\", \"2021-02-21T12:17:09\", \"2021-02-21T12:43:21\", \"2021-02-21T13:05:40\", \"2021-02-21T13:05:41\", \"2021-02-21T13:07:42\", \"2021-02-21T13:14:10\", \"2021-02-21T13:30:00\", \"2021-02-21T14:02:08\", \"2021-02-21T14:02:30\", \"2021-02-21T14:30:27\", \"2021-02-21T14:59:14\", \"2021-02-21T15:16:19\", \"2021-02-21T15:20:29\", \"2021-02-21T15:22:00\", \"2021-02-21T16:10:35\", \"2021-02-21T16:52:24\", \"2021-02-21T20:30:00\", \"2021-02-21T21:12:19\", \"2021-02-21T21:48:50\", \"2021-02-21T22:13:56\", \"2021-02-21T23:33:13\", \"2021-02-22T00:44:41\", \"2021-02-22T02:39:09\", \"2021-02-22T02:55:41\", \"2021-02-22T03:12:25\", \"2021-02-22T04:07:27\", \"2021-02-22T04:32:15\", \"2021-02-22T04:50:35\", \"2021-02-22T06:07:34\", \"2021-02-22T06:59:00\", \"2021-02-22T07:55:00\", \"2021-02-22T08:50:32\", \"2021-02-22T10:04:29\", \"2021-02-22T10:30:01\", \"2021-02-22T10:42:14\", \"2021-02-22T10:44:05\", \"2021-02-22T13:03:14\", \"2021-02-22T13:03:50\", \"2021-02-22T14:23:58\", \"2021-02-22T14:45:00\", \"2021-02-22T15:36:46\", \"2021-02-22T15:56:57\", \"2021-02-22T16:12:26\", \"2021-02-22T16:50:40\", \"2021-02-22T17:16:52\", \"2021-02-22T17:35:09\", \"2021-02-22T17:50:02\", \"2021-02-22T18:08:09\", \"2021-02-22T18:14:33\", \"2021-02-22T18:17:04\", \"2021-02-22T18:45:43\", \"2021-02-22T18:53:26\", \"2021-02-22T20:08:31\", \"2021-02-22T20:12:03\", \"2021-02-22T20:54:10\", \"2021-02-22T20:56:43\", \"2021-02-22T21:12:58\", \"2021-02-22T21:25:16\", \"2021-02-22T21:40:40\", \"2021-02-22T22:59:00\", \"2021-02-23T01:21:28\", \"2021-02-23T03:59:25\", \"2021-02-23T04:12:00\", \"2021-02-23T04:44:23\", \"2021-02-23T05:26:18\", \"2021-02-23T07:05:51\", \"2021-02-23T07:15:00\", \"2021-02-23T07:30:42\", \"2021-02-23T07:51:44\", \"2021-02-23T08:02:26\", \"2021-02-23T08:19:10\", \"2021-02-23T08:32:52\", \"2021-02-23T08:33:59\", \"2021-02-23T09:10:43\", \"2021-02-23T09:28:30\", \"2021-02-23T09:33:39\", \"2021-02-23T09:53:12\", \"2021-02-23T10:02:16\", \"2021-02-23T11:10:23\", \"2021-02-23T12:33:06\", \"2021-02-23T12:33:46\", \"2021-02-23T13:14:45\", \"2021-02-23T13:19:24\", \"2021-02-23T13:26:59\", \"2021-02-23T14:07:17\", \"2021-02-23T14:25:30\", \"2021-02-23T14:42:00\", \"2021-02-23T14:43:18\", \"2021-02-23T14:44:15\", \"2021-02-23T15:16:27\", \"2021-02-23T15:44:27\", \"2021-02-23T16:00:02\", \"2021-02-23T16:01:16\", \"2021-02-23T16:02:38\", \"2021-02-23T16:10:01\", \"2021-02-23T16:11:08\", \"2021-02-23T18:41:54\", \"2021-02-23T18:42:05\", \"2021-02-23T19:25:48\", \"2021-02-23T19:32:31\", \"2021-02-23T21:41:14\", \"2021-02-23T22:26:15\", \"2021-02-24T00:45:13\", \"2021-02-24T01:12:42\", \"2021-02-24T01:52:40\", \"2021-02-24T02:55:29\", \"2021-02-24T03:00:49\", \"2021-02-24T03:08:46\", \"2021-02-24T03:43:02\", \"2021-02-24T04:52:45\", \"2021-02-24T05:27:56\", \"2021-02-24T05:28:39\", \"2021-02-24T05:49:57\", \"2021-02-24T06:30:58\", \"2021-02-24T06:35:11\", \"2021-02-24T06:39:08\", \"2021-02-24T06:54:05\", \"2021-02-24T06:57:21\", \"2021-02-24T07:12:55\", \"2021-02-24T07:13:46\", \"2021-02-24T07:28:41\", \"2021-02-24T07:43:37\", \"2021-02-24T07:50:51\", \"2021-02-24T08:04:11\", \"2021-02-24T08:05:32\", \"2021-02-24T08:17:18\", \"2021-02-24T08:31:30\", \"2021-02-24T08:39:12\", \"2021-02-24T09:43:59\", \"2021-02-24T10:01:51\", \"2021-02-24T10:10:49\", \"2021-02-24T10:12:43\", \"2021-02-24T11:01:34\", \"2021-02-24T11:01:37\", \"2021-02-24T11:39:21\", \"2021-02-24T11:46:11\", \"2021-02-24T11:47:42\", \"2021-02-24T11:48:08\", \"2021-02-24T13:18:49\", \"2021-02-24T13:28:50\", \"2021-02-24T13:31:11\", \"2021-02-24T13:42:23\", \"2021-02-24T14:00:27\", \"2021-02-24T14:09:46\", \"2021-02-24T14:11:48\", \"2021-02-24T14:26:42\", \"2021-02-24T14:33:12\", \"2021-02-24T14:34:55\", \"2021-02-24T14:41:08\", \"2021-02-24T14:55:17\", \"2021-02-24T14:56:43\", \"2021-02-24T15:05:04\", \"2021-02-24T15:11:45\", \"2021-02-24T15:12:41\", \"2021-02-24T15:20:18\", \"2021-02-24T16:00:34\", \"2021-02-24T16:02:01\", \"2021-02-24T16:05:25\", \"2021-02-24T16:16:57\", \"2021-02-24T16:22:59\", \"2021-02-24T16:31:01\", \"2021-02-24T16:32:18\", \"2021-02-24T16:36:17\", \"2021-02-24T17:00:42\", \"2021-02-24T17:04:06\", \"2021-02-24T17:26:08\", \"2021-02-24T17:32:07\", \"2021-02-24T18:04:42\", \"2021-02-24T18:33:12\", \"2021-02-24T18:36:10\", \"2021-02-24T18:36:34\", \"2021-02-24T18:44:46\", \"2021-02-24T18:45:20\", \"2021-02-24T18:50:28\", \"2021-02-24T19:03:30\", \"2021-02-24T19:05:40\", \"2021-02-24T19:18:22\", \"2021-02-24T19:23:22\", \"2021-02-24T19:30:40\", \"2021-02-24T19:36:45\", \"2021-02-24T19:45:39\", \"2021-02-24T19:59:02\", \"2021-02-24T20:15:20\", \"2021-02-24T20:18:09\", \"2021-02-24T20:20:19\", \"2021-02-24T20:21:59\", \"2021-02-24T20:28:55\", \"2021-02-24T20:40:14\", \"2021-02-24T20:42:39\", \"2021-02-24T21:04:14\", \"2021-02-24T22:08:16\", \"2021-02-24T22:47:02\", \"2021-02-24T22:49:56\", \"2021-02-24T23:11:48\", \"2021-02-24T23:25:50\", \"2021-02-24T23:35:09\", \"2021-02-25T00:45:31\", \"2021-02-25T00:54:40\", \"2021-02-25T01:05:36\", \"2021-02-25T01:12:10\", \"2021-02-25T01:32:22\", \"2021-02-25T01:50:25\", \"2021-02-25T02:03:22\", \"2021-02-25T03:11:01\", \"2021-02-25T03:23:53\", \"2021-02-25T04:27:46\", \"2021-02-25T04:55:35\", \"2021-02-25T04:56:20\", \"2021-02-25T05:29:09\", \"2021-02-25T05:50:06\", \"2021-02-25T06:13:44\", \"2021-02-25T06:21:31\", \"2021-02-25T06:45:01\", \"2021-02-25T06:57:18\", \"2021-02-25T06:57:34\", \"2021-02-25T07:40:03\", \"2021-02-25T07:46:40\", \"2021-02-25T08:17:16\", \"2021-02-25T08:17:40\", \"2021-02-25T09:29:39\", \"2021-02-25T09:40:32\", \"2021-02-25T10:00:01\", \"2021-02-25T10:04:47\", \"2021-02-25T10:04:50\", \"2021-02-25T10:19:08\", \"2021-02-25T10:20:40\", \"2021-02-25T10:30:23\", \"2021-02-25T10:56:59\", \"2021-02-25T11:08:54\", \"2021-02-25T11:23:08\", \"2021-02-25T11:25:52\", \"2021-02-25T11:57:01\", \"2021-02-25T12:31:30\", \"2021-02-25T12:52:00\", \"2021-02-25T12:57:37\", \"2021-02-25T13:01:03\", \"2021-02-25T13:28:27\", \"2021-02-25T13:28:37\", \"2021-02-25T13:30:30\", \"2021-02-25T14:00:01\", \"2021-02-25T14:02:11\", \"2021-02-25T14:03:22\", \"2021-02-25T14:07:03\", \"2021-02-25T14:08:04\", \"2021-02-25T14:10:28\", \"2021-02-25T14:12:44\", \"2021-02-25T14:23:39\", \"2021-02-25T14:39:46\", \"2021-02-25T15:00:09\", \"2021-02-25T15:10:08\", \"2021-02-25T15:19:05\", \"2021-02-25T15:23:18\", \"2021-02-25T17:04:23\", \"2021-02-25T17:05:45\", \"2021-02-25T17:06:58\", \"2021-02-25T17:15:56\", \"2021-02-25T17:22:26\", \"2021-02-25T17:26:14\", \"2021-02-25T17:56:11\", \"2021-02-25T18:00:00\", \"2021-02-25T18:06:21\", \"2021-02-25T18:14:33\", \"2021-02-25T18:20:39\", \"2021-02-25T18:21:58\", \"2021-02-25T18:30:18\", \"2021-02-25T18:34:03\", \"2021-02-25T18:40:36\", \"2021-02-25T18:41:51\", \"2021-02-25T18:43:19\", \"2021-02-25T18:54:08\", \"2021-02-25T19:01:55\", \"2021-02-25T19:09:29\", \"2021-02-25T19:37:26\", \"2021-02-25T19:42:10\", \"2021-02-25T20:54:37\", \"2021-02-25T20:58:23\", \"2021-02-25T21:10:17\", \"2021-02-25T21:37:11\", \"2021-02-25T21:38:49\", \"2021-02-25T21:50:09\", \"2021-02-25T22:00:01\", \"2021-02-25T22:07:18\", \"2021-02-25T22:28:55\", \"2021-02-25T22:51:03\", \"2021-02-25T22:52:19\", \"2021-02-25T23:17:26\", \"2021-02-25T23:49:09\", \"2021-02-25T23:57:06\", \"2021-02-26T00:23:24\", \"2021-02-26T00:29:13\", \"2021-02-26T00:38:40\", \"2021-02-26T01:24:12\", \"2021-02-26T01:45:10\", \"2021-02-26T01:46:52\", \"2021-02-26T01:50:14\", \"2021-02-26T02:00:00\", \"2021-02-26T02:23:04\", \"2021-02-26T02:35:47\", \"2021-02-26T02:52:27\", \"2021-02-26T02:58:17\", \"2021-02-26T03:43:28\", \"2021-02-26T03:49:21\", \"2021-02-26T04:33:30\", \"2021-02-26T04:33:31\", \"2021-02-26T04:33:33\", \"2021-02-26T06:00:01\", \"2021-02-26T06:19:22\", \"2021-02-26T07:05:37\", \"2021-02-26T08:26:47\", \"2021-02-26T09:11:34\", \"2021-02-26T09:11:37\", \"2021-02-26T09:15:47\", \"2021-02-26T09:33:52\", \"2021-02-26T09:40:00\", \"2021-02-26T09:47:38\", \"2021-02-26T09:49:22\", \"2021-02-26T09:49:38\", \"2021-02-26T09:50:47\", \"2021-02-26T10:39:03\", \"2021-02-26T11:00:21\", \"2021-02-26T11:16:15\", \"2021-02-26T11:19:05\", \"2021-02-26T11:21:40\", \"2021-02-26T11:32:52\", \"2021-02-26T11:56:28\", \"2021-02-26T12:22:50\", \"2021-02-26T12:24:32\", \"2021-02-26T12:26:01\", \"2021-02-26T12:27:17\", \"2021-02-26T12:29:13\", \"2021-02-26T12:51:44\", \"2021-02-26T13:10:05\", \"2021-02-26T13:12:32\", \"2021-02-26T13:16:51\", \"2021-02-26T13:30:55\", \"2021-02-26T13:42:52\", \"2021-02-26T13:43:23\", \"2021-02-26T13:51:16\", \"2021-02-26T14:00:01\", \"2021-02-26T14:30:00\", \"2021-02-26T14:31:05\", \"2021-02-26T15:05:50\", \"2021-02-26T15:09:04\", \"2021-02-26T15:26:20\", \"2021-02-26T15:29:59\", \"2021-02-26T16:03:19\", \"2021-02-26T16:07:53\", \"2021-02-26T16:27:47\", \"2021-02-26T16:27:59\", \"2021-02-26T17:44:23\", \"2021-02-26T18:04:45\", \"2021-02-26T18:16:03\", \"2021-02-26T18:16:08\", \"2021-02-26T19:04:56\", \"2021-02-26T19:50:43\", \"2021-02-26T19:58:56\", \"2021-02-26T20:20:30\", \"2021-02-26T20:33:33\", \"2021-02-26T20:39:32\", \"2021-02-26T21:41:42\", \"2021-02-26T21:42:56\", \"2021-02-26T22:33:41\", \"2021-02-26T22:59:58\", \"2021-02-26T23:14:43\", \"2021-02-26T23:22:36\", \"2021-02-26T23:41:38\", \"2021-02-27T02:17:32\", \"2021-02-27T05:13:15\", \"2021-02-27T05:14:40\", \"2021-02-27T08:38:11\", \"2021-02-27T08:49:57\", \"2021-02-27T09:21:51\", \"2021-02-27T09:25:01\", \"2021-02-27T10:08:56\", \"2021-02-27T10:28:48\", \"2021-02-27T10:30:38\", \"2021-02-27T11:00:00\", \"2021-02-27T11:30:56\", \"2021-02-27T11:35:10\", \"2021-02-27T11:59:03\", \"2021-02-27T12:30:49\", \"2021-02-27T12:43:37\", \"2021-02-27T12:58:21\", \"2021-02-27T13:34:10\", \"2021-02-27T13:34:40\", \"2021-02-27T14:02:18\", \"2021-02-27T14:10:55\", \"2021-02-27T14:22:27\", \"2021-02-27T15:54:49\", \"2021-02-27T17:45:25\", \"2021-02-27T18:21:29\", \"2021-02-27T18:41:24\", \"2021-02-27T19:17:45\", \"2021-02-27T19:20:14\", \"2021-02-27T19:31:47\", \"2021-02-28T00:52:22\", \"2021-02-28T01:17:07\", \"2021-02-28T02:20:42\", \"2021-02-28T03:18:44\", \"2021-02-28T04:10:17\", \"2021-02-28T04:57:50\", \"2021-02-28T04:58:38\", \"2021-02-28T04:59:21\", \"2021-02-28T05:01:57\", \"2021-02-28T05:35:52\", \"2021-02-28T06:51:47\", \"2021-02-28T07:04:50\", \"2021-02-28T07:47:35\", \"2021-02-28T10:27:38\", \"2021-02-28T10:29:15\", \"2021-02-28T10:57:00\", \"2021-02-28T11:10:03\", \"2021-02-28T11:11:53\", \"2021-02-28T11:40:02\", \"2021-02-28T11:49:43\", \"2021-02-28T11:59:39\", \"2021-02-28T12:04:26\", \"2021-02-28T12:36:40\", \"2021-02-28T12:58:13\", \"2021-02-28T13:01:29\", \"2021-02-28T13:51:47\", \"2021-02-28T15:13:52\", \"2021-02-28T17:08:43\", \"2021-02-28T17:22:02\", \"2021-02-28T17:36:57\", \"2021-02-28T17:45:19\", \"2021-02-28T18:34:15\", \"2021-02-28T18:44:31\", \"2021-02-28T20:33:20\", \"2021-02-28T21:05:28\", \"2021-02-28T21:06:14\", \"2021-02-28T22:41:01\", \"2021-02-28T23:12:01\", \"2021-02-28T23:16:45\", \"2021-02-28T23:36:54\", \"2021-03-01T03:27:30\", \"2021-03-01T03:58:15\", \"2021-03-01T03:59:43\", \"2021-03-01T05:56:45\", \"2021-03-01T06:59:31\", \"2021-03-01T07:00:17\", \"2021-03-01T07:26:00\", \"2021-03-01T08:17:14\", \"2021-03-01T08:26:45\", \"2021-03-01T08:31:31\", \"2021-03-01T08:35:00\", \"2021-03-01T08:36:21\", \"2021-03-01T11:12:43\", \"2021-03-01T11:15:58\", \"2021-03-01T11:30:00\", \"2021-03-01T11:57:49\", \"2021-03-01T13:23:03\", \"2021-03-01T13:59:28\", \"2021-03-01T14:19:35\", \"2021-03-01T14:21:02\", \"2021-03-01T16:31:36\", \"2021-03-01T16:34:00\", \"2021-03-01T17:11:16\", \"2021-03-01T17:14:45\", \"2021-03-01T17:30:19\", \"2021-03-01T17:35:15\", \"2021-03-01T17:40:40\", \"2021-03-01T17:49:34\", \"2021-03-01T18:01:21\", \"2021-03-01T18:18:28\", \"2021-03-01T18:20:24\", \"2021-03-01T18:44:34\", \"2021-03-01T19:04:17\", \"2021-03-01T19:11:30\", \"2021-03-01T19:27:26\", \"2021-03-01T19:31:00\", \"2021-03-01T19:59:00\", \"2021-03-01T19:59:09\", \"2021-03-01T22:07:55\", \"2021-03-01T22:31:19\", \"2021-03-01T22:45:00\", \"2021-03-02T00:13:51\", \"2021-03-02T00:21:37\", \"2021-03-02T00:45:32\", \"2021-03-02T01:21:01\", \"2021-03-02T01:51:19\", \"2021-03-02T01:52:11\", \"2021-03-02T01:54:50\", \"2021-03-02T02:17:38\", \"2021-03-02T03:20:59\", \"2021-03-02T03:28:18\", \"2021-03-02T03:44:21\", \"2021-03-02T04:47:12\", \"2021-03-02T04:53:30\", \"2021-03-02T05:12:23\", \"2021-03-02T06:30:03\", \"2021-03-02T07:39:43\", \"2021-03-02T08:43:22\", \"2021-03-02T08:54:43\", \"2021-03-02T09:03:40\", \"2021-03-02T09:53:18\", \"2021-03-02T09:54:49\", \"2021-03-02T10:04:36\", \"2021-03-02T10:46:59\", \"2021-03-02T12:39:54\", \"2021-03-02T12:55:28\", \"2021-03-02T12:56:20\", \"2021-03-02T12:57:53\", \"2021-03-02T13:03:37\", \"2021-03-02T13:21:32\", \"2021-03-02T14:14:16\", \"2021-03-02T15:17:04\", \"2021-03-02T16:29:48\", \"2021-03-02T18:52:47\", \"2021-03-02T18:55:34\", \"2021-03-02T19:09:14\", \"2021-03-02T19:12:19\", \"2021-03-02T19:34:56\", \"2021-03-02T19:55:17\", \"2021-03-02T20:02:21\", \"2021-03-02T20:11:31\", \"2021-03-02T20:15:32\", \"2021-03-02T22:11:05\", \"2021-03-02T23:58:53\", \"2021-03-03T00:10:39\", \"2021-03-03T00:37:09\", \"2021-03-03T01:46:20\", \"2021-03-03T01:57:17\", \"2021-03-03T03:51:28\", \"2021-03-03T04:06:55\", \"2021-03-03T04:18:28\", \"2021-03-03T07:09:28\", \"2021-03-03T07:17:45\", \"2021-03-03T07:54:26\", \"2021-03-03T08:08:41\", \"2021-03-03T08:41:24\", \"2021-03-03T10:11:38\", \"2021-03-03T10:37:37\", \"2021-03-03T11:05:40\", \"2021-03-03T11:41:51\", \"2021-03-03T12:09:00\", \"2021-03-03T12:24:21\", \"2021-03-03T14:12:03\", \"2021-03-03T14:29:28\", \"2021-03-03T15:07:34\", \"2021-03-03T15:30:53\", \"2021-03-03T16:41:48\", \"2021-03-03T16:53:18\", \"2021-03-03T17:05:00\", \"2021-03-03T17:51:42\", \"2021-03-03T17:57:14\", \"2021-03-03T18:06:13\", \"2021-03-03T18:16:39\", \"2021-03-03T18:17:44\", \"2021-03-03T18:19:50\", \"2021-03-03T18:21:06\", \"2021-03-03T18:44:19\", \"2021-03-03T18:45:29\", \"2021-03-03T19:30:00\", \"2021-03-03T19:36:48\", \"2021-03-03T19:56:04\", \"2021-03-03T20:46:58\", \"2021-03-03T20:55:04\", \"2021-03-03T21:29:24\", \"2021-03-03T21:33:35\", \"2021-03-03T21:37:56\", \"2021-03-03T21:50:32\", \"2021-03-03T22:12:20\", \"2021-03-03T22:32:07\", \"2021-03-03T22:57:57\", \"2021-03-03T23:01:49\", \"2021-03-04T00:18:47\", \"2021-03-04T01:08:11\", \"2021-03-04T03:48:27\", \"2021-03-04T04:14:09\", \"2021-03-04T04:22:01\", \"2021-03-04T05:16:13\", \"2021-03-04T06:05:58\", \"2021-03-04T07:12:30\", \"2021-03-04T07:49:44\", \"2021-03-04T08:11:00\", \"2021-03-04T10:33:29\", \"2021-03-04T10:52:55\", \"2021-03-04T11:35:41\", \"2021-03-04T12:04:22\", \"2021-03-04T12:08:42\", \"2021-03-04T12:50:21\", \"2021-03-04T13:10:55\", \"2021-03-04T13:12:00\", \"2021-03-04T13:29:57\", \"2021-03-04T13:51:05\", \"2021-03-04T13:53:04\", \"2021-03-04T14:15:02\", \"2021-03-04T14:15:36\", \"2021-03-04T14:28:32\", \"2021-03-04T14:29:59\", \"2021-03-04T14:31:04\", \"2021-03-04T14:36:50\", \"2021-03-04T15:00:02\", \"2021-03-04T15:00:25\", \"2021-03-04T15:25:55\", \"2021-03-04T16:27:12\", \"2021-03-04T17:16:59\", \"2021-03-04T17:22:44\", \"2021-03-04T18:15:18\", \"2021-03-04T19:18:52\", \"2021-03-04T20:23:47\", \"2021-03-04T20:57:47\", \"2021-03-04T21:09:59\", \"2021-03-04T21:45:02\", \"2021-03-04T21:45:41\", \"2021-03-04T22:15:23\", \"2021-03-05T00:33:28\", \"2021-03-05T03:28:16\", \"2021-03-05T03:56:40\", \"2021-03-05T04:54:13\", \"2021-03-05T05:08:37\", \"2021-03-05T06:02:26\", \"2021-03-05T06:16:05\", \"2021-03-05T07:53:00\", \"2021-03-05T08:13:43\", \"2021-03-05T08:48:45\", \"2021-03-05T09:12:02\", \"2021-03-05T09:52:55\", \"2021-03-05T10:14:00\", \"2021-03-05T11:12:09\", \"2021-03-05T12:44:37\", \"2021-03-05T13:11:36\", \"2021-03-05T13:27:01\", \"2021-03-05T13:29:42\", \"2021-03-05T14:18:12\", \"2021-03-05T14:19:07\", \"2021-03-05T14:30:53\", \"2021-03-05T15:26:06\", \"2021-03-05T15:48:58\", \"2021-03-05T15:52:09\", \"2021-03-05T16:02:24\", \"2021-03-05T16:12:00\", \"2021-03-05T18:20:10\", \"2021-03-05T18:29:40\", \"2021-03-05T18:32:24\", \"2021-03-05T18:41:15\", \"2021-03-05T18:50:04\", \"2021-03-05T18:51:56\", \"2021-03-05T19:51:24\", \"2021-03-05T21:19:02\", \"2021-03-05T21:23:44\", \"2021-03-05T21:34:41\", \"2021-03-05T21:35:02\", \"2021-03-05T21:46:36\", \"2021-03-05T23:04:15\", \"2021-03-05T23:41:20\", \"2021-03-05T23:45:03\", \"2021-03-06T00:58:24\", \"2021-03-06T01:01:55\", \"2021-03-06T01:20:48\", \"2021-03-06T04:25:19\", \"2021-03-06T07:33:56\", \"2021-03-06T07:42:57\", \"2021-03-06T09:27:51\", \"2021-03-06T10:01:24\", \"2021-03-06T10:48:32\", \"2021-03-06T10:59:16\", \"2021-03-06T12:01:43\", \"2021-03-06T12:02:31\", \"2021-03-06T14:45:10\", \"2021-03-06T15:02:04\", \"2021-03-06T15:02:55\", \"2021-03-06T15:11:22\", \"2021-03-06T16:31:00\", \"2021-03-06T16:56:15\", \"2021-03-06T17:05:49\", \"2021-03-06T20:04:46\", \"2021-03-06T20:21:31\", \"2021-03-06T21:32:36\", \"2021-03-06T23:17:26\", \"2021-03-07T00:01:00\", \"2021-03-07T05:26:21\", \"2021-03-07T06:31:52\", \"2021-03-07T07:25:16\", \"2021-03-07T09:20:03\", \"2021-03-07T09:32:19\", \"2021-03-07T09:58:34\", \"2021-03-07T11:18:02\", \"2021-03-07T11:19:45\", \"2021-03-07T11:56:34\", \"2021-03-07T12:16:04\", \"2021-03-07T12:50:00\", \"2021-03-07T12:59:44\", \"2021-03-07T13:14:00\", \"2021-03-07T13:53:40\", \"2021-03-07T15:21:14\", \"2021-03-07T15:30:31\", \"2021-03-07T15:46:17\", \"2021-03-07T17:18:17\", \"2021-03-07T18:44:01\", \"2021-03-07T18:52:30\", \"2021-03-07T19:07:48\", \"2021-03-07T19:28:03\", \"2021-03-07T22:09:10\", \"2021-03-07T22:15:39\", \"2021-03-07T22:37:17\", \"2021-03-07T23:35:27\", \"2021-03-08T00:57:32\", \"2021-03-08T03:27:21\", \"2021-03-08T04:12:32\", \"2021-03-08T06:57:24\", \"2021-03-08T07:56:55\", \"2021-03-08T09:41:56\", \"2021-03-08T10:55:10\", \"2021-03-08T11:52:36\", \"2021-03-08T12:00:04\", \"2021-03-08T12:02:46\", \"2021-03-08T12:11:57\", \"2021-03-08T12:19:38\", \"2021-03-08T13:09:37\", \"2021-03-08T13:10:00\", \"2021-03-08T14:53:16\", \"2021-03-08T15:26:03\", \"2021-03-08T16:04:49\", \"2021-03-08T16:06:54\", \"2021-03-08T16:07:34\", \"2021-03-08T16:40:51\", \"2021-03-08T16:58:26\", \"2021-03-08T17:38:40\", \"2021-03-08T17:40:00\", \"2021-03-08T17:53:03\", \"2021-03-08T18:12:26\", \"2021-03-08T18:53:44\", \"2021-03-08T20:03:22\", \"2021-03-08T20:26:56\", \"2021-03-08T22:03:49\", \"2021-03-08T22:04:21\", \"2021-03-08T22:10:05\", \"2021-03-08T22:24:23\", \"2021-03-08T22:25:46\", \"2021-03-08T22:49:23\", \"2021-03-08T23:27:56\", \"2021-03-09T00:46:23\", \"2021-03-09T01:47:39\", \"2021-03-09T02:53:45\", \"2021-03-09T06:37:55\", \"2021-03-09T09:26:14\", \"2021-03-09T09:35:56\", \"2021-03-09T09:47:10\", \"2021-03-09T10:18:34\", \"2021-03-09T10:57:42\", \"2021-03-09T11:06:18\", \"2021-03-09T11:56:34\", \"2021-03-09T12:09:55\", \"2021-03-09T12:11:15\", \"2021-03-09T12:11:33\", \"2021-03-09T12:12:38\", \"2021-03-09T12:28:03\", \"2021-03-09T12:38:22\", \"2021-03-09T12:51:03\", \"2021-03-09T13:19:06\", \"2021-03-09T14:00:00\", \"2021-03-09T14:02:11\", \"2021-03-09T14:12:13\", \"2021-03-09T14:23:43\", \"2021-03-09T14:37:33\", \"2021-03-09T14:46:06\", \"2021-03-09T14:58:32\", \"2021-03-09T15:30:26\", \"2021-03-09T15:35:05\", \"2021-03-09T15:55:56\", \"2021-03-09T16:26:45\", \"2021-03-09T16:41:59\", \"2021-03-09T16:59:21\", \"2021-03-09T17:06:13\", \"2021-03-09T17:22:08\", \"2021-03-09T17:59:58\", \"2021-03-09T18:53:36\", \"2021-03-09T19:04:15\", \"2021-03-09T19:06:40\", \"2021-03-09T20:46:51\", \"2021-03-09T20:53:16\", \"2021-03-09T21:37:06\", \"2021-03-09T21:38:18\", \"2021-03-09T22:05:01\", \"2021-03-09T22:31:57\", \"2021-03-09T23:15:54\", \"2021-03-09T23:19:42\", \"2021-03-09T23:56:28\", \"2021-03-10T00:02:51\", \"2021-03-10T00:09:12\", \"2021-03-10T00:27:45\", \"2021-03-10T01:10:24\", \"2021-03-10T01:21:55\", \"2021-03-10T01:50:47\", \"2021-03-10T02:52:52\", \"2021-03-10T03:34:59\", \"2021-03-10T04:11:37\", \"2021-03-10T04:29:31\", \"2021-03-10T06:00:00\", \"2021-03-10T07:15:44\", \"2021-03-10T08:17:56\", \"2021-03-10T11:14:29\", \"2021-03-10T11:25:27\", \"2021-03-10T11:38:44\", \"2021-03-10T11:43:37\", \"2021-03-10T11:43:38\", \"2021-03-10T11:44:02\", \"2021-03-10T12:01:51\", \"2021-03-10T12:12:35\", \"2021-03-10T12:26:02\", \"2021-03-10T12:26:04\", \"2021-03-10T12:40:02\", \"2021-03-10T12:46:06\", \"2021-03-10T13:30:25\", \"2021-03-10T14:01:03\", \"2021-03-10T14:22:28\", \"2021-03-10T14:23:05\", \"2021-03-10T14:49:06\", \"2021-03-10T15:03:57\", \"2021-03-10T16:19:16\", \"2021-03-10T18:49:24\", \"2021-03-10T20:59:47\", \"2021-03-10T21:30:31\", \"2021-03-10T21:42:35\", \"2021-03-10T23:36:50\", \"2021-03-11T00:04:35\", \"2021-03-11T01:55:52\", \"2021-03-11T02:12:31\", \"2021-03-11T03:34:26\", \"2021-03-11T03:57:01\", \"2021-03-11T04:18:22\", \"2021-03-11T04:18:34\", \"2021-03-11T05:04:37\", \"2021-03-11T06:10:38\", \"2021-03-11T06:14:41\", \"2021-03-11T06:30:00\", \"2021-03-11T07:27:00\", \"2021-03-11T07:49:26\", \"2021-03-11T08:16:03\", \"2021-03-11T09:05:55\", \"2021-03-11T09:22:10\", \"2021-03-11T09:43:56\", \"2021-03-11T10:29:35\", \"2021-03-11T11:07:11\", \"2021-03-11T11:27:00\", \"2021-03-11T11:39:07\", \"2021-03-11T12:12:32\", \"2021-03-11T12:48:29\", \"2021-03-11T13:35:14\", \"2021-03-11T13:49:38\", \"2021-03-11T14:08:57\", \"2021-03-11T14:18:50\", \"2021-03-11T14:24:32\", \"2021-03-11T14:30:00\", \"2021-03-11T14:32:55\", \"2021-03-11T14:33:33\", \"2021-03-11T14:40:11\", \"2021-03-11T14:52:38\", \"2021-03-11T15:08:34\", \"2021-03-11T15:33:58\", \"2021-03-11T15:49:33\", \"2021-03-11T15:58:17\", \"2021-03-11T16:00:00\", \"2021-03-11T16:07:46\", \"2021-03-11T16:24:10\", \"2021-03-11T16:56:48\", \"2021-03-11T17:07:52\", \"2021-03-11T17:53:12\", \"2021-03-11T17:55:54\", \"2021-03-11T17:57:07\", \"2021-03-11T18:09:45\", \"2021-03-11T18:19:18\", \"2021-03-11T18:30:00\", \"2021-03-11T19:21:15\", \"2021-03-11T19:36:31\", \"2021-03-11T20:54:33\", \"2021-03-11T21:10:01\", \"2021-03-11T21:34:40\", \"2021-03-11T22:30:49\", \"2021-03-11T22:36:08\", \"2021-03-11T22:36:16\", \"2021-03-11T22:40:07\", \"2021-03-11T22:44:43\", \"2021-03-11T23:22:39\", \"2021-03-12T05:37:16\", \"2021-03-12T05:49:44\", \"2021-03-12T07:06:39\", \"2021-03-12T10:17:58\", \"2021-03-12T10:47:06\", \"2021-03-12T11:02:08\", \"2021-03-12T11:28:39\", \"2021-03-12T13:33:10\", \"2021-03-12T13:48:42\", \"2021-03-12T14:41:50\", \"2021-03-12T14:54:36\", \"2021-03-12T16:44:19\", \"2021-03-12T16:54:36\", \"2021-03-12T17:30:47\", \"2021-03-12T17:38:54\", \"2021-03-12T18:08:04\", \"2021-03-12T18:14:20\", \"2021-03-12T19:21:42\", \"2021-03-12T19:41:08\", \"2021-03-12T19:54:41\", \"2021-03-12T20:11:19\", \"2021-03-12T20:22:52\", \"2021-03-12T21:00:26\", \"2021-03-12T21:30:00\", \"2021-03-12T21:56:20\", \"2021-03-12T22:28:16\", \"2021-03-12T22:33:29\", \"2021-03-12T22:35:23\", \"2021-03-13T00:31:50\", \"2021-03-13T01:51:36\", \"2021-03-13T01:53:09\", \"2021-03-13T01:57:56\", \"2021-03-13T02:25:39\", \"2021-03-13T02:36:32\", \"2021-03-13T04:45:00\", \"2021-03-13T08:44:11\", \"2021-03-13T09:00:16\", \"2021-03-13T11:37:10\", \"2021-03-13T12:12:23\", \"2021-03-13T13:23:54\", \"2021-03-13T13:58:17\", \"2021-03-13T14:09:40\", \"2021-03-13T15:03:22\", \"2021-03-13T15:32:05\", \"2021-03-13T16:33:04\", \"2021-03-13T17:49:24\", \"2021-03-13T20:31:53\", \"2021-03-13T20:45:24\", \"2021-03-13T23:12:25\", \"2021-03-14T01:17:01\", \"2021-03-14T02:15:18\", \"2021-03-14T02:39:16\", \"2021-03-14T02:42:17\", \"2021-03-14T02:54:12\", \"2021-03-14T03:18:02\", \"2021-03-14T03:25:02\", \"2021-03-14T05:25:49\", \"2021-03-14T06:29:47\", \"2021-03-14T07:07:09\", \"2021-03-14T09:05:38\", \"2021-03-14T09:09:01\", \"2021-03-14T09:21:41\", \"2021-03-14T09:44:39\", \"2021-03-14T10:24:09\", \"2021-03-14T10:59:02\", \"2021-03-14T12:36:27\", \"2021-03-14T12:55:19\", \"2021-03-14T13:21:57\", \"2021-03-14T13:34:33\", \"2021-03-14T13:39:43\", \"2021-03-14T14:23:16\", \"2021-03-14T14:56:39\", \"2021-03-14T15:29:46\", \"2021-03-14T15:37:08\", \"2021-03-14T16:21:28\", \"2021-03-14T18:25:32\", \"2021-03-14T18:34:23\", \"2021-03-14T19:45:38\", \"2021-03-14T20:06:16\", \"2021-03-14T20:29:16\", \"2021-03-14T20:34:53\", \"2021-03-14T20:46:44\", \"2021-03-14T20:52:17\", \"2021-03-14T20:53:45\", \"2021-03-14T21:11:13\", \"2021-03-14T22:53:29\", \"2021-03-15T01:49:36\", \"2021-03-15T02:32:02\", \"2021-03-15T05:05:58\", \"2021-03-15T05:15:11\", \"2021-03-15T06:19:07\", \"2021-03-15T07:47:02\", \"2021-03-15T08:34:57\", \"2021-03-15T08:57:46\", \"2021-03-15T09:26:26\", \"2021-03-15T10:32:31\", \"2021-03-15T10:37:15\", \"2021-03-15T10:38:05\", \"2021-03-15T11:30:33\", \"2021-03-15T11:30:58\", \"2021-03-15T11:33:41\", \"2021-03-15T11:42:31\", \"2021-03-15T12:48:47\", \"2021-03-15T13:24:00\", \"2021-03-15T13:36:28\", \"2021-03-15T14:18:27\", \"2021-03-15T14:44:58\", \"2021-03-15T14:52:32\", \"2021-03-15T14:55:35\", \"2021-03-15T15:43:43\", \"2021-03-15T16:01:05\", \"2021-03-15T17:11:58\", \"2021-03-15T17:24:29\", \"2021-03-15T18:16:34\", \"2021-03-15T18:28:04\", \"2021-03-15T18:30:47\", \"2021-03-15T18:48:15\", \"2021-03-15T18:56:43\", \"2021-03-15T19:20:30\", \"2021-03-15T19:27:46\", \"2021-03-15T19:49:28\", \"2021-03-15T20:41:05\", \"2021-03-15T20:44:40\", \"2021-03-15T20:47:08\", \"2021-03-15T20:50:53\", \"2021-03-15T21:30:53\", \"2021-03-15T22:00:01\", \"2021-03-15T22:14:22\", \"2021-03-15T22:45:32\", \"2021-03-15T22:48:58\", \"2021-03-15T22:58:24\", \"2021-03-15T23:01:45\", \"2021-03-15T23:07:21\", \"2021-03-15T23:07:43\", \"2021-03-15T23:13:23\", \"2021-03-15T23:14:02\", \"2021-03-15T23:15:00\", \"2021-03-15T23:22:11\", \"2021-03-15T23:29:30\", \"2021-03-16T00:06:56\", \"2021-03-16T01:42:10\", \"2021-03-16T01:54:57\", \"2021-03-16T03:36:38\", \"2021-03-16T03:37:37\", \"2021-03-16T06:54:34\", \"2021-03-16T07:51:00\", \"2021-03-16T08:07:24\", \"2021-03-16T08:26:30\", \"2021-03-16T08:54:17\", \"2021-03-16T09:40:16\", \"2021-03-16T11:00:03\", \"2021-03-16T11:59:29\", \"2021-03-16T12:40:53\", \"2021-03-16T12:52:51\", \"2021-03-16T13:10:31\", \"2021-03-16T13:21:15\", \"2021-03-16T13:24:10\", \"2021-03-16T13:41:23\", \"2021-03-16T14:10:18\", \"2021-03-16T14:58:03\", \"2021-03-16T14:58:38\", \"2021-03-16T15:07:43\", \"2021-03-16T15:08:56\", \"2021-03-16T15:12:48\", \"2021-03-16T16:28:30\", \"2021-03-16T16:32:21\", \"2021-03-16T16:41:02\", \"2021-03-16T16:42:27\", \"2021-03-16T16:42:39\", \"2021-03-16T16:46:58\", \"2021-03-16T17:29:44\", \"2021-03-16T17:57:25\", \"2021-03-16T18:02:43\", \"2021-03-16T18:48:09\", \"2021-03-16T19:16:38\", \"2021-03-16T20:03:13\", \"2021-03-16T20:39:50\", \"2021-03-16T20:51:27\", \"2021-03-16T20:57:54\", \"2021-03-16T21:11:00\", \"2021-03-16T22:26:24\", \"2021-03-16T23:10:26\", \"2021-03-17T00:07:20\", \"2021-03-17T00:16:19\", \"2021-03-17T00:43:29\", \"2021-03-17T01:51:29\", \"2021-03-17T02:00:03\", \"2021-03-17T02:06:35\", \"2021-03-17T02:34:09\", \"2021-03-17T03:10:56\", \"2021-03-17T03:45:30\", \"2021-03-17T03:52:24\", \"2021-03-17T05:40:35\", \"2021-03-17T06:08:39\", \"2021-03-17T06:14:10\", \"2021-03-17T06:26:45\", \"2021-03-17T07:25:47\", \"2021-03-17T07:25:48\", \"2021-03-17T07:30:20\", \"2021-03-17T07:59:22\", \"2021-03-17T08:18:41\", \"2021-03-17T08:37:50\", \"2021-03-17T10:22:55\", \"2021-03-17T10:55:39\", \"2021-03-17T11:42:34\", \"2021-03-17T12:33:00\", \"2021-03-17T12:49:28\", \"2021-03-17T12:51:16\", \"2021-03-17T13:01:48\", \"2021-03-17T13:36:08\", \"2021-03-17T14:24:45\", \"2021-03-17T14:47:10\", \"2021-03-17T15:09:57\", \"2021-03-17T15:10:00\", \"2021-03-17T15:16:13\", \"2021-03-17T15:45:14\", \"2021-03-17T15:55:52\", \"2021-03-17T15:56:17\", \"2021-03-17T17:01:50\", \"2021-03-17T17:25:49\", \"2021-03-17T17:39:56\", \"2021-03-17T18:03:22\", \"2021-03-17T18:13:50\", \"2021-03-17T18:25:00\", \"2021-03-17T18:58:51\", \"2021-03-17T20:04:46\", \"2021-03-17T20:54:24\", \"2021-03-17T21:47:16\", \"2021-03-17T23:18:11\", \"2021-03-18T04:54:16\", \"2021-03-18T09:32:14\", \"2021-03-18T09:35:18\", \"2021-03-18T09:45:00\", \"2021-03-18T10:18:25\", \"2021-03-18T10:34:40\", \"2021-03-18T11:39:57\", \"2021-03-18T12:01:33\", \"2021-03-18T12:53:10\", \"2021-03-18T13:07:13\", \"2021-03-18T13:24:06\", \"2021-03-18T14:04:15\", \"2021-03-18T14:58:03\", \"2021-03-18T15:44:51\", \"2021-03-18T16:05:52\", \"2021-03-18T17:43:37\", \"2021-03-18T17:56:27\", \"2021-03-18T18:12:08\", \"2021-03-18T18:33:01\", \"2021-03-18T18:34:21\", \"2021-03-18T18:58:25\", \"2021-03-18T19:37:49\", \"2021-03-18T20:49:49\", \"2021-03-18T21:29:41\", \"2021-03-18T22:23:49\", \"2021-03-18T22:41:17\", \"2021-03-18T22:59:48\", \"2021-03-18T23:21:10\", \"2021-03-18T23:47:28\", \"2021-03-19T00:20:05\", \"2021-03-19T00:21:43\", \"2021-03-19T01:23:17\", \"2021-03-19T01:29:52\", \"2021-03-19T01:36:55\", \"2021-03-19T01:38:15\", \"2021-03-19T02:20:08\", \"2021-03-19T02:37:33\", \"2021-03-19T04:06:10\", \"2021-03-19T04:32:46\", \"2021-03-19T04:34:31\", \"2021-03-19T08:06:33\", \"2021-03-19T08:22:45\", \"2021-03-19T09:10:46\", \"2021-03-19T10:59:48\", \"2021-03-19T11:12:08\", \"2021-03-19T12:14:45\", \"2021-03-19T13:19:29\", \"2021-03-19T14:00:00\", \"2021-03-19T14:19:39\", \"2021-03-19T14:25:42\", \"2021-03-19T15:58:31\", \"2021-03-19T16:07:57\", \"2021-03-19T16:08:00\", \"2021-03-19T17:42:43\", \"2021-03-19T18:27:36\", \"2021-03-19T19:10:41\", \"2021-03-19T19:32:41\", \"2021-03-19T19:49:12\", \"2021-03-19T19:52:57\", \"2021-03-19T19:57:50\", \"2021-03-19T20:51:22\", \"2021-03-19T22:06:18\", \"2021-03-19T22:24:13\", \"2021-03-19T22:53:56\", \"2021-03-19T23:22:58\", \"2021-03-19T23:29:01\", \"2021-03-19T23:38:46\", \"2021-03-20T00:00:32\", \"2021-03-20T00:13:38\", \"2021-03-20T00:22:54\", \"2021-03-20T01:45:23\", \"2021-03-20T02:52:02\", \"2021-03-20T05:12:59\", \"2021-03-20T08:19:22\", \"2021-03-20T09:03:13\", \"2021-03-20T09:11:01\", \"2021-03-20T10:06:02\", \"2021-03-20T11:12:00\", \"2021-03-20T12:13:59\", \"2021-03-20T12:22:31\", \"2021-03-20T13:23:55\", \"2021-03-20T14:19:09\", \"2021-03-20T14:26:31\", \"2021-03-20T15:24:01\", \"2021-03-20T15:45:16\", \"2021-03-20T15:47:25\", \"2021-03-20T15:50:24\", \"2021-03-20T16:52:43\", \"2021-03-20T17:39:09\", \"2021-03-20T18:07:00\", \"2021-03-20T18:44:10\", \"2021-03-20T20:05:27\", \"2021-03-20T20:27:46\", \"2021-03-20T20:27:51\", \"2021-03-20T20:27:55\", \"2021-03-20T20:28:00\", \"2021-03-20T20:33:53\", \"2021-03-20T20:36:27\", \"2021-03-20T21:39:34\", \"2021-03-20T22:06:53\", \"2021-03-20T22:46:42\", \"2021-03-20T22:52:32\", \"2021-03-20T23:35:26\", \"2021-03-21T00:41:48\", \"2021-03-21T01:14:22\", \"2021-03-21T01:35:09\", \"2021-03-21T02:48:31\", \"2021-03-21T03:40:29\", \"2021-03-21T05:45:27\", \"2021-03-21T07:53:47\", \"2021-03-21T08:46:39\", \"2021-03-21T09:54:48\", \"2021-03-21T10:28:59\", \"2021-03-21T12:08:18\", \"2021-03-21T14:19:26\", \"2021-03-21T17:39:44\", \"2021-03-21T17:57:20\", \"2021-03-21T19:37:05\", \"2021-03-21T19:41:06\", \"2021-03-21T20:55:50\", \"2021-03-21T21:44:16\", \"2021-03-21T23:15:25\", \"2021-03-21T23:22:26\", \"2021-03-21T23:24:33\", \"2021-03-21T23:26:44\", \"2021-03-22T00:00:45\", \"2021-03-22T05:58:25\", \"2021-03-22T06:20:31\", \"2021-03-22T07:05:03\", \"2021-03-22T07:17:51\", \"2021-03-22T08:24:29\", \"2021-03-22T08:29:24\", \"2021-03-22T08:51:32\", \"2021-03-22T08:58:44\", \"2021-03-22T09:57:37\", \"2021-03-22T10:07:55\", \"2021-03-22T10:13:14\", \"2021-03-22T10:25:52\", \"2021-03-22T10:38:23\", \"2021-03-22T10:45:25\", \"2021-03-22T11:00:30\", \"2021-03-22T12:04:47\", \"2021-03-22T14:26:00\", \"2021-03-22T14:43:18\", \"2021-03-22T15:20:28\", \"2021-03-22T15:27:29\", \"2021-03-22T15:47:16\", \"2021-03-22T16:03:30\", \"2021-03-22T16:31:01\", \"2021-03-22T16:39:34\", \"2021-03-22T16:42:26\", \"2021-03-22T17:26:19\", \"2021-03-22T18:04:47\", \"2021-03-22T18:27:04\", \"2021-03-22T19:00:23\", \"2021-03-22T19:09:21\", \"2021-03-22T20:31:24\", \"2021-03-22T21:12:09\", \"2021-03-22T22:51:35\", \"2021-03-23T00:48:00\", \"2021-03-23T01:02:01\", \"2021-03-23T01:54:20\", \"2021-03-23T03:03:06\", \"2021-03-23T07:13:08\", \"2021-03-23T07:45:52\", \"2021-03-23T09:32:20\", \"2021-03-23T09:59:01\", \"2021-03-23T11:59:01\", \"2021-03-23T12:04:13\", \"2021-03-23T12:06:04\", \"2021-03-23T12:25:21\", \"2021-03-23T12:29:16\", \"2021-03-23T13:35:33\", \"2021-03-23T13:37:47\", \"2021-03-23T14:22:35\", \"2021-03-23T14:25:34\", \"2021-03-23T14:30:00\", \"2021-03-23T15:08:08\", \"2021-03-23T15:16:19\", \"2021-03-23T15:29:26\", \"2021-03-23T15:46:16\", \"2021-03-23T16:04:44\", \"2021-03-23T17:01:58\", \"2021-03-23T17:49:12\", \"2021-03-23T19:28:55\", \"2021-03-23T19:41:35\", \"2021-03-23T20:56:04\", \"2021-03-23T21:15:02\", \"2021-03-23T21:33:06\", \"2021-03-23T23:08:11\", \"2021-03-24T01:04:24\", \"2021-03-24T01:42:13\", \"2021-03-24T01:43:29\", \"2021-03-24T03:28:34\", \"2021-03-24T04:30:11\", \"2021-03-24T04:39:53\", \"2021-03-24T05:08:33\", \"2021-03-24T05:40:40\", \"2021-03-24T07:22:03\", \"2021-03-24T07:22:04\", \"2021-03-24T07:31:11\", \"2021-03-24T08:03:02\", \"2021-03-24T08:11:43\", \"2021-03-24T08:14:41\", \"2021-03-24T08:26:41\", \"2021-03-24T09:31:07\", \"2021-03-24T09:33:44\", \"2021-03-24T09:55:11\", \"2021-03-24T10:21:28\", \"2021-03-24T10:29:22\", \"2021-03-24T10:56:28\", \"2021-03-24T11:00:17\", \"2021-03-24T11:16:06\", \"2021-03-24T11:31:50\", \"2021-03-24T11:43:44\", \"2021-03-24T11:46:29\", \"2021-03-24T12:40:21\", \"2021-03-24T12:47:26\", \"2021-03-24T12:49:11\", \"2021-03-24T13:14:32\", \"2021-03-24T13:16:02\", \"2021-03-24T13:17:22\", \"2021-03-24T13:22:19\", \"2021-03-24T13:52:14\", \"2021-03-24T14:00:18\", \"2021-03-24T14:04:38\", \"2021-03-24T14:08:49\", \"2021-03-24T14:09:46\", \"2021-03-24T14:33:13\", \"2021-03-24T14:44:15\", \"2021-03-24T14:59:02\", \"2021-03-24T15:32:47\", \"2021-03-24T15:53:18\", \"2021-03-24T15:53:45\", \"2021-03-24T16:05:20\", \"2021-03-24T16:45:36\", \"2021-03-24T17:34:05\", \"2021-03-24T17:50:32\", \"2021-03-24T22:45:38\", \"2021-03-24T22:53:42\", \"2021-03-24T23:50:02\", \"2021-03-25T00:34:39\", \"2021-03-25T00:52:48\", \"2021-03-25T01:41:01\", \"2021-03-25T01:46:51\", \"2021-03-25T01:52:24\", \"2021-03-25T07:31:50\", \"2021-03-25T08:18:16\", \"2021-03-25T09:32:46\", \"2021-03-25T09:40:56\", \"2021-03-25T09:49:34\", \"2021-03-25T10:14:55\", \"2021-03-25T10:19:56\", \"2021-03-25T12:36:12\", \"2021-03-25T12:37:11\", \"2021-03-25T12:55:19\", \"2021-03-25T13:08:32\", \"2021-03-25T13:12:01\", \"2021-03-25T13:14:12\", \"2021-03-25T13:36:46\", \"2021-03-25T14:54:46\", \"2021-03-25T16:38:33\", \"2021-03-25T16:48:30\", \"2021-03-25T16:50:20\", \"2021-03-25T17:15:00\", \"2021-03-25T17:39:22\", \"2021-03-25T17:43:33\", \"2021-03-25T18:29:38\", \"2021-03-25T18:53:02\", \"2021-03-25T19:19:04\", \"2021-03-25T19:39:05\", \"2021-03-25T20:23:28\", \"2021-03-25T20:53:51\", \"2021-03-25T21:51:34\", \"2021-03-25T21:54:46\", \"2021-03-25T21:56:26\", \"2021-03-25T22:00:53\", \"2021-03-26T00:33:50\", \"2021-03-26T00:47:34\", \"2021-03-26T01:47:26\", \"2021-03-26T02:26:02\", \"2021-03-26T03:11:00\", \"2021-03-26T07:42:06\", \"2021-03-26T08:14:45\", \"2021-03-26T09:27:42\", \"2021-03-26T09:51:10\", \"2021-03-26T11:45:00\", \"2021-03-26T12:23:07\", \"2021-03-26T13:04:50\", \"2021-03-26T13:19:04\", \"2021-03-26T13:29:41\", \"2021-03-26T16:00:02\", \"2021-03-26T16:30:00\", \"2021-03-26T16:38:23\", \"2021-03-26T16:45:00\", \"2021-03-26T17:06:33\", \"2021-03-26T17:18:50\", \"2021-03-26T17:39:17\", \"2021-03-26T17:51:50\", \"2021-03-26T17:53:18\", \"2021-03-26T18:15:05\", \"2021-03-26T18:38:25\", \"2021-03-26T19:05:53\", \"2021-03-26T19:15:53\", \"2021-03-26T19:23:23\", \"2021-03-26T20:07:50\", \"2021-03-26T20:37:50\", \"2021-03-26T20:53:34\", \"2021-03-26T21:12:50\", \"2021-03-26T21:47:03\", \"2021-03-26T21:49:25\", \"2021-03-26T23:28:08\", \"2021-03-26T23:48:17\", \"2021-03-27T03:38:21\", \"2021-03-27T03:49:40\", \"2021-03-27T07:26:35\", \"2021-03-27T08:28:46\", \"2021-03-27T10:40:30\", \"2021-03-27T10:45:09\", \"2021-03-27T10:50:43\", \"2021-03-27T12:29:43\", \"2021-03-27T12:34:50\", \"2021-03-27T13:03:38\", \"2021-03-27T13:23:15\", \"2021-03-27T13:36:39\", \"2021-03-27T13:36:40\", \"2021-03-27T14:43:58\", \"2021-03-27T15:49:17\", \"2021-03-27T17:07:28\", \"2021-03-27T17:11:24\", \"2021-03-27T17:45:47\", \"2021-03-27T18:03:16\", \"2021-03-27T19:20:53\", \"2021-03-27T20:48:23\", \"2021-03-27T22:21:22\", \"2021-03-27T23:32:32\", \"2021-03-28T09:49:34\", \"2021-03-28T12:44:55\", \"2021-03-28T13:52:39\", \"2021-03-28T16:10:57\", \"2021-03-28T16:11:16\", \"2021-03-28T17:09:11\", \"2021-03-28T17:25:32\", \"2021-03-28T17:39:46\", \"2021-03-28T18:41:29\", \"2021-03-28T19:38:13\", \"2021-03-28T19:56:15\", \"2021-03-28T20:09:12\", \"2021-03-28T20:24:31\", \"2021-03-28T20:29:36\", \"2021-03-28T20:38:22\", \"2021-03-28T20:39:22\", \"2021-03-29T07:52:23\", \"2021-03-29T09:22:36\", \"2021-03-29T09:34:21\", \"2021-03-29T11:28:49\", \"2021-03-29T13:19:28\", \"2021-03-29T13:52:26\", \"2021-03-29T14:01:54\", \"2021-03-29T14:16:35\", \"2021-03-29T14:16:59\", \"2021-03-29T14:36:42\", \"2021-03-29T14:52:51\", \"2021-03-29T15:30:38\", \"2021-03-29T16:23:17\", \"2021-03-29T16:54:51\", \"2021-03-29T16:56:49\", \"2021-03-29T17:00:09\", \"2021-03-29T17:03:31\", \"2021-03-29T18:08:50\", \"2021-03-29T18:15:00\", \"2021-03-29T18:20:56\", \"2021-03-29T18:27:00\", \"2021-03-29T20:39:40\", \"2021-03-29T21:50:01\", \"2021-03-30T01:58:19\", \"2021-03-30T05:33:38\", \"2021-03-30T06:51:56\", \"2021-03-30T07:10:11\", \"2021-03-30T07:55:00\", \"2021-03-30T08:41:27\", \"2021-03-30T08:43:50\", \"2021-03-30T09:10:04\", \"2021-03-30T09:36:14\", \"2021-03-30T11:21:22\", \"2021-03-30T13:51:47\", \"2021-03-30T14:00:01\", \"2021-03-30T14:45:00\", \"2021-03-30T15:35:17\", \"2021-03-30T15:58:53\", \"2021-03-30T16:17:38\", \"2021-03-30T16:38:08\", \"2021-03-30T17:11:08\", \"2021-03-30T17:18:08\", \"2021-03-30T18:22:20\", \"2021-03-30T18:25:13\", \"2021-03-30T18:38:13\", \"2021-03-30T18:42:32\", \"2021-03-30T19:15:37\", \"2021-03-31T01:34:41\", \"2021-03-31T02:27:58\", \"2021-03-31T06:47:01\", \"2021-03-31T08:47:19\", \"2021-03-31T09:47:32\", \"2021-03-31T10:17:01\", \"2021-03-31T10:34:38\", \"2021-03-31T10:52:59\", \"2021-03-31T10:53:21\", \"2021-03-31T10:54:06\", \"2021-03-31T10:54:30\", \"2021-03-31T11:04:57\", \"2021-03-31T11:08:16\", \"2021-03-31T11:14:40\", \"2021-03-31T11:16:13\", \"2021-03-31T11:18:18\", \"2021-03-31T11:25:45\", \"2021-03-31T11:28:17\", \"2021-03-31T11:41:36\", \"2021-03-31T11:44:55\", \"2021-03-31T11:49:42\", \"2021-03-31T11:56:51\", \"2021-03-31T12:00:05\", \"2021-03-31T12:01:19\", \"2021-03-31T12:03:35\", \"2021-03-31T12:37:08\", \"2021-03-31T12:39:35\", \"2021-03-31T12:44:19\", \"2021-03-31T12:49:39\", \"2021-03-31T12:51:02\", \"2021-03-31T12:52:24\", \"2021-03-31T12:55:25\", \"2021-03-31T13:01:41\", \"2021-03-31T13:06:30\", \"2021-03-31T13:24:26\", \"2021-03-31T13:27:14\", \"2021-03-31T13:38:25\", \"2021-03-31T13:40:02\", \"2021-03-31T13:43:15\", \"2021-03-31T13:45:46\", \"2021-03-31T13:54:01\", \"2021-03-31T13:57:49\", \"2021-03-31T14:01:55\", \"2021-03-31T14:04:39\", \"2021-03-31T14:09:49\", \"2021-03-31T14:13:39\", \"2021-03-31T14:15:00\", \"2021-03-31T14:15:12\", \"2021-03-31T14:26:56\", \"2021-03-31T15:00:04\", \"2021-03-31T15:14:50\", \"2021-03-31T15:17:01\", \"2021-03-31T15:19:22\", \"2021-03-31T15:24:19\", \"2021-03-31T15:26:31\", \"2021-03-31T15:29:36\", \"2021-03-31T15:40:30\", \"2021-03-31T15:49:15\", \"2021-03-31T15:50:35\", \"2021-03-31T15:58:09\", \"2021-03-31T15:59:08\", \"2021-03-31T16:11:42\", \"2021-03-31T16:12:06\", \"2021-03-31T16:12:38\", \"2021-03-31T16:20:23\", \"2021-03-31T16:46:22\", \"2021-03-31T16:48:08\", \"2021-03-31T16:50:00\", \"2021-03-31T17:15:38\", \"2021-03-31T17:26:53\", \"2021-03-31T17:27:37\", \"2021-03-31T17:29:11\", \"2021-03-31T17:29:34\", \"2021-03-31T17:31:40\", \"2021-03-31T17:45:05\", \"2021-03-31T17:46:51\", \"2021-03-31T17:50:52\", \"2021-03-31T17:55:58\", \"2021-03-31T18:03:43\", \"2021-03-31T18:11:27\", \"2021-03-31T18:13:45\", \"2021-03-31T18:24:42\", \"2021-03-31T18:35:35\", \"2021-03-31T18:37:54\", \"2021-03-31T18:47:54\", \"2021-03-31T18:58:13\", \"2021-03-31T19:02:39\", \"2021-03-31T19:07:09\", \"2021-03-31T19:09:39\", \"2021-03-31T19:16:58\", \"2021-03-31T19:17:38\", \"2021-03-31T19:21:18\", \"2021-03-31T19:26:00\", \"2021-03-31T19:36:29\", \"2021-03-31T19:51:15\", \"2021-03-31T19:56:41\", \"2021-03-31T20:23:23\", \"2021-03-31T20:48:57\", \"2021-03-31T21:54:54\", \"2021-03-31T22:07:47\", \"2021-03-31T22:43:08\", \"2021-03-31T22:53:59\", \"2021-04-01T00:55:38\", \"2021-04-01T01:26:45\", \"2021-04-01T02:54:05\", \"2021-04-01T03:53:31\", \"2021-04-01T06:10:31\", \"2021-04-01T06:37:00\", \"2021-04-01T06:51:54\", \"2021-04-01T06:52:18\", \"2021-04-01T07:31:03\", \"2021-04-01T07:35:21\", \"2021-04-01T07:44:53\", \"2021-04-01T07:54:25\", \"2021-04-01T09:03:55\", \"2021-04-01T09:08:19\", \"2021-04-01T09:09:21\", \"2021-04-01T09:53:01\", \"2021-04-01T10:29:40\", \"2021-04-01T10:37:00\", \"2021-04-01T10:59:33\", \"2021-04-01T11:00:03\", \"2021-04-01T11:13:16\", \"2021-04-01T11:32:13\", \"2021-04-01T11:33:23\", \"2021-04-01T11:50:27\", \"2021-04-01T11:57:03\", \"2021-04-01T13:13:49\", \"2021-04-01T13:26:26\", \"2021-04-01T13:38:25\", \"2021-04-01T13:45:54\", \"2021-04-01T13:47:10\", \"2021-04-01T13:53:42\", \"2021-04-01T13:59:55\", \"2021-04-01T14:02:38\", \"2021-04-01T14:05:37\", \"2021-04-01T14:12:29\", \"2021-04-01T14:17:21\", \"2021-04-01T14:22:39\", \"2021-04-01T14:28:38\", \"2021-04-01T14:49:20\", \"2021-04-01T14:58:44\", \"2021-04-01T15:19:20\", \"2021-04-01T15:24:12\", \"2021-04-01T15:24:56\", \"2021-04-01T15:44:23\", \"2021-04-01T15:50:03\", \"2021-04-01T15:59:24\", \"2021-04-01T16:12:24\", \"2021-04-01T16:38:34\", \"2021-04-01T16:38:42\", \"2021-04-01T16:45:48\", \"2021-04-01T17:03:07\", \"2021-04-01T17:03:55\", \"2021-04-01T17:15:28\", \"2021-04-01T17:39:00\", \"2021-04-01T17:41:07\", \"2021-04-01T17:47:39\", \"2021-04-01T17:50:45\", \"2021-04-01T18:00:47\", \"2021-04-01T18:02:06\", \"2021-04-01T18:14:25\", \"2021-04-01T18:16:21\", \"2021-04-01T18:30:00\", \"2021-04-01T18:32:17\", \"2021-04-01T18:56:28\", \"2021-04-01T19:20:44\", \"2021-04-01T19:29:35\", \"2021-04-01T19:30:22\", \"2021-04-01T19:51:01\", \"2021-04-01T20:00:49\", \"2021-04-01T20:15:13\", \"2021-04-01T20:22:55\", \"2021-04-01T20:37:00\", \"2021-04-01T20:40:05\", \"2021-04-01T20:51:11\", \"2021-04-01T20:57:17\", \"2021-04-01T21:01:38\", \"2021-04-01T21:01:47\", \"2021-04-01T21:06:01\", \"2021-04-01T21:08:42\", \"2021-04-01T21:12:50\", \"2021-04-01T21:25:02\", \"2021-04-01T22:45:21\", \"2021-04-01T23:34:50\", \"2021-04-01T23:40:51\", \"2021-04-01T23:56:11\", \"2021-04-02T01:57:18\", \"2021-04-02T05:00:00\", \"2021-04-02T05:54:55\", \"2021-04-02T06:38:46\", \"2021-04-02T07:37:55\", \"2021-04-02T09:00:00\", \"2021-04-02T09:51:58\", \"2021-04-02T09:58:40\", \"2021-04-02T10:30:16\", \"2021-04-02T13:05:16\", \"2021-04-02T13:42:18\", \"2021-04-02T13:52:49\", \"2021-04-02T13:59:51\", \"2021-04-02T14:45:46\", \"2021-04-02T15:17:31\", \"2021-04-02T18:34:46\", \"2021-04-02T18:59:33\", \"2021-04-02T19:11:14\", \"2021-04-02T20:04:55\", \"2021-04-02T20:10:52\", \"2021-04-02T20:33:03\", \"2021-04-02T20:52:59\", \"2021-04-02T21:00:34\", \"2021-04-02T21:15:11\", \"2021-04-02T21:39:23\", \"2021-04-02T23:07:40\", \"2021-04-03T07:39:15\", \"2021-04-03T12:30:29\", \"2021-04-03T13:10:56\", \"2021-04-03T13:42:15\", \"2021-04-03T13:42:17\", \"2021-04-03T13:45:48\", \"2021-04-03T14:05:42\", \"2021-04-03T14:30:01\", \"2021-04-03T16:27:11\", \"2021-04-03T16:52:58\", \"2021-04-03T16:58:51\", \"2021-04-03T16:58:52\", \"2021-04-03T16:58:54\", \"2021-04-03T17:09:33\", \"2021-04-03T18:24:23\", \"2021-04-03T18:28:07\", \"2021-04-03T19:16:26\", \"2021-04-03T20:45:24\", \"2021-04-03T21:21:11\", \"2021-04-04T01:57:02\", \"2021-04-04T01:58:10\", \"2021-04-04T06:46:24\", \"2021-04-04T10:12:25\", \"2021-04-04T11:44:59\", \"2021-04-04T11:46:47\", \"2021-04-04T12:58:13\", \"2021-04-04T16:00:14\", \"2021-04-04T19:06:08\", \"2021-04-04T19:58:23\", \"2021-04-04T20:54:02\", \"2021-04-04T21:40:56\", \"2021-04-04T21:53:06\", \"2021-04-05T08:54:57\", \"2021-04-05T09:51:10\", \"2021-04-05T10:05:40\", \"2021-04-05T10:22:20\", \"2021-04-05T11:18:30\", \"2021-04-05T12:59:11\", \"2021-04-05T14:10:26\", \"2021-04-05T14:14:24\", \"2021-04-05T14:36:28\", \"2021-04-05T14:55:13\", \"2021-04-05T15:30:11\", \"2021-04-05T16:02:41\", \"2021-04-05T16:07:42\", \"2021-04-05T16:31:48\", \"2021-04-05T16:55:07\", \"2021-04-05T18:01:53\", \"2021-04-05T18:08:48\", \"2021-04-05T18:09:29\", \"2021-04-05T18:30:17\", \"2021-04-06T06:00:06\", \"2021-04-06T10:16:40\", \"2021-04-06T11:10:14\", \"2021-04-06T12:28:02\", \"2021-04-06T12:32:37\", \"2021-04-06T13:10:25\", \"2021-04-06T13:12:09\", \"2021-04-06T13:24:10\", \"2021-04-06T13:42:00\", \"2021-04-06T14:38:39\", \"2021-04-06T14:53:21\", \"2021-04-06T15:26:30\", \"2021-04-06T15:27:41\", \"2021-04-06T16:22:32\", \"2021-04-06T16:39:33\", \"2021-04-06T16:40:26\", \"2021-04-06T16:46:18\", \"2021-04-06T16:48:08\", \"2021-04-06T17:51:18\", \"2021-04-06T18:08:53\", \"2021-04-06T18:25:48\", \"2021-04-06T19:32:22\", \"2021-04-06T20:30:05\", \"2021-04-06T22:49:26\", \"2021-04-06T23:20:23\", \"2021-04-06T23:32:34\", \"2021-04-06T23:39:55\", \"2021-04-06T23:54:32\", \"2021-04-07T00:12:42\", \"2021-04-07T00:37:22\", \"2021-04-07T02:49:39\", \"2021-04-07T03:49:55\", \"2021-04-07T04:05:53\", \"2021-04-07T04:14:30\", \"2021-04-07T09:03:07\", \"2021-04-07T09:29:54\", \"2021-04-07T09:35:00\", \"2021-04-07T09:46:40\", \"2021-04-07T10:06:37\", \"2021-04-07T10:06:45\", \"2021-04-07T10:19:17\", \"2021-04-07T10:54:30\", \"2021-04-07T12:02:55\", \"2021-04-07T12:12:43\", \"2021-04-07T13:43:02\", \"2021-04-07T13:49:18\", \"2021-04-07T14:33:00\", \"2021-04-07T15:32:57\", \"2021-04-07T16:21:04\", \"2021-04-07T18:02:43\", \"2021-04-07T18:13:59\", \"2021-04-07T18:40:06\", \"2021-04-07T19:10:01\", \"2021-04-07T19:28:52\", \"2021-04-07T20:51:25\", \"2021-04-07T20:56:18\", \"2021-04-07T23:00:10\", \"2021-04-07T23:34:31\", \"2021-04-08T01:05:24\", \"2021-04-08T02:28:49\", \"2021-04-08T03:16:02\", \"2021-04-08T03:24:05\", \"2021-04-08T04:30:46\", \"2021-04-08T04:45:31\", \"2021-04-08T05:32:16\", \"2021-04-08T06:00:49\", \"2021-04-08T06:40:15\", \"2021-04-08T07:08:20\", \"2021-04-08T07:28:11\", \"2021-04-08T08:13:05\", \"2021-04-08T08:44:16\", \"2021-04-08T09:39:09\", \"2021-04-08T10:29:28\", \"2021-04-08T11:53:42\", \"2021-04-08T13:00:02\", \"2021-04-08T13:24:28\", \"2021-04-08T13:33:30\", \"2021-04-08T13:38:58\", \"2021-04-08T14:00:47\", \"2021-04-08T14:01:30\", \"2021-04-08T14:07:00\", \"2021-04-08T17:31:35\", \"2021-04-08T18:01:08\", \"2021-04-08T18:18:54\", \"2021-04-08T18:26:22\", \"2021-04-08T18:32:18\", \"2021-04-08T19:34:45\", \"2021-04-08T19:43:32\", \"2021-04-08T19:46:33\", \"2021-04-08T19:58:03\", \"2021-04-08T20:07:58\", \"2021-04-08T20:44:27\", \"2021-04-08T20:57:00\", \"2021-04-08T21:47:59\", \"2021-04-08T21:51:44\", \"2021-04-08T22:48:52\", \"2021-04-08T23:50:57\", \"2021-04-09T00:32:31\", \"2021-04-09T00:44:49\", \"2021-04-09T01:11:17\", \"2021-04-09T02:29:26\", \"2021-04-09T04:11:16\", \"2021-04-09T10:36:24\", \"2021-04-09T11:40:33\", \"2021-04-09T12:00:10\", \"2021-04-09T12:15:00\", \"2021-04-09T14:19:28\", \"2021-04-09T16:30:59\", \"2021-04-09T16:31:50\", \"2021-04-09T17:03:14\", \"2021-04-09T17:03:19\", \"2021-04-09T17:47:20\", \"2021-04-09T19:27:25\", \"2021-04-09T19:57:00\", \"2021-04-09T21:04:35\", \"2021-04-09T21:18:45\", \"2021-04-09T23:10:14\", \"2021-04-10T03:31:45\", \"2021-04-10T05:19:11\", \"2021-04-10T05:29:53\", \"2021-04-10T09:40:37\", \"2021-04-10T12:46:24\", \"2021-04-10T12:52:18\", \"2021-04-10T13:48:03\", \"2021-04-10T14:06:39\", \"2021-04-10T14:18:08\", \"2021-04-10T14:34:35\", \"2021-04-10T15:23:00\", \"2021-04-10T16:07:59\", \"2021-04-10T16:57:49\", \"2021-04-10T17:36:05\", \"2021-04-10T18:02:49\", \"2021-04-10T18:12:30\", \"2021-04-10T18:17:12\", \"2021-04-10T19:23:00\", \"2021-04-10T19:32:56\", \"2021-04-10T19:47:54\", \"2021-04-10T20:33:49\", \"2021-04-11T00:54:39\", \"2021-04-11T03:07:59\", \"2021-04-11T05:27:54\", \"2021-04-11T06:15:35\", \"2021-04-11T07:58:57\", \"2021-04-11T10:11:40\", \"2021-04-11T10:30:05\", \"2021-04-11T10:47:44\", \"2021-04-11T11:51:00\", \"2021-04-11T12:30:11\", \"2021-04-11T12:38:55\", \"2021-04-11T16:09:20\", \"2021-04-11T16:17:02\", \"2021-04-11T18:16:01\", \"2021-04-11T18:36:53\", \"2021-04-11T21:16:26\", \"2021-04-11T22:30:51\", \"2021-04-12T02:20:49\", \"2021-04-12T03:50:37\", \"2021-04-12T08:00:00\", \"2021-04-12T09:59:26\", \"2021-04-12T10:16:09\", \"2021-04-12T11:15:01\", \"2021-04-12T12:37:42\", \"2021-04-12T13:35:14\", \"2021-04-12T15:09:47\", \"2021-04-12T16:02:23\", \"2021-04-12T16:05:41\", \"2021-04-12T16:19:28\", \"2021-04-12T16:20:03\", \"2021-04-12T16:24:35\", \"2021-04-12T16:31:22\", \"2021-04-12T16:35:13\", \"2021-04-12T16:37:47\", \"2021-04-12T16:43:31\", \"2021-04-12T18:26:05\", \"2021-04-12T21:41:55\", \"2021-04-12T22:41:19\", \"2021-04-12T23:56:27\", \"2021-04-13T00:03:13\", \"2021-04-13T01:47:33\", \"2021-04-13T02:16:09\", \"2021-04-13T03:52:53\", \"2021-04-13T04:20:22\", \"2021-04-13T05:19:25\", \"2021-04-13T07:33:11\", \"2021-04-13T08:46:45\", \"2021-04-13T09:24:26\", \"2021-04-13T09:26:00\", \"2021-04-13T10:16:03\", \"2021-04-13T11:10:27\", \"2021-04-13T12:13:23\", \"2021-04-13T12:39:06\", \"2021-04-13T12:50:10\", \"2021-04-13T13:25:18\", \"2021-04-13T13:49:42\", \"2021-04-13T14:00:00\", \"2021-04-13T14:34:28\", \"2021-04-13T16:07:45\", \"2021-04-13T16:24:10\", \"2021-04-13T16:57:36\", \"2021-04-13T17:00:55\", \"2021-04-13T17:12:35\", \"2021-04-13T20:04:24\", \"2021-04-13T20:26:01\", \"2021-04-13T21:20:23\", \"2021-04-13T21:35:06\", \"2021-04-13T22:35:21\", \"2021-04-13T23:09:53\", \"2021-04-14T00:17:00\", \"2021-04-14T00:28:49\", \"2021-04-14T00:53:32\", \"2021-04-14T02:15:58\", \"2021-04-14T02:19:25\", \"2021-04-14T02:34:24\", \"2021-04-14T02:37:33\", \"2021-04-14T03:24:18\", \"2021-04-14T03:40:32\", \"2021-04-14T04:06:32\", \"2021-04-14T05:47:19\", \"2021-04-14T06:12:57\", \"2021-04-14T06:26:29\", \"2021-04-14T06:45:37\", \"2021-04-14T07:06:47\", \"2021-04-14T08:16:32\", \"2021-04-14T09:18:02\", \"2021-04-14T09:22:15\", \"2021-04-14T10:18:06\", \"2021-04-14T10:22:40\", \"2021-04-14T11:45:16\", \"2021-04-14T11:51:32\", \"2021-04-14T11:59:07\", \"2021-04-14T12:19:52\", \"2021-04-14T12:30:43\", \"2021-04-14T12:32:39\", \"2021-04-14T12:36:03\", \"2021-04-14T13:00:05\", \"2021-04-14T13:09:39\", \"2021-04-14T13:17:58\", \"2021-04-14T13:56:40\", \"2021-04-14T14:38:16\", \"2021-04-14T15:09:07\", \"2021-04-14T15:10:45\", \"2021-04-14T15:15:16\", \"2021-04-14T15:54:54\", \"2021-04-14T15:54:58\", \"2021-04-14T16:08:11\", \"2021-04-14T16:13:14\", \"2021-04-14T16:27:59\", \"2021-04-14T16:31:07\", \"2021-04-14T16:41:44\", \"2021-04-14T16:48:05\", \"2021-04-14T17:00:07\", \"2021-04-14T17:45:28\", \"2021-04-14T17:49:17\", \"2021-04-14T18:05:19\", \"2021-04-14T18:48:08\", \"2021-04-14T18:49:00\", \"2021-04-14T19:30:00\", \"2021-04-14T20:01:04\", \"2021-04-14T20:10:04\", \"2021-04-14T20:42:14\", \"2021-04-14T20:54:21\", \"2021-04-14T21:26:12\", \"2021-04-14T21:59:38\", \"2021-04-15T00:04:20\", \"2021-04-15T01:05:03\", \"2021-04-15T01:17:19\", \"2021-04-15T03:00:55\", \"2021-04-15T03:55:54\", \"2021-04-15T07:39:37\", \"2021-04-15T09:28:12\", \"2021-04-15T10:47:57\", \"2021-04-15T10:55:16\", \"2021-04-15T11:28:00\", \"2021-04-15T15:12:21\", \"2021-04-15T16:01:06\", \"2021-04-15T16:14:23\", \"2021-04-15T16:36:08\", \"2021-04-15T16:43:53\", \"2021-04-15T16:57:24\", \"2021-04-15T17:18:05\", \"2021-04-15T17:29:37\", \"2021-04-15T17:32:21\", \"2021-04-15T17:58:45\", \"2021-04-15T18:05:27\", \"2021-04-15T18:18:45\", \"2021-04-15T19:06:52\", \"2021-04-15T19:14:21\", \"2021-04-15T19:29:11\", \"2021-04-15T19:56:57\", \"2021-04-15T20:12:16\", \"2021-04-15T20:30:39\", \"2021-04-15T20:46:46\", \"2021-04-15T21:01:37\", \"2021-04-15T21:41:31\", \"2021-04-15T21:54:11\", \"2021-04-15T23:39:20\", \"2021-04-16T00:17:13\", \"2021-04-16T00:32:52\", \"2021-04-16T05:50:09\", \"2021-04-16T07:08:56\", \"2021-04-16T07:47:27\", \"2021-04-16T08:26:22\", \"2021-04-16T09:39:56\", \"2021-04-16T10:01:16\", \"2021-04-16T10:40:00\", \"2021-04-16T11:29:20\", \"2021-04-16T12:48:40\", \"2021-04-16T13:11:50\", \"2021-04-16T14:30:33\", \"2021-04-16T14:57:20\", \"2021-04-16T15:19:21\", \"2021-04-16T16:19:45\", \"2021-04-16T16:27:36\", \"2021-04-16T16:48:05\", \"2021-04-16T17:04:18\", \"2021-04-16T17:42:57\", \"2021-04-16T17:46:25\", \"2021-04-16T18:08:45\", \"2021-04-16T18:18:03\", \"2021-04-16T18:48:41\", \"2021-04-16T19:16:35\", \"2021-04-16T21:26:23\", \"2021-04-16T22:11:47\", \"2021-04-16T23:07:17\", \"2021-04-16T23:16:22\", \"2021-04-16T23:20:48\", \"2021-04-16T23:46:19\", \"2021-04-16T23:53:46\", \"2021-04-17T09:35:49\", \"2021-04-17T10:59:19\", \"2021-04-17T14:14:22\", \"2021-04-17T14:37:59\", \"2021-04-17T15:06:59\", \"2021-04-17T15:51:27\", \"2021-04-17T16:51:50\", \"2021-04-17T17:03:06\", \"2021-04-17T17:14:37\", \"2021-04-17T17:19:37\", \"2021-04-17T17:25:05\", \"2021-04-17T17:53:20\", \"2021-04-17T18:24:03\", \"2021-04-17T19:13:16\", \"2021-04-17T23:17:50\", \"2021-04-18T00:13:44\", \"2021-04-18T01:34:56\", \"2021-04-18T10:24:28\", \"2021-04-18T11:26:37\", \"2021-04-18T11:31:25\", \"2021-04-18T13:02:00\", \"2021-04-18T14:10:34\", \"2021-04-18T14:59:00\", \"2021-04-18T17:48:16\", \"2021-04-18T18:16:56\", \"2021-04-18T18:39:44\", \"2021-04-18T19:05:44\", \"2021-04-18T19:35:35\", \"2021-04-18T20:47:58\", \"2021-04-18T22:26:03\", \"2021-04-19T00:25:35\", \"2021-04-19T01:22:29\", \"2021-04-19T08:40:30\", \"2021-04-19T09:27:45\", \"2021-04-19T11:55:38\", \"2021-04-19T14:31:36\", \"2021-04-19T15:32:43\", \"2021-04-19T15:55:50\", \"2021-04-19T16:18:30\", \"2021-04-19T16:41:43\", \"2021-04-19T16:43:06\", \"2021-04-19T18:18:00\", \"2021-04-19T18:32:58\", \"2021-04-19T18:45:13\", \"2021-04-19T18:48:18\", \"2021-04-20T01:39:45\", \"2021-04-20T02:31:40\", \"2021-04-20T04:00:28\", \"2021-04-20T04:00:32\", \"2021-04-20T04:46:37\", \"2021-04-20T05:31:34\", \"2021-04-20T07:08:49\", \"2021-04-20T09:43:56\", \"2021-04-20T10:09:02\", \"2021-04-20T11:07:11\", \"2021-04-20T11:34:07\", \"2021-04-20T13:34:01\", \"2021-04-20T14:45:00\", \"2021-04-20T14:57:40\", \"2021-04-20T15:30:14\", \"2021-04-20T15:56:35\", \"2021-04-20T16:04:37\", \"2021-04-20T19:29:05\", \"2021-04-20T19:41:45\", \"2021-04-20T20:06:34\", \"2021-04-20T21:06:17\", \"2021-04-20T21:10:52\", \"2021-04-21T02:05:58\", \"2021-04-21T02:21:05\", \"2021-04-21T07:24:11\", \"2021-04-21T07:26:34\", \"2021-04-21T08:34:17\", \"2021-04-21T08:35:41\"], \"y\": [2.0, 2.0, 1.0, 0.0, 0.0, 0.0, 0.0, 0.0, 0.0, 39.0, 0.0, 0.0, 1.0, 3.0, 2.0, 0.0, 0.0, 0.0, 0.0, 11.0, 3.0, 6.0, 1.0, 2.0, 0.0, 0.0, 6.0, 8.0, 4.0, 1.0, 0.0, 130.0, 18.0, 0.0, 0.0, 0.0, 3.0, 24.0, 4.0, 0.0, 0.0, 2575.0, 0.0, 0.0, 0.0, 6.0, 6.0, 2.0, 2.0, 5.0, 1.0, 40.0, 44.0, 1.0, 25.0, 1.0, 1.0, 0.0, 1.0, 1.0, 0.0, 0.0, 7.0, 0.0, 2.0, 0.0, 0.0, 0.0, 1.0, 4.0, 8.0, 1.0, 8.0, 3.0, 1.0, 6.0, 0.0, 0.0, 1.0, 1.0, 0.0, 0.0, 7.0, 0.0, 4.0, 3.0, 0.0, 0.0, 6.0, 0.0, 0.0, 0.0, 1.0, 11.0, 0.0, 1.0, 1.0, 3.0, 0.0, 0.0, 0.0, 0.0, 7.0, 6.0, 3.0, 6.0, 0.0, 0.0, 1.0, 0.0, 0.0, 0.0, 3.0, 2.0, 55.0, 0.0, 0.0, 0.0, 5.0, 178.0, 81.0, 1.0, 0.0, 0.0, 1.0, 0.0, 0.0, 1.0, 0.0, 28.0, 156.0, 82.0, 3.0, 2.0, 0.0, 2.0, 5.0, 1.0, 3.0, 4.0, 0.0, 34.0, 1.0, 0.0, 5.0, 0.0, 5.0, 1.0, 6.0, 0.0, 0.0, 29.0, 0.0, 5.0, 46.0, 34.0, 5.0, 0.0, 0.0, 0.0, 0.0, 1.0, 0.0, 1.0, 1.0, 2263.0, 207.0, 1.0, 0.0, 6.0, 2.0, 6.0, 0.0, 1.0, 1.0, 12.0, 1.0, 0.0, 2.0, 13.0, 1.0, 0.0, 0.0, 0.0, 0.0, 1.0, 1.0, 1.0, 0.0, 0.0, 0.0, 0.0, 0.0, 1.0, 0.0, 48.0, 0.0, 1.0, 1.0, 0.0, 0.0, 1.0, 1.0, 0.0, 3.0, 3.0, 1.0, 2.0, 1.0, 0.0, 9.0, 1.0, 6.0, 1.0, 0.0, 0.0, 24.0, 0.0, 0.0, 48.0, 2.0, 0.0, 1.0, 0.0, 5.0, 0.0, 30.0, 1.0, 2.0, 5.0, 2.0, 0.0, 6.0, 2.0, 0.0, 3.0, 2.0, 1.0, 3.0, 28.0, 0.0, 0.0, 22.0, 3.0, 7.0, 28.0, 1.0, 19.0, 3.0, 1.0, 0.0, 0.0, 2.0, 1.0, 0.0, 0.0, 4.0, 0.0, 5.0, 0.0, 5.0, 19.0, 7.0, 1.0, 0.0, 0.0, 0.0, 5.0, 0.0, 0.0, 0.0, 43.0, 0.0, 0.0, 6.0, 1.0, 1.0, 7.0, 0.0, 0.0, 1.0, 6.0, 6.0, 1.0, 8.0, 2.0, 0.0, 6.0, 4.0, 0.0, 2.0, 26.0, 3.0, 8.0, 2.0, 1.0, 17.0, 11.0, 9.0, 1.0, 2.0, 0.0, 8.0, 0.0, 0.0, 0.0, 0.0, 2.0, 0.0, 14.0, 0.0, 3.0, 0.0, 1.0, 0.0, 0.0, 1.0, 17.0, 0.0, 2.0, 6.0, 18.0, 0.0, 7.0, 0.0, 4.0, 19.0, 0.0, 1.0, 0.0, 2.0, 0.0, 0.0, 0.0, 0.0, 13.0, 1.0, 8.0, 3.0, 1.0, 3.0, 0.0, 9.0, 0.0, 2.0, 0.0, 0.0, 0.0, 1.0, 1.0, 2.0, 1.0, 25.0, 0.0, 0.0, 0.0, 0.0, 0.0, 0.0, 0.0, 0.0, 1.0, 1.0, 0.0, 3.0, 2.0, 7.0, 0.0, 6.0, 31.0, 1.0, 4.0, 0.0, 0.0, 2.0, 4.0, 1.0, 0.0, 0.0, 36.0, 1.0, 0.0, 3.0, 2.0, 18.0, 1.0, 14.0, 0.0, 3.0, 0.0, 0.0, 1.0, 1.0, 1.0, 1.0, 10.0, 0.0, 2.0, 1.0, 2.0, 0.0, 6.0, 0.0, 4.0, 0.0, 0.0, 99.0, 28.0, 0.0, 1.0, 18.0, 3.0, 0.0, 533.0, 2.0, 0.0, 6.0, 0.0, 0.0, 1.0, 0.0, 0.0, 131.0, 83.0, 7.0, 45.0, 13.0, 0.0, 14.0, 125.0, 0.0, 6.0, 132.0, 8.0, 1.0, 39.0, 2.0, 55.0, 1.0, 0.0, 0.0, 0.0, 2.0, 0.0, 0.0, 0.0, 0.0, 4.0, 0.0, 0.0, 6.0, 95.0, 95.0, 1.0, 1.0, 6.0, 0.0, 0.0, 0.0, 4.0, 0.0, 2.0, 1.0, 12.0, 2.0, 0.0, 4.0, 1.0, 7.0, 0.0, 2.0, 7.0, 4.0, 0.0, 0.0, 5.0, 0.0, 0.0, 23.0, 0.0, 0.0, 20.0, 0.0, 32.0, 3.0, 3.0, 1.0, 0.0, 4.0, 0.0, 0.0, 25.0, 27.0, 2.0, 0.0, 2.0, 5.0, 1.0, 192.0, 0.0, 0.0, 0.0, 0.0, 6.0, 1.0, 4.0, 0.0, 0.0, 2.0, 40.0, 2.0, 0.0, 0.0, 34.0, 0.0, 1.0, 0.0, 11.0, 57.0, 5.0, 9.0, 2.0, 1.0, 0.0, 6.0, 0.0, 0.0, 0.0, 0.0, 1.0, 0.0, 44.0, 2.0, 30.0, 1.0, 5.0, 0.0, 0.0, 16.0, 0.0, 4.0, 27.0, 20.0, 15.0, 0.0, 0.0, 0.0, 0.0, 0.0, 0.0, 52.0, 1.0, 0.0, 0.0, 1.0, 8.0, 4.0, 0.0, 3.0, 2.0, 0.0, 0.0, 3.0, 88.0, 0.0, 0.0, 0.0, 4.0, 1.0, 1.0, 2.0, 2.0, 0.0, 0.0, 2.0, 34.0, 0.0, 1.0, 0.0, 2.0, 2.0, 2.0, 23.0, 3.0, 0.0, 0.0, 0.0, 0.0, 21.0, 0.0, 10.0, 129.0, 2.0, 0.0, 23.0, 0.0, 20.0, 0.0, 54.0, 8.0, 26.0, 6.0, 42.0, 1.0, 1.0, 20.0, 133.0, 0.0, 26.0, 2.0, 1.0, 20.0, 3.0, 1.0, 0.0, 0.0, 0.0, 0.0, 0.0, 0.0, 0.0, 0.0, 0.0, 0.0, 0.0, 0.0, 0.0, 0.0, 0.0, 0.0, 0.0, 0.0, 0.0, 0.0, 0.0, 4.0, 3.0, 0.0, 1.0, 1.0, 1.0, 2.0, 1.0, 0.0, 0.0, 0.0, 0.0, 0.0, 4.0, 2.0, 1.0, 0.0, 1.0, 5.0, 4.0, 2.0, 10.0, 4.0, 0.0, 19.0, 0.0, 18.0, 0.0, 1.0, 0.0, 11.0, 1.0, 4.0, 51.0, 0.0, 0.0, 3.0, 0.0, 1.0, 1.0, 0.0, 5.0, 0.0, 3.0, 20.0, 40.0, 18.0, 0.0, 0.0, 6.0, 4.0, 47.0, 0.0, 54.0, 5.0, 5.0, 1.0, 0.0, 11.0, 29.0, 1.0, 13.0, 0.0, 14.0, 1.0, 0.0, 0.0, 1.0, 5.0, 16.0, 4.0, 2.0, 0.0, 0.0, 156.0, 1.0, 8.0, 18.0, 1.0, 2.0, 31.0, 1.0, 124.0, 0.0, 6.0, 2.0, 0.0, 1.0, 0.0, 0.0, 16.0, 0.0, 0.0, 1.0, 1.0, 2.0, 0.0, 7.0, 1.0, 13.0, 0.0, 2.0, 12.0, 0.0, 8.0, 0.0, 207.0, 0.0, 4.0, 9.0, 2.0, 0.0, 0.0, 0.0, 0.0, 5.0, 0.0, 0.0, 0.0, 22.0, 1.0, 1.0, 9.0, 3.0, 1.0, 0.0, 4.0, 7.0, 4.0, 6.0, 5.0, 1.0, 0.0, 2.0, 13.0, 20.0, 0.0, 2.0, 6.0, 0.0, 0.0, 0.0, 0.0, 0.0, 0.0, 1.0, 30.0, 3.0, 0.0, 0.0, 7.0, 1.0, 0.0, 4.0, 2.0, 45.0, 0.0, 47.0, 0.0, 0.0, 0.0, 1.0, 7.0, 9.0, 3.0, 89.0, 0.0, 2.0, 2.0, 2.0, 1.0, 1.0, 1.0, 0.0, 24.0, 35.0, 1.0, 0.0, 4.0, 8.0, 16.0, 21.0, 0.0, 1.0, 0.0, 1.0, 0.0, 69.0, 0.0, 0.0, 4.0, 3.0, 4.0, 4.0, 0.0, 2.0, 0.0, 0.0, 2.0, 4.0, 5.0, 20.0, 3.0, 5.0, 0.0, 1.0, 2.0, 16.0, 16.0, 7.0, 0.0, 0.0, 10.0, 0.0, 2.0, 5.0, 220.0, 0.0, 1.0, 0.0, 1.0, 1.0, 3.0, 4.0, 11.0, 198.0, 0.0, 0.0, 0.0, 0.0, 0.0, 0.0, 3.0, 5.0, 0.0, 0.0, 0.0, 0.0, 13.0, 0.0, 0.0, 58.0, 17.0, 0.0, 0.0, 1.0, 15.0, 22.0, 10.0, 3.0, 0.0, 20.0, 1.0, 0.0, 0.0, 865.0, 2.0, 0.0, 0.0, 3.0, 0.0, 2.0, 0.0, 1.0, 0.0, 1.0, 3.0, 1.0, 0.0, 0.0, 17.0, 0.0, 1.0, 19.0, 5.0, 5.0, 2.0, 1.0, 0.0, 0.0, 8.0, 27.0, 1.0, 45.0, 0.0, 0.0, 1.0, 1.0, 7.0, 0.0, 20.0, 1.0, 0.0, 0.0, 36.0, 44.0, 0.0, 81.0, 5.0, 0.0, 5.0, 12.0, 486.0, 3.0, 9.0, 1.0, 0.0, 1.0, 62.0, 0.0, 1.0, 0.0, 2.0, 10.0, 4.0, 0.0, 3.0, 464.0, 1.0, 1.0, 4.0, 3.0, 28.0, 0.0, 0.0, 32.0, 14.0, 1.0, 1.0, 0.0, 0.0, 1.0, 3.0, 0.0, 2.0, 0.0, 2.0, 0.0, 1.0, 0.0, 0.0, 0.0, 20.0, 2.0, 3.0, 2.0, 1.0, 2.0, 5.0, 2.0, 0.0, 7.0, 2.0, 13.0, 7.0, 3.0, 7.0, 0.0, 40.0, 1.0, 0.0, 1.0, 0.0, 3.0, 5.0, 0.0, 0.0, 2.0, 1.0, 0.0, 73.0, 10.0, 0.0, 5.0, 3.0, 3.0, 3.0, 3.0, 0.0, 2.0, 2.0, 6.0, 3.0, 16.0, 10.0, 0.0, 0.0, 3.0, 12.0, 2.0, 0.0, 1.0, 2.0, 0.0, 12.0, 61.0, 0.0, 15.0, 40.0, 1.0, 1.0, 0.0, 21.0, 0.0, 0.0, 0.0, 1.0, 3.0, 12.0, 1.0, 6.0, 12.0, 23.0, 2.0, 5.0, 0.0, 0.0, 1.0, 0.0, 3.0, 72.0, 10.0, 26.0, 2.0, 1.0, 5.0, 0.0, 1.0, 1837.0, 0.0, 1.0, 6.0, 48.0, 16.0, 2.0, 3.0, 0.0, 1.0, 6.0, 0.0, 3.0, 3.0, 142.0, 0.0, 5.0, 8.0, 14.0, 0.0, 4.0, 0.0, 1.0, 3.0, 2.0, 0.0, 2.0, 1.0, 2.0, 16.0, 1.0, 0.0, 0.0, 2.0, 9.0, 0.0, 8.0, 0.0, 1.0, 0.0, 1.0, 5.0, 0.0, 0.0, 8.0, 1.0, 21.0, 10.0, 5.0, 0.0, 0.0, 0.0, 0.0, 3.0, 5.0, 0.0, 0.0, 0.0, 21.0, 0.0, 0.0, 0.0, 0.0, 2.0, 1.0, 5.0, 0.0, 2.0, 0.0, 0.0, 1.0, 0.0, 8.0, 48.0, 9.0, 24.0, 2.0, 5.0, 0.0, 2.0, 5.0, 62.0, 12.0, 2.0, 0.0, 3.0, 2.0, 0.0, 0.0, 0.0, 4.0, 0.0, 4.0, 57.0, 0.0, 0.0, 39.0, 1.0, 1.0, 1.0, 0.0, 3.0, 0.0, 0.0, 5.0, 1.0, 9.0, 0.0, 22.0, 0.0, 2.0, 0.0, 1.0, 4.0, 3.0, 1.0, 0.0, 1.0, 0.0, 8.0, 2.0, 10.0, 12.0, 1.0, 13.0, 0.0, 0.0, 4.0, 3.0, 3.0, 4.0, 2.0, 4.0, 0.0, 21.0, 2.0, 8.0, 8.0, 2.0, 0.0, 6.0, 0.0, 1.0, 0.0, 0.0, 9.0, 6.0, 1.0, 1.0, 1.0, 2.0, 1.0, 1.0, 0.0, 0.0, 0.0, 0.0, 8.0, 0.0, 24.0, 0.0, 6.0, 1.0, 1.0, 47.0, 10.0, 1.0, 0.0, 0.0, 4.0, 0.0, 5.0, 0.0, 470.0, 15.0, 1.0, 8.0, 0.0, 3.0, 15.0, 0.0, 0.0, 0.0, 25.0, 11.0, 14.0, 2.0, 3.0, 11.0, 0.0, 1.0, 93.0, 0.0, 0.0, 34.0, 0.0, 3.0, 0.0, 0.0, 2.0, 9.0, 0.0, 0.0, 1.0, 3.0, 2.0, 0.0, 0.0, 3.0, 3.0, 28.0, 49.0, 0.0, 0.0, 20.0, 3.0, 8.0, 4.0, 28.0, 8.0, 86.0, 0.0, 5.0, 486.0, 1.0, 0.0, 0.0, 0.0, 23.0, 2.0, 0.0, 51.0, 5.0, 2.0, 2.0, 5.0, 8.0, 1.0, 0.0, 2.0, 1.0, 0.0, 11.0, 4.0, 5.0, 3.0, 0.0, 1.0, 0.0, 4.0, 24.0, 1.0, 4.0, 3.0, 6.0, 0.0, 4.0, 0.0, 21.0, 103.0, 20.0, 51.0, 0.0, 5.0, 0.0, 0.0, 4.0, 2.0, 6.0, 0.0, 43.0, 134.0, 4.0, 0.0, 1.0, 1.0, 0.0, 0.0, 5.0, 1.0, 0.0, 6.0, 1.0, 0.0, 0.0, 0.0, 0.0, 0.0, 59.0, 0.0, 12.0, 0.0, 5.0, 0.0, 0.0, 1.0, 1.0, 13.0, 0.0, 9.0, 42.0, 0.0, 0.0, 3.0, 2.0, 0.0, 18.0, 2.0, 3.0, 22.0, 0.0, 13.0, 26.0, 8.0, 43.0, 3.0, 1.0, 0.0, 0.0, 6.0, 0.0, 0.0, 1.0, 0.0, 63.0, 0.0, 4.0, 55.0, 0.0, 14.0, 10.0, 4.0, 1.0, 1.0, 0.0, 0.0, 0.0, 1.0, 0.0, 4.0, 36.0, 5.0, 8.0, 27.0, 1.0, 1.0, 137.0, 2.0, 12.0, 11.0, 21.0, 0.0, 6.0, 0.0, 0.0, 0.0, 0.0, 2.0, 4.0, 7.0, 0.0, 41.0, 2.0, 71.0, 24.0, 9.0, 16.0, 0.0, 14.0, 2.0, 2.0, 2.0, 1.0, 19.0, 0.0, 0.0, 2.0, 0.0, 0.0, 3.0, 0.0, 3.0, 5.0, 0.0, 14.0, 7.0, 1.0, 3.0, 386.0, 0.0, 18.0, 2.0, 5.0, 0.0, 1.0, 1.0, 0.0, 0.0, 75.0, 11.0, 0.0, 0.0, 1.0, 2.0, 0.0, 0.0, 0.0, 12.0, 6.0, 0.0, 0.0, 4.0, 8.0, 1.0, 0.0, 5.0, 22.0, 1.0, 0.0, 1.0, 29.0, 1.0, 1.0, 0.0, 0.0, 0.0, 0.0, 1.0, 11.0, 1.0, 1.0, 1.0, 7.0, 25.0, 4.0, 4.0, 184.0, 248.0, 1.0, 0.0, 6.0, 0.0, 1.0, 2.0, 14.0, 0.0, 5.0, 0.0, 255.0, 0.0, 0.0, 5.0, 50.0, 0.0, 0.0, 36.0, 2.0, 0.0, 0.0, 25.0, 2.0, 9.0, 0.0, 0.0, 3.0, 4.0, 0.0, 0.0, 0.0, 0.0, 1.0, 0.0, 0.0, 14.0, 2.0, 13.0, 3.0, 1.0, 4.0, 7.0, 1.0, 0.0, 1.0, 10.0, 45.0, 0.0, 0.0, 1.0, 24.0, 1.0, 1.0, 4.0, 0.0, 1.0, 16.0, 0.0, 1.0, 6.0, 1.0, 31.0, 48.0, 1.0, 40.0, 4.0, 0.0, 0.0, 0.0, 7.0, 2.0, 8.0, 1.0, 0.0, 0.0, 251.0, 20.0, 0.0, 0.0, 7.0, 0.0, 13.0, 1.0, 152.0, 14.0, 2.0, 0.0, 0.0, 0.0, 0.0, 4.0, 9.0, 7.0, 7.0, 11.0, 0.0, 0.0, 137.0, 0.0, 0.0, 7.0, 0.0, 3.0, 0.0, 2.0, 9.0, 4.0, 2.0, 2.0, 4.0, 3.0, 10.0, 18.0, 0.0, 0.0, 1.0, 3.0, 48.0, 9.0, 0.0, 0.0, 0.0, 13.0, 10.0, 1.0, 65.0, 4.0, 6.0, 2.0, 0.0, 13.0, 3.0, 0.0, 0.0, 2.0, 2.0, 1.0, 0.0, 0.0, 4.0, 4.0, 6.0, 18.0, 4.0, 0.0, 0.0, 1.0, 0.0, 0.0, 3.0, 7.0, 1.0, 0.0, 0.0, 37.0, 2.0, 0.0, 1.0, 1.0, 13.0, 0.0, 83.0, 5.0, 0.0, 1.0, 46.0, 2.0, 1.0, 11.0, 0.0, 0.0, 9.0, 0.0, 9.0, 2.0, 0.0, 0.0, 0.0, 5.0, 0.0, 0.0, 3.0, 0.0, 1.0, 7.0, 4.0, 0.0, 3.0, 1.0, 3.0, 7.0, 0.0, 8.0, 1.0, 1.0, 0.0, 0.0, 3.0, 0.0, 6.0, 0.0, 2.0, 13.0, 0.0, 12.0, 20.0, 0.0, 0.0, 0.0, 1.0, 1.0, 2.0, 1.0, 5.0, 3.0, 0.0, 19.0, 0.0, 5.0, 13.0, 0.0, 3.0, 0.0, 0.0, 0.0, 3.0, 1.0, 0.0, 1.0, 12.0, 47.0, 2.0, 0.0, 0.0, 1.0, 37.0, 0.0, 22.0, 4.0, 8.0, 0.0, 0.0, 10.0, 4.0, 0.0, 9.0, 0.0, 0.0, 12.0, 0.0, 0.0, 49.0, 11.0, 0.0, 2.0, 1.0, 0.0, 0.0, 48.0, 0.0, 8.0, 2.0, 0.0, 2.0, 1.0, 3.0, 0.0, 1.0, 18.0, 0.0, 13.0, 0.0, 0.0, 192.0, 8.0, 7.0, 0.0, 1.0, 0.0, 9.0, 4.0, 6.0, 1.0, 0.0, 1.0, 0.0, 0.0, 4.0, 5.0, 0.0, 7.0, 0.0, 0.0, 1.0, 0.0, 0.0, 1.0, 0.0, 2.0, 1.0, 4.0, 0.0, 0.0, 18.0, 0.0, 4.0, 4.0, 16.0, 0.0, 3.0, 3.0, 3.0, 1.0, 1.0, 0.0, 0.0, 0.0, 0.0, 0.0, 1.0, 0.0, 0.0, 0.0, 0.0, 0.0, 0.0, 0.0, 139.0, 0.0, 0.0, 0.0, 1.0, 0.0, 1.0, 17.0, 4.0, 0.0, 0.0, 7.0, 1.0, 7.0, 0.0, 34.0, 0.0, 0.0, 0.0, 1.0, 9.0, 1.0, 3.0, 0.0, 1.0, 0.0, 24.0, 0.0, 0.0, 0.0, 0.0, 0.0, 0.0, 13.0, 28.0, 64.0, 8.0, 5.0, 0.0, 1.0, 3.0, 18.0, 2.0, 1.0, 7.0, 0.0, 1.0, 1.0, 0.0, 0.0, 6.0, 0.0, 7.0, 13.0, 0.0, 25.0, 38.0, 0.0, 0.0, 0.0, 0.0, 0.0, 55.0, 1.0, 2.0, 0.0, 7.0, 0.0, 6.0, 11.0, 2.0, 38.0, 1.0, 11.0, 1.0, 6.0, 0.0, 119.0, 12.0, 0.0, 0.0, 38.0, 0.0, 0.0, 0.0, 0.0, 75.0, 2.0, 0.0, 0.0, 12.0, 24.0, 1.0, 1.0, 0.0, 0.0, 1.0, 0.0, 2.0, 1.0, 0.0, 0.0, 6.0, 0.0, 0.0, 17.0, 0.0, 5.0, 28.0, 0.0, 3.0, 0.0, 5.0, 4.0, 0.0, 0.0, 2.0, 0.0, 5.0, 0.0, 0.0, 1.0, 0.0, 0.0, 0.0, 1.0, 17.0, 31.0, 0.0, 0.0, 41.0, 14.0, 0.0, 0.0, 0.0, 0.0, 1.0, 0.0, 7.0, 2.0, 1.0, 89.0, 10.0, 10.0, 9.0, 1.0, 0.0, 9.0, 1.0, 0.0, 1.0, 2.0, 1.0, 1.0, 0.0, 0.0, 0.0, 1.0, 1.0, 0.0, 1.0, 5.0, 0.0, 29.0, 1.0, 3.0, 0.0, 1.0, 1.0, 0.0, 0.0, 2.0, 4.0, 5.0, 7.0, 4.0, 14.0, 1.0, 5.0, 2.0, 0.0, 4.0, 2.0, 2.0, 10.0, 2.0, 0.0, 1.0, 0.0, 4.0, 1.0, 0.0, 0.0, 1.0, 0.0, 0.0, 2.0, 7.0, 0.0, 3.0, 0.0, 4.0, 0.0, 2.0, 3.0, 4.0, 6.0, 0.0, 0.0, 0.0, 49.0, 7.0, 16.0, 0.0, 0.0, 0.0, 1.0, 0.0, 4.0, 3.0, 1.0, 4.0, 0.0, 4.0, 0.0, 0.0, 27.0, 5.0, 0.0, 1.0, 4.0, 22.0, 0.0, 0.0, 3.0, 0.0, 1.0, 0.0, 1.0, 2.0, 1.0, 19.0, 0.0, 1.0, 2.0, 0.0, 0.0, 18.0, 8.0, 3.0, 1.0, 2.0, 7.0, 0.0, 1.0, 0.0, 2.0, 9.0, 0.0, 2.0, 0.0, 2.0, 16.0, 2.0, 0.0, 1.0, 0.0, 1.0, 2.0, 14.0, 0.0, 0.0, 1.0, 33.0, 42.0, 0.0, 5.0, 0.0, 0.0, 13.0, 11.0, 2.0, 0.0, 2.0, 2.0, 0.0, 2.0, 85.0, 0.0, 1.0, 0.0, 2.0, 0.0, 34.0, 66.0, 4.0, 0.0, 0.0, 0.0, 0.0, 0.0, 101.0, 0.0, 1.0, 43.0, 2.0, 8.0, 25.0, 2.0, 1.0, 0.0, 2.0, 0.0, 0.0, 1.0, 0.0, 48.0, 5.0, 1.0, 0.0, 0.0, 1.0, 2.0, 2.0, 0.0, 2.0, 3.0, 53.0, 0.0, 180.0, 2.0, 1.0, 5.0, 0.0, 54.0, 18.0, 9.0, 18.0, 23.0, 0.0, 29.0, 0.0, 1.0, 2.0, 2.0, 0.0, 0.0, 1.0, 0.0, 1.0, 0.0, 1.0, 1.0, 0.0, 0.0, 0.0, 0.0, 0.0, 0.0, 2.0, 9.0, 11.0, 8.0, 14.0, 0.0, 7.0, 0.0, 4.0, 0.0, 1.0, 3.0, 2.0, 1.0, 1.0, 2.0, 1.0, 0.0, 0.0, 0.0, 0.0, 1.0, 0.0, 0.0, 0.0, 1.0, 1.0, 0.0, 1.0, 1.0, 14.0, 79.0, 4.0, 2.0, 0.0, 8.0, 5.0, 0.0, 0.0, 0.0, 1.0, 2.0, 47.0, 0.0, 8.0, 4.0, 9.0, 0.0, 0.0, 0.0, 14.0, 1.0, 9.0, 3.0, 1.0, 0.0, 3.0, 6.0, 49.0, 4.0, 21.0, 0.0, 11.0, 0.0, 0.0, 1.0, 2.0, 1.0, 7.0, 0.0, 1.0, 4.0, 1.0, 24.0, 0.0, 1.0, 24.0, 11.0, 36.0, 12.0, 0.0, 0.0, 0.0, 14.0, 0.0, 0.0, 0.0, 32.0, 0.0, 1.0, 1.0, 6.0, 0.0, 1.0, 20.0, 25.0, 0.0, 2.0, 22.0, 0.0, 0.0, 1.0, 5.0, 0.0, 1.0, 10.0, 1.0, 0.0, 6.0, 3.0, 9.0, 0.0, 0.0, 31.0, 5.0, 0.0, 14.0, 2.0, 3.0, 2.0, 3.0, 0.0, 20.0, 3.0, 5.0, 28.0, 34.0, 49.0, 3.0, 0.0, 0.0, 5.0, 2.0, 0.0, 27.0, 1.0, 15.0, 13.0, 25.0, 20.0, 2.0, 0.0, 3.0, 0.0, 0.0, 1.0, 6.0, 3.0, 52.0, 14.0, 12.0, 43.0, 5.0, 2.0, 29.0, 3.0, 180.0, 0.0, 3.0, 28.0, 0.0, 0.0, 0.0, 0.0, 52.0, 1.0, 12.0, 0.0, 31.0, 0.0, 9.0, 17.0, 1.0, 1.0, 0.0, 2.0, 0.0, 2.0, 2.0, 0.0, 0.0, 0.0, 143.0, 3.0, 4.0, 5.0, 1.0, 0.0, 2.0, 3.0, 12.0, 3.0, 2.0, 0.0, 6.0, 0.0, 1.0, 0.0, 1.0, 1.0, 0.0, 119.0, 8.0, 51.0, 3.0, 1.0, 37.0, 1.0, 11.0, 2.0, 10.0, 48.0, 5.0, 1.0, 9.0, 6.0, 20.0, 0.0, 0.0, 46.0, 25.0, 0.0, 40.0, 0.0, 1.0, 2.0, 1.0, 0.0, 2.0, 0.0, 6.0, 2.0, 4.0, 1.0, 6.0, 0.0, 3.0, 0.0, 89.0, 1.0, 1.0, 17.0, 0.0, 0.0, 14.0, 0.0, 1.0, 52.0, 0.0, 65.0, 7.0, 43.0, 1.0, 1.0, 1.0, 6.0, 0.0, 0.0, 0.0, 2.0, 0.0, 2.0, 0.0, 1.0, 11.0, 0.0, 1.0, 1.0, 5.0, 3.0, 1.0, 7.0, 2.0, 2.0, 6.0, 12.0, 0.0, 5.0, 0.0, 1.0, 0.0, 0.0, 30.0, 3.0, 4.0, 0.0, 4.0, 19.0, 13.0, 1.0, 49.0, 0.0, 11.0, 0.0, 0.0, 0.0, 14.0, 1.0, 0.0, 6.0, 1.0, 5.0, 7.0, 0.0, 3.0, 7.0, 1.0, 40.0, 0.0, 0.0, 0.0, 0.0, 0.0, 3.0, 76.0, 0.0, 4.0, 3.0, 0.0, 8.0, 1.0, 3.0, 47.0, 0.0, 44.0, 8.0, 0.0, 0.0, 0.0, 14.0, 0.0, 1.0, 4.0, 0.0, 0.0, 25.0, 12.0, 34.0, 0.0, 27.0, 8.0, 2.0, 31.0, 26.0, 3.0, 11.0, 4.0, 0.0, 1.0, 14.0, 11.0, 2.0, 42.0, 0.0, 0.0, 1.0, 3.0, 1.0, 7.0, 2.0, 2.0, 0.0, 0.0, 7.0, 0.0, 0.0, 54.0, 0.0, 13.0, 0.0, 1.0, 5.0, 1.0, 3.0, 41.0, 15.0, 8.0, 1.0, 0.0, 12.0, 31.0, 105.0, 142.0, 6.0, 2.0, 2.0, 0.0, 276.0, 0.0, 3.0, 100.0, 5.0, 38.0, 3.0, 3.0, 0.0, 10.0, 0.0, 0.0, 13.0, 0.0, 1.0, 0.0, 1.0, 5.0, 3.0, 1.0, 190.0, 0.0, 0.0, 1.0, 1.0, 15.0, 18.0, 0.0, 0.0, 2.0, 1.0, 21.0, 8.0, 2.0, 0.0, 2.0, 2.0, 1.0, 0.0, 1.0, 0.0, 4.0, 4.0, 4.0, 0.0, 0.0, 0.0, 0.0, 6.0, 0.0, 9.0, 0.0, 13.0, 3.0, 1.0, 2.0, 0.0, 0.0, 9.0, 4.0, 0.0, 5.0, 13.0, 1.0, 5.0, 1.0, 3.0, 0.0, 0.0, 17.0, 1.0, 1.0, 12.0, 167.0, 9.0, 0.0, 2.0, 3.0, 2.0, 1.0, 0.0, 1.0, 0.0, 1.0, 0.0, 0.0, 24.0, 0.0, 4.0, 2.0, 1.0, 5.0, 1.0, 3.0, 36.0, 0.0, 0.0, 1.0, 5.0, 4.0, 8.0, 15.0, 5.0, 1.0, 1.0, 6.0, 31.0, 1.0, 1.0, 5.0, 1.0, 0.0, 2.0, 3.0, 98.0, 82.0, 0.0, 6.0, 2.0, 0.0, 0.0, 25.0, 51.0, 71.0, 3.0, 1.0, 0.0, 9.0, 2.0, 5.0, 0.0, 5.0, 20.0, 12.0, 3.0, 9.0, 2.0, 0.0, 2.0, 1.0, 0.0, 0.0, 0.0, 3.0, 0.0, 26.0, 12.0, 1.0, 0.0, 3.0, 0.0, 56.0, 1.0, 21.0, 107.0, 3.0, 10.0, 22.0, 3.0, 0.0, 0.0, 0.0, 0.0, 6.0, 1.0, 22.0, 0.0, 1.0, 5.0, 0.0, 128.0, 21.0, 2.0, 0.0, 0.0, 0.0, 13.0, 24.0, 0.0, 3.0, 0.0, 14.0, 0.0, 0.0, 1.0, 0.0, 0.0, 1.0, 12.0, 11.0, 1.0, 0.0, 4.0, 106.0, 0.0, 0.0, 13.0, 2.0, 0.0, 1.0, 64.0, 0.0, 63.0, 45.0, 0.0, 14.0, 0.0, 30.0, 1.0, 0.0, 4.0, 0.0, 5.0, 41.0, 3.0, 2.0, 1.0, 24.0, 0.0, 3.0, 20.0, 1.0, 3.0, 31.0, 0.0, 0.0, 3.0, 0.0, 24.0, 356.0, 1.0, 6.0, 1.0, 1.0, 1.0, 0.0, 23.0, 2.0, 0.0, 0.0, 0.0, 0.0, 2.0, 0.0, 125.0, 3.0, 0.0, 2.0, 0.0, 0.0, 1.0, 0.0, 2.0, 6.0, 13.0, 0.0, 3.0, 18.0, 0.0, 2.0, 1.0, 0.0, 0.0, 0.0, 0.0, 2.0, 0.0, 17.0, 11.0, 46.0, 7.0, 2.0, 15.0, 6.0, 2.0, 2.0, 4.0, 3.0, 1.0, 5.0, 3.0, 0.0, 1.0, 0.0, 19.0, 0.0, 4.0, 14.0, 1621.0, 2.0, 0.0, 0.0, 0.0, 1.0, 1.0, 2.0, 34.0, 0.0, 9.0, 788.0, 0.0, 0.0, 0.0, 0.0, 14.0, 0.0, 26.0, 0.0, 0.0, 1.0, 40.0, 3.0, 3.0, 3.0, 30.0, 2.0, 2.0, 5.0, 1.0, 0.0, 4.0, 0.0, 2.0, 0.0, 0.0, 24.0, 0.0, 0.0, 1.0, 1.0, 49.0, 264.0, 0.0, 25.0, 2.0, 5.0, 0.0, 4.0, 1.0, 4.0, 0.0, 1.0, 1.0, 12.0, 8.0, 2.0, 15.0, 0.0, 576.0, 0.0, 3.0, 2.0, 17.0, 2.0, 0.0, 3.0, 0.0, 25.0, 3.0, 13.0, 1.0, 1.0, 3.0, 0.0, 5.0, 20.0, 7.0, 1.0, 0.0, 37.0, 0.0, 25.0, 7.0, 1.0, 0.0, 30.0, 0.0, 0.0, 47.0, 1.0, 0.0, 0.0, 2.0, 0.0, 0.0, 25.0, 0.0, 4.0, 0.0, 2.0, 2.0, 3.0, 3.0, 8.0, 1020.0, 0.0, 1.0, 0.0, 8.0, 2.0, 1.0, 11.0, 26.0, 9.0, 0.0, 0.0, 0.0, 9.0, 0.0, 3.0, 6.0, 1.0, 45.0, 0.0, 28.0, 19.0, 16.0, 43.0, 10.0, 0.0, 0.0, 3.0, 21.0, 1.0, 5.0, 5.0, 0.0, 0.0, 0.0, 0.0, 2.0, 0.0, 28.0, 0.0, 15.0, 0.0, 2.0, 0.0, 8.0, 5.0, 8.0, 0.0, 1.0, 2.0, 6.0, 2.0, 5.0, 8.0, 12.0, 4.0, 3.0, 17.0, 2.0, 9.0, 1.0, 0.0, 5.0, 28.0, 3.0, 3.0, 2.0, 0.0, 1.0, 4.0, 12.0, 95.0, 36.0, 4.0, 0.0, 0.0, 2.0, 0.0, 0.0, 4.0, 1.0, 35.0, 0.0, 3.0, 8.0, 36.0, 0.0, 0.0, 11.0, 0.0, 0.0, 7.0, 1.0, 0.0, 36.0, 1.0, 1.0, 18.0, 0.0, 37.0, 1.0, 5.0, 1.0, 6.0, 3.0, 1.0, 0.0, 1.0, 12.0, 7.0, 0.0, 2.0, 0.0, 2.0, 3.0, 1.0, 2.0, 1.0, 0.0, 0.0, 0.0, 0.0, 1.0, 13.0, 2.0, 6.0, 0.0, 1.0, 1.0, 1.0, 112.0, 495.0, 8.0, 9.0, 4.0, 11.0, 3.0, 0.0, 0.0, 0.0, 0.0, 56.0, 19.0, 2.0, 6.0, 4.0, 3.0, 7.0, 2.0, 0.0, 8.0, 3.0, 1.0, 81.0, 0.0, 3.0, 0.0, 3.0, 2.0, 3.0, 37.0, 7.0, 1.0, 7.0, 27.0, 30.0, 0.0, 2.0, 0.0, 5.0, 2.0, 3.0, 3.0, 0.0, 6.0, 4.0, 1.0, 1.0, 1.0, 12.0, 0.0, 14.0, 0.0, 3.0, 0.0, 2.0, 10.0, 0.0, 0.0, 0.0, 1.0, 5.0, 1.0, 0.0, 19.0, 2.0, 36.0, 21.0, 0.0, 10.0, 0.0, 2.0, 4.0, 0.0, 2.0, 26.0, 2.0, 0.0, 21.0, 10.0, 7.0, 0.0, 4.0, 0.0, 0.0, 1.0, 0.0, 0.0, 1.0, 35.0, 0.0, 9.0, 0.0, 0.0, 2.0, 8.0, 2.0, 3.0, 4.0, 1.0, 0.0, 5.0, 0.0, 0.0, 1.0, 8.0, 15.0, 18.0, 1.0, 20.0, 0.0, 3.0, 22.0, 24.0, 1.0, 1.0, 0.0, 5.0, 28.0, 9.0, 2.0, 7.0, 0.0, 0.0, 0.0, 1.0, 8.0, 1.0, 1.0, 16.0, 12.0, 0.0, 3.0, 5.0, 18.0, 3.0, 0.0, 0.0, 1.0, 12.0, 1.0, 0.0, 50.0, 10.0, 28.0, 12.0, 80.0, 0.0, 13.0, 1.0, 1.0, 4.0, 5.0, 11.0, 3.0, 16.0, 36.0, 7.0, 1.0, 12.0, 3.0, 17.0, 12.0, 0.0, 1.0, 0.0, 0.0, 4.0, 24.0, 0.0, 11.0, 1.0, 4.0, 0.0, 1.0, 6.0, 0.0, 1.0, 0.0, 25.0, 2.0, 0.0, 0.0, 0.0, 0.0, 5.0, 4.0, 11.0, 105.0, 12.0, 3.0, 0.0, 2.0, 0.0, 1.0, 1.0, 38.0, 33.0, 0.0, 0.0, 1.0, 0.0, 7.0, 3.0, 10.0, 0.0, 0.0, 14.0, 5.0, 3.0, 21.0, 0.0, 0.0, 0.0, 11.0, 52.0, 6.0, 0.0, 0.0, 1.0, 0.0, 0.0, 4.0, 8.0, 7.0, 5.0, 0.0, 0.0, 0.0, 21.0, 1.0, 15.0, 0.0, 1.0, 4.0, 2.0, 13.0, 0.0, 3.0, 0.0, 0.0, 1.0, 3.0, 1.0, 24.0, 5.0, 27.0, 30.0, 2.0, 0.0, 1.0, 0.0, 6.0, 1.0, 2.0, 4.0, 0.0, 0.0, 2.0, 18.0, 0.0, 3.0, 2.0, 6.0, 42.0, 2.0, 9.0, 1.0, 5.0, 4.0, 1.0, 4.0, 2.0, 1.0, 13.0, 2.0, 0.0, 1.0, 11.0, 4.0, 7.0, 0.0, 1.0, 24.0, 4.0, 0.0, 0.0, 1.0, 1.0, 1.0, 27.0, 0.0, 0.0, 2.0, 3.0, 8.0, 5.0, 1.0, 1.0, 9.0, 4.0, 0.0, 0.0, 0.0, 4.0, 2.0, 6.0, 0.0, 0.0, 2.0, 8.0, 0.0, 0.0, 2.0, 9.0, 9.0, 9.0, 7.0, 27.0, 14.0, 0.0, 0.0, 12.0, 3.0, 7.0, 4.0, 1.0, 1.0, 3.0, 50.0, 35.0, 3.0, 1.0, 1.0, 0.0, 26.0, 0.0, 52.0, 3.0, 3.0, 0.0, 3.0, 0.0, 2.0, 2.0, 0.0, 5.0, 10.0, 3.0, 8.0, 3.0, 2.0, 0.0, 16.0, 5.0, 11.0, 0.0, 40.0, 4.0, 2.0, 0.0, 1.0, 13.0, 0.0, 0.0, 10.0, 4.0, 1.0, 0.0, 1.0, 7.0, 9.0, 16.0, 0.0, 5.0, 1.0, 3.0, 3.0, 25.0, 15.0, 16.0, 0.0, 28.0, 11.0, 2.0, 23.0, 2.0, 3.0, 12.0, 0.0, 0.0, 1.0, 2.0, 7.0, 5.0, 0.0, 2.0, 0.0, 1.0, 10.0, 1.0, 0.0, 0.0, 0.0, 6.0, 2.0, 1.0, 3.0, 0.0, 1.0, 0.0, 3.0, 10.0, 0.0, 3.0, 0.0, 0.0, 4.0, 0.0, 0.0, 3.0, 26.0, 0.0, 4.0, 2.0, 0.0, 1.0, 8.0, 2.0, 0.0, 2.0, 18.0, 3.0, 266.0, 3.0, 17.0, 9.0, 1.0, 0.0, 0.0, 7.0, 4.0, 4.0, 0.0, 0.0, 3.0, 0.0, 2.0, 20.0, 7.0, 4.0, 0.0, 10.0, 1.0, 27.0, 0.0, 1.0, 2.0, 4.0, 12.0, 0.0, 0.0, 0.0, 7.0, 0.0, 8.0, 0.0, 5.0, 2.0, 0.0, 0.0, 27.0, 0.0, 0.0, 1.0, 0.0, 0.0, 0.0, 0.0, 0.0, 10.0, 5.0, 3.0, 5.0, 0.0, 337.0, 19.0, 1.0, 0.0, 17.0, 1.0, 4.0, 1.0, 5.0, 0.0, 0.0, 17.0, 6.0, 45.0, 0.0, 0.0, 43.0, 8.0, 4.0, 0.0, 4.0, 0.0, 16.0, 3.0, 6.0, 2.0, 0.0, 73.0, 10.0, 12.0, 0.0, 0.0, 24.0, 9.0, 98.0, 20.0, 1.0, 7.0, 0.0, 2.0, 0.0, 1.0, 9.0, 4.0, 0.0, 4.0, 0.0, 1.0, 10.0, 0.0, 0.0, 2.0, 3.0, 6.0, 15.0, 4.0, 8.0, 0.0, 6.0, 0.0, 0.0, 0.0, 51.0, 1.0, 0.0, 25.0, 2.0, 0.0, 0.0, 10.0, 3.0, 8.0, 9.0, 0.0, 3.0, 1.0, 0.0, 0.0, 0.0, 7.0, 2.0, 1.0, 4.0, 2.0, 6.0, 8.0, 1.0, 0.0, 0.0, 5.0, 0.0, 0.0, 4.0, 0.0, 0.0, 4.0, 0.0, 6.0, 2.0, 2.0, 0.0, 1.0, 16.0, 0.0, 1.0, 0.0, 21.0, 0.0, 0.0, 0.0, 0.0, 0.0, 66.0, 16.0, 9.0, 3.0, 5.0, 0.0, 2.0, 23.0, 5.0, 61.0, 1.0, 103.0, 0.0, 10.0, 1.0, 0.0, 0.0, 1.0, 2.0, 0.0, 10.0, 0.0, 0.0, 8.0, 0.0, 0.0, 6.0, 11.0, 0.0, 0.0, 0.0, 1.0, 3.0, 1.0, 0.0, 4.0, 1.0, 3.0, 2.0, 1.0, 3.0, 2.0, 3.0, 4.0, 5.0, 0.0, 0.0, 1.0, 6.0, 0.0, 0.0, 0.0, 0.0, 1.0, 0.0, 0.0, 3.0, 2.0, 1.0, 3.0, 0.0, 251.0, 0.0, 0.0, 2.0, 1332.0, 1.0, 1.0, 0.0, 1.0, 24.0, 2.0, 90.0, 268.0, 0.0, 0.0, 0.0, 0.0, 0.0, 0.0, 0.0, 0.0, 0.0, 0.0, 48.0, 0.0, 0.0, 0.0, 6.0, 0.0, 2.0, 0.0, 5.0, 0.0, 0.0, 0.0, 6.0, 0.0, 0.0, 2.0, 179.0, 0.0, 1.0, 4.0, 0.0, 13.0, 0.0, 1.0, 0.0, 0.0, 0.0, 0.0, 1.0, 3.0, 6.0, 9.0, 1.0, 0.0, 13.0, 0.0, 45.0, 2.0, 16.0, 0.0, 0.0, 0.0, 2.0, 6.0, 25.0, 4.0, 8.0, 3.0, 0.0, 6.0, 110.0, 0.0, 0.0, 1.0, 2.0, 0.0, 2.0, 1.0, 1.0, 0.0, 39.0, 2.0, 1.0, 1.0, 2.0, 0.0, 3.0, 13.0, 3.0, 1.0, 1.0, 1.0, 5.0, 0.0, 28.0, 0.0, 0.0, 0.0, 9.0, 1.0, 0.0, 4.0, 0.0, 0.0, 6.0, 3.0, 5.0, 3.0, 1.0, 1.0, 2.0, 1.0, 2.0, 5.0, 0.0, 0.0, 22.0, 5.0, 0.0, 1.0, 0.0, 0.0, 6.0, 0.0, 2.0, 0.0, 1.0, 0.0, 0.0, 3.0, 230.0, 0.0, 7.0, 0.0, 2.0, 1.0, 2.0, 5.0, 0.0, 7.0, 0.0, 0.0, 2.0, 2.0, 1.0, 2.0, 1.0, 14.0, 0.0, 0.0, 3.0, 0.0, 2.0, 46.0, 0.0, 0.0, 5.0, 47.0, 25.0, 0.0, 0.0, 0.0, 2.0, 67.0, 22.0, 26.0, 1.0, 1.0, 0.0, 1.0, 15.0, 4.0, 3.0, 9.0, 0.0, 1.0, 4.0, 1.0, 0.0, 29.0, 5.0, 0.0, 1.0, 0.0, 0.0, 19.0, 10.0, 0.0, 2.0, 7.0, 0.0, 4.0, 1.0, 4.0, 4.0, 0.0, 3.0, 1.0, 4.0, 1.0, 0.0, 6.0, 1.0, 2.0, 5.0, 2.0, 0.0, 9.0, 2.0, 0.0, 1.0, 1.0, 1.0, 0.0, 0.0, 1.0, 0.0, 183.0, 5.0, 0.0, 0.0, 13.0, 0.0, 5.0, 0.0, 0.0, 0.0, 5.0, 5.0, 3.0, 146.0, 0.0, 2.0, 42.0, 4.0, 2.0, 55.0, 6.0, 16.0, 20.0, 4.0, 47.0, 2400.0, 1.0, 5.0, 1.0, 6.0, 5.0, 1.0, 36.0, 1.0, 2.0, 8.0, 2.0, 7.0, 0.0, 1.0, 1.0, 0.0, 0.0, 0.0, 0.0, 0.0, 0.0, 9.0, 22.0, 40.0, 8.0, 6.0, 0.0, 0.0, 0.0, 0.0, 0.0, 0.0, 0.0, 1.0, 0.0, 0.0, 2.0, 0.0, 4.0, 8.0, 6.0, 6.0, 1.0, 10.0, 2.0, 4.0, 0.0, 1.0, 0.0, 3.0, 1.0, 7.0, 0.0, 2.0, 0.0, 1.0, 0.0, 0.0, 0.0, 0.0, 8.0, 0.0, 0.0, 94.0, 1.0, 1.0, 1.0, 0.0, 0.0, 0.0, 2.0, 1.0, 1.0, 1.0, 1.0, 1.0, 5.0, 0.0, 7.0, 0.0, 4.0, 10.0, 0.0, 5.0, 1.0, 2.0, 0.0, 0.0, 1.0, 2.0, 0.0, 0.0, 1.0, 0.0, 0.0, 0.0, 0.0, 2.0, 0.0, 2.0, 0.0, 1.0, 7.0, 1.0, 23.0, 0.0, 2.0, 0.0, 16.0, 9.0, 1.0, 4.0, 23.0, 2.0, 122.0, 1.0, 1.0, 3.0, 10.0, 3.0, 1.0, 3.0, 1.0, 1.0, 0.0, 22.0, 6.0, 0.0, 0.0, 1.0, 0.0, 45.0, 19.0, 0.0, 7.0, 1.0, 0.0, 2.0, 6.0, 1.0, 1.0, 0.0, 0.0, 2.0, 11.0, 1.0, 1.0, 2.0, 0.0, 0.0, 3.0, 7.0, 1.0, 0.0, 2.0, 1.0, 2.0, 3.0, 3.0, 1.0, 24.0, 17.0, 1.0, 0.0, 15.0, 1.0, 0.0, 1.0, 1.0, 2.0, 1.0, 0.0, 6.0, 2.0, 0.0, 1.0, 0.0, 1.0, 2.0, 1.0, 1.0, 0.0, 0.0, 1.0, 4.0, 8.0, 12.0, 99.0, 2.0, 0.0, 1.0, 0.0, 0.0, 0.0, 1.0, 0.0, 1.0, 14.0, 1.0, 23.0, 48.0, 0.0, 0.0, 2.0, 0.0, 0.0, 0.0, 12.0, 2.0, 1.0, 0.0, 0.0, 3.0, 1.0, 2.0, 7.0, 0.0, 0.0, 20.0, 26.0, 5.0, 0.0, 2.0, 0.0, 0.0, 0.0, 0.0, 23.0, 0.0, 6.0, 3.0, 0.0, 2.0, 2.0, 5.0, 4.0, 3.0, 0.0, 0.0, 0.0, 0.0, 0.0, 0.0, 0.0, 0.0, 8.0, 5.0, 0.0, 5.0, 1.0, 0.0, 7.0, 0.0, 1.0, 5.0, 0.0, 4.0, 0.0, 1.0, 1.0, 27.0, 17.0, 40.0, 1.0, 2.0, 1.0, 0.0, 2.0, 0.0, 0.0, 0.0, 28.0, 0.0, 17.0, 1.0, 2.0, 2.0, 1.0, 3.0, 5.0, 3.0, 52.0, 0.0, 4.0, 1.0, 13.0, 6.0, 0.0, 2.0, 2.0, 0.0, 861.0, 0.0, 18.0, 2.0, 4.0, 7.0, 0.0, 31.0, 1.0, 7.0, 25.0, 6.0, 0.0, 10.0, 0.0, 0.0, 0.0, 0.0, 2.0, 1.0, 5.0, 5.0, 11.0, 1.0, 42.0, 1.0, 4.0, 2.0, 11.0, 0.0, 1.0, 2.0, 11.0, 1.0, 1.0, 1.0, 1.0, 0.0, 7.0, 11.0, 0.0, 6.0, 0.0, 0.0, 4.0, 0.0, 0.0, 0.0, 0.0, 0.0, 2.0, 3.0, 2.0, 8.0, 1.0, 0.0, 2.0, 0.0, 11.0, 2.0, 0.0, 0.0, 0.0, 0.0, 35.0, 5.0, 3.0, 0.0, 6.0, 1.0, 0.0, 3.0, 1.0, 30.0, 1.0, 8.0, 0.0, 4.0, 10.0, 0.0, 5.0, 0.0, 1.0, 10.0, 0.0, 4.0, 1.0, 4.0, 2.0, 0.0, 0.0, 3.0, 0.0, 0.0, 0.0, 0.0, 4.0, 19.0, 0.0, 1.0, 0.0, 17.0, 1.0, 115.0, 3.0, 7.0, 0.0, 1.0, 1.0, 0.0, 20.0, 10.0, 1.0, 4.0, 11.0, 0.0, 4.0, 17.0, 0.0, 40.0, 0.0, 0.0, 3.0, 21.0, 0.0, 2.0, 0.0, 8.0, 0.0, 0.0, 0.0, 1.0, 0.0, 1.0, 1.0, 0.0, 0.0, 2.0, 0.0, 1.0, 0.0, 0.0, 1.0, 3.0, 0.0, 0.0, 10.0, 0.0, 0.0, 2.0, 0.0, 10.0, 0.0, 0.0, 2.0, 1.0, 49.0, 5.0, 1.0, 3.0, 1.0, 1.0, 12.0, 1.0, 1.0, 1.0, 15.0, 1.0, 1.0, 0.0, 1.0, 0.0, 3.0, 0.0, 1.0, 14.0, 3.0, 8.0, 1.0, 2.0, 0.0, 3.0, 10.0, 0.0, 7.0, 0.0, 0.0, 6.0, 0.0, 1.0, 1.0, 11.0, 5.0, 0.0, 4.0, 0.0, 0.0, 0.0, 0.0, 0.0, 3.0, 1.0, 0.0, 1.0, 0.0, 1.0, 3.0, 1.0, 0.0, 1.0, 0.0, 3.0, 0.0, 1.0, 35.0, 2.0, 1.0, 0.0, 0.0, 0.0, 0.0, 0.0, 7.0, 1.0, 0.0, 5.0, 1.0, 0.0, 0.0, 52.0, 2.0, 0.0, 1.0, 0.0, 1.0, 2.0, 5.0, 1.0, 0.0, 2.0, 1.0, 3.0, 0.0, 0.0, 3.0, 51.0, 0.0, 8.0, 0.0, 27.0, 6.0, 0.0, 3.0, 0.0, 4.0, 12.0, 4.0, 2.0, 1.0, 0.0, 1.0, 1.0, 1.0, 1.0, 1.0, 1.0, 1.0, 4.0, 1.0, 0.0, 0.0, 0.0, 0.0, 0.0, 1.0, 0.0, 0.0, 10.0, 0.0, 0.0, 0.0, 1.0, 0.0, 0.0, 0.0, 0.0, 0.0, 0.0, 0.0, 0.0, 2.0, 6.0, 0.0, 1.0, 0.0, 0.0, 0.0, 1.0, 2.0, 1.0, 0.0, 0.0, 4.0, 0.0, 1.0, 1.0, 1.0, 0.0, 4.0, 0.0, 2.0, 0.0, 4.0, 0.0, 0.0, 4.0, 18.0, 61.0, 0.0, 0.0, 0.0, 1.0, 6.0, 0.0, 0.0, 1.0, 17.0, 18.0, 13.0, 0.0, 0.0, 6.0, 0.0, 0.0, 0.0, 12.0, 0.0, 66.0, 0.0, 1.0, 0.0, 3.0, 1.0, 6.0, 1.0, 84.0, 0.0, 0.0, 0.0, 1.0, 1.0, 17.0, 1.0, 0.0, 4.0, 0.0, 1.0, 0.0, 1.0, 0.0, 2.0, 0.0, 0.0, 0.0, 1.0, 1.0, 0.0, 3.0, 1.0, 0.0, 0.0, 7.0, 3.0, 5.0, 6.0, 0.0, 0.0, 4.0, 0.0, 1.0, 37.0, 58.0, 0.0, 2.0, 0.0, 0.0, 14.0, 1.0, 1.0, 0.0, 25.0, 12.0, 78.0, 0.0, 49.0, 31.0, 28.0, 30.0, 0.0, 33.0, 0.0, 20.0, 10.0, 2.0, 1.0, 0.0, 1.0, 1.0, 1.0, 1.0, 6.0, 5.0, 0.0, 0.0, 0.0, 7.0, 11.0, 5.0, 0.0, 1.0, 9.0, 1.0, 13.0, 13.0, 0.0, 8.0, 5.0, 23.0, 0.0, 0.0, 0.0, 0.0, 0.0, 2.0, 4.0, 0.0, 1.0, 0.0, 7.0, 1.0, 0.0, 132.0, 0.0, 1.0, 0.0, 2.0, 0.0, 0.0, 4.0, 1.0, 3.0, 0.0, 6.0, 0.0, 12.0, 18.0, 0.0, 0.0, 5.0, 4.0, 3.0, 0.0, 1.0, 8.0, 2.0, 1.0, 1.0, 0.0, 0.0, 0.0, 0.0, 0.0, 4.0, 1.0, 4.0, 0.0, 10.0, 0.0, 12.0, 0.0, 2.0, 16.0, 2.0, 1.0, 0.0, 17.0, 4.0, 18.0, 1.0, 2.0, 1.0, 0.0, 0.0, 0.0, 0.0, 0.0, 0.0, 0.0, 5.0, 22.0, 7.0, 0.0, 13.0, 0.0, 5.0, 0.0, 1.0, 3.0, 8.0, 3.0, 0.0, 3.0, 0.0, 0.0, 0.0, 6.0, 11.0, 1.0, 0.0, 0.0, 1.0, 1.0, 0.0, 0.0, 0.0, 4.0, 3.0, 1.0, 4.0, 3.0, 2.0, 0.0, 0.0, 44.0, 0.0, 1.0, 5.0, 1.0, 0.0, 4.0, 1.0, 2.0, 0.0, 0.0, 0.0, 18.0, 3.0, 0.0, 7.0, 8.0, 1.0, 1.0, 15.0, 0.0, 8.0, 1.0, 24.0, 0.0, 28.0, 0.0, 0.0, 1.0, 1.0, 1.0, 0.0, 0.0, 0.0, 1.0, 0.0, 0.0, 5.0, 0.0, 0.0, 0.0, 3.0, 1.0, 3.0, 0.0, 1.0, 1.0, 6.0, 18.0, 0.0, 10.0, 0.0, 4.0, 3.0, 8.0, 3.0, 0.0, 0.0, 5.0, 4.0, 70.0, 3.0, 2.0, 41.0, 4.0, 3.0, 5.0, 5.0, 75.0, 1.0, 2.0, 17.0, 0.0, 3.0, 14.0, 1.0, 2.0, 2.0, 0.0, 0.0, 0.0, 0.0, 0.0, 1.0, 1.0, 1.0, 0.0, 0.0, 0.0, 0.0, 0.0, 0.0, 3.0, 2.0, 45.0, 0.0, 0.0, 0.0, 0.0, 1.0, 6.0, 1.0, 0.0, 1.0, 3.0, 0.0, 1.0, 2.0, 2.0, 0.0, 15.0, 0.0, 0.0, 122.0, 1.0, 0.0, 0.0, 0.0, 0.0, 0.0, 5.0, 0.0, 0.0, 0.0, 66.0, 8.0, 0.0, 0.0, 0.0, 2.0, 0.0, 4.0, 3.0, 0.0, 21.0, 0.0, 1.0, 1.0, 5.0, 6.0, 400.0, 7.0, 34.0, 0.0, 0.0, 0.0, 0.0, 0.0, 1.0, 0.0, 6.0, 0.0, 0.0, 2.0, 0.0, 0.0, 0.0, 0.0, 0.0, 41.0, 0.0, 1.0, 18.0, 3.0, 3.0, 6.0, 24.0, 11.0, 6.0, 10.0, 0.0, 3.0, 2.0, 7.0, 0.0, 0.0, 1.0, 0.0, 0.0, 0.0, 0.0, 1.0, 1.0, 0.0, 18.0, 0.0, 0.0, 1.0, 0.0, 10.0, 4.0, 5.0, 0.0, 3.0, 5.0, 3.0, 0.0, 0.0, 0.0, 0.0, 25.0, 1.0, 10.0, 0.0, 0.0, 1.0, 1.0, 0.0, 3.0, 0.0, 40.0, 0.0, 3.0, 3.0, 250.0, 15.0, 0.0, 1.0, 0.0, 8.0, 0.0, 0.0, 0.0, 3.0, 91.0, 3.0, 1.0, 0.0, 1.0, 0.0, 1.0, 0.0, 1.0, 3.0, 18.0, 0.0, 0.0, 3.0, 2.0, 68.0, 2.0, 2.0, 19.0, 2.0, 2.0, 11.0, 2.0, 20.0, 21.0, 1.0, 0.0, 0.0, 0.0, 2.0, 1.0, 7.0, 0.0, 15.0, 0.0, 0.0, 1.0, 0.0, 0.0, 0.0, 4.0, 4.0, 6.0, 0.0, 1.0, 0.0, 0.0, 1.0, 2.0, 32.0, 0.0, 0.0, 30.0, 1.0, 32.0, 0.0, 57.0, 0.0, 1.0, 11.0, 1.0, 0.0, 7.0, 2.0, 7.0, 17.0, 11.0, 47.0, 4.0, 35.0, 0.0, 0.0, 0.0, 2.0, 2.0, 7.0, 2.0, 0.0, 4.0, 22.0, 0.0, 0.0, 0.0, 1.0, 0.0, 1.0, 0.0, 0.0, 4.0, 6.0, 0.0, 20.0, 10.0, 0.0, 6.0, 0.0, 0.0, 1.0, 0.0, 1.0, 0.0, 12.0, 0.0, 1.0, 13.0, 15.0, 0.0, 0.0, 4.0, 1.0, 0.0, 96.0, 1.0, 5.0, 0.0, 3.0, 0.0, 1.0, 6.0, 0.0, 1.0, 1.0, 8.0, 0.0, 0.0, 0.0, 0.0, 11.0, 14.0, 21.0, 1.0, 17.0, 14.0, 0.0, 11.0, 5.0, 9.0, 1.0, 0.0, 1.0, 1.0, 1.0, 0.0, 0.0, 0.0, 16.0, 0.0, 10.0, 1.0, 0.0, 0.0, 0.0, 5.0, 0.0, 6.0, 3.0, 0.0, 12.0, 1.0, 3.0, 4.0, 9.0, 1.0, 2.0, 2.0, 14.0, 0.0, 3.0, 2.0, 4.0, 1.0, 12.0, 0.0, 0.0, 1.0, 0.0, 0.0, 0.0, 3.0, 0.0, 1.0, 15.0, 0.0, 0.0, 0.0, 240.0, 9.0, 2.0, 0.0, 12.0, 2.0, 6.0, 0.0, 1.0, 0.0, 0.0, 31.0, 0.0, 0.0, 2.0, 0.0, 40.0, 0.0, 0.0, 2.0, 7.0, 0.0, 0.0, 4.0, 13.0, 0.0, 18.0, 3.0, 3.0, 2.0, 5.0, 0.0, 1.0, 9.0, 0.0, 0.0, 0.0, 0.0, 1.0, 119.0, 5.0, 3.0, 84.0, 0.0, 0.0, 0.0, 0.0, 0.0, 0.0, 0.0, 0.0, 0.0, 0.0, 8.0, 1.0, 0.0, 2.0, 1.0, 1.0, 8.0, 0.0, 3.0, 5.0, 1.0, 2.0, 0.0, 8.0, 2.0, 0.0, 0.0, 1.0, 1.0, 0.0, 0.0, 0.0, 3.0, 2.0, 12.0, 2.0, 1.0, 0.0, 9.0, 2.0, 6.0, 0.0, 3.0, 1.0, 2.0, 1.0, 141.0, 0.0, 0.0, 2.0, 0.0, 0.0, 0.0, 0.0, 6.0, 1.0, 0.0, 6.0, 2.0, 5.0, 0.0, 0.0, 0.0, 0.0, 8.0, 7.0, 0.0, 0.0, 47.0, 0.0, 0.0, 0.0, 0.0, 35.0, 0.0, 8.0, 2.0, 0.0, 0.0, 1.0, 2.0, 0.0, 5.0, 0.0, 11.0, 1.0, 18.0, 0.0, 0.0, 774.0, 0.0, 17.0, 1.0, 2.0, 20.0, 0.0, 0.0, 2.0, 1.0, 1.0, 0.0, 0.0, 11.0, 4.0, 0.0, 17.0, 0.0, 3.0, 0.0, 1.0, 4.0, 20.0, 4.0, 7.0, 47.0, 10.0, 3.0, 0.0, 0.0, 0.0, 6.0, 25.0, 1.0, 0.0, 22.0, 24.0, 2.0, 0.0, 0.0, 4.0, 5.0, 1.0, 4.0, 14.0, 0.0, 1.0, 1.0, 5.0, 2.0, 0.0, 3.0, 0.0, 0.0, 26.0, 0.0, 0.0, 5.0, 1.0, 32.0, 12.0, 0.0, 9.0, 0.0, 0.0, 20.0, 2.0, 1.0, 1.0, 0.0, 6.0, 3.0, 23.0, 2.0, 0.0, 23.0, 0.0, 0.0, 0.0, 0.0, 1.0, 0.0, 3.0, 0.0, 6.0, 1.0, 5.0, 6.0, 5.0, 0.0, 0.0, 21.0, 0.0, 0.0, 1.0, 5.0, 11.0, 0.0, 2.0, 4.0, 0.0, 1.0, 2.0, 0.0, 1.0, 0.0, 0.0, 29.0, 0.0, 49.0, 7.0, 0.0, 2.0, 14.0, 0.0, 24.0, 1.0, 5.0, 1.0, 0.0, 5.0, 7.0, 1.0, 0.0, 3.0, 1.0, 1.0, 0.0, 0.0, 5.0, 0.0, 7.0, 0.0, 0.0, 0.0, 3.0, 0.0, 1.0, 0.0, 1.0, 0.0, 0.0, 0.0, 16.0, 4.0, 1.0, 2.0, 0.0, 2.0, 1.0, 0.0, 0.0, 50.0, 1.0, 0.0, 41.0, 2.0, 4.0, 0.0, 1.0, 2.0, 6.0, 0.0, 0.0, 43.0, 4.0, 4.0, 0.0, 0.0, 11.0, 5.0, 3.0, 16.0, 6.0, 1.0, 1.0, 0.0, 0.0, 4.0, 0.0, 0.0, 1.0, 0.0, 3.0, 13.0, 9.0, 50.0, 0.0, 0.0, 28.0, 21.0, 0.0, 7.0, 1.0, 6.0, 12.0, 26.0, 16.0, 0.0, 0.0, 0.0, 12.0, 3.0, 0.0, 0.0, 5.0, 9.0, 0.0, 0.0, 1.0, 0.0, 0.0, 0.0, 0.0, 7.0, 0.0, 0.0, 0.0, 0.0, 2.0, 4.0, 2.0, 0.0, 1.0, 3.0, 5.0, 6.0, 7.0, 0.0, 2.0, 0.0, 2.0, 30.0, 1.0, 1.0, 0.0, 26.0, 0.0, 0.0, 14.0, 0.0, 0.0, 0.0, 1.0, 0.0, 2.0, 0.0, 2.0, 0.0, 18.0, 0.0, 0.0, 21.0, 0.0, 1.0, 0.0, 0.0, 0.0, 1.0, 3.0, 0.0, 40.0, 0.0, 0.0, 1.0, 3.0, 0.0, 72.0, 28.0, 4.0, 33.0, 5.0, 2.0, 46.0, 2.0, 8.0, 0.0, 4.0, 2.0, 9.0, 0.0, 0.0, 2.0, 0.0, 37.0, 0.0, 3.0, 66.0, 0.0, 0.0, 7.0, 55.0, 0.0, 0.0, 9.0, 2.0, 0.0, 1.0, 2.0, 0.0, 3.0, 0.0, 5.0, 0.0, 1.0, 6.0, 2.0, 2.0, 3.0, 0.0, 2.0, 0.0, 11.0, 12.0, 1.0, 32.0, 7.0, 0.0, 98.0, 0.0, 0.0, 10.0, 19.0, 0.0, 27.0, 19.0, 7.0, 0.0, 0.0, 0.0, 0.0, 1.0, 0.0, 2.0, 0.0, 2.0, 0.0, 37.0, 0.0, 1.0, 0.0, 0.0, 0.0, 10.0, 0.0, 0.0, 2.0, 2.0, 0.0, 1.0, 5.0, 1.0, 0.0, 17.0, 2.0, 0.0, 0.0, 13.0, 5.0, 1.0, 4.0, 0.0, 1.0, 0.0, 0.0, 20.0, 0.0, 1.0, 2.0, 1.0, 4.0, 0.0, 5.0, 0.0, 24.0, 0.0, 0.0, 0.0, 1.0, 3.0, 2.0, 0.0, 0.0, 0.0, 3.0, 0.0, 0.0, 5.0, 22.0, 1.0, 0.0, 4.0, 3.0, 12.0, 0.0, 0.0, 0.0, 1.0, 0.0, 0.0, 0.0, 1.0, 12.0, 1.0, 154.0, 0.0, 0.0, 31.0, 14.0, 2.0, 5.0, 0.0, 0.0, 0.0, 0.0, 2.0, 0.0, 0.0, 1.0, 0.0, 8.0, 1.0, 24.0, 71.0, 0.0, 0.0, 8.0, 2.0, 0.0, 6.0, 0.0, 0.0, 0.0, 4.0, 0.0, 2.0, 0.0, 0.0, 0.0, 1.0, 0.0, 1.0, 7.0, 0.0, 0.0, 0.0, 2.0, 0.0, 7.0, 0.0, 3.0, 2.0, 1.0, 0.0, 2.0, 2.0, 0.0, 0.0, 1.0, 0.0, 0.0, 0.0, 0.0, 0.0, 1.0, 1.0, 1.0, 1.0, 10.0, 1.0, 6.0, 0.0, 0.0, 0.0, 4.0, 4.0, 1.0, 11.0, 0.0, 0.0, 15.0, 0.0, 0.0, 22.0, 0.0, 0.0, 0.0, 1.0, 0.0, 1.0, 0.0, 37.0, 2.0, 3.0, 0.0, 4.0, 0.0, 5.0, 0.0, 0.0, 1.0, 1.0, 14.0, 1.0, 0.0, 0.0, 0.0, 2.0, 8.0, 0.0, 3.0, 0.0, 92.0, 0.0, 0.0, 1.0, 9.0, 37.0, 16.0, 12.0, 0.0, 1.0, 6.0, 2.0, 1.0, 1.0, 7.0, 1.0, 8.0, 0.0, 1.0, 0.0, 2.0, 0.0, 1.0, 0.0, 0.0, 0.0, 0.0, 1.0, 1.0, 1.0, 0.0, 1.0, 7.0, 0.0, 72.0, 0.0, 58.0, 0.0, 7.0, 14.0, 6.0, 3.0, 6.0, 0.0, 8.0, 1.0, 10.0, 6.0, 2.0, 0.0, 0.0, 0.0, 4.0, 1.0, 0.0, 0.0, 0.0, 8.0, 0.0, 0.0, 0.0, 4.0, 6.0, 0.0, 0.0, 1.0, 5.0, 0.0, 1.0, 0.0, 72.0, 1.0, 2.0, 1.0, 9.0, 0.0, 9.0, 4.0, 0.0, 22.0, 1.0, 0.0, 0.0, 0.0, 1.0, 0.0, 8.0, 0.0, 0.0, 5.0, 0.0, 7.0, 0.0, 0.0, 21.0, 7.0, 0.0, 2.0, 18.0, 9.0, 0.0, 3.0, 9.0, 0.0, 1.0, 12.0, 1.0, 15.0, 2.0, 4.0, 29.0, 748.0, 50.0, 1.0, 3.0, 2.0, 19.0, 0.0, 1.0, 0.0, 1.0, 0.0, 0.0, 15.0, 1.0, 40.0, 1.0, 0.0, 0.0, 3.0, 0.0, 16.0, 8.0, 0.0, 0.0, 0.0, 2.0, 2.0, 12.0, 2.0, 7.0, 90.0, 1.0, 261.0, 3.0, 1.0, 8.0, 49.0, 1.0, 15.0, 1.0, 7.0, 1.0, 1.0, 0.0, 29.0, 13.0, 5.0, 0.0, 4.0, 2.0, 1.0, 11.0, 0.0, 0.0, 0.0, 2.0, 27.0, 9.0, 0.0, 26.0, 2.0, 2.0, 0.0, 44.0, 0.0, 3.0, 2.0, 1.0, 14.0, 1.0, 0.0, 27.0, 0.0, 0.0, 12.0, 3.0, 1.0, 0.0, 10.0, 1.0, 6.0, 2.0, 3.0, 0.0, 0.0, 1.0, 1.0, 0.0, 0.0, 46.0, 25.0, 1.0, 0.0, 2.0, 0.0, 19.0, 1.0, 1.0, 2.0, 19.0, 286.0, 0.0, 2.0, 0.0, 1.0, 6.0, 5.0, 0.0, 0.0, 0.0, 3.0, 0.0, 0.0, 2.0, 1.0, 7.0, 0.0, 0.0, 20.0, 5.0, 6.0, 0.0, 2.0, 1.0, 13.0, 0.0, 0.0, 0.0, 2.0, 0.0, 1.0, 0.0, 18.0, 4.0, 7.0, 0.0, 4.0, 1.0, 6.0, 0.0, 5.0, 0.0, 4.0, 35.0, 1.0, 0.0, 2.0, 0.0, 0.0, 10.0, 5.0, 0.0, 0.0, 0.0, 4.0, 3.0, 1.0, 29.0, 0.0, 3.0, 0.0, 28.0, 2.0, 1.0, 0.0, 1.0, 0.0, 2.0, 1.0, 1.0, 0.0, 0.0, 0.0, 0.0, 1.0, 5.0, 0.0, 11.0, 9.0, 0.0, 0.0, 4.0, 10.0, 1.0, 1.0, 1.0, 1.0, 0.0, 1.0, 1.0, 0.0, 0.0, 1.0, 1.0, 0.0, 3.0, 2.0, 1.0, 4.0, 0.0, 2.0, 1.0, 0.0, 4.0, 0.0, 5.0, 19.0, 2.0, 15.0, 0.0, 1.0, 93.0, 32.0, 1.0, 1.0, 0.0, 1.0, 1.0, 1.0, 0.0, 0.0, 0.0, 0.0, 0.0, 1.0, 17.0, 0.0, 9.0, 41.0, 0.0, 0.0, 4.0, 12.0, 0.0, 0.0, 0.0, 33.0, 0.0, 10.0, 1.0, 0.0, 12.0, 1.0, 0.0, 2.0, 1.0, 3.0, 2.0, 19.0, 0.0, 0.0, 1.0, 2.0, 7.0, 0.0, 2.0, 29.0, 5.0, 713.0, 0.0, 0.0, 0.0, 1.0, 640.0, 9.0, 16.0, 4.0, 6.0, 5.0, 4.0, 15.0, 0.0, 0.0, 1.0, 0.0, 4.0, 3.0, 4.0, 1.0, 0.0, 0.0, 3.0, 2.0, 1.0, 1.0, 22.0, 1.0, 6.0, 0.0, 3.0, 1.0, 3.0, 0.0, 2.0, 1.0, 2.0, 0.0, 0.0, 3.0, 0.0, 3.0, 22.0, 6.0, 1.0, 0.0, 0.0, 0.0, 9.0, 2.0, 8.0, 9.0, 3.0, 8.0, 0.0, 3.0, 4.0, 3.0, 8.0, 0.0, 0.0, 0.0, 5.0, 0.0, 19.0, 2.0, 2.0, 2.0, 0.0, 38.0, 33.0, 0.0, 1.0, 1.0, 2.0, 1.0, 2.0, 1.0, 2.0, 1.0, 2.0, 13.0, 0.0, 1.0, 0.0, 3.0, 0.0, 0.0, 0.0, 0.0, 0.0, 3.0, 1.0, 0.0, 2.0, 0.0, 0.0, 0.0, 5.0, 8.0, 61.0, 0.0, 1.0, 0.0, 1.0, 49.0, 26.0, 0.0, 0.0, 0.0, 1.0, 0.0, 0.0, 16.0, 1.0, 0.0, 2.0, 1.0, 0.0, 1.0, 1.0, 1.0, 6.0, 0.0, 30.0, 10.0, 0.0, 2.0, 2.0, 9.0, 0.0, 0.0, 0.0, 0.0, 1.0, 4.0, 0.0, 3.0, 0.0, 5.0, 3.0, 220.0, 1.0, 0.0, 0.0, 4.0, 1.0, 1.0, 0.0, 0.0, 0.0, 3.0, 1.0, 1.0, 8.0, 0.0, 0.0, 0.0, 0.0, 1.0, 0.0, 7.0, 13.0, 0.0, 1.0, 0.0, 1.0, 186.0, 0.0, 1.0, 0.0, 9.0, 5.0, 0.0, 0.0, 3.0, 0.0, 24.0, 4.0, 0.0, 0.0, 35.0, 0.0, 16.0, 0.0, 1.0, 31.0, 21.0, 51.0, 0.0, 2.0, 3.0, 159.0, 0.0, 0.0, 1.0, 0.0, 0.0, 0.0, 112.0, 4.0, 16.0, 0.0, 1.0, 1.0, 0.0, 1.0, 0.0, 1.0, 1.0, 3.0, 165.0, 11.0, 0.0, 0.0, 1.0, 0.0, 0.0, 0.0, 6.0, 1.0, 29.0, 1.0, 15.0, 6.0, 0.0, 4.0, 0.0, 0.0, 0.0, 0.0, 1.0, 0.0, 1.0, 0.0, 5.0, 22.0, 1.0, 0.0, 6.0, 0.0, 1.0, 0.0, 2.0, 0.0, 0.0, 0.0, 12.0, 5.0, 0.0, 3.0, 0.0, 1.0, 0.0, 0.0, 4.0, 0.0, 0.0, 1.0, 6.0, 1.0, 0.0, 0.0, 0.0, 0.0, 7.0, 6.0, 0.0, 0.0, 0.0, 0.0, 5.0, 8.0, 2.0, 4.0, 0.0, 6.0, 10.0, 3.0, 25.0, 2.0, 1.0, 0.0, 2.0, 6.0, 1.0, 2.0, 0.0, 30.0, 17.0, 26.0, 17.0, 0.0, 17.0, 0.0, 8.0, 14.0, 2.0, 16.0, 0.0, 6.0, 1.0, 0.0, 0.0, 0.0, 2.0, 14.0, 5.0, 2.0, 8.0, 3.0, 0.0, 4.0, 13.0, 0.0, 0.0, 0.0, 0.0, 0.0, 4.0, 0.0, 1.0, 4.0, 1.0, 12.0, 16.0, 0.0, 1.0, 4.0, 75.0, 0.0, 22.0, 0.0, 1.0, 1.0, 2.0, 1.0, 1.0, 1.0, 6.0, 0.0, 7.0, 2.0, 62.0, 0.0, 0.0, 1.0, 0.0, 0.0, 1.0, 13.0, 29.0, 3.0, 3.0, 7.0, 0.0, 1.0, 0.0, 3.0, 0.0, 153.0, 0.0, 0.0, 0.0, 5.0, 1.0, 0.0, 0.0, 0.0, 1.0, 0.0, 0.0, 0.0, 0.0, 1.0, 0.0, 0.0, 2.0, 0.0, 1.0, 3.0, 0.0, 0.0, 0.0, 0.0, 9.0, 0.0, 0.0, 0.0, 5.0, 0.0, 11.0, 2.0, 0.0, 0.0, 1.0, 0.0, 2.0, 1.0, 3.0, 2.0, 2.0, 3.0, 0.0, 0.0, 0.0, 4.0, 0.0, 0.0, 0.0, 3.0, 0.0, 1057.0, 6.0, 2.0, 2.0, 0.0, 0.0, 3.0, 8.0, 3.0, 4.0, 8.0, 31.0, 0.0, 17.0, 1.0, 0.0, 0.0, 7.0, 7.0, 1.0, 1.0, 3.0, 0.0, 1.0, 0.0, 0.0, 3.0, 0.0, 1.0, 0.0, 0.0, 0.0, 0.0, 2.0, 25.0, 0.0, 4.0, 0.0, 0.0, 0.0, 0.0, 4.0, 18.0, 5.0, 1.0, 1.0, 1.0, 0.0, 0.0, 0.0, 0.0, 7.0, 0.0, 4.0, 1.0, 0.0, 3.0, 0.0, 1.0, 20.0, 24.0, 0.0, 5.0, 0.0, 1.0, 1.0, 0.0, 0.0, 2.0, 0.0, 3.0, 0.0, 2.0, 0.0, 1.0, 0.0, 4.0, 2.0, 1.0, 0.0, 1.0, 0.0, 7.0, 1.0, 0.0, 1.0, 1.0, 11.0, 160.0, 1.0, 6.0, 18.0, 6.0, 5.0, 2.0, 1.0, 0.0, 0.0, 0.0, 4.0, 15.0, 1.0, 0.0, 0.0, 0.0, 1.0, 0.0, 2.0, 13.0, 0.0, 10.0, 0.0, 2.0, 1.0, 0.0, 1.0, 2.0, 2.0, 0.0, 0.0, 1.0, 4.0, 39.0, 0.0, 8.0, 2.0, 12.0, 1.0, 1.0, 5.0, 0.0, 19.0, 3.0, 0.0, 1.0, 1.0, 4.0, 6.0, 1.0, 5.0, 2.0, 3.0, 0.0, 4.0, 0.0, 0.0, 5.0, 2.0, 2.0, 0.0, 9.0, 1.0, 0.0, 21.0, 9.0, 5.0, 0.0, 0.0, 0.0, 1.0, 0.0, 1.0, 17.0, 6.0, 2.0, 2.0, 0.0, 0.0, 18.0, 0.0, 0.0, 18.0, 3.0, 0.0, 0.0, 3.0, 0.0, 1.0, 1.0, 0.0, 0.0, 7.0, 0.0, 10.0, 2.0, 3.0, 2.0, 3.0, 6.0, 1.0, 14.0, 2.0, 0.0, 20.0, 3.0, 1.0, 0.0, 5.0, 0.0, 1.0, 1.0, 1.0, 0.0, 3.0, 51.0, 2.0, 0.0, 0.0, 1.0, 30.0, 1.0, 0.0, 2.0, 0.0, 1.0, 1.0, 19.0, 1.0, 1.0, 2.0, 5.0, 3.0, 0.0, 0.0, 12.0, 0.0, 18.0, 3.0, 28.0, 0.0, 0.0, 14.0, 0.0, 1.0, 0.0, 1.0, 2.0, 2.0, 3.0, 29.0, 0.0, 0.0, 2.0, 0.0, 3.0, 2.0, 1.0, 0.0, 1.0, 1.0, 0.0, 0.0, 12.0, 24.0, 1.0, 1.0, 1.0, 0.0, 1.0, 89.0, 1.0, 0.0, 0.0, 2.0, 0.0, 33.0, 6.0, 25.0, 0.0, 1.0, 0.0, 0.0, 0.0, 4.0, 0.0, 0.0, 0.0, 0.0, 2.0, 3.0, 1.0, 1.0, 0.0, 0.0, 1.0, 2.0, 7.0, 1.0, 0.0, 0.0, 2.0, 15.0, 6.0, 0.0, 2.0, 0.0, 1.0, 75.0, 8.0, 0.0, 0.0, 2.0, 3.0, 10.0, 105.0, 1.0, 1.0, 2.0, 1.0, 0.0, 3.0, 1.0, 3.0, 0.0, 171.0, 0.0, 1.0, 0.0, 0.0, 4.0, 0.0, 3.0, 1.0, 0.0, 5.0, 0.0, 14.0, 2.0, 0.0, 0.0, 0.0, 0.0, 1.0, 0.0, 17.0, 1.0, 0.0, 0.0, 0.0, 0.0, 3.0, 2.0, 4.0, 1.0, 0.0, 0.0, 169.0, 0.0, 4.0, 0.0, 15.0, 1.0, 0.0, 1.0, 2.0, 1.0, 0.0, 0.0, 2.0, 3.0, 0.0, 0.0, 0.0, 3.0, 11.0, 0.0, 1.0, 0.0, 0.0, 11.0, 0.0, 0.0, 1.0, 1.0, 0.0, 1.0, 5.0, 0.0, 0.0, 39.0, 0.0, 32.0, 0.0, 76.0, 1.0, 1.0, 0.0, 0.0, 6.0, 2.0, 1.0, 0.0, 0.0, 0.0, 2.0, 0.0, 0.0, 6.0, 2.0, 1.0, 8.0, 0.0, 2.0, 34.0, 0.0, 1.0, 42.0, 14.0, 1.0, 2.0, 4.0, 16.0, 2.0, 2.0, 1.0, 0.0, 3.0, 29.0, 2.0, 0.0, 0.0, 2.0, 1.0, 1.0, 30.0, 0.0, 2.0, 16.0, 0.0, 3.0, 2.0, 8.0, 3.0, 1.0, 1.0, 0.0, 13.0, 0.0, 6.0, 0.0, 1.0, 1.0, 1.0, 3.0, 5.0, 0.0, 0.0, 2.0, 0.0, 31.0, 3.0, 1.0, 0.0, 2.0, 0.0, 0.0, 5.0, 1.0, 1.0, 1.0, 1.0, 0.0, 1.0, 0.0, 52.0, 62.0, 0.0, 0.0, 1.0, 62.0, 1.0, 0.0, 1.0, 2.0, 0.0, 0.0, 4.0, 0.0, 0.0, 33.0, 304.0, 0.0, 0.0, 0.0, 1.0, 0.0, 6.0, 11.0, 27.0, 14.0, 1.0, 0.0, 0.0, 2.0, 1.0, 1.0, 0.0, 0.0, 7.0, 1.0, 8.0, 26.0, 0.0, 1.0, 1.0, 39.0, 4.0, 1.0, 7.0, 2.0, 0.0, 1.0, 3.0, 8.0, 23.0, 0.0, 3.0, 3.0, 0.0, 1.0, 0.0, 1.0, 1.0, 0.0, 0.0, 10.0, 17.0, 100.0, 0.0, 9.0, 17.0, 2.0, 2.0, 11.0, 0.0, 25.0, 0.0, 0.0, 0.0, 0.0, 1.0, 1.0, 0.0, 0.0, 2.0, 0.0, 0.0, 1.0, 0.0, 1.0, 5.0, 2.0, 0.0, 2.0, 0.0, 2.0, 1.0, 0.0, 0.0, 5.0, 0.0, 0.0, 0.0, 0.0, 0.0, 0.0, 0.0, 2.0, 0.0, 3.0, 1.0, 8.0, 0.0, 6.0, 1.0, 31.0, 1.0, 29.0, 0.0, 8.0, 0.0, 0.0, 0.0, 0.0, 7.0, 7.0, 5.0, 2.0, 0.0, 0.0, 2.0, 1.0, 4.0, 2.0, 2.0, 10.0, 1.0, 17.0, 5.0, 0.0, 1.0, 1.0, 0.0, 0.0, 5.0, 1.0, 0.0, 0.0, 1.0, 0.0, 19.0, 0.0, 7.0, 6.0, 21.0, 44.0, 13.0, 2.0, 2.0, 1.0, 1.0, 395.0, 0.0, 5.0, 0.0, 10.0, 4.0, 10.0, 0.0, 14.0, 0.0, 1.0, 0.0, 0.0, 0.0, 1.0, 3.0, 0.0, 12.0, 118.0, 0.0, 0.0, 0.0, 2.0, 0.0, 0.0, 14.0, 3.0, 4.0, 1.0, 3.0, 0.0, 0.0, 1.0, 21.0, 0.0, 1.0, 8.0, 0.0, 8.0, 0.0, 0.0, 1.0, 0.0, 1.0, 7.0, 4.0, 1.0, 0.0, 5.0, 1.0, 1.0, 6.0, 4.0, 3.0, 1.0, 0.0, 8.0, 1.0, 0.0, 4.0, 0.0, 3.0, 3.0, 0.0, 1.0, 74.0, 2.0, 3.0, 18.0, 1.0, 0.0, 25.0, 17.0, 0.0, 6.0, 1.0, 0.0, 0.0, 2.0, 12.0, 3.0, 5.0, 5.0, 0.0, 0.0, 19.0, 3.0, 3.0, 1.0, 2.0, 9.0, 2.0, 9.0, 0.0, 0.0, 0.0, 1.0, 10.0, 0.0, 0.0, 0.0, 1.0, 0.0, 0.0, 0.0, 0.0, 3.0, 4.0, 1.0, 0.0, 2.0, 2.0, 5.0, 0.0, 0.0, 3.0, 2.0, 4.0, 0.0, 15.0, 7.0, 4.0, 1.0, 1.0, 6.0, 0.0, 0.0, 3.0, 2.0, 0.0, 3.0, 12.0, 0.0, 0.0, 7.0, 1.0, 1.0, 0.0, 0.0, 0.0, 0.0, 0.0, 4.0, 2.0, 10.0, 0.0, 0.0, 11.0, 0.0, 0.0, 0.0, 0.0, 0.0, 3.0, 0.0, 0.0, 2.0, 0.0, 0.0, 17.0, 15.0, 53.0, 18.0, 1.0, 0.0, 0.0, 65.0, 3.0, 0.0, 0.0, 0.0, 0.0, 13.0, 0.0, 1.0, 0.0, 8.0, 1.0, 5.0, 2.0, 0.0, 0.0, 0.0, 1.0, 0.0, 0.0, 0.0, 3.0, 0.0, 1.0, 18.0, 0.0, 2.0, 1.0, 0.0, 0.0, 0.0, 0.0, 5.0, 1.0, 0.0, 0.0, 1.0, 0.0, 15.0, 4.0, 0.0, 0.0, 0.0, 9.0, 4.0, 0.0, 2.0, 8.0, 4.0, 0.0, 2.0, 5.0, 2.0, 3.0, 4.0, 0.0, 0.0, 0.0, 0.0, 0.0, 126.0, 8.0, 0.0, 0.0, 0.0, 0.0, 2.0, 0.0, 20.0, 1.0, 3.0, 2.0, 2.0, 0.0, 2.0, 0.0, 1.0, 4.0, 0.0, 0.0, 0.0, 2.0, 31.0, 0.0, 43.0, 19.0, 2.0, 1.0, 102.0, 0.0, 0.0, 0.0, 0.0, 0.0, 0.0, 0.0, 0.0, 1.0, 2.0, 5.0, 13.0, 0.0, 5.0, 11.0, 0.0, 8.0, 9.0, 6.0, 1.0, 1.0, 7.0, 2.0, 0.0, 4.0, 1.0, 0.0, 0.0, 1.0, 7.0, 58.0, 4.0, 109.0, 1.0, 1.0, 0.0, 0.0, 2.0, 2.0, 0.0, 0.0, 0.0, 1.0, 2.0, 0.0, 0.0, 1.0, 1.0, 4.0, 1.0, 1.0, 0.0, 3.0, 0.0, 0.0, 0.0, 1.0, 9.0, 0.0, 6.0, 0.0, 10.0, 0.0, 15.0, 0.0, 27.0, 1.0, 40.0, 0.0, 0.0, 2.0, 6.0, 0.0, 2.0, 9.0, 0.0, 0.0, 1.0, 20.0, 36.0, 0.0, 1.0, 0.0, 1.0, 1.0, 12.0, 0.0, 0.0, 0.0, 97.0, 7.0, 54.0, 0.0, 0.0, 0.0, 0.0, 0.0, 0.0, 0.0, 0.0, 34.0, 0.0, 1.0, 0.0, 1.0, 0.0, 1.0, 3.0, 0.0, 0.0, 0.0, 0.0, 0.0, 1.0, 1.0, 3.0, 127.0, 1.0, 7.0, 0.0, 1.0, 1.0, 0.0, 1.0, 3.0, 0.0, 2.0, 0.0, 246.0, 0.0, 8.0, 1.0, 40.0, 1.0, 0.0, 1.0, 20.0, 0.0, 2.0, 3.0, 17.0, 11.0, 1.0, 1.0, 0.0, 0.0, 7.0, 0.0, 2.0, 1.0, 12.0, 62.0, 2.0, 0.0, 1.0, 2.0, 2.0, 3.0, 12.0, 0.0, 10.0, 0.0, 3.0, 1.0, 8.0, 0.0, 3.0, 15.0, 2.0, 2.0, 1.0, 0.0, 0.0, 5.0, 5.0, 7.0, 17.0, 0.0, 19.0, 0.0, 6.0, 0.0, 0.0, 0.0, 2.0, 1.0, 2.0, 8.0, 13.0, 0.0, 0.0, 3.0, 246.0, 0.0, 0.0, 0.0, 39.0, 0.0, 1.0, 1.0, 0.0, 0.0, 0.0, 1.0, 0.0, 0.0, 0.0, 1.0, 0.0, 7.0, 2.0, 1.0, 0.0, 8.0, 1.0, 0.0, 1.0, 1.0, 0.0, 2.0, 1.0, 0.0, 2.0, 10.0, 37.0, 4.0, 1.0, 1.0, 0.0, 1.0, 3.0, 8.0, 0.0, 0.0, 0.0, 0.0, 1.0, 1.0, 0.0, 3.0, 0.0, 2.0, 0.0, 2.0, 0.0, 19.0, 0.0, 3.0, 0.0, 2.0, 1.0, 0.0, 23.0, 4.0, 8.0, 4.0, 50.0, 5.0, 6.0, 1.0, 0.0, 1.0, 1.0, 14.0, 0.0, 3.0, 0.0, 4.0, 2.0, 0.0, 2.0, 1.0, 3.0, 0.0, 3.0, 1.0, 1.0, 0.0, 0.0, 14.0, 0.0, 0.0, 0.0, 5.0, 0.0, 2.0, 1.0, 0.0, 0.0, 1.0, 1.0, 1.0, 2.0, 28.0, 2.0, 0.0, 0.0, 2.0, 1.0, 3.0, 0.0, 4.0, 0.0, 0.0, 7.0, 0.0, 0.0, 54.0, 0.0, 0.0, 0.0, 2.0, 0.0, 8.0, 0.0, 0.0, 3.0, 4.0, 0.0, 4.0, 12.0, 2.0, 0.0, 0.0, 0.0, 0.0, 1.0, 2.0, 0.0, 1.0, 1.0, 9.0, 1.0, 1.0, 0.0, 2.0, 0.0, 11.0, 3.0, 0.0, 0.0, 14.0, 6.0, 3.0, 0.0, 109.0, 1.0, 0.0, 0.0, 0.0, 7.0, 16.0, 12.0, 7.0, 7.0, 2.0, 10.0, 3.0, 3.0, 10.0, 9.0, 1.0, 2.0, 0.0, 4.0, 0.0, 1.0, 0.0, 0.0, 2.0, 4.0, 1.0, 0.0, 0.0, 0.0, 3.0, 1.0, 2.0, 0.0, 3.0, 1.0, 4.0, 1.0, 12.0, 2.0, 22.0, 1.0, 0.0, 1.0, 1.0, 0.0, 0.0, 17.0, 1.0, 2.0, 1.0, 2.0, 24.0, 1.0, 4.0, 3.0, 6.0, 4.0, 20.0, 4.0, 1.0, 0.0, 12.0, 1.0, 0.0, 1.0, 1.0, 0.0, 3.0, 0.0, 5.0, 0.0, 0.0, 0.0, 0.0, 3.0, 71.0, 3.0, 0.0, 12.0, 3.0, 1.0, 3.0, 0.0, 0.0, 2.0, 6.0, 2.0, 2.0, 1.0, 1.0, 1.0, 1.0, 2.0, 0.0, 5.0, 9.0, 0.0, 2.0, 0.0, 17.0, 1.0, 1.0, 0.0, 0.0, 2.0, 3.0, 5.0, 0.0, 3.0, 1.0, 0.0, 0.0, 2.0, 0.0, 0.0, 0.0, 0.0, 0.0, 7.0, 0.0, 3.0, 0.0, 1.0, 9.0, 0.0, 10.0, 13.0, 0.0, 2.0, 1.0, 64.0, 13.0, 0.0, 29.0, 0.0, 0.0, 0.0, 0.0, 2.0, 31.0, 0.0, 2.0, 5.0, 2.0, 17.0, 0.0, 0.0, 0.0, 0.0, 0.0, 1.0, 0.0, 0.0, 5.0, 0.0, 0.0, 1.0, 0.0, 4.0, 12.0, 4.0, 0.0, 5.0, 1.0, 0.0, 2.0, 0.0, 2.0, 0.0, 41.0, 0.0, 109.0, 11.0, 60.0, 0.0, 2.0, 0.0, 2.0, 0.0, 7.0, 0.0, 0.0, 0.0, 6.0, 0.0, 3.0, 29.0, 5.0, 2.0, 1.0]}],\n",
              "                        {\"template\": {\"data\": {\"bar\": [{\"error_x\": {\"color\": \"#2a3f5f\"}, \"error_y\": {\"color\": \"#2a3f5f\"}, \"marker\": {\"line\": {\"color\": \"#E5ECF6\", \"width\": 0.5}}, \"type\": \"bar\"}], \"barpolar\": [{\"marker\": {\"line\": {\"color\": \"#E5ECF6\", \"width\": 0.5}}, \"type\": \"barpolar\"}], \"carpet\": [{\"aaxis\": {\"endlinecolor\": \"#2a3f5f\", \"gridcolor\": \"white\", \"linecolor\": \"white\", \"minorgridcolor\": \"white\", \"startlinecolor\": \"#2a3f5f\"}, \"baxis\": {\"endlinecolor\": \"#2a3f5f\", \"gridcolor\": \"white\", \"linecolor\": \"white\", \"minorgridcolor\": \"white\", \"startlinecolor\": \"#2a3f5f\"}, \"type\": \"carpet\"}], \"choropleth\": [{\"colorbar\": {\"outlinewidth\": 0, \"ticks\": \"\"}, \"type\": \"choropleth\"}], \"contour\": [{\"colorbar\": {\"outlinewidth\": 0, \"ticks\": \"\"}, \"colorscale\": [[0.0, \"#0d0887\"], [0.1111111111111111, \"#46039f\"], [0.2222222222222222, \"#7201a8\"], [0.3333333333333333, \"#9c179e\"], [0.4444444444444444, \"#bd3786\"], [0.5555555555555556, \"#d8576b\"], [0.6666666666666666, \"#ed7953\"], [0.7777777777777778, \"#fb9f3a\"], [0.8888888888888888, \"#fdca26\"], [1.0, \"#f0f921\"]], \"type\": \"contour\"}], \"contourcarpet\": [{\"colorbar\": {\"outlinewidth\": 0, \"ticks\": \"\"}, \"type\": \"contourcarpet\"}], \"heatmap\": [{\"colorbar\": {\"outlinewidth\": 0, \"ticks\": \"\"}, \"colorscale\": [[0.0, \"#0d0887\"], [0.1111111111111111, \"#46039f\"], [0.2222222222222222, \"#7201a8\"], [0.3333333333333333, \"#9c179e\"], [0.4444444444444444, \"#bd3786\"], [0.5555555555555556, \"#d8576b\"], [0.6666666666666666, \"#ed7953\"], [0.7777777777777778, \"#fb9f3a\"], [0.8888888888888888, \"#fdca26\"], [1.0, \"#f0f921\"]], \"type\": \"heatmap\"}], \"heatmapgl\": [{\"colorbar\": {\"outlinewidth\": 0, \"ticks\": \"\"}, \"colorscale\": [[0.0, \"#0d0887\"], [0.1111111111111111, \"#46039f\"], [0.2222222222222222, \"#7201a8\"], [0.3333333333333333, \"#9c179e\"], [0.4444444444444444, \"#bd3786\"], [0.5555555555555556, \"#d8576b\"], [0.6666666666666666, \"#ed7953\"], [0.7777777777777778, \"#fb9f3a\"], [0.8888888888888888, \"#fdca26\"], [1.0, \"#f0f921\"]], \"type\": \"heatmapgl\"}], \"histogram\": [{\"marker\": {\"colorbar\": {\"outlinewidth\": 0, \"ticks\": \"\"}}, \"type\": \"histogram\"}], \"histogram2d\": [{\"colorbar\": {\"outlinewidth\": 0, \"ticks\": \"\"}, \"colorscale\": [[0.0, \"#0d0887\"], [0.1111111111111111, \"#46039f\"], [0.2222222222222222, \"#7201a8\"], [0.3333333333333333, \"#9c179e\"], [0.4444444444444444, \"#bd3786\"], [0.5555555555555556, \"#d8576b\"], [0.6666666666666666, \"#ed7953\"], [0.7777777777777778, \"#fb9f3a\"], [0.8888888888888888, \"#fdca26\"], [1.0, \"#f0f921\"]], \"type\": \"histogram2d\"}], \"histogram2dcontour\": [{\"colorbar\": {\"outlinewidth\": 0, \"ticks\": \"\"}, \"colorscale\": [[0.0, \"#0d0887\"], [0.1111111111111111, \"#46039f\"], [0.2222222222222222, \"#7201a8\"], [0.3333333333333333, \"#9c179e\"], [0.4444444444444444, \"#bd3786\"], [0.5555555555555556, \"#d8576b\"], [0.6666666666666666, \"#ed7953\"], [0.7777777777777778, \"#fb9f3a\"], [0.8888888888888888, \"#fdca26\"], [1.0, \"#f0f921\"]], \"type\": \"histogram2dcontour\"}], \"mesh3d\": [{\"colorbar\": {\"outlinewidth\": 0, \"ticks\": \"\"}, \"type\": \"mesh3d\"}], \"parcoords\": [{\"line\": {\"colorbar\": {\"outlinewidth\": 0, \"ticks\": \"\"}}, \"type\": \"parcoords\"}], \"pie\": [{\"automargin\": true, \"type\": \"pie\"}], \"scatter\": [{\"marker\": {\"colorbar\": {\"outlinewidth\": 0, \"ticks\": \"\"}}, \"type\": \"scatter\"}], \"scatter3d\": [{\"line\": {\"colorbar\": {\"outlinewidth\": 0, \"ticks\": \"\"}}, \"marker\": {\"colorbar\": {\"outlinewidth\": 0, \"ticks\": \"\"}}, \"type\": \"scatter3d\"}], \"scattercarpet\": [{\"marker\": {\"colorbar\": {\"outlinewidth\": 0, \"ticks\": \"\"}}, \"type\": \"scattercarpet\"}], \"scattergeo\": [{\"marker\": {\"colorbar\": {\"outlinewidth\": 0, \"ticks\": \"\"}}, \"type\": \"scattergeo\"}], \"scattergl\": [{\"marker\": {\"colorbar\": {\"outlinewidth\": 0, \"ticks\": \"\"}}, \"type\": \"scattergl\"}], \"scattermapbox\": [{\"marker\": {\"colorbar\": {\"outlinewidth\": 0, \"ticks\": \"\"}}, \"type\": \"scattermapbox\"}], \"scatterpolar\": [{\"marker\": {\"colorbar\": {\"outlinewidth\": 0, \"ticks\": \"\"}}, \"type\": \"scatterpolar\"}], \"scatterpolargl\": [{\"marker\": {\"colorbar\": {\"outlinewidth\": 0, \"ticks\": \"\"}}, \"type\": \"scatterpolargl\"}], \"scatterternary\": [{\"marker\": {\"colorbar\": {\"outlinewidth\": 0, \"ticks\": \"\"}}, \"type\": \"scatterternary\"}], \"surface\": [{\"colorbar\": {\"outlinewidth\": 0, \"ticks\": \"\"}, \"colorscale\": [[0.0, \"#0d0887\"], [0.1111111111111111, \"#46039f\"], [0.2222222222222222, \"#7201a8\"], [0.3333333333333333, \"#9c179e\"], [0.4444444444444444, \"#bd3786\"], [0.5555555555555556, \"#d8576b\"], [0.6666666666666666, \"#ed7953\"], [0.7777777777777778, \"#fb9f3a\"], [0.8888888888888888, \"#fdca26\"], [1.0, \"#f0f921\"]], \"type\": \"surface\"}], \"table\": [{\"cells\": {\"fill\": {\"color\": \"#EBF0F8\"}, \"line\": {\"color\": \"white\"}}, \"header\": {\"fill\": {\"color\": \"#C8D4E3\"}, \"line\": {\"color\": \"white\"}}, \"type\": \"table\"}]}, \"layout\": {\"annotationdefaults\": {\"arrowcolor\": \"#2a3f5f\", \"arrowhead\": 0, \"arrowwidth\": 1}, \"coloraxis\": {\"colorbar\": {\"outlinewidth\": 0, \"ticks\": \"\"}}, \"colorscale\": {\"diverging\": [[0, \"#8e0152\"], [0.1, \"#c51b7d\"], [0.2, \"#de77ae\"], [0.3, \"#f1b6da\"], [0.4, \"#fde0ef\"], [0.5, \"#f7f7f7\"], [0.6, \"#e6f5d0\"], [0.7, \"#b8e186\"], [0.8, \"#7fbc41\"], [0.9, \"#4d9221\"], [1, \"#276419\"]], \"sequential\": [[0.0, \"#0d0887\"], [0.1111111111111111, \"#46039f\"], [0.2222222222222222, \"#7201a8\"], [0.3333333333333333, \"#9c179e\"], [0.4444444444444444, \"#bd3786\"], [0.5555555555555556, \"#d8576b\"], [0.6666666666666666, \"#ed7953\"], [0.7777777777777778, \"#fb9f3a\"], [0.8888888888888888, \"#fdca26\"], [1.0, \"#f0f921\"]], \"sequentialminus\": [[0.0, \"#0d0887\"], [0.1111111111111111, \"#46039f\"], [0.2222222222222222, \"#7201a8\"], [0.3333333333333333, \"#9c179e\"], [0.4444444444444444, \"#bd3786\"], [0.5555555555555556, \"#d8576b\"], [0.6666666666666666, \"#ed7953\"], [0.7777777777777778, \"#fb9f3a\"], [0.8888888888888888, \"#fdca26\"], [1.0, \"#f0f921\"]]}, \"colorway\": [\"#636efa\", \"#EF553B\", \"#00cc96\", \"#ab63fa\", \"#FFA15A\", \"#19d3f3\", \"#FF6692\", \"#B6E880\", \"#FF97FF\", \"#FECB52\"], \"font\": {\"color\": \"#2a3f5f\"}, \"geo\": {\"bgcolor\": \"white\", \"lakecolor\": \"white\", \"landcolor\": \"#E5ECF6\", \"showlakes\": true, \"showland\": true, \"subunitcolor\": \"white\"}, \"hoverlabel\": {\"align\": \"left\"}, \"hovermode\": \"closest\", \"mapbox\": {\"style\": \"light\"}, \"paper_bgcolor\": \"white\", \"plot_bgcolor\": \"#E5ECF6\", \"polar\": {\"angularaxis\": {\"gridcolor\": \"white\", \"linecolor\": \"white\", \"ticks\": \"\"}, \"bgcolor\": \"#E5ECF6\", \"radialaxis\": {\"gridcolor\": \"white\", \"linecolor\": \"white\", \"ticks\": \"\"}}, \"scene\": {\"xaxis\": {\"backgroundcolor\": \"#E5ECF6\", \"gridcolor\": \"white\", \"gridwidth\": 2, \"linecolor\": \"white\", \"showbackground\": true, \"ticks\": \"\", \"zerolinecolor\": \"white\"}, \"yaxis\": {\"backgroundcolor\": \"#E5ECF6\", \"gridcolor\": \"white\", \"gridwidth\": 2, \"linecolor\": \"white\", \"showbackground\": true, \"ticks\": \"\", \"zerolinecolor\": \"white\"}, \"zaxis\": {\"backgroundcolor\": \"#E5ECF6\", \"gridcolor\": \"white\", \"gridwidth\": 2, \"linecolor\": \"white\", \"showbackground\": true, \"ticks\": \"\", \"zerolinecolor\": \"white\"}}, \"shapedefaults\": {\"line\": {\"color\": \"#2a3f5f\"}}, \"ternary\": {\"aaxis\": {\"gridcolor\": \"white\", \"linecolor\": \"white\", \"ticks\": \"\"}, \"baxis\": {\"gridcolor\": \"white\", \"linecolor\": \"white\", \"ticks\": \"\"}, \"bgcolor\": \"#E5ECF6\", \"caxis\": {\"gridcolor\": \"white\", \"linecolor\": \"white\", \"ticks\": \"\"}}, \"title\": {\"x\": 0.05}, \"xaxis\": {\"automargin\": true, \"gridcolor\": \"white\", \"linecolor\": \"white\", \"ticks\": \"\", \"title\": {\"standoff\": 15}, \"zerolinecolor\": \"white\", \"zerolinewidth\": 2}, \"yaxis\": {\"automargin\": true, \"gridcolor\": \"white\", \"linecolor\": \"white\", \"ticks\": \"\", \"title\": {\"standoff\": 15}, \"zerolinecolor\": \"white\", \"zerolinewidth\": 2}}}},\n",
              "                        {\"responsive\": true}\n",
              "                    ).then(function(){\n",
              "                            \n",
              "var gd = document.getElementById('01078455-3060-4af7-9434-743df36c673c');\n",
              "var x = new MutationObserver(function (mutations, observer) {{\n",
              "        var display = window.getComputedStyle(gd).display;\n",
              "        if (!display || display === 'none') {{\n",
              "            console.log([gd, 'removed!']);\n",
              "            Plotly.purge(gd);\n",
              "            observer.disconnect();\n",
              "        }}\n",
              "}});\n",
              "\n",
              "// Listen for the removal of the full notebook cells\n",
              "var notebookContainer = gd.closest('#notebook-container');\n",
              "if (notebookContainer) {{\n",
              "    x.observe(notebookContainer, {childList: true});\n",
              "}}\n",
              "\n",
              "// Listen for the clearing of the current output cell\n",
              "var outputEl = gd.closest('.output');\n",
              "if (outputEl) {{\n",
              "    x.observe(outputEl, {childList: true});\n",
              "}}\n",
              "\n",
              "                        })\n",
              "                };\n",
              "                \n",
              "            </script>\n",
              "        </div>\n",
              "</body>\n",
              "</html>"
            ]
          },
          "metadata": {
            "tags": []
          }
        }
      ]
    },
    {
      "cell_type": "code",
      "metadata": {
        "colab": {
          "base_uri": "https://localhost:8080/",
          "height": 542
        },
        "id": "tzHCLxgYIqe_",
        "outputId": "dc080b77-bd6d-4891-c3ff-f6691b856a66"
      },
      "source": [
        "december=df.loc[df['month']==12]\n",
        "day_december = december.groupby('day',as_index=False).agg({'total_engagement':'sum'})\n",
        "\n",
        "fig = px.scatter(day_december,\n",
        "                 x='day',\n",
        "                 y='total_engagement',\n",
        "                 color_continuous_scale='Rainbow',\n",
        "                 color='total_engagement',\n",
        "                 size='total_engagement',\n",
        "                 title='Most engaged days in December')\n",
        "fig.show()"
      ],
      "execution_count": 101,
      "outputs": [
        {
          "output_type": "display_data",
          "data": {
            "text/html": [
              "<html>\n",
              "<head><meta charset=\"utf-8\" /></head>\n",
              "<body>\n",
              "    <div>\n",
              "            <script src=\"https://cdnjs.cloudflare.com/ajax/libs/mathjax/2.7.5/MathJax.js?config=TeX-AMS-MML_SVG\"></script><script type=\"text/javascript\">if (window.MathJax) {MathJax.Hub.Config({SVG: {font: \"STIX-Web\"}});}</script>\n",
              "                <script type=\"text/javascript\">window.PlotlyConfig = {MathJaxConfig: 'local'};</script>\n",
              "        <script src=\"https://cdn.plot.ly/plotly-latest.min.js\"></script>    \n",
              "            <div id=\"fe499bf4-5a47-4308-82b2-ae3de5bb97f3\" class=\"plotly-graph-div\" style=\"height:525px; width:100%;\"></div>\n",
              "            <script type=\"text/javascript\">\n",
              "                \n",
              "                    window.PLOTLYENV=window.PLOTLYENV || {};\n",
              "                    \n",
              "                if (document.getElementById(\"fe499bf4-5a47-4308-82b2-ae3de5bb97f3\")) {\n",
              "                    Plotly.newPlot(\n",
              "                        'fe499bf4-5a47-4308-82b2-ae3de5bb97f3',\n",
              "                        [{\"hoverlabel\": {\"namelength\": 0}, \"hovertemplate\": \"day=%{x}<br>total_engagement=%{marker.color}\", \"legendgroup\": \"\", \"marker\": {\"color\": [2989.0, 880.0, 3062.0, 1716.0, 1342.0, 1219.0, 876.0, 2467.0, 826.0, 2584.0, 1429.0, 1652.0, 1894.0, 264.0, 809.0, 342.0, 274.0, 627.0, 812.0, 489.0], \"coloraxis\": \"coloraxis\", \"size\": [2989.0, 880.0, 3062.0, 1716.0, 1342.0, 1219.0, 876.0, 2467.0, 826.0, 2584.0, 1429.0, 1652.0, 1894.0, 264.0, 809.0, 342.0, 274.0, 627.0, 812.0, 489.0], \"sizemode\": \"area\", \"sizeref\": 7.655, \"symbol\": \"circle\"}, \"mode\": \"markers\", \"name\": \"\", \"showlegend\": false, \"type\": \"scatter\", \"x\": [12, 13, 14, 15, 16, 17, 18, 19, 20, 21, 22, 23, 24, 25, 26, 27, 28, 29, 30, 31], \"xaxis\": \"x\", \"y\": [2989.0, 880.0, 3062.0, 1716.0, 1342.0, 1219.0, 876.0, 2467.0, 826.0, 2584.0, 1429.0, 1652.0, 1894.0, 264.0, 809.0, 342.0, 274.0, 627.0, 812.0, 489.0], \"yaxis\": \"y\"}],\n",
              "                        {\"coloraxis\": {\"colorbar\": {\"title\": {\"text\": \"total_engagement\"}}, \"colorscale\": [[0.0, \"rgb(150,0,90)\"], [0.125, \"rgb(0,0,200)\"], [0.25, \"rgb(0,25,255)\"], [0.375, \"rgb(0,152,255)\"], [0.5, \"rgb(44,255,150)\"], [0.625, \"rgb(151,255,0)\"], [0.75, \"rgb(255,234,0)\"], [0.875, \"rgb(255,111,0)\"], [1.0, \"rgb(255,0,0)\"]]}, \"legend\": {\"itemsizing\": \"constant\", \"tracegroupgap\": 0}, \"template\": {\"data\": {\"bar\": [{\"error_x\": {\"color\": \"#2a3f5f\"}, \"error_y\": {\"color\": \"#2a3f5f\"}, \"marker\": {\"line\": {\"color\": \"#E5ECF6\", \"width\": 0.5}}, \"type\": \"bar\"}], \"barpolar\": [{\"marker\": {\"line\": {\"color\": \"#E5ECF6\", \"width\": 0.5}}, \"type\": \"barpolar\"}], \"carpet\": [{\"aaxis\": {\"endlinecolor\": \"#2a3f5f\", \"gridcolor\": \"white\", \"linecolor\": \"white\", \"minorgridcolor\": \"white\", \"startlinecolor\": \"#2a3f5f\"}, \"baxis\": {\"endlinecolor\": \"#2a3f5f\", \"gridcolor\": \"white\", \"linecolor\": \"white\", \"minorgridcolor\": \"white\", \"startlinecolor\": \"#2a3f5f\"}, \"type\": \"carpet\"}], \"choropleth\": [{\"colorbar\": {\"outlinewidth\": 0, \"ticks\": \"\"}, \"type\": \"choropleth\"}], \"contour\": [{\"colorbar\": {\"outlinewidth\": 0, \"ticks\": \"\"}, \"colorscale\": [[0.0, \"#0d0887\"], [0.1111111111111111, \"#46039f\"], [0.2222222222222222, \"#7201a8\"], [0.3333333333333333, \"#9c179e\"], [0.4444444444444444, \"#bd3786\"], [0.5555555555555556, \"#d8576b\"], [0.6666666666666666, \"#ed7953\"], [0.7777777777777778, \"#fb9f3a\"], [0.8888888888888888, \"#fdca26\"], [1.0, \"#f0f921\"]], \"type\": \"contour\"}], \"contourcarpet\": [{\"colorbar\": {\"outlinewidth\": 0, \"ticks\": \"\"}, \"type\": \"contourcarpet\"}], \"heatmap\": [{\"colorbar\": {\"outlinewidth\": 0, \"ticks\": \"\"}, \"colorscale\": [[0.0, \"#0d0887\"], [0.1111111111111111, \"#46039f\"], [0.2222222222222222, \"#7201a8\"], [0.3333333333333333, \"#9c179e\"], [0.4444444444444444, \"#bd3786\"], [0.5555555555555556, \"#d8576b\"], [0.6666666666666666, \"#ed7953\"], [0.7777777777777778, \"#fb9f3a\"], [0.8888888888888888, \"#fdca26\"], [1.0, \"#f0f921\"]], \"type\": \"heatmap\"}], \"heatmapgl\": [{\"colorbar\": {\"outlinewidth\": 0, \"ticks\": \"\"}, \"colorscale\": [[0.0, \"#0d0887\"], [0.1111111111111111, \"#46039f\"], [0.2222222222222222, \"#7201a8\"], [0.3333333333333333, \"#9c179e\"], [0.4444444444444444, \"#bd3786\"], [0.5555555555555556, \"#d8576b\"], [0.6666666666666666, \"#ed7953\"], [0.7777777777777778, \"#fb9f3a\"], [0.8888888888888888, \"#fdca26\"], [1.0, \"#f0f921\"]], \"type\": \"heatmapgl\"}], \"histogram\": [{\"marker\": {\"colorbar\": {\"outlinewidth\": 0, \"ticks\": \"\"}}, \"type\": \"histogram\"}], \"histogram2d\": [{\"colorbar\": {\"outlinewidth\": 0, \"ticks\": \"\"}, \"colorscale\": [[0.0, \"#0d0887\"], [0.1111111111111111, \"#46039f\"], [0.2222222222222222, \"#7201a8\"], [0.3333333333333333, \"#9c179e\"], [0.4444444444444444, \"#bd3786\"], [0.5555555555555556, \"#d8576b\"], [0.6666666666666666, \"#ed7953\"], [0.7777777777777778, \"#fb9f3a\"], [0.8888888888888888, \"#fdca26\"], [1.0, \"#f0f921\"]], \"type\": \"histogram2d\"}], \"histogram2dcontour\": [{\"colorbar\": {\"outlinewidth\": 0, \"ticks\": \"\"}, \"colorscale\": [[0.0, \"#0d0887\"], [0.1111111111111111, \"#46039f\"], [0.2222222222222222, \"#7201a8\"], [0.3333333333333333, \"#9c179e\"], [0.4444444444444444, \"#bd3786\"], [0.5555555555555556, \"#d8576b\"], [0.6666666666666666, \"#ed7953\"], [0.7777777777777778, \"#fb9f3a\"], [0.8888888888888888, \"#fdca26\"], [1.0, \"#f0f921\"]], \"type\": \"histogram2dcontour\"}], \"mesh3d\": [{\"colorbar\": {\"outlinewidth\": 0, \"ticks\": \"\"}, \"type\": \"mesh3d\"}], \"parcoords\": [{\"line\": {\"colorbar\": {\"outlinewidth\": 0, \"ticks\": \"\"}}, \"type\": \"parcoords\"}], \"pie\": [{\"automargin\": true, \"type\": \"pie\"}], \"scatter\": [{\"marker\": {\"colorbar\": {\"outlinewidth\": 0, \"ticks\": \"\"}}, \"type\": \"scatter\"}], \"scatter3d\": [{\"line\": {\"colorbar\": {\"outlinewidth\": 0, \"ticks\": \"\"}}, \"marker\": {\"colorbar\": {\"outlinewidth\": 0, \"ticks\": \"\"}}, \"type\": \"scatter3d\"}], \"scattercarpet\": [{\"marker\": {\"colorbar\": {\"outlinewidth\": 0, \"ticks\": \"\"}}, \"type\": \"scattercarpet\"}], \"scattergeo\": [{\"marker\": {\"colorbar\": {\"outlinewidth\": 0, \"ticks\": \"\"}}, \"type\": \"scattergeo\"}], \"scattergl\": [{\"marker\": {\"colorbar\": {\"outlinewidth\": 0, \"ticks\": \"\"}}, \"type\": \"scattergl\"}], \"scattermapbox\": [{\"marker\": {\"colorbar\": {\"outlinewidth\": 0, \"ticks\": \"\"}}, \"type\": \"scattermapbox\"}], \"scatterpolar\": [{\"marker\": {\"colorbar\": {\"outlinewidth\": 0, \"ticks\": \"\"}}, \"type\": \"scatterpolar\"}], \"scatterpolargl\": [{\"marker\": {\"colorbar\": {\"outlinewidth\": 0, \"ticks\": \"\"}}, \"type\": \"scatterpolargl\"}], \"scatterternary\": [{\"marker\": {\"colorbar\": {\"outlinewidth\": 0, \"ticks\": \"\"}}, \"type\": \"scatterternary\"}], \"surface\": [{\"colorbar\": {\"outlinewidth\": 0, \"ticks\": \"\"}, \"colorscale\": [[0.0, \"#0d0887\"], [0.1111111111111111, \"#46039f\"], [0.2222222222222222, \"#7201a8\"], [0.3333333333333333, \"#9c179e\"], [0.4444444444444444, \"#bd3786\"], [0.5555555555555556, \"#d8576b\"], [0.6666666666666666, \"#ed7953\"], [0.7777777777777778, \"#fb9f3a\"], [0.8888888888888888, \"#fdca26\"], [1.0, \"#f0f921\"]], \"type\": \"surface\"}], \"table\": [{\"cells\": {\"fill\": {\"color\": \"#EBF0F8\"}, \"line\": {\"color\": \"white\"}}, \"header\": {\"fill\": {\"color\": \"#C8D4E3\"}, \"line\": {\"color\": \"white\"}}, \"type\": \"table\"}]}, \"layout\": {\"annotationdefaults\": {\"arrowcolor\": \"#2a3f5f\", \"arrowhead\": 0, \"arrowwidth\": 1}, \"coloraxis\": {\"colorbar\": {\"outlinewidth\": 0, \"ticks\": \"\"}}, \"colorscale\": {\"diverging\": [[0, \"#8e0152\"], [0.1, \"#c51b7d\"], [0.2, \"#de77ae\"], [0.3, \"#f1b6da\"], [0.4, \"#fde0ef\"], [0.5, \"#f7f7f7\"], [0.6, \"#e6f5d0\"], [0.7, \"#b8e186\"], [0.8, \"#7fbc41\"], [0.9, \"#4d9221\"], [1, \"#276419\"]], \"sequential\": [[0.0, \"#0d0887\"], [0.1111111111111111, \"#46039f\"], [0.2222222222222222, \"#7201a8\"], [0.3333333333333333, \"#9c179e\"], [0.4444444444444444, \"#bd3786\"], [0.5555555555555556, \"#d8576b\"], [0.6666666666666666, \"#ed7953\"], [0.7777777777777778, \"#fb9f3a\"], [0.8888888888888888, \"#fdca26\"], [1.0, \"#f0f921\"]], \"sequentialminus\": [[0.0, \"#0d0887\"], [0.1111111111111111, \"#46039f\"], [0.2222222222222222, \"#7201a8\"], [0.3333333333333333, \"#9c179e\"], [0.4444444444444444, \"#bd3786\"], [0.5555555555555556, \"#d8576b\"], [0.6666666666666666, \"#ed7953\"], [0.7777777777777778, \"#fb9f3a\"], [0.8888888888888888, \"#fdca26\"], [1.0, \"#f0f921\"]]}, \"colorway\": [\"#636efa\", \"#EF553B\", \"#00cc96\", \"#ab63fa\", \"#FFA15A\", \"#19d3f3\", \"#FF6692\", \"#B6E880\", \"#FF97FF\", \"#FECB52\"], \"font\": {\"color\": \"#2a3f5f\"}, \"geo\": {\"bgcolor\": \"white\", \"lakecolor\": \"white\", \"landcolor\": \"#E5ECF6\", \"showlakes\": true, \"showland\": true, \"subunitcolor\": \"white\"}, \"hoverlabel\": {\"align\": \"left\"}, \"hovermode\": \"closest\", \"mapbox\": {\"style\": \"light\"}, \"paper_bgcolor\": \"white\", \"plot_bgcolor\": \"#E5ECF6\", \"polar\": {\"angularaxis\": {\"gridcolor\": \"white\", \"linecolor\": \"white\", \"ticks\": \"\"}, \"bgcolor\": \"#E5ECF6\", \"radialaxis\": {\"gridcolor\": \"white\", \"linecolor\": \"white\", \"ticks\": \"\"}}, \"scene\": {\"xaxis\": {\"backgroundcolor\": \"#E5ECF6\", \"gridcolor\": \"white\", \"gridwidth\": 2, \"linecolor\": \"white\", \"showbackground\": true, \"ticks\": \"\", \"zerolinecolor\": \"white\"}, \"yaxis\": {\"backgroundcolor\": \"#E5ECF6\", \"gridcolor\": \"white\", \"gridwidth\": 2, \"linecolor\": \"white\", \"showbackground\": true, \"ticks\": \"\", \"zerolinecolor\": \"white\"}, \"zaxis\": {\"backgroundcolor\": \"#E5ECF6\", \"gridcolor\": \"white\", \"gridwidth\": 2, \"linecolor\": \"white\", \"showbackground\": true, \"ticks\": \"\", \"zerolinecolor\": \"white\"}}, \"shapedefaults\": {\"line\": {\"color\": \"#2a3f5f\"}}, \"ternary\": {\"aaxis\": {\"gridcolor\": \"white\", \"linecolor\": \"white\", \"ticks\": \"\"}, \"baxis\": {\"gridcolor\": \"white\", \"linecolor\": \"white\", \"ticks\": \"\"}, \"bgcolor\": \"#E5ECF6\", \"caxis\": {\"gridcolor\": \"white\", \"linecolor\": \"white\", \"ticks\": \"\"}}, \"title\": {\"x\": 0.05}, \"xaxis\": {\"automargin\": true, \"gridcolor\": \"white\", \"linecolor\": \"white\", \"ticks\": \"\", \"title\": {\"standoff\": 15}, \"zerolinecolor\": \"white\", \"zerolinewidth\": 2}, \"yaxis\": {\"automargin\": true, \"gridcolor\": \"white\", \"linecolor\": \"white\", \"ticks\": \"\", \"title\": {\"standoff\": 15}, \"zerolinecolor\": \"white\", \"zerolinewidth\": 2}}}, \"title\": {\"text\": \"Most engaged days in December\"}, \"xaxis\": {\"anchor\": \"y\", \"domain\": [0.0, 1.0], \"title\": {\"text\": \"day\"}}, \"yaxis\": {\"anchor\": \"x\", \"domain\": [0.0, 1.0], \"title\": {\"text\": \"total_engagement\"}}},\n",
              "                        {\"responsive\": true}\n",
              "                    ).then(function(){\n",
              "                            \n",
              "var gd = document.getElementById('fe499bf4-5a47-4308-82b2-ae3de5bb97f3');\n",
              "var x = new MutationObserver(function (mutations, observer) {{\n",
              "        var display = window.getComputedStyle(gd).display;\n",
              "        if (!display || display === 'none') {{\n",
              "            console.log([gd, 'removed!']);\n",
              "            Plotly.purge(gd);\n",
              "            observer.disconnect();\n",
              "        }}\n",
              "}});\n",
              "\n",
              "// Listen for the removal of the full notebook cells\n",
              "var notebookContainer = gd.closest('#notebook-container');\n",
              "if (notebookContainer) {{\n",
              "    x.observe(notebookContainer, {childList: true});\n",
              "}}\n",
              "\n",
              "// Listen for the clearing of the current output cell\n",
              "var outputEl = gd.closest('.output');\n",
              "if (outputEl) {{\n",
              "    x.observe(outputEl, {childList: true});\n",
              "}}\n",
              "\n",
              "                        })\n",
              "                };\n",
              "                \n",
              "            </script>\n",
              "        </div>\n",
              "</body>\n",
              "</html>"
            ]
          },
          "metadata": {
            "tags": []
          }
        }
      ]
    },
    {
      "cell_type": "code",
      "metadata": {
        "colab": {
          "base_uri": "https://localhost:8080/",
          "height": 542
        },
        "id": "ORXxocDrJKb6",
        "outputId": "269c6c8f-62f8-4a2a-9059-a89af3e29fe1"
      },
      "source": [
        "january=df.loc[df['month']==1]\n",
        "day_january = january.groupby('day',as_index=False).agg({'total_engagement':'sum'})\n",
        "\n",
        "fig = px.scatter(day_january,\n",
        "                 x='day',\n",
        "                 y='total_engagement',\n",
        "                 color_continuous_scale='Rainbow',\n",
        "                 color='total_engagement',\n",
        "                 size='total_engagement',\n",
        "                 title='Most engaged days in january')\n",
        "fig.show()"
      ],
      "execution_count": 102,
      "outputs": [
        {
          "output_type": "display_data",
          "data": {
            "text/html": [
              "<html>\n",
              "<head><meta charset=\"utf-8\" /></head>\n",
              "<body>\n",
              "    <div>\n",
              "            <script src=\"https://cdnjs.cloudflare.com/ajax/libs/mathjax/2.7.5/MathJax.js?config=TeX-AMS-MML_SVG\"></script><script type=\"text/javascript\">if (window.MathJax) {MathJax.Hub.Config({SVG: {font: \"STIX-Web\"}});}</script>\n",
              "                <script type=\"text/javascript\">window.PlotlyConfig = {MathJaxConfig: 'local'};</script>\n",
              "        <script src=\"https://cdn.plot.ly/plotly-latest.min.js\"></script>    \n",
              "            <div id=\"06b664f2-dc4e-4e81-b151-6ee0e4232599\" class=\"plotly-graph-div\" style=\"height:525px; width:100%;\"></div>\n",
              "            <script type=\"text/javascript\">\n",
              "                \n",
              "                    window.PLOTLYENV=window.PLOTLYENV || {};\n",
              "                    \n",
              "                if (document.getElementById(\"06b664f2-dc4e-4e81-b151-6ee0e4232599\")) {\n",
              "                    Plotly.newPlot(\n",
              "                        '06b664f2-dc4e-4e81-b151-6ee0e4232599',\n",
              "                        [{\"hoverlabel\": {\"namelength\": 0}, \"hovertemplate\": \"day=%{x}<br>total_engagement=%{marker.color}\", \"legendgroup\": \"\", \"marker\": {\"color\": [328.0, 699.0, 415.0, 534.0, 1293.0, 925.0, 1268.0, 2135.0, 4692.0, 1884.0, 1160.0, 790.0, 739.0, 681.0, 1459.0, 2571.0, 670.0, 608.0, 3252.0, 556.0, 711.0, 1145.0, 429.0, 177.0, 297.0, 311.0, 688.0, 384.0, 534.0, 776.0, 144.0], \"coloraxis\": \"coloraxis\", \"size\": [328.0, 699.0, 415.0, 534.0, 1293.0, 925.0, 1268.0, 2135.0, 4692.0, 1884.0, 1160.0, 790.0, 739.0, 681.0, 1459.0, 2571.0, 670.0, 608.0, 3252.0, 556.0, 711.0, 1145.0, 429.0, 177.0, 297.0, 311.0, 688.0, 384.0, 534.0, 776.0, 144.0], \"sizemode\": \"area\", \"sizeref\": 11.73, \"symbol\": \"circle\"}, \"mode\": \"markers\", \"name\": \"\", \"showlegend\": false, \"type\": \"scatter\", \"x\": [1, 2, 3, 4, 5, 6, 7, 8, 9, 10, 11, 12, 13, 14, 15, 16, 17, 18, 19, 20, 21, 22, 23, 24, 25, 26, 27, 28, 29, 30, 31], \"xaxis\": \"x\", \"y\": [328.0, 699.0, 415.0, 534.0, 1293.0, 925.0, 1268.0, 2135.0, 4692.0, 1884.0, 1160.0, 790.0, 739.0, 681.0, 1459.0, 2571.0, 670.0, 608.0, 3252.0, 556.0, 711.0, 1145.0, 429.0, 177.0, 297.0, 311.0, 688.0, 384.0, 534.0, 776.0, 144.0], \"yaxis\": \"y\"}],\n",
              "                        {\"coloraxis\": {\"colorbar\": {\"title\": {\"text\": \"total_engagement\"}}, \"colorscale\": [[0.0, \"rgb(150,0,90)\"], [0.125, \"rgb(0,0,200)\"], [0.25, \"rgb(0,25,255)\"], [0.375, \"rgb(0,152,255)\"], [0.5, \"rgb(44,255,150)\"], [0.625, \"rgb(151,255,0)\"], [0.75, \"rgb(255,234,0)\"], [0.875, \"rgb(255,111,0)\"], [1.0, \"rgb(255,0,0)\"]]}, \"legend\": {\"itemsizing\": \"constant\", \"tracegroupgap\": 0}, \"template\": {\"data\": {\"bar\": [{\"error_x\": {\"color\": \"#2a3f5f\"}, \"error_y\": {\"color\": \"#2a3f5f\"}, \"marker\": {\"line\": {\"color\": \"#E5ECF6\", \"width\": 0.5}}, \"type\": \"bar\"}], \"barpolar\": [{\"marker\": {\"line\": {\"color\": \"#E5ECF6\", \"width\": 0.5}}, \"type\": \"barpolar\"}], \"carpet\": [{\"aaxis\": {\"endlinecolor\": \"#2a3f5f\", \"gridcolor\": \"white\", \"linecolor\": \"white\", \"minorgridcolor\": \"white\", \"startlinecolor\": \"#2a3f5f\"}, \"baxis\": {\"endlinecolor\": \"#2a3f5f\", \"gridcolor\": \"white\", \"linecolor\": \"white\", \"minorgridcolor\": \"white\", \"startlinecolor\": \"#2a3f5f\"}, \"type\": \"carpet\"}], \"choropleth\": [{\"colorbar\": {\"outlinewidth\": 0, \"ticks\": \"\"}, \"type\": \"choropleth\"}], \"contour\": [{\"colorbar\": {\"outlinewidth\": 0, \"ticks\": \"\"}, \"colorscale\": [[0.0, \"#0d0887\"], [0.1111111111111111, \"#46039f\"], [0.2222222222222222, \"#7201a8\"], [0.3333333333333333, \"#9c179e\"], [0.4444444444444444, \"#bd3786\"], [0.5555555555555556, \"#d8576b\"], [0.6666666666666666, \"#ed7953\"], [0.7777777777777778, \"#fb9f3a\"], [0.8888888888888888, \"#fdca26\"], [1.0, \"#f0f921\"]], \"type\": \"contour\"}], \"contourcarpet\": [{\"colorbar\": {\"outlinewidth\": 0, \"ticks\": \"\"}, \"type\": \"contourcarpet\"}], \"heatmap\": [{\"colorbar\": {\"outlinewidth\": 0, \"ticks\": \"\"}, \"colorscale\": [[0.0, \"#0d0887\"], [0.1111111111111111, \"#46039f\"], [0.2222222222222222, \"#7201a8\"], [0.3333333333333333, \"#9c179e\"], [0.4444444444444444, \"#bd3786\"], [0.5555555555555556, \"#d8576b\"], [0.6666666666666666, \"#ed7953\"], [0.7777777777777778, \"#fb9f3a\"], [0.8888888888888888, \"#fdca26\"], [1.0, \"#f0f921\"]], \"type\": \"heatmap\"}], \"heatmapgl\": [{\"colorbar\": {\"outlinewidth\": 0, \"ticks\": \"\"}, \"colorscale\": [[0.0, \"#0d0887\"], [0.1111111111111111, \"#46039f\"], [0.2222222222222222, \"#7201a8\"], [0.3333333333333333, \"#9c179e\"], [0.4444444444444444, \"#bd3786\"], [0.5555555555555556, \"#d8576b\"], [0.6666666666666666, \"#ed7953\"], [0.7777777777777778, \"#fb9f3a\"], [0.8888888888888888, \"#fdca26\"], [1.0, \"#f0f921\"]], \"type\": \"heatmapgl\"}], \"histogram\": [{\"marker\": {\"colorbar\": {\"outlinewidth\": 0, \"ticks\": \"\"}}, \"type\": \"histogram\"}], \"histogram2d\": [{\"colorbar\": {\"outlinewidth\": 0, \"ticks\": \"\"}, \"colorscale\": [[0.0, \"#0d0887\"], [0.1111111111111111, \"#46039f\"], [0.2222222222222222, \"#7201a8\"], [0.3333333333333333, \"#9c179e\"], [0.4444444444444444, \"#bd3786\"], [0.5555555555555556, \"#d8576b\"], [0.6666666666666666, \"#ed7953\"], [0.7777777777777778, \"#fb9f3a\"], [0.8888888888888888, \"#fdca26\"], [1.0, \"#f0f921\"]], \"type\": \"histogram2d\"}], \"histogram2dcontour\": [{\"colorbar\": {\"outlinewidth\": 0, \"ticks\": \"\"}, \"colorscale\": [[0.0, \"#0d0887\"], [0.1111111111111111, \"#46039f\"], [0.2222222222222222, \"#7201a8\"], [0.3333333333333333, \"#9c179e\"], [0.4444444444444444, \"#bd3786\"], [0.5555555555555556, \"#d8576b\"], [0.6666666666666666, \"#ed7953\"], [0.7777777777777778, \"#fb9f3a\"], [0.8888888888888888, \"#fdca26\"], [1.0, \"#f0f921\"]], \"type\": \"histogram2dcontour\"}], \"mesh3d\": [{\"colorbar\": {\"outlinewidth\": 0, \"ticks\": \"\"}, \"type\": \"mesh3d\"}], \"parcoords\": [{\"line\": {\"colorbar\": {\"outlinewidth\": 0, \"ticks\": \"\"}}, \"type\": \"parcoords\"}], \"pie\": [{\"automargin\": true, \"type\": \"pie\"}], \"scatter\": [{\"marker\": {\"colorbar\": {\"outlinewidth\": 0, \"ticks\": \"\"}}, \"type\": \"scatter\"}], \"scatter3d\": [{\"line\": {\"colorbar\": {\"outlinewidth\": 0, \"ticks\": \"\"}}, \"marker\": {\"colorbar\": {\"outlinewidth\": 0, \"ticks\": \"\"}}, \"type\": \"scatter3d\"}], \"scattercarpet\": [{\"marker\": {\"colorbar\": {\"outlinewidth\": 0, \"ticks\": \"\"}}, \"type\": \"scattercarpet\"}], \"scattergeo\": [{\"marker\": {\"colorbar\": {\"outlinewidth\": 0, \"ticks\": \"\"}}, \"type\": \"scattergeo\"}], \"scattergl\": [{\"marker\": {\"colorbar\": {\"outlinewidth\": 0, \"ticks\": \"\"}}, \"type\": \"scattergl\"}], \"scattermapbox\": [{\"marker\": {\"colorbar\": {\"outlinewidth\": 0, \"ticks\": \"\"}}, \"type\": \"scattermapbox\"}], \"scatterpolar\": [{\"marker\": {\"colorbar\": {\"outlinewidth\": 0, \"ticks\": \"\"}}, \"type\": \"scatterpolar\"}], \"scatterpolargl\": [{\"marker\": {\"colorbar\": {\"outlinewidth\": 0, \"ticks\": \"\"}}, \"type\": \"scatterpolargl\"}], \"scatterternary\": [{\"marker\": {\"colorbar\": {\"outlinewidth\": 0, \"ticks\": \"\"}}, \"type\": \"scatterternary\"}], \"surface\": [{\"colorbar\": {\"outlinewidth\": 0, \"ticks\": \"\"}, \"colorscale\": [[0.0, \"#0d0887\"], [0.1111111111111111, \"#46039f\"], [0.2222222222222222, \"#7201a8\"], [0.3333333333333333, \"#9c179e\"], [0.4444444444444444, \"#bd3786\"], [0.5555555555555556, \"#d8576b\"], [0.6666666666666666, \"#ed7953\"], [0.7777777777777778, \"#fb9f3a\"], [0.8888888888888888, \"#fdca26\"], [1.0, \"#f0f921\"]], \"type\": \"surface\"}], \"table\": [{\"cells\": {\"fill\": {\"color\": \"#EBF0F8\"}, \"line\": {\"color\": \"white\"}}, \"header\": {\"fill\": {\"color\": \"#C8D4E3\"}, \"line\": {\"color\": \"white\"}}, \"type\": \"table\"}]}, \"layout\": {\"annotationdefaults\": {\"arrowcolor\": \"#2a3f5f\", \"arrowhead\": 0, \"arrowwidth\": 1}, \"coloraxis\": {\"colorbar\": {\"outlinewidth\": 0, \"ticks\": \"\"}}, \"colorscale\": {\"diverging\": [[0, \"#8e0152\"], [0.1, \"#c51b7d\"], [0.2, \"#de77ae\"], [0.3, \"#f1b6da\"], [0.4, \"#fde0ef\"], [0.5, \"#f7f7f7\"], [0.6, \"#e6f5d0\"], [0.7, \"#b8e186\"], [0.8, \"#7fbc41\"], [0.9, \"#4d9221\"], [1, \"#276419\"]], \"sequential\": [[0.0, \"#0d0887\"], [0.1111111111111111, \"#46039f\"], [0.2222222222222222, \"#7201a8\"], [0.3333333333333333, \"#9c179e\"], [0.4444444444444444, \"#bd3786\"], [0.5555555555555556, \"#d8576b\"], [0.6666666666666666, \"#ed7953\"], [0.7777777777777778, \"#fb9f3a\"], [0.8888888888888888, \"#fdca26\"], [1.0, \"#f0f921\"]], \"sequentialminus\": [[0.0, \"#0d0887\"], [0.1111111111111111, \"#46039f\"], [0.2222222222222222, \"#7201a8\"], [0.3333333333333333, \"#9c179e\"], [0.4444444444444444, \"#bd3786\"], [0.5555555555555556, \"#d8576b\"], [0.6666666666666666, \"#ed7953\"], [0.7777777777777778, \"#fb9f3a\"], [0.8888888888888888, \"#fdca26\"], [1.0, \"#f0f921\"]]}, \"colorway\": [\"#636efa\", \"#EF553B\", \"#00cc96\", \"#ab63fa\", \"#FFA15A\", \"#19d3f3\", \"#FF6692\", \"#B6E880\", \"#FF97FF\", \"#FECB52\"], \"font\": {\"color\": \"#2a3f5f\"}, \"geo\": {\"bgcolor\": \"white\", \"lakecolor\": \"white\", \"landcolor\": \"#E5ECF6\", \"showlakes\": true, \"showland\": true, \"subunitcolor\": \"white\"}, \"hoverlabel\": {\"align\": \"left\"}, \"hovermode\": \"closest\", \"mapbox\": {\"style\": \"light\"}, \"paper_bgcolor\": \"white\", \"plot_bgcolor\": \"#E5ECF6\", \"polar\": {\"angularaxis\": {\"gridcolor\": \"white\", \"linecolor\": \"white\", \"ticks\": \"\"}, \"bgcolor\": \"#E5ECF6\", \"radialaxis\": {\"gridcolor\": \"white\", \"linecolor\": \"white\", \"ticks\": \"\"}}, \"scene\": {\"xaxis\": {\"backgroundcolor\": \"#E5ECF6\", \"gridcolor\": \"white\", \"gridwidth\": 2, \"linecolor\": \"white\", \"showbackground\": true, \"ticks\": \"\", \"zerolinecolor\": \"white\"}, \"yaxis\": {\"backgroundcolor\": \"#E5ECF6\", \"gridcolor\": \"white\", \"gridwidth\": 2, \"linecolor\": \"white\", \"showbackground\": true, \"ticks\": \"\", \"zerolinecolor\": \"white\"}, \"zaxis\": {\"backgroundcolor\": \"#E5ECF6\", \"gridcolor\": \"white\", \"gridwidth\": 2, \"linecolor\": \"white\", \"showbackground\": true, \"ticks\": \"\", \"zerolinecolor\": \"white\"}}, \"shapedefaults\": {\"line\": {\"color\": \"#2a3f5f\"}}, \"ternary\": {\"aaxis\": {\"gridcolor\": \"white\", \"linecolor\": \"white\", \"ticks\": \"\"}, \"baxis\": {\"gridcolor\": \"white\", \"linecolor\": \"white\", \"ticks\": \"\"}, \"bgcolor\": \"#E5ECF6\", \"caxis\": {\"gridcolor\": \"white\", \"linecolor\": \"white\", \"ticks\": \"\"}}, \"title\": {\"x\": 0.05}, \"xaxis\": {\"automargin\": true, \"gridcolor\": \"white\", \"linecolor\": \"white\", \"ticks\": \"\", \"title\": {\"standoff\": 15}, \"zerolinecolor\": \"white\", \"zerolinewidth\": 2}, \"yaxis\": {\"automargin\": true, \"gridcolor\": \"white\", \"linecolor\": \"white\", \"ticks\": \"\", \"title\": {\"standoff\": 15}, \"zerolinecolor\": \"white\", \"zerolinewidth\": 2}}}, \"title\": {\"text\": \"Most engaged days in january\"}, \"xaxis\": {\"anchor\": \"y\", \"domain\": [0.0, 1.0], \"title\": {\"text\": \"day\"}}, \"yaxis\": {\"anchor\": \"x\", \"domain\": [0.0, 1.0], \"title\": {\"text\": \"total_engagement\"}}},\n",
              "                        {\"responsive\": true}\n",
              "                    ).then(function(){\n",
              "                            \n",
              "var gd = document.getElementById('06b664f2-dc4e-4e81-b151-6ee0e4232599');\n",
              "var x = new MutationObserver(function (mutations, observer) {{\n",
              "        var display = window.getComputedStyle(gd).display;\n",
              "        if (!display || display === 'none') {{\n",
              "            console.log([gd, 'removed!']);\n",
              "            Plotly.purge(gd);\n",
              "            observer.disconnect();\n",
              "        }}\n",
              "}});\n",
              "\n",
              "// Listen for the removal of the full notebook cells\n",
              "var notebookContainer = gd.closest('#notebook-container');\n",
              "if (notebookContainer) {{\n",
              "    x.observe(notebookContainer, {childList: true});\n",
              "}}\n",
              "\n",
              "// Listen for the clearing of the current output cell\n",
              "var outputEl = gd.closest('.output');\n",
              "if (outputEl) {{\n",
              "    x.observe(outputEl, {childList: true});\n",
              "}}\n",
              "\n",
              "                        })\n",
              "                };\n",
              "                \n",
              "            </script>\n",
              "        </div>\n",
              "</body>\n",
              "</html>"
            ]
          },
          "metadata": {
            "tags": []
          }
        }
      ]
    },
    {
      "cell_type": "code",
      "metadata": {
        "colab": {
          "base_uri": "https://localhost:8080/",
          "height": 669
        },
        "id": "RrFHSw1rJPm_",
        "outputId": "28b48d3c-fc54-4d04-8375-4a076544c6d9"
      },
      "source": [
        "df3=pd.DataFrame(loc_df['second_loc'].value_counts()[:20]).reset_index()\n",
        "df3"
      ],
      "execution_count": 103,
      "outputs": [
        {
          "output_type": "execute_result",
          "data": {
            "text/html": [
              "<div>\n",
              "<style scoped>\n",
              "    .dataframe tbody tr th:only-of-type {\n",
              "        vertical-align: middle;\n",
              "    }\n",
              "\n",
              "    .dataframe tbody tr th {\n",
              "        vertical-align: top;\n",
              "    }\n",
              "\n",
              "    .dataframe thead th {\n",
              "        text-align: right;\n",
              "    }\n",
              "</style>\n",
              "<table border=\"1\" class=\"dataframe\">\n",
              "  <thead>\n",
              "    <tr style=\"text-align: right;\">\n",
              "      <th></th>\n",
              "      <th>index</th>\n",
              "      <th>second_loc</th>\n",
              "    </tr>\n",
              "  </thead>\n",
              "  <tbody>\n",
              "    <tr>\n",
              "      <th>0</th>\n",
              "      <td>USA</td>\n",
              "      <td>863</td>\n",
              "    </tr>\n",
              "    <tr>\n",
              "      <th>1</th>\n",
              "      <td>UK</td>\n",
              "      <td>540</td>\n",
              "    </tr>\n",
              "    <tr>\n",
              "      <th>2</th>\n",
              "      <td>Canada</td>\n",
              "      <td>186</td>\n",
              "    </tr>\n",
              "    <tr>\n",
              "      <th>3</th>\n",
              "      <td>India</td>\n",
              "      <td>178</td>\n",
              "    </tr>\n",
              "    <tr>\n",
              "      <th>4</th>\n",
              "      <td>Ireland</td>\n",
              "      <td>91</td>\n",
              "    </tr>\n",
              "    <tr>\n",
              "      <th>5</th>\n",
              "      <td>UAE</td>\n",
              "      <td>77</td>\n",
              "    </tr>\n",
              "    <tr>\n",
              "      <th>6</th>\n",
              "      <td>United Kingdom</td>\n",
              "      <td>75</td>\n",
              "    </tr>\n",
              "    <tr>\n",
              "      <th>7</th>\n",
              "      <td>Germany</td>\n",
              "      <td>61</td>\n",
              "    </tr>\n",
              "    <tr>\n",
              "      <th>8</th>\n",
              "      <td>Belgium</td>\n",
              "      <td>26</td>\n",
              "    </tr>\n",
              "    <tr>\n",
              "      <th>9</th>\n",
              "      <td>France</td>\n",
              "      <td>24</td>\n",
              "    </tr>\n",
              "    <tr>\n",
              "      <th>10</th>\n",
              "      <td>South Africa</td>\n",
              "      <td>23</td>\n",
              "    </tr>\n",
              "    <tr>\n",
              "      <th>11</th>\n",
              "      <td>Scotland</td>\n",
              "      <td>22</td>\n",
              "    </tr>\n",
              "    <tr>\n",
              "      <th>12</th>\n",
              "      <td>Pakistan</td>\n",
              "      <td>19</td>\n",
              "    </tr>\n",
              "    <tr>\n",
              "      <th>13</th>\n",
              "      <td>London</td>\n",
              "      <td>17</td>\n",
              "    </tr>\n",
              "    <tr>\n",
              "      <th>14</th>\n",
              "      <td>Qatar</td>\n",
              "      <td>17</td>\n",
              "    </tr>\n",
              "    <tr>\n",
              "      <th>15</th>\n",
              "      <td>New South Wales</td>\n",
              "      <td>16</td>\n",
              "    </tr>\n",
              "    <tr>\n",
              "      <th>16</th>\n",
              "      <td>Malaysia</td>\n",
              "      <td>16</td>\n",
              "    </tr>\n",
              "    <tr>\n",
              "      <th>17</th>\n",
              "      <td>Deutschland</td>\n",
              "      <td>16</td>\n",
              "    </tr>\n",
              "    <tr>\n",
              "      <th>18</th>\n",
              "      <td>MI</td>\n",
              "      <td>16</td>\n",
              "    </tr>\n",
              "    <tr>\n",
              "      <th>19</th>\n",
              "      <td>Australia</td>\n",
              "      <td>15</td>\n",
              "    </tr>\n",
              "  </tbody>\n",
              "</table>\n",
              "</div>"
            ],
            "text/plain": [
              "              index  second_loc\n",
              "0               USA         863\n",
              "1                UK         540\n",
              "2            Canada         186\n",
              "3             India         178\n",
              "4           Ireland          91\n",
              "5               UAE          77\n",
              "6    United Kingdom          75\n",
              "7           Germany          61\n",
              "8           Belgium          26\n",
              "9            France          24\n",
              "10     South Africa          23\n",
              "11         Scotland          22\n",
              "12         Pakistan          19\n",
              "13           London          17\n",
              "14            Qatar          17\n",
              "15  New South Wales          16\n",
              "16         Malaysia          16\n",
              "17      Deutschland          16\n",
              "18               MI          16\n",
              "19        Australia          15"
            ]
          },
          "metadata": {
            "tags": []
          },
          "execution_count": 103
        }
      ]
    },
    {
      "cell_type": "code",
      "metadata": {
        "colab": {
          "base_uri": "https://localhost:8080/",
          "height": 542
        },
        "id": "g9AZ1TKeJeCA",
        "outputId": "fefb395b-405a-43cf-c923-a0322ed769a7"
      },
      "source": [
        "fig = px.choropleth(df3, locations = df3['index'],\n",
        "                    color = df3['second_loc'],locationmode='country names',hover_name = df3['second_loc'], \n",
        "                    color_continuous_scale = px.colors.sequential.Inferno)\n",
        "fig.update_layout(title='Tweets By Region')\n",
        "fig.show()"
      ],
      "execution_count": 105,
      "outputs": [
        {
          "output_type": "display_data",
          "data": {
            "text/html": [
              "<html>\n",
              "<head><meta charset=\"utf-8\" /></head>\n",
              "<body>\n",
              "    <div>\n",
              "            <script src=\"https://cdnjs.cloudflare.com/ajax/libs/mathjax/2.7.5/MathJax.js?config=TeX-AMS-MML_SVG\"></script><script type=\"text/javascript\">if (window.MathJax) {MathJax.Hub.Config({SVG: {font: \"STIX-Web\"}});}</script>\n",
              "                <script type=\"text/javascript\">window.PlotlyConfig = {MathJaxConfig: 'local'};</script>\n",
              "        <script src=\"https://cdn.plot.ly/plotly-latest.min.js\"></script>    \n",
              "            <div id=\"36b4e225-e909-4685-bf30-17b86f8adbef\" class=\"plotly-graph-div\" style=\"height:525px; width:100%;\"></div>\n",
              "            <script type=\"text/javascript\">\n",
              "                \n",
              "                    window.PLOTLYENV=window.PLOTLYENV || {};\n",
              "                    \n",
              "                if (document.getElementById(\"36b4e225-e909-4685-bf30-17b86f8adbef\")) {\n",
              "                    Plotly.newPlot(\n",
              "                        '36b4e225-e909-4685-bf30-17b86f8adbef',\n",
              "                        [{\"coloraxis\": \"coloraxis\", \"geo\": \"geo\", \"hoverlabel\": {\"namelength\": 0}, \"hovertemplate\": \"<b>%{hovertext}</b><br><br>index=%{location}<br>second_loc=%{z}\", \"hovertext\": [863.0, 540.0, 186.0, 178.0, 91.0, 77.0, 75.0, 61.0, 26.0, 24.0, 23.0, 22.0, 19.0, 17.0, 17.0, 16.0, 16.0, 16.0, 16.0, 15.0], \"locationmode\": \"country names\", \"locations\": [\"USA\", \"UK\", \"Canada\", \"India\", \"Ireland\", \"UAE\", \"United Kingdom\", \"Germany\", \"Belgium\", \"France\", \"South Africa\", \"Scotland\", \"Pakistan\", \"London\", \"Qatar\", \"New South Wales\", \"Malaysia\", \"Deutschland\", \"MI\", \"Australia\"], \"name\": \"\", \"type\": \"choropleth\", \"z\": [863, 540, 186, 178, 91, 77, 75, 61, 26, 24, 23, 22, 19, 17, 17, 16, 16, 16, 16, 15]}],\n",
              "                        {\"coloraxis\": {\"colorbar\": {\"title\": {\"text\": \"second_loc\"}}, \"colorscale\": [[0.0, \"#000004\"], [0.1111111111111111, \"#1b0c41\"], [0.2222222222222222, \"#4a0c6b\"], [0.3333333333333333, \"#781c6d\"], [0.4444444444444444, \"#a52c60\"], [0.5555555555555556, \"#cf4446\"], [0.6666666666666666, \"#ed6925\"], [0.7777777777777778, \"#fb9b06\"], [0.8888888888888888, \"#f7d13d\"], [1.0, \"#fcffa4\"]]}, \"geo\": {\"center\": {}, \"domain\": {\"x\": [0.0, 1.0], \"y\": [0.0, 1.0]}}, \"legend\": {\"tracegroupgap\": 0}, \"margin\": {\"t\": 60}, \"template\": {\"data\": {\"bar\": [{\"error_x\": {\"color\": \"#2a3f5f\"}, \"error_y\": {\"color\": \"#2a3f5f\"}, \"marker\": {\"line\": {\"color\": \"#E5ECF6\", \"width\": 0.5}}, \"type\": \"bar\"}], \"barpolar\": [{\"marker\": {\"line\": {\"color\": \"#E5ECF6\", \"width\": 0.5}}, \"type\": \"barpolar\"}], \"carpet\": [{\"aaxis\": {\"endlinecolor\": \"#2a3f5f\", \"gridcolor\": \"white\", \"linecolor\": \"white\", \"minorgridcolor\": \"white\", \"startlinecolor\": \"#2a3f5f\"}, \"baxis\": {\"endlinecolor\": \"#2a3f5f\", \"gridcolor\": \"white\", \"linecolor\": \"white\", \"minorgridcolor\": \"white\", \"startlinecolor\": \"#2a3f5f\"}, \"type\": \"carpet\"}], \"choropleth\": [{\"colorbar\": {\"outlinewidth\": 0, \"ticks\": \"\"}, \"type\": \"choropleth\"}], \"contour\": [{\"colorbar\": {\"outlinewidth\": 0, \"ticks\": \"\"}, \"colorscale\": [[0.0, \"#0d0887\"], [0.1111111111111111, \"#46039f\"], [0.2222222222222222, \"#7201a8\"], [0.3333333333333333, \"#9c179e\"], [0.4444444444444444, \"#bd3786\"], [0.5555555555555556, \"#d8576b\"], [0.6666666666666666, \"#ed7953\"], [0.7777777777777778, \"#fb9f3a\"], [0.8888888888888888, \"#fdca26\"], [1.0, \"#f0f921\"]], \"type\": \"contour\"}], \"contourcarpet\": [{\"colorbar\": {\"outlinewidth\": 0, \"ticks\": \"\"}, \"type\": \"contourcarpet\"}], \"heatmap\": [{\"colorbar\": {\"outlinewidth\": 0, \"ticks\": \"\"}, \"colorscale\": [[0.0, \"#0d0887\"], [0.1111111111111111, \"#46039f\"], [0.2222222222222222, \"#7201a8\"], [0.3333333333333333, \"#9c179e\"], [0.4444444444444444, \"#bd3786\"], [0.5555555555555556, \"#d8576b\"], [0.6666666666666666, \"#ed7953\"], [0.7777777777777778, \"#fb9f3a\"], [0.8888888888888888, \"#fdca26\"], [1.0, \"#f0f921\"]], \"type\": \"heatmap\"}], \"heatmapgl\": [{\"colorbar\": {\"outlinewidth\": 0, \"ticks\": \"\"}, \"colorscale\": [[0.0, \"#0d0887\"], [0.1111111111111111, \"#46039f\"], [0.2222222222222222, \"#7201a8\"], [0.3333333333333333, \"#9c179e\"], [0.4444444444444444, \"#bd3786\"], [0.5555555555555556, \"#d8576b\"], [0.6666666666666666, \"#ed7953\"], [0.7777777777777778, \"#fb9f3a\"], [0.8888888888888888, \"#fdca26\"], [1.0, \"#f0f921\"]], \"type\": \"heatmapgl\"}], \"histogram\": [{\"marker\": {\"colorbar\": {\"outlinewidth\": 0, \"ticks\": \"\"}}, \"type\": \"histogram\"}], \"histogram2d\": [{\"colorbar\": {\"outlinewidth\": 0, \"ticks\": \"\"}, \"colorscale\": [[0.0, \"#0d0887\"], [0.1111111111111111, \"#46039f\"], [0.2222222222222222, \"#7201a8\"], [0.3333333333333333, \"#9c179e\"], [0.4444444444444444, \"#bd3786\"], [0.5555555555555556, \"#d8576b\"], [0.6666666666666666, \"#ed7953\"], [0.7777777777777778, \"#fb9f3a\"], [0.8888888888888888, \"#fdca26\"], [1.0, \"#f0f921\"]], \"type\": \"histogram2d\"}], \"histogram2dcontour\": [{\"colorbar\": {\"outlinewidth\": 0, \"ticks\": \"\"}, \"colorscale\": [[0.0, \"#0d0887\"], [0.1111111111111111, \"#46039f\"], [0.2222222222222222, \"#7201a8\"], [0.3333333333333333, \"#9c179e\"], [0.4444444444444444, \"#bd3786\"], [0.5555555555555556, \"#d8576b\"], [0.6666666666666666, \"#ed7953\"], [0.7777777777777778, \"#fb9f3a\"], [0.8888888888888888, \"#fdca26\"], [1.0, \"#f0f921\"]], \"type\": \"histogram2dcontour\"}], \"mesh3d\": [{\"colorbar\": {\"outlinewidth\": 0, \"ticks\": \"\"}, \"type\": \"mesh3d\"}], \"parcoords\": [{\"line\": {\"colorbar\": {\"outlinewidth\": 0, \"ticks\": \"\"}}, \"type\": \"parcoords\"}], \"pie\": [{\"automargin\": true, \"type\": \"pie\"}], \"scatter\": [{\"marker\": {\"colorbar\": {\"outlinewidth\": 0, \"ticks\": \"\"}}, \"type\": \"scatter\"}], \"scatter3d\": [{\"line\": {\"colorbar\": {\"outlinewidth\": 0, \"ticks\": \"\"}}, \"marker\": {\"colorbar\": {\"outlinewidth\": 0, \"ticks\": \"\"}}, \"type\": \"scatter3d\"}], \"scattercarpet\": [{\"marker\": {\"colorbar\": {\"outlinewidth\": 0, \"ticks\": \"\"}}, \"type\": \"scattercarpet\"}], \"scattergeo\": [{\"marker\": {\"colorbar\": {\"outlinewidth\": 0, \"ticks\": \"\"}}, \"type\": \"scattergeo\"}], \"scattergl\": [{\"marker\": {\"colorbar\": {\"outlinewidth\": 0, \"ticks\": \"\"}}, \"type\": \"scattergl\"}], \"scattermapbox\": [{\"marker\": {\"colorbar\": {\"outlinewidth\": 0, \"ticks\": \"\"}}, \"type\": \"scattermapbox\"}], \"scatterpolar\": [{\"marker\": {\"colorbar\": {\"outlinewidth\": 0, \"ticks\": \"\"}}, \"type\": \"scatterpolar\"}], \"scatterpolargl\": [{\"marker\": {\"colorbar\": {\"outlinewidth\": 0, \"ticks\": \"\"}}, \"type\": \"scatterpolargl\"}], \"scatterternary\": [{\"marker\": {\"colorbar\": {\"outlinewidth\": 0, \"ticks\": \"\"}}, \"type\": \"scatterternary\"}], \"surface\": [{\"colorbar\": {\"outlinewidth\": 0, \"ticks\": \"\"}, \"colorscale\": [[0.0, \"#0d0887\"], [0.1111111111111111, \"#46039f\"], [0.2222222222222222, \"#7201a8\"], [0.3333333333333333, \"#9c179e\"], [0.4444444444444444, \"#bd3786\"], [0.5555555555555556, \"#d8576b\"], [0.6666666666666666, \"#ed7953\"], [0.7777777777777778, \"#fb9f3a\"], [0.8888888888888888, \"#fdca26\"], [1.0, \"#f0f921\"]], \"type\": \"surface\"}], \"table\": [{\"cells\": {\"fill\": {\"color\": \"#EBF0F8\"}, \"line\": {\"color\": \"white\"}}, \"header\": {\"fill\": {\"color\": \"#C8D4E3\"}, \"line\": {\"color\": \"white\"}}, \"type\": \"table\"}]}, \"layout\": {\"annotationdefaults\": {\"arrowcolor\": \"#2a3f5f\", \"arrowhead\": 0, \"arrowwidth\": 1}, \"coloraxis\": {\"colorbar\": {\"outlinewidth\": 0, \"ticks\": \"\"}}, \"colorscale\": {\"diverging\": [[0, \"#8e0152\"], [0.1, \"#c51b7d\"], [0.2, \"#de77ae\"], [0.3, \"#f1b6da\"], [0.4, \"#fde0ef\"], [0.5, \"#f7f7f7\"], [0.6, \"#e6f5d0\"], [0.7, \"#b8e186\"], [0.8, \"#7fbc41\"], [0.9, \"#4d9221\"], [1, \"#276419\"]], \"sequential\": [[0.0, \"#0d0887\"], [0.1111111111111111, \"#46039f\"], [0.2222222222222222, \"#7201a8\"], [0.3333333333333333, \"#9c179e\"], [0.4444444444444444, \"#bd3786\"], [0.5555555555555556, \"#d8576b\"], [0.6666666666666666, \"#ed7953\"], [0.7777777777777778, \"#fb9f3a\"], [0.8888888888888888, \"#fdca26\"], [1.0, \"#f0f921\"]], \"sequentialminus\": [[0.0, \"#0d0887\"], [0.1111111111111111, \"#46039f\"], [0.2222222222222222, \"#7201a8\"], [0.3333333333333333, \"#9c179e\"], [0.4444444444444444, \"#bd3786\"], [0.5555555555555556, \"#d8576b\"], [0.6666666666666666, \"#ed7953\"], [0.7777777777777778, \"#fb9f3a\"], [0.8888888888888888, \"#fdca26\"], [1.0, \"#f0f921\"]]}, \"colorway\": [\"#636efa\", \"#EF553B\", \"#00cc96\", \"#ab63fa\", \"#FFA15A\", \"#19d3f3\", \"#FF6692\", \"#B6E880\", \"#FF97FF\", \"#FECB52\"], \"font\": {\"color\": \"#2a3f5f\"}, \"geo\": {\"bgcolor\": \"white\", \"lakecolor\": \"white\", \"landcolor\": \"#E5ECF6\", \"showlakes\": true, \"showland\": true, \"subunitcolor\": \"white\"}, \"hoverlabel\": {\"align\": \"left\"}, \"hovermode\": \"closest\", \"mapbox\": {\"style\": \"light\"}, \"paper_bgcolor\": \"white\", \"plot_bgcolor\": \"#E5ECF6\", \"polar\": {\"angularaxis\": {\"gridcolor\": \"white\", \"linecolor\": \"white\", \"ticks\": \"\"}, \"bgcolor\": \"#E5ECF6\", \"radialaxis\": {\"gridcolor\": \"white\", \"linecolor\": \"white\", \"ticks\": \"\"}}, \"scene\": {\"xaxis\": {\"backgroundcolor\": \"#E5ECF6\", \"gridcolor\": \"white\", \"gridwidth\": 2, \"linecolor\": \"white\", \"showbackground\": true, \"ticks\": \"\", \"zerolinecolor\": \"white\"}, \"yaxis\": {\"backgroundcolor\": \"#E5ECF6\", \"gridcolor\": \"white\", \"gridwidth\": 2, \"linecolor\": \"white\", \"showbackground\": true, \"ticks\": \"\", \"zerolinecolor\": \"white\"}, \"zaxis\": {\"backgroundcolor\": \"#E5ECF6\", \"gridcolor\": \"white\", \"gridwidth\": 2, \"linecolor\": \"white\", \"showbackground\": true, \"ticks\": \"\", \"zerolinecolor\": \"white\"}}, \"shapedefaults\": {\"line\": {\"color\": \"#2a3f5f\"}}, \"ternary\": {\"aaxis\": {\"gridcolor\": \"white\", \"linecolor\": \"white\", \"ticks\": \"\"}, \"baxis\": {\"gridcolor\": \"white\", \"linecolor\": \"white\", \"ticks\": \"\"}, \"bgcolor\": \"#E5ECF6\", \"caxis\": {\"gridcolor\": \"white\", \"linecolor\": \"white\", \"ticks\": \"\"}}, \"title\": {\"x\": 0.05}, \"xaxis\": {\"automargin\": true, \"gridcolor\": \"white\", \"linecolor\": \"white\", \"ticks\": \"\", \"title\": {\"standoff\": 15}, \"zerolinecolor\": \"white\", \"zerolinewidth\": 2}, \"yaxis\": {\"automargin\": true, \"gridcolor\": \"white\", \"linecolor\": \"white\", \"ticks\": \"\", \"title\": {\"standoff\": 15}, \"zerolinecolor\": \"white\", \"zerolinewidth\": 2}}}, \"title\": {\"text\": \"Tweets By Region\"}},\n",
              "                        {\"responsive\": true}\n",
              "                    ).then(function(){\n",
              "                            \n",
              "var gd = document.getElementById('36b4e225-e909-4685-bf30-17b86f8adbef');\n",
              "var x = new MutationObserver(function (mutations, observer) {{\n",
              "        var display = window.getComputedStyle(gd).display;\n",
              "        if (!display || display === 'none') {{\n",
              "            console.log([gd, 'removed!']);\n",
              "            Plotly.purge(gd);\n",
              "            observer.disconnect();\n",
              "        }}\n",
              "}});\n",
              "\n",
              "// Listen for the removal of the full notebook cells\n",
              "var notebookContainer = gd.closest('#notebook-container');\n",
              "if (notebookContainer) {{\n",
              "    x.observe(notebookContainer, {childList: true});\n",
              "}}\n",
              "\n",
              "// Listen for the clearing of the current output cell\n",
              "var outputEl = gd.closest('.output');\n",
              "if (outputEl) {{\n",
              "    x.observe(outputEl, {childList: true});\n",
              "}}\n",
              "\n",
              "                        })\n",
              "                };\n",
              "                \n",
              "            </script>\n",
              "        </div>\n",
              "</body>\n",
              "</html>"
            ]
          },
          "metadata": {
            "tags": []
          }
        }
      ]
    },
    {
      "cell_type": "markdown",
      "metadata": {
        "id": "sGLc0VDoR6An"
      },
      "source": [
        "### Positive to negative tweet ratio\n"
      ]
    },
    {
      "cell_type": "code",
      "metadata": {
        "colab": {
          "base_uri": "https://localhost:8080/",
          "height": 542
        },
        "id": "EunykUVsQI56",
        "outputId": "a573bf0b-b197-4720-b03c-b432e3873eb8"
      },
      "source": [
        "\n",
        "Negative = len(df[df['label']==0])\n",
        "Positive = len(df[df['label']==1])\n",
        "labels = ['Negative','Positive']\n",
        "values = [Negative,Positive]\n",
        "\n",
        "import plotly.graph_objects as go\n",
        "colors = ['red','green' ]\n",
        "\n",
        "fig = go.Figure(data=[go.Pie(labels=labels,\n",
        "                             values=values)])\n",
        "fig.update_traces(hoverinfo='label+percent', textinfo='percent', textfont_size=20,textposition='inside',\n",
        "                  marker=dict(colors=colors, line=dict(color='grey', width=1)))\n",
        "fig.show()"
      ],
      "execution_count": 112,
      "outputs": [
        {
          "output_type": "display_data",
          "data": {
            "text/html": [
              "<html>\n",
              "<head><meta charset=\"utf-8\" /></head>\n",
              "<body>\n",
              "    <div>\n",
              "            <script src=\"https://cdnjs.cloudflare.com/ajax/libs/mathjax/2.7.5/MathJax.js?config=TeX-AMS-MML_SVG\"></script><script type=\"text/javascript\">if (window.MathJax) {MathJax.Hub.Config({SVG: {font: \"STIX-Web\"}});}</script>\n",
              "                <script type=\"text/javascript\">window.PlotlyConfig = {MathJaxConfig: 'local'};</script>\n",
              "        <script src=\"https://cdn.plot.ly/plotly-latest.min.js\"></script>    \n",
              "            <div id=\"022f7a92-8df6-47f4-99ec-f78e816438e7\" class=\"plotly-graph-div\" style=\"height:525px; width:100%;\"></div>\n",
              "            <script type=\"text/javascript\">\n",
              "                \n",
              "                    window.PLOTLYENV=window.PLOTLYENV || {};\n",
              "                    \n",
              "                if (document.getElementById(\"022f7a92-8df6-47f4-99ec-f78e816438e7\")) {\n",
              "                    Plotly.newPlot(\n",
              "                        '022f7a92-8df6-47f4-99ec-f78e816438e7',\n",
              "                        [{\"hoverinfo\": \"label+percent\", \"labels\": [\"Negative\", \"Positive\"], \"marker\": {\"colors\": [\"red\", \"green\"], \"line\": {\"color\": \"grey\", \"width\": 1}}, \"textfont\": {\"size\": 20}, \"textinfo\": \"percent\", \"textposition\": \"inside\", \"type\": \"pie\", \"values\": [5122, 2890]}],\n",
              "                        {\"template\": {\"data\": {\"bar\": [{\"error_x\": {\"color\": \"#2a3f5f\"}, \"error_y\": {\"color\": \"#2a3f5f\"}, \"marker\": {\"line\": {\"color\": \"#E5ECF6\", \"width\": 0.5}}, \"type\": \"bar\"}], \"barpolar\": [{\"marker\": {\"line\": {\"color\": \"#E5ECF6\", \"width\": 0.5}}, \"type\": \"barpolar\"}], \"carpet\": [{\"aaxis\": {\"endlinecolor\": \"#2a3f5f\", \"gridcolor\": \"white\", \"linecolor\": \"white\", \"minorgridcolor\": \"white\", \"startlinecolor\": \"#2a3f5f\"}, \"baxis\": {\"endlinecolor\": \"#2a3f5f\", \"gridcolor\": \"white\", \"linecolor\": \"white\", \"minorgridcolor\": \"white\", \"startlinecolor\": \"#2a3f5f\"}, \"type\": \"carpet\"}], \"choropleth\": [{\"colorbar\": {\"outlinewidth\": 0, \"ticks\": \"\"}, \"type\": \"choropleth\"}], \"contour\": [{\"colorbar\": {\"outlinewidth\": 0, \"ticks\": \"\"}, \"colorscale\": [[0.0, \"#0d0887\"], [0.1111111111111111, \"#46039f\"], [0.2222222222222222, \"#7201a8\"], [0.3333333333333333, \"#9c179e\"], [0.4444444444444444, \"#bd3786\"], [0.5555555555555556, \"#d8576b\"], [0.6666666666666666, \"#ed7953\"], [0.7777777777777778, \"#fb9f3a\"], [0.8888888888888888, \"#fdca26\"], [1.0, \"#f0f921\"]], \"type\": \"contour\"}], \"contourcarpet\": [{\"colorbar\": {\"outlinewidth\": 0, \"ticks\": \"\"}, \"type\": \"contourcarpet\"}], \"heatmap\": [{\"colorbar\": {\"outlinewidth\": 0, \"ticks\": \"\"}, \"colorscale\": [[0.0, \"#0d0887\"], [0.1111111111111111, \"#46039f\"], [0.2222222222222222, \"#7201a8\"], [0.3333333333333333, \"#9c179e\"], [0.4444444444444444, \"#bd3786\"], [0.5555555555555556, \"#d8576b\"], [0.6666666666666666, \"#ed7953\"], [0.7777777777777778, \"#fb9f3a\"], [0.8888888888888888, \"#fdca26\"], [1.0, \"#f0f921\"]], \"type\": \"heatmap\"}], \"heatmapgl\": [{\"colorbar\": {\"outlinewidth\": 0, \"ticks\": \"\"}, \"colorscale\": [[0.0, \"#0d0887\"], [0.1111111111111111, \"#46039f\"], [0.2222222222222222, \"#7201a8\"], [0.3333333333333333, \"#9c179e\"], [0.4444444444444444, \"#bd3786\"], [0.5555555555555556, \"#d8576b\"], [0.6666666666666666, \"#ed7953\"], [0.7777777777777778, \"#fb9f3a\"], [0.8888888888888888, \"#fdca26\"], [1.0, \"#f0f921\"]], \"type\": \"heatmapgl\"}], \"histogram\": [{\"marker\": {\"colorbar\": {\"outlinewidth\": 0, \"ticks\": \"\"}}, \"type\": \"histogram\"}], \"histogram2d\": [{\"colorbar\": {\"outlinewidth\": 0, \"ticks\": \"\"}, \"colorscale\": [[0.0, \"#0d0887\"], [0.1111111111111111, \"#46039f\"], [0.2222222222222222, \"#7201a8\"], [0.3333333333333333, \"#9c179e\"], [0.4444444444444444, \"#bd3786\"], [0.5555555555555556, \"#d8576b\"], [0.6666666666666666, \"#ed7953\"], [0.7777777777777778, \"#fb9f3a\"], [0.8888888888888888, \"#fdca26\"], [1.0, \"#f0f921\"]], \"type\": \"histogram2d\"}], \"histogram2dcontour\": [{\"colorbar\": {\"outlinewidth\": 0, \"ticks\": \"\"}, \"colorscale\": [[0.0, \"#0d0887\"], [0.1111111111111111, \"#46039f\"], [0.2222222222222222, \"#7201a8\"], [0.3333333333333333, \"#9c179e\"], [0.4444444444444444, \"#bd3786\"], [0.5555555555555556, \"#d8576b\"], [0.6666666666666666, \"#ed7953\"], [0.7777777777777778, \"#fb9f3a\"], [0.8888888888888888, \"#fdca26\"], [1.0, \"#f0f921\"]], \"type\": \"histogram2dcontour\"}], \"mesh3d\": [{\"colorbar\": {\"outlinewidth\": 0, \"ticks\": \"\"}, \"type\": \"mesh3d\"}], \"parcoords\": [{\"line\": {\"colorbar\": {\"outlinewidth\": 0, \"ticks\": \"\"}}, \"type\": \"parcoords\"}], \"pie\": [{\"automargin\": true, \"type\": \"pie\"}], \"scatter\": [{\"marker\": {\"colorbar\": {\"outlinewidth\": 0, \"ticks\": \"\"}}, \"type\": \"scatter\"}], \"scatter3d\": [{\"line\": {\"colorbar\": {\"outlinewidth\": 0, \"ticks\": \"\"}}, \"marker\": {\"colorbar\": {\"outlinewidth\": 0, \"ticks\": \"\"}}, \"type\": \"scatter3d\"}], \"scattercarpet\": [{\"marker\": {\"colorbar\": {\"outlinewidth\": 0, \"ticks\": \"\"}}, \"type\": \"scattercarpet\"}], \"scattergeo\": [{\"marker\": {\"colorbar\": {\"outlinewidth\": 0, \"ticks\": \"\"}}, \"type\": \"scattergeo\"}], \"scattergl\": [{\"marker\": {\"colorbar\": {\"outlinewidth\": 0, \"ticks\": \"\"}}, \"type\": \"scattergl\"}], \"scattermapbox\": [{\"marker\": {\"colorbar\": {\"outlinewidth\": 0, \"ticks\": \"\"}}, \"type\": \"scattermapbox\"}], \"scatterpolar\": [{\"marker\": {\"colorbar\": {\"outlinewidth\": 0, \"ticks\": \"\"}}, \"type\": \"scatterpolar\"}], \"scatterpolargl\": [{\"marker\": {\"colorbar\": {\"outlinewidth\": 0, \"ticks\": \"\"}}, \"type\": \"scatterpolargl\"}], \"scatterternary\": [{\"marker\": {\"colorbar\": {\"outlinewidth\": 0, \"ticks\": \"\"}}, \"type\": \"scatterternary\"}], \"surface\": [{\"colorbar\": {\"outlinewidth\": 0, \"ticks\": \"\"}, \"colorscale\": [[0.0, \"#0d0887\"], [0.1111111111111111, \"#46039f\"], [0.2222222222222222, \"#7201a8\"], [0.3333333333333333, \"#9c179e\"], [0.4444444444444444, \"#bd3786\"], [0.5555555555555556, \"#d8576b\"], [0.6666666666666666, \"#ed7953\"], [0.7777777777777778, \"#fb9f3a\"], [0.8888888888888888, \"#fdca26\"], [1.0, \"#f0f921\"]], \"type\": \"surface\"}], \"table\": [{\"cells\": {\"fill\": {\"color\": \"#EBF0F8\"}, \"line\": {\"color\": \"white\"}}, \"header\": {\"fill\": {\"color\": \"#C8D4E3\"}, \"line\": {\"color\": \"white\"}}, \"type\": \"table\"}]}, \"layout\": {\"annotationdefaults\": {\"arrowcolor\": \"#2a3f5f\", \"arrowhead\": 0, \"arrowwidth\": 1}, \"coloraxis\": {\"colorbar\": {\"outlinewidth\": 0, \"ticks\": \"\"}}, \"colorscale\": {\"diverging\": [[0, \"#8e0152\"], [0.1, \"#c51b7d\"], [0.2, \"#de77ae\"], [0.3, \"#f1b6da\"], [0.4, \"#fde0ef\"], [0.5, \"#f7f7f7\"], [0.6, \"#e6f5d0\"], [0.7, \"#b8e186\"], [0.8, \"#7fbc41\"], [0.9, \"#4d9221\"], [1, \"#276419\"]], \"sequential\": [[0.0, \"#0d0887\"], [0.1111111111111111, \"#46039f\"], [0.2222222222222222, \"#7201a8\"], [0.3333333333333333, \"#9c179e\"], [0.4444444444444444, \"#bd3786\"], [0.5555555555555556, \"#d8576b\"], [0.6666666666666666, \"#ed7953\"], [0.7777777777777778, \"#fb9f3a\"], [0.8888888888888888, \"#fdca26\"], [1.0, \"#f0f921\"]], \"sequentialminus\": [[0.0, \"#0d0887\"], [0.1111111111111111, \"#46039f\"], [0.2222222222222222, \"#7201a8\"], [0.3333333333333333, \"#9c179e\"], [0.4444444444444444, \"#bd3786\"], [0.5555555555555556, \"#d8576b\"], [0.6666666666666666, \"#ed7953\"], [0.7777777777777778, \"#fb9f3a\"], [0.8888888888888888, \"#fdca26\"], [1.0, \"#f0f921\"]]}, \"colorway\": [\"#636efa\", \"#EF553B\", \"#00cc96\", \"#ab63fa\", \"#FFA15A\", \"#19d3f3\", \"#FF6692\", \"#B6E880\", \"#FF97FF\", \"#FECB52\"], \"font\": {\"color\": \"#2a3f5f\"}, \"geo\": {\"bgcolor\": \"white\", \"lakecolor\": \"white\", \"landcolor\": \"#E5ECF6\", \"showlakes\": true, \"showland\": true, \"subunitcolor\": \"white\"}, \"hoverlabel\": {\"align\": \"left\"}, \"hovermode\": \"closest\", \"mapbox\": {\"style\": \"light\"}, \"paper_bgcolor\": \"white\", \"plot_bgcolor\": \"#E5ECF6\", \"polar\": {\"angularaxis\": {\"gridcolor\": \"white\", \"linecolor\": \"white\", \"ticks\": \"\"}, \"bgcolor\": \"#E5ECF6\", \"radialaxis\": {\"gridcolor\": \"white\", \"linecolor\": \"white\", \"ticks\": \"\"}}, \"scene\": {\"xaxis\": {\"backgroundcolor\": \"#E5ECF6\", \"gridcolor\": \"white\", \"gridwidth\": 2, \"linecolor\": \"white\", \"showbackground\": true, \"ticks\": \"\", \"zerolinecolor\": \"white\"}, \"yaxis\": {\"backgroundcolor\": \"#E5ECF6\", \"gridcolor\": \"white\", \"gridwidth\": 2, \"linecolor\": \"white\", \"showbackground\": true, \"ticks\": \"\", \"zerolinecolor\": \"white\"}, \"zaxis\": {\"backgroundcolor\": \"#E5ECF6\", \"gridcolor\": \"white\", \"gridwidth\": 2, \"linecolor\": \"white\", \"showbackground\": true, \"ticks\": \"\", \"zerolinecolor\": \"white\"}}, \"shapedefaults\": {\"line\": {\"color\": \"#2a3f5f\"}}, \"ternary\": {\"aaxis\": {\"gridcolor\": \"white\", \"linecolor\": \"white\", \"ticks\": \"\"}, \"baxis\": {\"gridcolor\": \"white\", \"linecolor\": \"white\", \"ticks\": \"\"}, \"bgcolor\": \"#E5ECF6\", \"caxis\": {\"gridcolor\": \"white\", \"linecolor\": \"white\", \"ticks\": \"\"}}, \"title\": {\"x\": 0.05}, \"xaxis\": {\"automargin\": true, \"gridcolor\": \"white\", \"linecolor\": \"white\", \"ticks\": \"\", \"title\": {\"standoff\": 15}, \"zerolinecolor\": \"white\", \"zerolinewidth\": 2}, \"yaxis\": {\"automargin\": true, \"gridcolor\": \"white\", \"linecolor\": \"white\", \"ticks\": \"\", \"title\": {\"standoff\": 15}, \"zerolinecolor\": \"white\", \"zerolinewidth\": 2}}}},\n",
              "                        {\"responsive\": true}\n",
              "                    ).then(function(){\n",
              "                            \n",
              "var gd = document.getElementById('022f7a92-8df6-47f4-99ec-f78e816438e7');\n",
              "var x = new MutationObserver(function (mutations, observer) {{\n",
              "        var display = window.getComputedStyle(gd).display;\n",
              "        if (!display || display === 'none') {{\n",
              "            console.log([gd, 'removed!']);\n",
              "            Plotly.purge(gd);\n",
              "            observer.disconnect();\n",
              "        }}\n",
              "}});\n",
              "\n",
              "// Listen for the removal of the full notebook cells\n",
              "var notebookContainer = gd.closest('#notebook-container');\n",
              "if (notebookContainer) {{\n",
              "    x.observe(notebookContainer, {childList: true});\n",
              "}}\n",
              "\n",
              "// Listen for the clearing of the current output cell\n",
              "var outputEl = gd.closest('.output');\n",
              "if (outputEl) {{\n",
              "    x.observe(outputEl, {childList: true});\n",
              "}}\n",
              "\n",
              "                        })\n",
              "                };\n",
              "                \n",
              "            </script>\n",
              "        </div>\n",
              "</body>\n",
              "</html>"
            ]
          },
          "metadata": {
            "tags": []
          }
        }
      ]
    },
    {
      "cell_type": "code",
      "metadata": {
        "colab": {
          "base_uri": "https://localhost:8080/",
          "height": 356
        },
        "id": "a61ZNCedQj8L",
        "outputId": "1ceafebe-306d-4702-af6f-f0c02533ecf8"
      },
      "source": [
        "df_copy['sentiment'] = df['label']\n",
        "plt.figure(figsize=(10,5))\n",
        "sns.set(style=\"darkgrid\")\n",
        "sns.countplot(x=df_copy['acc_class'],data=df_copy,hue=df_copy['sentiment'],palette=\"rocket\")"
      ],
      "execution_count": 113,
      "outputs": [
        {
          "output_type": "execute_result",
          "data": {
            "text/plain": [
              "<matplotlib.axes._subplots.AxesSubplot at 0x7f2734c15710>"
            ]
          },
          "metadata": {
            "tags": []
          },
          "execution_count": 113
        },
        {
          "output_type": "display_data",
          "data": {
            "image/png": "[encoded data removed]",
            "text/plain": [
              "<Figure size 720x360 with 1 Axes>"
            ]
          },
          "metadata": {
            "tags": [],
            "needs_background": "light"
          }
        }
      ]
    },
    {
      "cell_type": "code",
      "metadata": {
        "id": "YVe-t-M2RQ0p"
      },
      "source": [
        ""
      ],
      "execution_count": null,
      "outputs": []
    }
  ]
}