{
  "nbformat": 4,
  "nbformat_minor": 0,
  "metadata": {
    "colab": {
      "name": "Bert_sentiment.ipynb",
      "provenance": []
    },
    "kernelspec": {
      "name": "python3",
      "display_name": "Python 3"
    },
    "accelerator": "GPU",
    "widgets": {
      "application/vnd.jupyter.widget-state+json": {
        "d446ed295e994872b8b5bee049e07c45": {
          "model_module": "@jupyter-widgets/controls",
          "model_name": "HBoxModel",
          "state": {
            "_view_name": "HBoxView",
            "_dom_classes": [],
            "_model_name": "HBoxModel",
            "_view_module": "@jupyter-widgets/controls",
            "_model_module_version": "1.5.0",
            "_view_count": null,
            "_view_module_version": "1.5.0",
            "box_style": "",
            "layout": "IPY_MODEL_93caae5b8f3f4b7b92a282a121704940",
            "_model_module": "@jupyter-widgets/controls",
            "children": [
              "IPY_MODEL_98794899e24640d68dadcf6e10867651",
              "IPY_MODEL_5b2d9e267a2b45b1b12d025c9e84fbdf"
            ]
          }
        },
        "93caae5b8f3f4b7b92a282a121704940": {
          "model_module": "@jupyter-widgets/base",
          "model_name": "LayoutModel",
          "state": {
            "_view_name": "LayoutView",
            "grid_template_rows": null,
            "right": null,
            "justify_content": null,
            "_view_module": "@jupyter-widgets/base",
            "overflow": null,
            "_model_module_version": "1.2.0",
            "_view_count": null,
            "flex_flow": null,
            "width": null,
            "min_width": null,
            "border": null,
            "align_items": null,
            "bottom": null,
            "_model_module": "@jupyter-widgets/base",
            "top": null,
            "grid_column": null,
            "overflow_y": null,
            "overflow_x": null,
            "grid_auto_flow": null,
            "grid_area": null,
            "grid_template_columns": null,
            "flex": null,
            "_model_name": "LayoutModel",
            "justify_items": null,
            "grid_row": null,
            "max_height": null,
            "align_content": null,
            "visibility": null,
            "align_self": null,
            "height": null,
            "min_height": null,
            "padding": null,
            "grid_auto_rows": null,
            "grid_gap": null,
            "max_width": null,
            "order": null,
            "_view_module_version": "1.2.0",
            "grid_template_areas": null,
            "object_position": null,
            "object_fit": null,
            "grid_auto_columns": null,
            "margin": null,
            "display": null,
            "left": null
          }
        },
        "98794899e24640d68dadcf6e10867651": {
          "model_module": "@jupyter-widgets/controls",
          "model_name": "FloatProgressModel",
          "state": {
            "_view_name": "ProgressView",
            "style": "IPY_MODEL_d5c1430b3d9248be98ad36d86a580d4b",
            "_dom_classes": [],
            "description": "Downloading: 100%",
            "_model_name": "FloatProgressModel",
            "bar_style": "success",
            "max": 433,
            "_view_module": "@jupyter-widgets/controls",
            "_model_module_version": "1.5.0",
            "value": 433,
            "_view_count": null,
            "_view_module_version": "1.5.0",
            "orientation": "horizontal",
            "min": 0,
            "description_tooltip": null,
            "_model_module": "@jupyter-widgets/controls",
            "layout": "IPY_MODEL_222c4a96ef5c4d5a8f81b9f2ab9eb0ab"
          }
        },
        "5b2d9e267a2b45b1b12d025c9e84fbdf": {
          "model_module": "@jupyter-widgets/controls",
          "model_name": "HTMLModel",
          "state": {
            "_view_name": "HTMLView",
            "style": "IPY_MODEL_ed5dfb4e9e0a4b7899c66f7cdb761c78",
            "_dom_classes": [],
            "description": "",
            "_model_name": "HTMLModel",
            "placeholder": "​",
            "_view_module": "@jupyter-widgets/controls",
            "_model_module_version": "1.5.0",
            "value": " 433/433 [00:00&lt;00:00, 15.8kB/s]",
            "_view_count": null,
            "_view_module_version": "1.5.0",
            "description_tooltip": null,
            "_model_module": "@jupyter-widgets/controls",
            "layout": "IPY_MODEL_2e931d0f2fd94c988628b831ced7762b"
          }
        },
        "d5c1430b3d9248be98ad36d86a580d4b": {
          "model_module": "@jupyter-widgets/controls",
          "model_name": "ProgressStyleModel",
          "state": {
            "_view_name": "StyleView",
            "_model_name": "ProgressStyleModel",
            "description_width": "initial",
            "_view_module": "@jupyter-widgets/base",
            "_model_module_version": "1.5.0",
            "_view_count": null,
            "_view_module_version": "1.2.0",
            "bar_color": null,
            "_model_module": "@jupyter-widgets/controls"
          }
        },
        "222c4a96ef5c4d5a8f81b9f2ab9eb0ab": {
          "model_module": "@jupyter-widgets/base",
          "model_name": "LayoutModel",
          "state": {
            "_view_name": "LayoutView",
            "grid_template_rows": null,
            "right": null,
            "justify_content": null,
            "_view_module": "@jupyter-widgets/base",
            "overflow": null,
            "_model_module_version": "1.2.0",
            "_view_count": null,
            "flex_flow": null,
            "width": null,
            "min_width": null,
            "border": null,
            "align_items": null,
            "bottom": null,
            "_model_module": "@jupyter-widgets/base",
            "top": null,
            "grid_column": null,
            "overflow_y": null,
            "overflow_x": null,
            "grid_auto_flow": null,
            "grid_area": null,
            "grid_template_columns": null,
            "flex": null,
            "_model_name": "LayoutModel",
            "justify_items": null,
            "grid_row": null,
            "max_height": null,
            "align_content": null,
            "visibility": null,
            "align_self": null,
            "height": null,
            "min_height": null,
            "padding": null,
            "grid_auto_rows": null,
            "grid_gap": null,
            "max_width": null,
            "order": null,
            "_view_module_version": "1.2.0",
            "grid_template_areas": null,
            "object_position": null,
            "object_fit": null,
            "grid_auto_columns": null,
            "margin": null,
            "display": null,
            "left": null
          }
        },
        "ed5dfb4e9e0a4b7899c66f7cdb761c78": {
          "model_module": "@jupyter-widgets/controls",
          "model_name": "DescriptionStyleModel",
          "state": {
            "_view_name": "StyleView",
            "_model_name": "DescriptionStyleModel",
            "description_width": "",
            "_view_module": "@jupyter-widgets/base",
            "_model_module_version": "1.5.0",
            "_view_count": null,
            "_view_module_version": "1.2.0",
            "_model_module": "@jupyter-widgets/controls"
          }
        },
        "2e931d0f2fd94c988628b831ced7762b": {
          "model_module": "@jupyter-widgets/base",
          "model_name": "LayoutModel",
          "state": {
            "_view_name": "LayoutView",
            "grid_template_rows": null,
            "right": null,
            "justify_content": null,
            "_view_module": "@jupyter-widgets/base",
            "overflow": null,
            "_model_module_version": "1.2.0",
            "_view_count": null,
            "flex_flow": null,
            "width": null,
            "min_width": null,
            "border": null,
            "align_items": null,
            "bottom": null,
            "_model_module": "@jupyter-widgets/base",
            "top": null,
            "grid_column": null,
            "overflow_y": null,
            "overflow_x": null,
            "grid_auto_flow": null,
            "grid_area": null,
            "grid_template_columns": null,
            "flex": null,
            "_model_name": "LayoutModel",
            "justify_items": null,
            "grid_row": null,
            "max_height": null,
            "align_content": null,
            "visibility": null,
            "align_self": null,
            "height": null,
            "min_height": null,
            "padding": null,
            "grid_auto_rows": null,
            "grid_gap": null,
            "max_width": null,
            "order": null,
            "_view_module_version": "1.2.0",
            "grid_template_areas": null,
            "object_position": null,
            "object_fit": null,
            "grid_auto_columns": null,
            "margin": null,
            "display": null,
            "left": null
          }
        },
        "f3b12a642b714bac89851ef36f726701": {
          "model_module": "@jupyter-widgets/controls",
          "model_name": "HBoxModel",
          "state": {
            "_view_name": "HBoxView",
            "_dom_classes": [],
            "_model_name": "HBoxModel",
            "_view_module": "@jupyter-widgets/controls",
            "_model_module_version": "1.5.0",
            "_view_count": null,
            "_view_module_version": "1.5.0",
            "box_style": "",
            "layout": "IPY_MODEL_4ef8c23f45bc4a92b6a4c116ae83b205",
            "_model_module": "@jupyter-widgets/controls",
            "children": [
              "IPY_MODEL_eec11f7e96734f33b717d597bc6734d2",
              "IPY_MODEL_50f5ce971c7b4f0d809f5502b634909e"
            ]
          }
        },
        "4ef8c23f45bc4a92b6a4c116ae83b205": {
          "model_module": "@jupyter-widgets/base",
          "model_name": "LayoutModel",
          "state": {
            "_view_name": "LayoutView",
            "grid_template_rows": null,
            "right": null,
            "justify_content": null,
            "_view_module": "@jupyter-widgets/base",
            "overflow": null,
            "_model_module_version": "1.2.0",
            "_view_count": null,
            "flex_flow": null,
            "width": null,
            "min_width": null,
            "border": null,
            "align_items": null,
            "bottom": null,
            "_model_module": "@jupyter-widgets/base",
            "top": null,
            "grid_column": null,
            "overflow_y": null,
            "overflow_x": null,
            "grid_auto_flow": null,
            "grid_area": null,
            "grid_template_columns": null,
            "flex": null,
            "_model_name": "LayoutModel",
            "justify_items": null,
            "grid_row": null,
            "max_height": null,
            "align_content": null,
            "visibility": null,
            "align_self": null,
            "height": null,
            "min_height": null,
            "padding": null,
            "grid_auto_rows": null,
            "grid_gap": null,
            "max_width": null,
            "order": null,
            "_view_module_version": "1.2.0",
            "grid_template_areas": null,
            "object_position": null,
            "object_fit": null,
            "grid_auto_columns": null,
            "margin": null,
            "display": null,
            "left": null
          }
        },
        "eec11f7e96734f33b717d597bc6734d2": {
          "model_module": "@jupyter-widgets/controls",
          "model_name": "FloatProgressModel",
          "state": {
            "_view_name": "ProgressView",
            "style": "IPY_MODEL_a305e778cc624925a2d587bd59f25082",
            "_dom_classes": [],
            "description": "Downloading: 100%",
            "_model_name": "FloatProgressModel",
            "bar_style": "success",
            "max": 536063208,
            "_view_module": "@jupyter-widgets/controls",
            "_model_module_version": "1.5.0",
            "value": 536063208,
            "_view_count": null,
            "_view_module_version": "1.5.0",
            "orientation": "horizontal",
            "min": 0,
            "description_tooltip": null,
            "_model_module": "@jupyter-widgets/controls",
            "layout": "IPY_MODEL_8e9ffe9900b140448fccbc777bc42094"
          }
        },
        "50f5ce971c7b4f0d809f5502b634909e": {
          "model_module": "@jupyter-widgets/controls",
          "model_name": "HTMLModel",
          "state": {
            "_view_name": "HTMLView",
            "style": "IPY_MODEL_a9374bc4456b4923a5651cb6c54a4ddd",
            "_dom_classes": [],
            "description": "",
            "_model_name": "HTMLModel",
            "placeholder": "​",
            "_view_module": "@jupyter-widgets/controls",
            "_model_module_version": "1.5.0",
            "value": " 536M/536M [00:10&lt;00:00, 53.1MB/s]",
            "_view_count": null,
            "_view_module_version": "1.5.0",
            "description_tooltip": null,
            "_model_module": "@jupyter-widgets/controls",
            "layout": "IPY_MODEL_94624fcc7d9c41558ae98668886453ad"
          }
        },
        "a305e778cc624925a2d587bd59f25082": {
          "model_module": "@jupyter-widgets/controls",
          "model_name": "ProgressStyleModel",
          "state": {
            "_view_name": "StyleView",
            "_model_name": "ProgressStyleModel",
            "description_width": "initial",
            "_view_module": "@jupyter-widgets/base",
            "_model_module_version": "1.5.0",
            "_view_count": null,
            "_view_module_version": "1.2.0",
            "bar_color": null,
            "_model_module": "@jupyter-widgets/controls"
          }
        },
        "8e9ffe9900b140448fccbc777bc42094": {
          "model_module": "@jupyter-widgets/base",
          "model_name": "LayoutModel",
          "state": {
            "_view_name": "LayoutView",
            "grid_template_rows": null,
            "right": null,
            "justify_content": null,
            "_view_module": "@jupyter-widgets/base",
            "overflow": null,
            "_model_module_version": "1.2.0",
            "_view_count": null,
            "flex_flow": null,
            "width": null,
            "min_width": null,
            "border": null,
            "align_items": null,
            "bottom": null,
            "_model_module": "@jupyter-widgets/base",
            "top": null,
            "grid_column": null,
            "overflow_y": null,
            "overflow_x": null,
            "grid_auto_flow": null,
            "grid_area": null,
            "grid_template_columns": null,
            "flex": null,
            "_model_name": "LayoutModel",
            "justify_items": null,
            "grid_row": null,
            "max_height": null,
            "align_content": null,
            "visibility": null,
            "align_self": null,
            "height": null,
            "min_height": null,
            "padding": null,
            "grid_auto_rows": null,
            "grid_gap": null,
            "max_width": null,
            "order": null,
            "_view_module_version": "1.2.0",
            "grid_template_areas": null,
            "object_position": null,
            "object_fit": null,
            "grid_auto_columns": null,
            "margin": null,
            "display": null,
            "left": null
          }
        },
        "a9374bc4456b4923a5651cb6c54a4ddd": {
          "model_module": "@jupyter-widgets/controls",
          "model_name": "DescriptionStyleModel",
          "state": {
            "_view_name": "StyleView",
            "_model_name": "DescriptionStyleModel",
            "description_width": "",
            "_view_module": "@jupyter-widgets/base",
            "_model_module_version": "1.5.0",
            "_view_count": null,
            "_view_module_version": "1.2.0",
            "_model_module": "@jupyter-widgets/controls"
          }
        },
        "94624fcc7d9c41558ae98668886453ad": {
          "model_module": "@jupyter-widgets/base",
          "model_name": "LayoutModel",
          "state": {
            "_view_name": "LayoutView",
            "grid_template_rows": null,
            "right": null,
            "justify_content": null,
            "_view_module": "@jupyter-widgets/base",
            "overflow": null,
            "_model_module_version": "1.2.0",
            "_view_count": null,
            "flex_flow": null,
            "width": null,
            "min_width": null,
            "border": null,
            "align_items": null,
            "bottom": null,
            "_model_module": "@jupyter-widgets/base",
            "top": null,
            "grid_column": null,
            "overflow_y": null,
            "overflow_x": null,
            "grid_auto_flow": null,
            "grid_area": null,
            "grid_template_columns": null,
            "flex": null,
            "_model_name": "LayoutModel",
            "justify_items": null,
            "grid_row": null,
            "max_height": null,
            "align_content": null,
            "visibility": null,
            "align_self": null,
            "height": null,
            "min_height": null,
            "padding": null,
            "grid_auto_rows": null,
            "grid_gap": null,
            "max_width": null,
            "order": null,
            "_view_module_version": "1.2.0",
            "grid_template_areas": null,
            "object_position": null,
            "object_fit": null,
            "grid_auto_columns": null,
            "margin": null,
            "display": null,
            "left": null
          }
        },
        "870b7b06e0d74da0a8c359e07717cd11": {
          "model_module": "@jupyter-widgets/controls",
          "model_name": "HBoxModel",
          "state": {
            "_view_name": "HBoxView",
            "_dom_classes": [],
            "_model_name": "HBoxModel",
            "_view_module": "@jupyter-widgets/controls",
            "_model_module_version": "1.5.0",
            "_view_count": null,
            "_view_module_version": "1.5.0",
            "box_style": "",
            "layout": "IPY_MODEL_d58c22cb38684d3a86959d09c0e1e783",
            "_model_module": "@jupyter-widgets/controls",
            "children": [
              "IPY_MODEL_f1eb86f019fb437abe8b6847ddb34122",
              "IPY_MODEL_6e99afaa843244e49e95a8a27647a8cd"
            ]
          }
        },
        "d58c22cb38684d3a86959d09c0e1e783": {
          "model_module": "@jupyter-widgets/base",
          "model_name": "LayoutModel",
          "state": {
            "_view_name": "LayoutView",
            "grid_template_rows": null,
            "right": null,
            "justify_content": null,
            "_view_module": "@jupyter-widgets/base",
            "overflow": null,
            "_model_module_version": "1.2.0",
            "_view_count": null,
            "flex_flow": null,
            "width": null,
            "min_width": null,
            "border": null,
            "align_items": null,
            "bottom": null,
            "_model_module": "@jupyter-widgets/base",
            "top": null,
            "grid_column": null,
            "overflow_y": null,
            "overflow_x": null,
            "grid_auto_flow": null,
            "grid_area": null,
            "grid_template_columns": null,
            "flex": null,
            "_model_name": "LayoutModel",
            "justify_items": null,
            "grid_row": null,
            "max_height": null,
            "align_content": null,
            "visibility": null,
            "align_self": null,
            "height": null,
            "min_height": null,
            "padding": null,
            "grid_auto_rows": null,
            "grid_gap": null,
            "max_width": null,
            "order": null,
            "_view_module_version": "1.2.0",
            "grid_template_areas": null,
            "object_position": null,
            "object_fit": null,
            "grid_auto_columns": null,
            "margin": null,
            "display": null,
            "left": null
          }
        },
        "f1eb86f019fb437abe8b6847ddb34122": {
          "model_module": "@jupyter-widgets/controls",
          "model_name": "FloatProgressModel",
          "state": {
            "_view_name": "ProgressView",
            "style": "IPY_MODEL_a1ea6c31cbfd4373ae5902f0f305de76",
            "_dom_classes": [],
            "description": "Downloading: 100%",
            "_model_name": "FloatProgressModel",
            "bar_style": "success",
            "max": 231508,
            "_view_module": "@jupyter-widgets/controls",
            "_model_module_version": "1.5.0",
            "value": 231508,
            "_view_count": null,
            "_view_module_version": "1.5.0",
            "orientation": "horizontal",
            "min": 0,
            "description_tooltip": null,
            "_model_module": "@jupyter-widgets/controls",
            "layout": "IPY_MODEL_c77072a88232470cb69b87e1aca8597d"
          }
        },
        "6e99afaa843244e49e95a8a27647a8cd": {
          "model_module": "@jupyter-widgets/controls",
          "model_name": "HTMLModel",
          "state": {
            "_view_name": "HTMLView",
            "style": "IPY_MODEL_3f4447dbfddc43e386c9d790192d1d2e",
            "_dom_classes": [],
            "description": "",
            "_model_name": "HTMLModel",
            "placeholder": "​",
            "_view_module": "@jupyter-widgets/controls",
            "_model_module_version": "1.5.0",
            "value": " 232k/232k [00:00&lt;00:00, 727kB/s]",
            "_view_count": null,
            "_view_module_version": "1.5.0",
            "description_tooltip": null,
            "_model_module": "@jupyter-widgets/controls",
            "layout": "IPY_MODEL_219f57431b0f47119f1cdebbed8737da"
          }
        },
        "a1ea6c31cbfd4373ae5902f0f305de76": {
          "model_module": "@jupyter-widgets/controls",
          "model_name": "ProgressStyleModel",
          "state": {
            "_view_name": "StyleView",
            "_model_name": "ProgressStyleModel",
            "description_width": "initial",
            "_view_module": "@jupyter-widgets/base",
            "_model_module_version": "1.5.0",
            "_view_count": null,
            "_view_module_version": "1.2.0",
            "bar_color": null,
            "_model_module": "@jupyter-widgets/controls"
          }
        },
        "c77072a88232470cb69b87e1aca8597d": {
          "model_module": "@jupyter-widgets/base",
          "model_name": "LayoutModel",
          "state": {
            "_view_name": "LayoutView",
            "grid_template_rows": null,
            "right": null,
            "justify_content": null,
            "_view_module": "@jupyter-widgets/base",
            "overflow": null,
            "_model_module_version": "1.2.0",
            "_view_count": null,
            "flex_flow": null,
            "width": null,
            "min_width": null,
            "border": null,
            "align_items": null,
            "bottom": null,
            "_model_module": "@jupyter-widgets/base",
            "top": null,
            "grid_column": null,
            "overflow_y": null,
            "overflow_x": null,
            "grid_auto_flow": null,
            "grid_area": null,
            "grid_template_columns": null,
            "flex": null,
            "_model_name": "LayoutModel",
            "justify_items": null,
            "grid_row": null,
            "max_height": null,
            "align_content": null,
            "visibility": null,
            "align_self": null,
            "height": null,
            "min_height": null,
            "padding": null,
            "grid_auto_rows": null,
            "grid_gap": null,
            "max_width": null,
            "order": null,
            "_view_module_version": "1.2.0",
            "grid_template_areas": null,
            "object_position": null,
            "object_fit": null,
            "grid_auto_columns": null,
            "margin": null,
            "display": null,
            "left": null
          }
        },
        "3f4447dbfddc43e386c9d790192d1d2e": {
          "model_module": "@jupyter-widgets/controls",
          "model_name": "DescriptionStyleModel",
          "state": {
            "_view_name": "StyleView",
            "_model_name": "DescriptionStyleModel",
            "description_width": "",
            "_view_module": "@jupyter-widgets/base",
            "_model_module_version": "1.5.0",
            "_view_count": null,
            "_view_module_version": "1.2.0",
            "_model_module": "@jupyter-widgets/controls"
          }
        },
        "219f57431b0f47119f1cdebbed8737da": {
          "model_module": "@jupyter-widgets/base",
          "model_name": "LayoutModel",
          "state": {
            "_view_name": "LayoutView",
            "grid_template_rows": null,
            "right": null,
            "justify_content": null,
            "_view_module": "@jupyter-widgets/base",
            "overflow": null,
            "_model_module_version": "1.2.0",
            "_view_count": null,
            "flex_flow": null,
            "width": null,
            "min_width": null,
            "border": null,
            "align_items": null,
            "bottom": null,
            "_model_module": "@jupyter-widgets/base",
            "top": null,
            "grid_column": null,
            "overflow_y": null,
            "overflow_x": null,
            "grid_auto_flow": null,
            "grid_area": null,
            "grid_template_columns": null,
            "flex": null,
            "_model_name": "LayoutModel",
            "justify_items": null,
            "grid_row": null,
            "max_height": null,
            "align_content": null,
            "visibility": null,
            "align_self": null,
            "height": null,
            "min_height": null,
            "padding": null,
            "grid_auto_rows": null,
            "grid_gap": null,
            "max_width": null,
            "order": null,
            "_view_module_version": "1.2.0",
            "grid_template_areas": null,
            "object_position": null,
            "object_fit": null,
            "grid_auto_columns": null,
            "margin": null,
            "display": null,
            "left": null
          }
        },
        "efac56e54a8b4083875dc4d408b00e34": {
          "model_module": "@jupyter-widgets/controls",
          "model_name": "HBoxModel",
          "state": {
            "_view_name": "HBoxView",
            "_dom_classes": [],
            "_model_name": "HBoxModel",
            "_view_module": "@jupyter-widgets/controls",
            "_model_module_version": "1.5.0",
            "_view_count": null,
            "_view_module_version": "1.5.0",
            "box_style": "",
            "layout": "IPY_MODEL_ee48219107f4459fbbe8be29884652a4",
            "_model_module": "@jupyter-widgets/controls",
            "children": [
              "IPY_MODEL_6b49f9c2493b4d29bc977178759ba4d4",
              "IPY_MODEL_ab189991ef05438993201ac67f78552f"
            ]
          }
        },
        "ee48219107f4459fbbe8be29884652a4": {
          "model_module": "@jupyter-widgets/base",
          "model_name": "LayoutModel",
          "state": {
            "_view_name": "LayoutView",
            "grid_template_rows": null,
            "right": null,
            "justify_content": null,
            "_view_module": "@jupyter-widgets/base",
            "overflow": null,
            "_model_module_version": "1.2.0",
            "_view_count": null,
            "flex_flow": null,
            "width": null,
            "min_width": null,
            "border": null,
            "align_items": null,
            "bottom": null,
            "_model_module": "@jupyter-widgets/base",
            "top": null,
            "grid_column": null,
            "overflow_y": null,
            "overflow_x": null,
            "grid_auto_flow": null,
            "grid_area": null,
            "grid_template_columns": null,
            "flex": null,
            "_model_name": "LayoutModel",
            "justify_items": null,
            "grid_row": null,
            "max_height": null,
            "align_content": null,
            "visibility": null,
            "align_self": null,
            "height": null,
            "min_height": null,
            "padding": null,
            "grid_auto_rows": null,
            "grid_gap": null,
            "max_width": null,
            "order": null,
            "_view_module_version": "1.2.0",
            "grid_template_areas": null,
            "object_position": null,
            "object_fit": null,
            "grid_auto_columns": null,
            "margin": null,
            "display": null,
            "left": null
          }
        },
        "6b49f9c2493b4d29bc977178759ba4d4": {
          "model_module": "@jupyter-widgets/controls",
          "model_name": "FloatProgressModel",
          "state": {
            "_view_name": "ProgressView",
            "style": "IPY_MODEL_64f4ebebc9c2410e94ccd0dc94ec46a6",
            "_dom_classes": [],
            "description": "Downloading: 100%",
            "_model_name": "FloatProgressModel",
            "bar_style": "success",
            "max": 28,
            "_view_module": "@jupyter-widgets/controls",
            "_model_module_version": "1.5.0",
            "value": 28,
            "_view_count": null,
            "_view_module_version": "1.5.0",
            "orientation": "horizontal",
            "min": 0,
            "description_tooltip": null,
            "_model_module": "@jupyter-widgets/controls",
            "layout": "IPY_MODEL_930db762584649969bbcf593bf30ddf3"
          }
        },
        "ab189991ef05438993201ac67f78552f": {
          "model_module": "@jupyter-widgets/controls",
          "model_name": "HTMLModel",
          "state": {
            "_view_name": "HTMLView",
            "style": "IPY_MODEL_016b0d466e3b429da1835905347cf79f",
            "_dom_classes": [],
            "description": "",
            "_model_name": "HTMLModel",
            "placeholder": "​",
            "_view_module": "@jupyter-widgets/controls",
            "_model_module_version": "1.5.0",
            "value": " 28.0/28.0 [00:00&lt;00:00, 153B/s]",
            "_view_count": null,
            "_view_module_version": "1.5.0",
            "description_tooltip": null,
            "_model_module": "@jupyter-widgets/controls",
            "layout": "IPY_MODEL_41fee11c93e34761ace96011f07b7d80"
          }
        },
        "64f4ebebc9c2410e94ccd0dc94ec46a6": {
          "model_module": "@jupyter-widgets/controls",
          "model_name": "ProgressStyleModel",
          "state": {
            "_view_name": "StyleView",
            "_model_name": "ProgressStyleModel",
            "description_width": "initial",
            "_view_module": "@jupyter-widgets/base",
            "_model_module_version": "1.5.0",
            "_view_count": null,
            "_view_module_version": "1.2.0",
            "bar_color": null,
            "_model_module": "@jupyter-widgets/controls"
          }
        },
        "930db762584649969bbcf593bf30ddf3": {
          "model_module": "@jupyter-widgets/base",
          "model_name": "LayoutModel",
          "state": {
            "_view_name": "LayoutView",
            "grid_template_rows": null,
            "right": null,
            "justify_content": null,
            "_view_module": "@jupyter-widgets/base",
            "overflow": null,
            "_model_module_version": "1.2.0",
            "_view_count": null,
            "flex_flow": null,
            "width": null,
            "min_width": null,
            "border": null,
            "align_items": null,
            "bottom": null,
            "_model_module": "@jupyter-widgets/base",
            "top": null,
            "grid_column": null,
            "overflow_y": null,
            "overflow_x": null,
            "grid_auto_flow": null,
            "grid_area": null,
            "grid_template_columns": null,
            "flex": null,
            "_model_name": "LayoutModel",
            "justify_items": null,
            "grid_row": null,
            "max_height": null,
            "align_content": null,
            "visibility": null,
            "align_self": null,
            "height": null,
            "min_height": null,
            "padding": null,
            "grid_auto_rows": null,
            "grid_gap": null,
            "max_width": null,
            "order": null,
            "_view_module_version": "1.2.0",
            "grid_template_areas": null,
            "object_position": null,
            "object_fit": null,
            "grid_auto_columns": null,
            "margin": null,
            "display": null,
            "left": null
          }
        },
        "016b0d466e3b429da1835905347cf79f": {
          "model_module": "@jupyter-widgets/controls",
          "model_name": "DescriptionStyleModel",
          "state": {
            "_view_name": "StyleView",
            "_model_name": "DescriptionStyleModel",
            "description_width": "",
            "_view_module": "@jupyter-widgets/base",
            "_model_module_version": "1.5.0",
            "_view_count": null,
            "_view_module_version": "1.2.0",
            "_model_module": "@jupyter-widgets/controls"
          }
        },
        "41fee11c93e34761ace96011f07b7d80": {
          "model_module": "@jupyter-widgets/base",
          "model_name": "LayoutModel",
          "state": {
            "_view_name": "LayoutView",
            "grid_template_rows": null,
            "right": null,
            "justify_content": null,
            "_view_module": "@jupyter-widgets/base",
            "overflow": null,
            "_model_module_version": "1.2.0",
            "_view_count": null,
            "flex_flow": null,
            "width": null,
            "min_width": null,
            "border": null,
            "align_items": null,
            "bottom": null,
            "_model_module": "@jupyter-widgets/base",
            "top": null,
            "grid_column": null,
            "overflow_y": null,
            "overflow_x": null,
            "grid_auto_flow": null,
            "grid_area": null,
            "grid_template_columns": null,
            "flex": null,
            "_model_name": "LayoutModel",
            "justify_items": null,
            "grid_row": null,
            "max_height": null,
            "align_content": null,
            "visibility": null,
            "align_self": null,
            "height": null,
            "min_height": null,
            "padding": null,
            "grid_auto_rows": null,
            "grid_gap": null,
            "max_width": null,
            "order": null,
            "_view_module_version": "1.2.0",
            "grid_template_areas": null,
            "object_position": null,
            "object_fit": null,
            "grid_auto_columns": null,
            "margin": null,
            "display": null,
            "left": null
          }
        },
        "cc68746395b74994bd75eac2e3b6e66f": {
          "model_module": "@jupyter-widgets/controls",
          "model_name": "HBoxModel",
          "state": {
            "_view_name": "HBoxView",
            "_dom_classes": [],
            "_model_name": "HBoxModel",
            "_view_module": "@jupyter-widgets/controls",
            "_model_module_version": "1.5.0",
            "_view_count": null,
            "_view_module_version": "1.5.0",
            "box_style": "",
            "layout": "IPY_MODEL_688f9bd3138e46a09ccda8b3faddb74f",
            "_model_module": "@jupyter-widgets/controls",
            "children": [
              "IPY_MODEL_32630d79e84545a0adb69639f94a0004",
              "IPY_MODEL_e7f368e7223f4a589a1a6a2a49b77c4b"
            ]
          }
        },
        "688f9bd3138e46a09ccda8b3faddb74f": {
          "model_module": "@jupyter-widgets/base",
          "model_name": "LayoutModel",
          "state": {
            "_view_name": "LayoutView",
            "grid_template_rows": null,
            "right": null,
            "justify_content": null,
            "_view_module": "@jupyter-widgets/base",
            "overflow": null,
            "_model_module_version": "1.2.0",
            "_view_count": null,
            "flex_flow": null,
            "width": null,
            "min_width": null,
            "border": null,
            "align_items": null,
            "bottom": null,
            "_model_module": "@jupyter-widgets/base",
            "top": null,
            "grid_column": null,
            "overflow_y": null,
            "overflow_x": null,
            "grid_auto_flow": null,
            "grid_area": null,
            "grid_template_columns": null,
            "flex": null,
            "_model_name": "LayoutModel",
            "justify_items": null,
            "grid_row": null,
            "max_height": null,
            "align_content": null,
            "visibility": null,
            "align_self": null,
            "height": null,
            "min_height": null,
            "padding": null,
            "grid_auto_rows": null,
            "grid_gap": null,
            "max_width": null,
            "order": null,
            "_view_module_version": "1.2.0",
            "grid_template_areas": null,
            "object_position": null,
            "object_fit": null,
            "grid_auto_columns": null,
            "margin": null,
            "display": null,
            "left": null
          }
        },
        "32630d79e84545a0adb69639f94a0004": {
          "model_module": "@jupyter-widgets/controls",
          "model_name": "FloatProgressModel",
          "state": {
            "_view_name": "ProgressView",
            "style": "IPY_MODEL_45fac8b724cd4960955609828f1e3572",
            "_dom_classes": [],
            "description": "Downloading: 100%",
            "_model_name": "FloatProgressModel",
            "bar_style": "success",
            "max": 466062,
            "_view_module": "@jupyter-widgets/controls",
            "_model_module_version": "1.5.0",
            "value": 466062,
            "_view_count": null,
            "_view_module_version": "1.5.0",
            "orientation": "horizontal",
            "min": 0,
            "description_tooltip": null,
            "_model_module": "@jupyter-widgets/controls",
            "layout": "IPY_MODEL_e5d9bb0b0b6248f1b1eb6cf42b48f4ce"
          }
        },
        "e7f368e7223f4a589a1a6a2a49b77c4b": {
          "model_module": "@jupyter-widgets/controls",
          "model_name": "HTMLModel",
          "state": {
            "_view_name": "HTMLView",
            "style": "IPY_MODEL_519fee9d6a3b48cc90258fca33d3f9fd",
            "_dom_classes": [],
            "description": "",
            "_model_name": "HTMLModel",
            "placeholder": "​",
            "_view_module": "@jupyter-widgets/controls",
            "_model_module_version": "1.5.0",
            "value": " 466k/466k [00:00&lt;00:00, 5.23MB/s]",
            "_view_count": null,
            "_view_module_version": "1.5.0",
            "description_tooltip": null,
            "_model_module": "@jupyter-widgets/controls",
            "layout": "IPY_MODEL_4ea45c2779e14be682f8f677e5ea378b"
          }
        },
        "45fac8b724cd4960955609828f1e3572": {
          "model_module": "@jupyter-widgets/controls",
          "model_name": "ProgressStyleModel",
          "state": {
            "_view_name": "StyleView",
            "_model_name": "ProgressStyleModel",
            "description_width": "initial",
            "_view_module": "@jupyter-widgets/base",
            "_model_module_version": "1.5.0",
            "_view_count": null,
            "_view_module_version": "1.2.0",
            "bar_color": null,
            "_model_module": "@jupyter-widgets/controls"
          }
        },
        "e5d9bb0b0b6248f1b1eb6cf42b48f4ce": {
          "model_module": "@jupyter-widgets/base",
          "model_name": "LayoutModel",
          "state": {
            "_view_name": "LayoutView",
            "grid_template_rows": null,
            "right": null,
            "justify_content": null,
            "_view_module": "@jupyter-widgets/base",
            "overflow": null,
            "_model_module_version": "1.2.0",
            "_view_count": null,
            "flex_flow": null,
            "width": null,
            "min_width": null,
            "border": null,
            "align_items": null,
            "bottom": null,
            "_model_module": "@jupyter-widgets/base",
            "top": null,
            "grid_column": null,
            "overflow_y": null,
            "overflow_x": null,
            "grid_auto_flow": null,
            "grid_area": null,
            "grid_template_columns": null,
            "flex": null,
            "_model_name": "LayoutModel",
            "justify_items": null,
            "grid_row": null,
            "max_height": null,
            "align_content": null,
            "visibility": null,
            "align_self": null,
            "height": null,
            "min_height": null,
            "padding": null,
            "grid_auto_rows": null,
            "grid_gap": null,
            "max_width": null,
            "order": null,
            "_view_module_version": "1.2.0",
            "grid_template_areas": null,
            "object_position": null,
            "object_fit": null,
            "grid_auto_columns": null,
            "margin": null,
            "display": null,
            "left": null
          }
        },
        "519fee9d6a3b48cc90258fca33d3f9fd": {
          "model_module": "@jupyter-widgets/controls",
          "model_name": "DescriptionStyleModel",
          "state": {
            "_view_name": "StyleView",
            "_model_name": "DescriptionStyleModel",
            "description_width": "",
            "_view_module": "@jupyter-widgets/base",
            "_model_module_version": "1.5.0",
            "_view_count": null,
            "_view_module_version": "1.2.0",
            "_model_module": "@jupyter-widgets/controls"
          }
        },
        "4ea45c2779e14be682f8f677e5ea378b": {
          "model_module": "@jupyter-widgets/base",
          "model_name": "LayoutModel",
          "state": {
            "_view_name": "LayoutView",
            "grid_template_rows": null,
            "right": null,
            "justify_content": null,
            "_view_module": "@jupyter-widgets/base",
            "overflow": null,
            "_model_module_version": "1.2.0",
            "_view_count": null,
            "flex_flow": null,
            "width": null,
            "min_width": null,
            "border": null,
            "align_items": null,
            "bottom": null,
            "_model_module": "@jupyter-widgets/base",
            "top": null,
            "grid_column": null,
            "overflow_y": null,
            "overflow_x": null,
            "grid_auto_flow": null,
            "grid_area": null,
            "grid_template_columns": null,
            "flex": null,
            "_model_name": "LayoutModel",
            "justify_items": null,
            "grid_row": null,
            "max_height": null,
            "align_content": null,
            "visibility": null,
            "align_self": null,
            "height": null,
            "min_height": null,
            "padding": null,
            "grid_auto_rows": null,
            "grid_gap": null,
            "max_width": null,
            "order": null,
            "_view_module_version": "1.2.0",
            "grid_template_areas": null,
            "object_position": null,
            "object_fit": null,
            "grid_auto_columns": null,
            "margin": null,
            "display": null,
            "left": null
          }
        }
      }
    }
  },
  "cells": [
    {
      "cell_type": "markdown",
      "metadata": {
        "id": "hzLHP_1IiucG"
      },
      "source": [
        "# Sentiment analysis using pre trained BERT from huggingface transformers "
      ]
    },
    {
      "cell_type": "code",
      "metadata": {
        "colab": {
          "base_uri": "https://localhost:8080/"
        },
        "id": "IqxiYZMhS02N",
        "outputId": "37628ce8-9fe7-42c0-e721-d150f07b0043"
      },
      "source": [
        "pip install transformers"
      ],
      "execution_count": null,
      "outputs": [
        {
          "output_type": "stream",
          "text": [
            "Collecting transformers\n",
            "\u001b[?25l  Downloading https://files.pythonhosted.org/packages/2c/d8/5144b0712f7f82229a8da5983a8fbb8d30cec5fbd5f8d12ffe1854dcea67/transformers-4.4.1-py3-none-any.whl (2.1MB)\n",
            "\r\u001b[K     |▏                               | 10kB 20.8MB/s eta 0:00:01\r\u001b[K     |▎                               | 20kB 28.5MB/s eta 0:00:01\r\u001b[K     |▌                               | 30kB 22.1MB/s eta 0:00:01\r\u001b[K     |▋                               | 40kB 25.6MB/s eta 0:00:01\r\u001b[K     |▉                               | 51kB 24.1MB/s eta 0:00:01\r\u001b[K     |█                               | 61kB 26.5MB/s eta 0:00:01\r\u001b[K     |█▏                              | 71kB 17.8MB/s eta 0:00:01\r\u001b[K     |█▎                              | 81kB 18.9MB/s eta 0:00:01\r\u001b[K     |█▍                              | 92kB 17.7MB/s eta 0:00:01\r\u001b[K     |█▋                              | 102kB 17.6MB/s eta 0:00:01\r\u001b[K     |█▊                              | 112kB 17.6MB/s eta 0:00:01\r\u001b[K     |██                              | 122kB 17.6MB/s eta 0:00:01\r\u001b[K     |██                              | 133kB 17.6MB/s eta 0:00:01\r\u001b[K     |██▎                             | 143kB 17.6MB/s eta 0:00:01\r\u001b[K     |██▍                             | 153kB 17.6MB/s eta 0:00:01\r\u001b[K     |██▌                             | 163kB 17.6MB/s eta 0:00:01\r\u001b[K     |██▊                             | 174kB 17.6MB/s eta 0:00:01\r\u001b[K     |██▉                             | 184kB 17.6MB/s eta 0:00:01\r\u001b[K     |███                             | 194kB 17.6MB/s eta 0:00:01\r\u001b[K     |███▏                            | 204kB 17.6MB/s eta 0:00:01\r\u001b[K     |███▍                            | 215kB 17.6MB/s eta 0:00:01\r\u001b[K     |███▌                            | 225kB 17.6MB/s eta 0:00:01\r\u001b[K     |███▋                            | 235kB 17.6MB/s eta 0:00:01\r\u001b[K     |███▉                            | 245kB 17.6MB/s eta 0:00:01\r\u001b[K     |████                            | 256kB 17.6MB/s eta 0:00:01\r\u001b[K     |████▏                           | 266kB 17.6MB/s eta 0:00:01\r\u001b[K     |████▎                           | 276kB 17.6MB/s eta 0:00:01\r\u001b[K     |████▌                           | 286kB 17.6MB/s eta 0:00:01\r\u001b[K     |████▋                           | 296kB 17.6MB/s eta 0:00:01\r\u001b[K     |████▊                           | 307kB 17.6MB/s eta 0:00:01\r\u001b[K     |█████                           | 317kB 17.6MB/s eta 0:00:01\r\u001b[K     |█████                           | 327kB 17.6MB/s eta 0:00:01\r\u001b[K     |█████▎                          | 337kB 17.6MB/s eta 0:00:01\r\u001b[K     |█████▍                          | 348kB 17.6MB/s eta 0:00:01\r\u001b[K     |█████▋                          | 358kB 17.6MB/s eta 0:00:01\r\u001b[K     |█████▊                          | 368kB 17.6MB/s eta 0:00:01\r\u001b[K     |██████                          | 378kB 17.6MB/s eta 0:00:01\r\u001b[K     |██████                          | 389kB 17.6MB/s eta 0:00:01\r\u001b[K     |██████▏                         | 399kB 17.6MB/s eta 0:00:01\r\u001b[K     |██████▍                         | 409kB 17.6MB/s eta 0:00:01\r\u001b[K     |██████▌                         | 419kB 17.6MB/s eta 0:00:01\r\u001b[K     |██████▊                         | 430kB 17.6MB/s eta 0:00:01\r\u001b[K     |██████▉                         | 440kB 17.6MB/s eta 0:00:01\r\u001b[K     |███████                         | 450kB 17.6MB/s eta 0:00:01\r\u001b[K     |███████▏                        | 460kB 17.6MB/s eta 0:00:01\r\u001b[K     |███████▎                        | 471kB 17.6MB/s eta 0:00:01\r\u001b[K     |███████▌                        | 481kB 17.6MB/s eta 0:00:01\r\u001b[K     |███████▋                        | 491kB 17.6MB/s eta 0:00:01\r\u001b[K     |███████▉                        | 501kB 17.6MB/s eta 0:00:01\r\u001b[K     |████████                        | 512kB 17.6MB/s eta 0:00:01\r\u001b[K     |████████▏                       | 522kB 17.6MB/s eta 0:00:01\r\u001b[K     |████████▎                       | 532kB 17.6MB/s eta 0:00:01\r\u001b[K     |████████▍                       | 542kB 17.6MB/s eta 0:00:01\r\u001b[K     |████████▋                       | 552kB 17.6MB/s eta 0:00:01\r\u001b[K     |████████▊                       | 563kB 17.6MB/s eta 0:00:01\r\u001b[K     |█████████                       | 573kB 17.6MB/s eta 0:00:01\r\u001b[K     |█████████                       | 583kB 17.6MB/s eta 0:00:01\r\u001b[K     |█████████▎                      | 593kB 17.6MB/s eta 0:00:01\r\u001b[K     |█████████▍                      | 604kB 17.6MB/s eta 0:00:01\r\u001b[K     |█████████▌                      | 614kB 17.6MB/s eta 0:00:01\r\u001b[K     |█████████▊                      | 624kB 17.6MB/s eta 0:00:01\r\u001b[K     |█████████▉                      | 634kB 17.6MB/s eta 0:00:01\r\u001b[K     |██████████                      | 645kB 17.6MB/s eta 0:00:01\r\u001b[K     |██████████▏                     | 655kB 17.6MB/s eta 0:00:01\r\u001b[K     |██████████▍                     | 665kB 17.6MB/s eta 0:00:01\r\u001b[K     |██████████▌                     | 675kB 17.6MB/s eta 0:00:01\r\u001b[K     |██████████▊                     | 686kB 17.6MB/s eta 0:00:01\r\u001b[K     |██████████▉                     | 696kB 17.6MB/s eta 0:00:01\r\u001b[K     |███████████                     | 706kB 17.6MB/s eta 0:00:01\r\u001b[K     |███████████▏                    | 716kB 17.6MB/s eta 0:00:01\r\u001b[K     |███████████▎                    | 727kB 17.6MB/s eta 0:00:01\r\u001b[K     |███████████▌                    | 737kB 17.6MB/s eta 0:00:01\r\u001b[K     |███████████▋                    | 747kB 17.6MB/s eta 0:00:01\r\u001b[K     |███████████▉                    | 757kB 17.6MB/s eta 0:00:01\r\u001b[K     |████████████                    | 768kB 17.6MB/s eta 0:00:01\r\u001b[K     |████████████                    | 778kB 17.6MB/s eta 0:00:01\r\u001b[K     |████████████▎                   | 788kB 17.6MB/s eta 0:00:01\r\u001b[K     |████████████▍                   | 798kB 17.6MB/s eta 0:00:01\r\u001b[K     |████████████▋                   | 808kB 17.6MB/s eta 0:00:01\r\u001b[K     |████████████▊                   | 819kB 17.6MB/s eta 0:00:01\r\u001b[K     |█████████████                   | 829kB 17.6MB/s eta 0:00:01\r\u001b[K     |█████████████                   | 839kB 17.6MB/s eta 0:00:01\r\u001b[K     |█████████████▏                  | 849kB 17.6MB/s eta 0:00:01\r\u001b[K     |█████████████▍                  | 860kB 17.6MB/s eta 0:00:01\r\u001b[K     |█████████████▌                  | 870kB 17.6MB/s eta 0:00:01\r\u001b[K     |█████████████▊                  | 880kB 17.6MB/s eta 0:00:01\r\u001b[K     |█████████████▉                  | 890kB 17.6MB/s eta 0:00:01\r\u001b[K     |██████████████                  | 901kB 17.6MB/s eta 0:00:01\r\u001b[K     |██████████████▏                 | 911kB 17.6MB/s eta 0:00:01\r\u001b[K     |██████████████▎                 | 921kB 17.6MB/s eta 0:00:01\r\u001b[K     |██████████████▌                 | 931kB 17.6MB/s eta 0:00:01\r\u001b[K     |██████████████▋                 | 942kB 17.6MB/s eta 0:00:01\r\u001b[K     |██████████████▉                 | 952kB 17.6MB/s eta 0:00:01\r\u001b[K     |███████████████                 | 962kB 17.6MB/s eta 0:00:01\r\u001b[K     |███████████████▏                | 972kB 17.6MB/s eta 0:00:01\r\u001b[K     |███████████████▎                | 983kB 17.6MB/s eta 0:00:01\r\u001b[K     |███████████████▍                | 993kB 17.6MB/s eta 0:00:01\r\u001b[K     |███████████████▋                | 1.0MB 17.6MB/s eta 0:00:01\r\u001b[K     |███████████████▊                | 1.0MB 17.6MB/s eta 0:00:01\r\u001b[K     |████████████████                | 1.0MB 17.6MB/s eta 0:00:01\r\u001b[K     |████████████████                | 1.0MB 17.6MB/s eta 0:00:01\r\u001b[K     |████████████████▎               | 1.0MB 17.6MB/s eta 0:00:01\r\u001b[K     |████████████████▍               | 1.1MB 17.6MB/s eta 0:00:01\r\u001b[K     |████████████████▋               | 1.1MB 17.6MB/s eta 0:00:01\r\u001b[K     |████████████████▊               | 1.1MB 17.6MB/s eta 0:00:01\r\u001b[K     |████████████████▉               | 1.1MB 17.6MB/s eta 0:00:01\r\u001b[K     |█████████████████               | 1.1MB 17.6MB/s eta 0:00:01\r\u001b[K     |█████████████████▏              | 1.1MB 17.6MB/s eta 0:00:01\r\u001b[K     |█████████████████▍              | 1.1MB 17.6MB/s eta 0:00:01\r\u001b[K     |█████████████████▌              | 1.1MB 17.6MB/s eta 0:00:01\r\u001b[K     |█████████████████▊              | 1.1MB 17.6MB/s eta 0:00:01\r\u001b[K     |█████████████████▉              | 1.1MB 17.6MB/s eta 0:00:01\r\u001b[K     |██████████████████              | 1.2MB 17.6MB/s eta 0:00:01\r\u001b[K     |██████████████████▏             | 1.2MB 17.6MB/s eta 0:00:01\r\u001b[K     |██████████████████▎             | 1.2MB 17.6MB/s eta 0:00:01\r\u001b[K     |██████████████████▌             | 1.2MB 17.6MB/s eta 0:00:01\r\u001b[K     |██████████████████▋             | 1.2MB 17.6MB/s eta 0:00:01\r\u001b[K     |██████████████████▉             | 1.2MB 17.6MB/s eta 0:00:01\r\u001b[K     |███████████████████             | 1.2MB 17.6MB/s eta 0:00:01\r\u001b[K     |███████████████████             | 1.2MB 17.6MB/s eta 0:00:01\r\u001b[K     |███████████████████▎            | 1.2MB 17.6MB/s eta 0:00:01\r\u001b[K     |███████████████████▍            | 1.2MB 17.6MB/s eta 0:00:01\r\u001b[K     |███████████████████▋            | 1.3MB 17.6MB/s eta 0:00:01\r\u001b[K     |███████████████████▊            | 1.3MB 17.6MB/s eta 0:00:01\r\u001b[K     |████████████████████            | 1.3MB 17.6MB/s eta 0:00:01\r\u001b[K     |████████████████████            | 1.3MB 17.6MB/s eta 0:00:01\r\u001b[K     |████████████████████▏           | 1.3MB 17.6MB/s eta 0:00:01\r\u001b[K     |████████████████████▍           | 1.3MB 17.6MB/s eta 0:00:01\r\u001b[K     |████████████████████▌           | 1.3MB 17.6MB/s eta 0:00:01\r\u001b[K     |████████████████████▊           | 1.3MB 17.6MB/s eta 0:00:01\r\u001b[K     |████████████████████▉           | 1.3MB 17.6MB/s eta 0:00:01\r\u001b[K     |█████████████████████           | 1.4MB 17.6MB/s eta 0:00:01\r\u001b[K     |█████████████████████▏          | 1.4MB 17.6MB/s eta 0:00:01\r\u001b[K     |█████████████████████▍          | 1.4MB 17.6MB/s eta 0:00:01\r\u001b[K     |█████████████████████▌          | 1.4MB 17.6MB/s eta 0:00:01\r\u001b[K     |█████████████████████▋          | 1.4MB 17.6MB/s eta 0:00:01\r\u001b[K     |█████████████████████▉          | 1.4MB 17.6MB/s eta 0:00:01\r\u001b[K     |██████████████████████          | 1.4MB 17.6MB/s eta 0:00:01\r\u001b[K     |██████████████████████▏         | 1.4MB 17.6MB/s eta 0:00:01\r\u001b[K     |██████████████████████▎         | 1.4MB 17.6MB/s eta 0:00:01\r\u001b[K     |██████████████████████▌         | 1.4MB 17.6MB/s eta 0:00:01\r\u001b[K     |██████████████████████▋         | 1.5MB 17.6MB/s eta 0:00:01\r\u001b[K     |██████████████████████▊         | 1.5MB 17.6MB/s eta 0:00:01\r\u001b[K     |███████████████████████         | 1.5MB 17.6MB/s eta 0:00:01\r\u001b[K     |███████████████████████         | 1.5MB 17.6MB/s eta 0:00:01\r\u001b[K     |███████████████████████▎        | 1.5MB 17.6MB/s eta 0:00:01\r\u001b[K     |███████████████████████▍        | 1.5MB 17.6MB/s eta 0:00:01\r\u001b[K     |███████████████████████▋        | 1.5MB 17.6MB/s eta 0:00:01\r\u001b[K     |███████████████████████▊        | 1.5MB 17.6MB/s eta 0:00:01\r\u001b[K     |███████████████████████▉        | 1.5MB 17.6MB/s eta 0:00:01\r\u001b[K     |████████████████████████        | 1.5MB 17.6MB/s eta 0:00:01\r\u001b[K     |████████████████████████▏       | 1.6MB 17.6MB/s eta 0:00:01\r\u001b[K     |████████████████████████▍       | 1.6MB 17.6MB/s eta 0:00:01\r\u001b[K     |████████████████████████▌       | 1.6MB 17.6MB/s eta 0:00:01\r\u001b[K     |████████████████████████▊       | 1.6MB 17.6MB/s eta 0:00:01\r\u001b[K     |████████████████████████▉       | 1.6MB 17.6MB/s eta 0:00:01\r\u001b[K     |█████████████████████████       | 1.6MB 17.6MB/s eta 0:00:01\r\u001b[K     |█████████████████████████▏      | 1.6MB 17.6MB/s eta 0:00:01\r\u001b[K     |█████████████████████████▎      | 1.6MB 17.6MB/s eta 0:00:01\r\u001b[K     |█████████████████████████▌      | 1.6MB 17.6MB/s eta 0:00:01\r\u001b[K     |█████████████████████████▋      | 1.6MB 17.6MB/s eta 0:00:01\r\u001b[K     |█████████████████████████▉      | 1.7MB 17.6MB/s eta 0:00:01\r\u001b[K     |██████████████████████████      | 1.7MB 17.6MB/s eta 0:00:01\r\u001b[K     |██████████████████████████      | 1.7MB 17.6MB/s eta 0:00:01\r\u001b[K     |██████████████████████████▎     | 1.7MB 17.6MB/s eta 0:00:01\r\u001b[K     |██████████████████████████▍     | 1.7MB 17.6MB/s eta 0:00:01\r\u001b[K     |██████████████████████████▋     | 1.7MB 17.6MB/s eta 0:00:01\r\u001b[K     |██████████████████████████▊     | 1.7MB 17.6MB/s eta 0:00:01\r\u001b[K     |███████████████████████████     | 1.7MB 17.6MB/s eta 0:00:01\r\u001b[K     |███████████████████████████     | 1.7MB 17.6MB/s eta 0:00:01\r\u001b[K     |███████████████████████████▎    | 1.8MB 17.6MB/s eta 0:00:01\r\u001b[K     |███████████████████████████▍    | 1.8MB 17.6MB/s eta 0:00:01\r\u001b[K     |███████████████████████████▌    | 1.8MB 17.6MB/s eta 0:00:01\r\u001b[K     |███████████████████████████▊    | 1.8MB 17.6MB/s eta 0:00:01\r\u001b[K     |███████████████████████████▉    | 1.8MB 17.6MB/s eta 0:00:01\r\u001b[K     |████████████████████████████    | 1.8MB 17.6MB/s eta 0:00:01\r\u001b[K     |████████████████████████████▏   | 1.8MB 17.6MB/s eta 0:00:01\r\u001b[K     |████████████████████████████▍   | 1.8MB 17.6MB/s eta 0:00:01\r\u001b[K     |████████████████████████████▌   | 1.8MB 17.6MB/s eta 0:00:01\r\u001b[K     |████████████████████████████▋   | 1.8MB 17.6MB/s eta 0:00:01\r\u001b[K     |████████████████████████████▉   | 1.9MB 17.6MB/s eta 0:00:01\r\u001b[K     |█████████████████████████████   | 1.9MB 17.6MB/s eta 0:00:01\r\u001b[K     |█████████████████████████████▏  | 1.9MB 17.6MB/s eta 0:00:01\r\u001b[K     |█████████████████████████████▎  | 1.9MB 17.6MB/s eta 0:00:01\r\u001b[K     |█████████████████████████████▌  | 1.9MB 17.6MB/s eta 0:00:01\r\u001b[K     |█████████████████████████████▋  | 1.9MB 17.6MB/s eta 0:00:01\r\u001b[K     |█████████████████████████████▊  | 1.9MB 17.6MB/s eta 0:00:01\r\u001b[K     |██████████████████████████████  | 1.9MB 17.6MB/s eta 0:00:01\r\u001b[K     |██████████████████████████████  | 1.9MB 17.6MB/s eta 0:00:01\r\u001b[K     |██████████████████████████████▎ | 1.9MB 17.6MB/s eta 0:00:01\r\u001b[K     |██████████████████████████████▍ | 2.0MB 17.6MB/s eta 0:00:01\r\u001b[K     |██████████████████████████████▋ | 2.0MB 17.6MB/s eta 0:00:01\r\u001b[K     |██████████████████████████████▊ | 2.0MB 17.6MB/s eta 0:00:01\r\u001b[K     |██████████████████████████████▉ | 2.0MB 17.6MB/s eta 0:00:01\r\u001b[K     |███████████████████████████████ | 2.0MB 17.6MB/s eta 0:00:01\r\u001b[K     |███████████████████████████████▏| 2.0MB 17.6MB/s eta 0:00:01\r\u001b[K     |███████████████████████████████▍| 2.0MB 17.6MB/s eta 0:00:01\r\u001b[K     |███████████████████████████████▌| 2.0MB 17.6MB/s eta 0:00:01\r\u001b[K     |███████████████████████████████▊| 2.0MB 17.6MB/s eta 0:00:01\r\u001b[K     |███████████████████████████████▉| 2.0MB 17.6MB/s eta 0:00:01\r\u001b[K     |████████████████████████████████| 2.1MB 17.6MB/s \n",
            "\u001b[?25hRequirement already satisfied: requests in /usr/local/lib/python3.7/dist-packages (from transformers) (2.23.0)\n",
            "Requirement already satisfied: numpy>=1.17 in /usr/local/lib/python3.7/dist-packages (from transformers) (1.19.5)\n",
            "Requirement already satisfied: importlib-metadata; python_version < \"3.8\" in /usr/local/lib/python3.7/dist-packages (from transformers) (3.7.2)\n",
            "Collecting tokenizers<0.11,>=0.10.1\n",
            "\u001b[?25l  Downloading https://files.pythonhosted.org/packages/71/23/2ddc317b2121117bf34dd00f5b0de194158f2a44ee2bf5e47c7166878a97/tokenizers-0.10.1-cp37-cp37m-manylinux2010_x86_64.whl (3.2MB)\n",
            "\u001b[K     |████████████████████████████████| 3.2MB 47.0MB/s \n",
            "\u001b[?25hRequirement already satisfied: packaging in /usr/local/lib/python3.7/dist-packages (from transformers) (20.9)\n",
            "Requirement already satisfied: filelock in /usr/local/lib/python3.7/dist-packages (from transformers) (3.0.12)\n",
            "Requirement already satisfied: regex!=2019.12.17 in /usr/local/lib/python3.7/dist-packages (from transformers) (2019.12.20)\n",
            "Requirement already satisfied: tqdm>=4.27 in /usr/local/lib/python3.7/dist-packages (from transformers) (4.41.1)\n",
            "Collecting sacremoses\n",
            "\u001b[?25l  Downloading https://files.pythonhosted.org/packages/7d/34/09d19aff26edcc8eb2a01bed8e98f13a1537005d31e95233fd48216eed10/sacremoses-0.0.43.tar.gz (883kB)\n",
            "\u001b[K     |████████████████████████████████| 890kB 49.2MB/s \n",
            "\u001b[?25hRequirement already satisfied: certifi>=2017.4.17 in /usr/local/lib/python3.7/dist-packages (from requests->transformers) (2020.12.5)\n",
            "Requirement already satisfied: chardet<4,>=3.0.2 in /usr/local/lib/python3.7/dist-packages (from requests->transformers) (3.0.4)\n",
            "Requirement already satisfied: idna<3,>=2.5 in /usr/local/lib/python3.7/dist-packages (from requests->transformers) (2.10)\n",
            "Requirement already satisfied: urllib3!=1.25.0,!=1.25.1,<1.26,>=1.21.1 in /usr/local/lib/python3.7/dist-packages (from requests->transformers) (1.24.3)\n",
            "Requirement already satisfied: zipp>=0.5 in /usr/local/lib/python3.7/dist-packages (from importlib-metadata; python_version < \"3.8\"->transformers) (3.4.1)\n",
            "Requirement already satisfied: typing-extensions>=3.6.4; python_version < \"3.8\" in /usr/local/lib/python3.7/dist-packages (from importlib-metadata; python_version < \"3.8\"->transformers) (3.7.4.3)\n",
            "Requirement already satisfied: pyparsing>=2.0.2 in /usr/local/lib/python3.7/dist-packages (from packaging->transformers) (2.4.7)\n",
            "Requirement already satisfied: six in /usr/local/lib/python3.7/dist-packages (from sacremoses->transformers) (1.15.0)\n",
            "Requirement already satisfied: click in /usr/local/lib/python3.7/dist-packages (from sacremoses->transformers) (7.1.2)\n",
            "Requirement already satisfied: joblib in /usr/local/lib/python3.7/dist-packages (from sacremoses->transformers) (1.0.1)\n",
            "Building wheels for collected packages: sacremoses\n",
            "  Building wheel for sacremoses (setup.py) ... \u001b[?25l\u001b[?25hdone\n",
            "  Created wheel for sacremoses: filename=sacremoses-0.0.43-cp37-none-any.whl size=893262 sha256=f6a1e112e4c9761bd45ffdcc9ff0c66394c0e39a3f33316d7b6ae1cc57484acb\n",
            "  Stored in directory: /root/.cache/pip/wheels/29/3c/fd/7ce5c3f0666dab31a50123635e6fb5e19ceb42ce38d4e58f45\n",
            "Successfully built sacremoses\n",
            "Installing collected packages: tokenizers, sacremoses, transformers\n",
            "Successfully installed sacremoses-0.0.43 tokenizers-0.10.1 transformers-4.4.1\n"
          ],
          "name": "stdout"
        }
      ]
    },
    {
      "cell_type": "code",
      "metadata": {
        "id": "e5-HF651i9gC"
      },
      "source": [
        ""
      ],
      "execution_count": null,
      "outputs": []
    },
    {
      "cell_type": "markdown",
      "metadata": {
        "id": "8tENvlOvi-Hj"
      },
      "source": [
        "Initializing BERT"
      ]
    },
    {
      "cell_type": "code",
      "metadata": {
        "colab": {
          "base_uri": "https://localhost:8080/",
          "height": 330,
          "referenced_widgets": [
            "d446ed295e994872b8b5bee049e07c45",
            "93caae5b8f3f4b7b92a282a121704940",
            "98794899e24640d68dadcf6e10867651",
            "5b2d9e267a2b45b1b12d025c9e84fbdf",
            "d5c1430b3d9248be98ad36d86a580d4b",
            "222c4a96ef5c4d5a8f81b9f2ab9eb0ab",
            "ed5dfb4e9e0a4b7899c66f7cdb761c78",
            "2e931d0f2fd94c988628b831ced7762b",
            "f3b12a642b714bac89851ef36f726701",
            "4ef8c23f45bc4a92b6a4c116ae83b205",
            "eec11f7e96734f33b717d597bc6734d2",
            "50f5ce971c7b4f0d809f5502b634909e",
            "a305e778cc624925a2d587bd59f25082",
            "8e9ffe9900b140448fccbc777bc42094",
            "a9374bc4456b4923a5651cb6c54a4ddd",
            "94624fcc7d9c41558ae98668886453ad",
            "870b7b06e0d74da0a8c359e07717cd11",
            "d58c22cb38684d3a86959d09c0e1e783",
            "f1eb86f019fb437abe8b6847ddb34122",
            "6e99afaa843244e49e95a8a27647a8cd",
            "a1ea6c31cbfd4373ae5902f0f305de76",
            "c77072a88232470cb69b87e1aca8597d",
            "3f4447dbfddc43e386c9d790192d1d2e",
            "219f57431b0f47119f1cdebbed8737da",
            "efac56e54a8b4083875dc4d408b00e34",
            "ee48219107f4459fbbe8be29884652a4",
            "6b49f9c2493b4d29bc977178759ba4d4",
            "ab189991ef05438993201ac67f78552f",
            "64f4ebebc9c2410e94ccd0dc94ec46a6",
            "930db762584649969bbcf593bf30ddf3",
            "016b0d466e3b429da1835905347cf79f",
            "41fee11c93e34761ace96011f07b7d80",
            "cc68746395b74994bd75eac2e3b6e66f",
            "688f9bd3138e46a09ccda8b3faddb74f",
            "32630d79e84545a0adb69639f94a0004",
            "e7f368e7223f4a589a1a6a2a49b77c4b",
            "45fac8b724cd4960955609828f1e3572",
            "e5d9bb0b0b6248f1b1eb6cf42b48f4ce",
            "519fee9d6a3b48cc90258fca33d3f9fd",
            "4ea45c2779e14be682f8f677e5ea378b"
          ]
        },
        "id": "tJLhOv1FHoaR",
        "outputId": "e7d7d6a9-f127-4261-9324-1911917e2b28"
      },
      "source": [
        "from transformers import BertTokenizer, TFBertForSequenceClassification\n",
        "from transformers import InputExample, InputFeatures\n",
        "\n",
        "model = TFBertForSequenceClassification.from_pretrained(\"bert-base-uncased\")\n",
        "tokenizer = BertTokenizer.from_pretrained(\"bert-base-uncased\")"
      ],
      "execution_count": null,
      "outputs": [
        {
          "output_type": "display_data",
          "data": {
            "application/vnd.jupyter.widget-view+json": {
              "model_id": "d446ed295e994872b8b5bee049e07c45",
              "version_minor": 0,
              "version_major": 2
            },
            "text/plain": [
              "HBox(children=(FloatProgress(value=0.0, description='Downloading', max=433.0, style=ProgressStyle(description_…"
            ]
          },
          "metadata": {
            "tags": []
          }
        },
        {
          "output_type": "stream",
          "text": [
            "\n"
          ],
          "name": "stdout"
        },
        {
          "output_type": "display_data",
          "data": {
            "application/vnd.jupyter.widget-view+json": {
              "model_id": "f3b12a642b714bac89851ef36f726701",
              "version_minor": 0,
              "version_major": 2
            },
            "text/plain": [
              "HBox(children=(FloatProgress(value=0.0, description='Downloading', max=536063208.0, style=ProgressStyle(descri…"
            ]
          },
          "metadata": {
            "tags": []
          }
        },
        {
          "output_type": "stream",
          "text": [
            "\n"
          ],
          "name": "stdout"
        },
        {
          "output_type": "stream",
          "text": [
            "All model checkpoint layers were used when initializing TFBertForSequenceClassification.\n",
            "\n",
            "Some layers of TFBertForSequenceClassification were not initialized from the model checkpoint at bert-base-uncased and are newly initialized: ['classifier']\n",
            "You should probably TRAIN this model on a down-stream task to be able to use it for predictions and inference.\n"
          ],
          "name": "stderr"
        },
        {
          "output_type": "display_data",
          "data": {
            "application/vnd.jupyter.widget-view+json": {
              "model_id": "870b7b06e0d74da0a8c359e07717cd11",
              "version_minor": 0,
              "version_major": 2
            },
            "text/plain": [
              "HBox(children=(FloatProgress(value=0.0, description='Downloading', max=231508.0, style=ProgressStyle(descripti…"
            ]
          },
          "metadata": {
            "tags": []
          }
        },
        {
          "output_type": "stream",
          "text": [
            "\n"
          ],
          "name": "stdout"
        },
        {
          "output_type": "display_data",
          "data": {
            "application/vnd.jupyter.widget-view+json": {
              "model_id": "efac56e54a8b4083875dc4d408b00e34",
              "version_minor": 0,
              "version_major": 2
            },
            "text/plain": [
              "HBox(children=(FloatProgress(value=0.0, description='Downloading', max=28.0, style=ProgressStyle(description_w…"
            ]
          },
          "metadata": {
            "tags": []
          }
        },
        {
          "output_type": "stream",
          "text": [
            "\n"
          ],
          "name": "stdout"
        },
        {
          "output_type": "display_data",
          "data": {
            "application/vnd.jupyter.widget-view+json": {
              "model_id": "cc68746395b74994bd75eac2e3b6e66f",
              "version_minor": 0,
              "version_major": 2
            },
            "text/plain": [
              "HBox(children=(FloatProgress(value=0.0, description='Downloading', max=466062.0, style=ProgressStyle(descripti…"
            ]
          },
          "metadata": {
            "tags": []
          }
        },
        {
          "output_type": "stream",
          "text": [
            "\n"
          ],
          "name": "stdout"
        }
      ]
    },
    {
      "cell_type": "code",
      "metadata": {
        "id": "1mTSn73JH1eE"
      },
      "source": [
        "import tensorflow as tf\n",
        "import pandas as pd"
      ],
      "execution_count": null,
      "outputs": []
    },
    {
      "cell_type": "code",
      "metadata": {
        "colab": {
          "base_uri": "https://localhost:8080/"
        },
        "id": "amUegmwSHqVo",
        "outputId": "bbfe4e71-4e7d-4624-c00d-66969d3973ef"
      },
      "source": [
        "model.summary()"
      ],
      "execution_count": null,
      "outputs": [
        {
          "output_type": "stream",
          "text": [
            "Model: \"tf_bert_for_sequence_classification\"\n",
            "_________________________________________________________________\n",
            "Layer (type)                 Output Shape              Param #   \n",
            "=================================================================\n",
            "bert (TFBertMainLayer)       multiple                  109482240 \n",
            "_________________________________________________________________\n",
            "dropout_37 (Dropout)         multiple                  0         \n",
            "_________________________________________________________________\n",
            "classifier (Dense)           multiple                  1538      \n",
            "=================================================================\n",
            "Total params: 109,483,778\n",
            "Trainable params: 109,483,778\n",
            "Non-trainable params: 0\n",
            "_________________________________________________________________\n"
          ],
          "name": "stdout"
        }
      ]
    },
    {
      "cell_type": "markdown",
      "metadata": {
        "id": "hD55lTiPjGd1"
      },
      "source": [
        "Downloading the IMDb Movie reviews dataset."
      ]
    },
    {
      "cell_type": "code",
      "metadata": {
        "colab": {
          "base_uri": "https://localhost:8080/"
        },
        "id": "kMIWtGtAHwPt",
        "outputId": "0c94e8a3-565d-4681-d954-31894329dc7e"
      },
      "source": [
        "URL = \"https://ai.stanford.edu/~amaas/data/sentiment/aclImdb_v1.tar.gz\"\n",
        "\n",
        "dataset = tf.keras.utils.get_file(fname=\"aclImdb_v1.tar.gz\", \n",
        "                                  origin=URL,\n",
        "                                  untar=True,\n",
        "                                  cache_dir='.',\n",
        "                                  cache_subdir='')"
      ],
      "execution_count": null,
      "outputs": [
        {
          "output_type": "stream",
          "text": [
            "Downloading data from https://ai.stanford.edu/~amaas/data/sentiment/aclImdb_v1.tar.gz\n",
            "84131840/84125825 [==============================] - 4s 0us/step\n"
          ],
          "name": "stdout"
        }
      ]
    },
    {
      "cell_type": "code",
      "metadata": {
        "colab": {
          "base_uri": "https://localhost:8080/"
        },
        "id": "kkg_KOoaH5Vx",
        "outputId": "3a302bc8-324d-49f2-fbd8-f97d11e52d33"
      },
      "source": [
        "# The shutil module offers a number of high-level \n",
        "# operations on files and collections of files.\n",
        "import os\n",
        "import shutil\n",
        "# Create main directory path (\"/aclImdb\")\n",
        "main_dir = os.path.join(os.path.dirname(dataset), 'aclImdb')\n",
        "# Create sub directory path (\"/aclImdb/train\")\n",
        "train_dir = os.path.join(main_dir, 'train')\n",
        "# Remove unsup folder since this is a supervised learning task\n",
        "remove_dir = os.path.join(train_dir, 'unsup')\n",
        "shutil.rmtree(remove_dir)\n",
        "# View the final train folder\n",
        "print(os.listdir(train_dir))"
      ],
      "execution_count": null,
      "outputs": [
        {
          "output_type": "stream",
          "text": [
            "['urls_pos.txt', 'pos', 'unsupBow.feat', 'neg', 'labeledBow.feat', 'urls_neg.txt', 'urls_unsup.txt']\n"
          ],
          "name": "stdout"
        }
      ]
    },
    {
      "cell_type": "markdown",
      "metadata": {
        "id": "p65Hd3mVjTvT"
      },
      "source": [
        "Splitting Test-train sets"
      ]
    },
    {
      "cell_type": "code",
      "metadata": {
        "colab": {
          "base_uri": "https://localhost:8080/"
        },
        "id": "uaC1PkTXID2a",
        "outputId": "a9710453-71f5-4570-cd81-165f72a00f58"
      },
      "source": [
        "# We create a training dataset and a validation \n",
        "# dataset from our \"aclImdb/train\" directory with a 80/20 split.\n",
        "train = tf.keras.preprocessing.text_dataset_from_directory(\n",
        "    'aclImdb/train', batch_size=30000, validation_split=0.2, \n",
        "    subset='training', seed=123)\n",
        "test = tf.keras.preprocessing.text_dataset_from_directory(\n",
        "    'aclImdb/train', batch_size=30000, validation_split=0.2, \n",
        "    subset='validation', seed=123)"
      ],
      "execution_count": null,
      "outputs": [
        {
          "output_type": "stream",
          "text": [
            "Found 25000 files belonging to 2 classes.\n",
            "Using 20000 files for training.\n",
            "Found 25000 files belonging to 2 classes.\n",
            "Using 5000 files for validation.\n"
          ],
          "name": "stdout"
        }
      ]
    },
    {
      "cell_type": "code",
      "metadata": {
        "colab": {
          "base_uri": "https://localhost:8080/",
          "height": 204
        },
        "id": "Pid_zBqnIFDd",
        "outputId": "83cffafb-ba10-420c-a654-f432a92101aa"
      },
      "source": [
        "for i in train.take(1):\n",
        "  train_feat = i[0].numpy()\n",
        "  train_lab = i[1].numpy()\n",
        "\n",
        "train = pd.DataFrame([train_feat, train_lab]).T\n",
        "train.columns = ['DATA_COLUMN', 'LABEL_COLUMN']\n",
        "train['DATA_COLUMN'] = train['DATA_COLUMN'].str.decode(\"utf-8\")\n",
        "train.head()"
      ],
      "execution_count": null,
      "outputs": [
        {
          "output_type": "execute_result",
          "data": {
            "text/html": [
              "<div>\n",
              "<style scoped>\n",
              "    .dataframe tbody tr th:only-of-type {\n",
              "        vertical-align: middle;\n",
              "    }\n",
              "\n",
              "    .dataframe tbody tr th {\n",
              "        vertical-align: top;\n",
              "    }\n",
              "\n",
              "    .dataframe thead th {\n",
              "        text-align: right;\n",
              "    }\n",
              "</style>\n",
              "<table border=\"1\" class=\"dataframe\">\n",
              "  <thead>\n",
              "    <tr style=\"text-align: right;\">\n",
              "      <th></th>\n",
              "      <th>DATA_COLUMN</th>\n",
              "      <th>LABEL_COLUMN</th>\n",
              "    </tr>\n",
              "  </thead>\n",
              "  <tbody>\n",
              "    <tr>\n",
              "      <th>0</th>\n",
              "      <td>Canadian director Vincenzo Natali took the art...</td>\n",
              "      <td>1</td>\n",
              "    </tr>\n",
              "    <tr>\n",
              "      <th>1</th>\n",
              "      <td>I gave this film 10 not because it is a superb...</td>\n",
              "      <td>1</td>\n",
              "    </tr>\n",
              "    <tr>\n",
              "      <th>2</th>\n",
              "      <td>I admit to being somewhat jaded about the movi...</td>\n",
              "      <td>1</td>\n",
              "    </tr>\n",
              "    <tr>\n",
              "      <th>3</th>\n",
              "      <td>For a long time, 'The Menagerie' was my favori...</td>\n",
              "      <td>1</td>\n",
              "    </tr>\n",
              "    <tr>\n",
              "      <th>4</th>\n",
              "      <td>A truly frightening film. Feels as if it were ...</td>\n",
              "      <td>0</td>\n",
              "    </tr>\n",
              "  </tbody>\n",
              "</table>\n",
              "</div>"
            ],
            "text/plain": [
              "                                         DATA_COLUMN LABEL_COLUMN\n",
              "0  Canadian director Vincenzo Natali took the art...            1\n",
              "1  I gave this film 10 not because it is a superb...            1\n",
              "2  I admit to being somewhat jaded about the movi...            1\n",
              "3  For a long time, 'The Menagerie' was my favori...            1\n",
              "4  A truly frightening film. Feels as if it were ...            0"
            ]
          },
          "metadata": {
            "tags": []
          },
          "execution_count": 8
        }
      ]
    },
    {
      "cell_type": "code",
      "metadata": {
        "colab": {
          "base_uri": "https://localhost:8080/",
          "height": 204
        },
        "id": "KvOokbgwIHwD",
        "outputId": "461f3e95-e12f-43fb-84b8-0d11a4927281"
      },
      "source": [
        "for j in test.take(1):\n",
        "  test_feat = j[0].numpy()\n",
        "  test_lab = j[1].numpy()\n",
        "\n",
        "test = pd.DataFrame([test_feat, test_lab]).T\n",
        "test.columns = ['DATA_COLUMN', 'LABEL_COLUMN']\n",
        "test['DATA_COLUMN'] = test['DATA_COLUMN'].str.decode(\"utf-8\")\n",
        "test.head()"
      ],
      "execution_count": null,
      "outputs": [
        {
          "output_type": "execute_result",
          "data": {
            "text/html": [
              "<div>\n",
              "<style scoped>\n",
              "    .dataframe tbody tr th:only-of-type {\n",
              "        vertical-align: middle;\n",
              "    }\n",
              "\n",
              "    .dataframe tbody tr th {\n",
              "        vertical-align: top;\n",
              "    }\n",
              "\n",
              "    .dataframe thead th {\n",
              "        text-align: right;\n",
              "    }\n",
              "</style>\n",
              "<table border=\"1\" class=\"dataframe\">\n",
              "  <thead>\n",
              "    <tr style=\"text-align: right;\">\n",
              "      <th></th>\n",
              "      <th>DATA_COLUMN</th>\n",
              "      <th>LABEL_COLUMN</th>\n",
              "    </tr>\n",
              "  </thead>\n",
              "  <tbody>\n",
              "    <tr>\n",
              "      <th>0</th>\n",
              "      <td>I can't believe that so much talent can be was...</td>\n",
              "      <td>0</td>\n",
              "    </tr>\n",
              "    <tr>\n",
              "      <th>1</th>\n",
              "      <td>This movie blows - let's get that straight rig...</td>\n",
              "      <td>0</td>\n",
              "    </tr>\n",
              "    <tr>\n",
              "      <th>2</th>\n",
              "      <td>The saddest thing about this \"tribute\" is that...</td>\n",
              "      <td>0</td>\n",
              "    </tr>\n",
              "    <tr>\n",
              "      <th>3</th>\n",
              "      <td>I'm only rating this film as a 3 out of pity b...</td>\n",
              "      <td>0</td>\n",
              "    </tr>\n",
              "    <tr>\n",
              "      <th>4</th>\n",
              "      <td>Something surprised me about this movie - it w...</td>\n",
              "      <td>1</td>\n",
              "    </tr>\n",
              "  </tbody>\n",
              "</table>\n",
              "</div>"
            ],
            "text/plain": [
              "                                         DATA_COLUMN LABEL_COLUMN\n",
              "0  I can't believe that so much talent can be was...            0\n",
              "1  This movie blows - let's get that straight rig...            0\n",
              "2  The saddest thing about this \"tribute\" is that...            0\n",
              "3  I'm only rating this film as a 3 out of pity b...            0\n",
              "4  Something surprised me about this movie - it w...            1"
            ]
          },
          "metadata": {
            "tags": []
          },
          "execution_count": 9
        }
      ]
    },
    {
      "cell_type": "code",
      "metadata": {
        "colab": {
          "base_uri": "https://localhost:8080/"
        },
        "id": "x3vL8wddILw0",
        "outputId": "418f0f39-3573-4e38-f1e3-846afa93f6a3"
      },
      "source": [
        "InputExample(guid=None,\n",
        "             text_a = \"Hello, world\",\n",
        "             text_b = None,\n",
        "             label = 1)"
      ],
      "execution_count": null,
      "outputs": [
        {
          "output_type": "execute_result",
          "data": {
            "text/plain": [
              "InputExample(guid=None, text_a='Hello, world', text_b=None, label=1)"
            ]
          },
          "metadata": {
            "tags": []
          },
          "execution_count": 10
        }
      ]
    },
    {
      "cell_type": "markdown",
      "metadata": {
        "id": "3YUyzknUjrHy"
      },
      "source": [
        "1. convert_data_to_examples: This will accept our train and test datasets and \n",
        "convert each row into an InputExample object.  \n",
        "2. convert_examples_to_tf_dataset: This function will tokenize the InputExample objects, then create the required input format with the tokenized objects, finally, create an input dataset that we can feed to the model."
      ]
    },
    {
      "cell_type": "code",
      "metadata": {
        "id": "VPGoumYFIQu3"
      },
      "source": [
        "def convert_data_to_examples(train, test, DATA_COLUMN, LABEL_COLUMN): \n",
        "  train_InputExamples = train.apply(lambda x: InputExample(guid=None, # Globally unique ID for bookkeeping, unused in this case\n",
        "                                                          text_a = x[DATA_COLUMN], \n",
        "                                                          text_b = None,\n",
        "                                                          label = x[LABEL_COLUMN]), axis = 1)\n",
        "\n",
        "  validation_InputExamples = test.apply(lambda x: InputExample(guid=None, # Globally unique ID for bookkeeping, unused in this case\n",
        "                                                          text_a = x[DATA_COLUMN], \n",
        "                                                          text_b = None,\n",
        "                                                          label = x[LABEL_COLUMN]), axis = 1)\n",
        "  \n",
        "  return train_InputExamples, validation_InputExamples\n",
        "\n",
        "  train_InputExamples, validation_InputExamples = convert_data_to_examples(train, \n",
        "                                                                           test, \n",
        "                                                                           'DATA_COLUMN', \n",
        "                                                                           'LABEL_COLUMN')\n",
        "  \n",
        "def convert_examples_to_tf_dataset(examples, tokenizer, max_length=128):\n",
        "    features = [] # -> will hold InputFeatures to be converted later\n",
        "\n",
        "    for e in examples:\n",
        "        # Documentation is really strong for this method, so please take a look at it\n",
        "        input_dict = tokenizer.encode_plus(\n",
        "            e.text_a,\n",
        "            add_special_tokens=True,\n",
        "            max_length=max_length, # truncates if len(s) > max_length\n",
        "            return_token_type_ids=True,\n",
        "            return_attention_mask=True,\n",
        "            pad_to_max_length=True, # pads to the right by default # CHECK THIS for pad_to_max_length\n",
        "            truncation=True\n",
        "        )\n",
        "\n",
        "        input_ids, token_type_ids, attention_mask = (input_dict[\"input_ids\"],\n",
        "            input_dict[\"token_type_ids\"], input_dict['attention_mask'])\n",
        "\n",
        "        features.append(\n",
        "            InputFeatures(\n",
        "                input_ids=input_ids, attention_mask=attention_mask, token_type_ids=token_type_ids, label=e.label\n",
        "            )\n",
        "        )\n",
        "\n",
        "    def gen():\n",
        "        for f in features:\n",
        "            yield (\n",
        "                {\n",
        "                    \"input_ids\": f.input_ids,\n",
        "                    \"attention_mask\": f.attention_mask,\n",
        "                    \"token_type_ids\": f.token_type_ids,\n",
        "                },\n",
        "                f.label,\n",
        "            )\n",
        "\n",
        "    return tf.data.Dataset.from_generator(\n",
        "        gen,\n",
        "        ({\"input_ids\": tf.int32, \"attention_mask\": tf.int32, \"token_type_ids\": tf.int32}, tf.int64),\n",
        "        (\n",
        "            {\n",
        "                \"input_ids\": tf.TensorShape([None]),\n",
        "                \"attention_mask\": tf.TensorShape([None]),\n",
        "                \"token_type_ids\": tf.TensorShape([None]),\n",
        "            },\n",
        "            tf.TensorShape([]),\n",
        "        ),\n",
        "    )\n",
        "\n",
        "\n",
        "DATA_COLUMN = 'DATA_COLUMN'\n",
        "LABEL_COLUMN = 'LABEL_COLUMN'"
      ],
      "execution_count": null,
      "outputs": []
    },
    {
      "cell_type": "code",
      "metadata": {
        "id": "xYxlOINSIVak"
      },
      "source": [
        "\n",
        "train_InputExamples, validation_InputExamples = convert_data_to_examples(train, test, DATA_COLUMN, LABEL_COLUMN)\n",
        "\n",
        "train_data = convert_examples_to_tf_dataset(list(train_InputExamples), tokenizer)\n",
        "train_data = train_data.shuffle(100).batch(32).repeat(2)\n",
        "\n",
        "validation_data = convert_examples_to_tf_dataset(list(validation_InputExamples), tokenizer)\n",
        "validation_data = validation_data.batch(32)"
      ],
      "execution_count": null,
      "outputs": []
    },
    {
      "cell_type": "code",
      "metadata": {
        "colab": {
          "base_uri": "https://localhost:8080/"
        },
        "id": "hh3Iq1sTIYks",
        "outputId": "966471f9-dbaa-4ddc-ea88-ee8a34c949ed"
      },
      "source": [
        "\n",
        "model.compile(optimizer=tf.keras.optimizers.Adam(learning_rate=3e-5, epsilon=1e-08, clipnorm=1.0), \n",
        "              loss=tf.keras.losses.SparseCategoricalCrossentropy(from_logits=True), \n",
        "              metrics=[tf.keras.metrics.SparseCategoricalAccuracy('accuracy')])\n",
        "\n",
        "model.fit(train_data, epochs=2, validation_data=validation_data)"
      ],
      "execution_count": null,
      "outputs": [
        {
          "output_type": "stream",
          "text": [
            "Epoch 1/2\n",
            "WARNING:tensorflow:The parameters `output_attentions`, `output_hidden_states` and `use_cache` cannot be updated when calling a model.They have to be set to True/False in the config object (i.e.: `config=XConfig.from_pretrained('name', output_attentions=True)`).\n",
            "WARNING:tensorflow:AutoGraph could not transform <bound method Socket.send of <zmq.sugar.socket.Socket object at 0x7f17ee798ec0>> and will run it as-is.\n",
            "Please report this to the TensorFlow team. When filing the bug, set the verbosity to 10 (on Linux, `export AUTOGRAPH_VERBOSITY=10`) and attach the full output.\n",
            "Cause: module, class, method, function, traceback, frame, or code object was expected, got cython_function_or_method\n",
            "To silence this warning, decorate the function with @tf.autograph.experimental.do_not_convert\n",
            "WARNING: AutoGraph could not transform <bound method Socket.send of <zmq.sugar.socket.Socket object at 0x7f17ee798ec0>> and will run it as-is.\n",
            "Please report this to the TensorFlow team. When filing the bug, set the verbosity to 10 (on Linux, `export AUTOGRAPH_VERBOSITY=10`) and attach the full output.\n",
            "Cause: module, class, method, function, traceback, frame, or code object was expected, got cython_function_or_method\n",
            "To silence this warning, decorate the function with @tf.autograph.experimental.do_not_convert\n",
            "WARNING:tensorflow:AutoGraph could not transform <function wrap at 0x7f180a04ac20> and will run it as-is.\n",
            "Cause: while/else statement not yet supported\n",
            "To silence this warning, decorate the function with @tf.autograph.experimental.do_not_convert\n",
            "WARNING: AutoGraph could not transform <function wrap at 0x7f180a04ac20> and will run it as-is.\n",
            "Cause: while/else statement not yet supported\n",
            "To silence this warning, decorate the function with @tf.autograph.experimental.do_not_convert\n",
            "WARNING:tensorflow:The parameter `return_dict` cannot be set in graph mode and will always be set to `True`.\n",
            "WARNING:tensorflow:The parameters `output_attentions`, `output_hidden_states` and `use_cache` cannot be updated when calling a model.They have to be set to True/False in the config object (i.e.: `config=XConfig.from_pretrained('name', output_attentions=True)`).\n",
            "WARNING:tensorflow:The parameter `return_dict` cannot be set in graph mode and will always be set to `True`.\n",
            "   1250/Unknown - 1080s 823ms/step - loss: 0.3545 - accuracy: 0.8349WARNING:tensorflow:The parameters `output_attentions`, `output_hidden_states` and `use_cache` cannot be updated when calling a model.They have to be set to True/False in the config object (i.e.: `config=XConfig.from_pretrained('name', output_attentions=True)`).\n",
            "WARNING:tensorflow:The parameter `return_dict` cannot be set in graph mode and will always be set to `True`.\n",
            "1250/1250 [==============================] - 1126s 859ms/step - loss: 0.3544 - accuracy: 0.8350 - val_loss: 0.3074 - val_accuracy: 0.8824\n",
            "Epoch 2/2\n",
            "1250/1250 [==============================] - 1073s 859ms/step - loss: 0.0974 - accuracy: 0.9648 - val_loss: 0.5245 - val_accuracy: 0.8706\n"
          ],
          "name": "stdout"
        },
        {
          "output_type": "execute_result",
          "data": {
            "text/plain": [
              "<tensorflow.python.keras.callbacks.History at 0x7f16adc186d0>"
            ]
          },
          "metadata": {
            "tags": []
          },
          "execution_count": 13
        }
      ]
    },
    {
      "cell_type": "code",
      "metadata": {
        "id": "PsOct5l8IbYI"
      },
      "source": [
        "pred_sentences = ['This was an awesome movie. I watch it twice my time watching this beautiful movie if I have known it was this good',\n",
        "                  'One of the worst movies of all time. I cannot believe I wasted two hours of my life for this movie',\n",
        "                  'The movie was well written but the acting was terrible.',\n",
        "                  'Seasons 1-6: outstanding. 7: daft but good',\n",
        "                  'Really, I could write a scathing review of this turd sandwich, but instead, Im just going to be making a few observations and points Ive deduced.']"
      ],
      "execution_count": null,
      "outputs": []
    },
    {
      "cell_type": "code",
      "metadata": {
        "colab": {
          "base_uri": "https://localhost:8080/"
        },
        "id": "UcA2ox1kIik-",
        "outputId": "a2528ab1-3a94-4f66-ac44-3a0b3a44e893"
      },
      "source": [
        "tf_batch = tokenizer(pred_sentences, max_length=128, padding=True, truncation=True, return_tensors='tf')\n",
        "tf_outputs = model(tf_batch)\n",
        "tf_predictions = tf.nn.softmax(tf_outputs[0], axis=-1)\n",
        "labels = ['Negative','Positive']\n",
        "label = tf.argmax(tf_predictions, axis=1)\n",
        "label = label.numpy()\n",
        "for i in range(len(pred_sentences)):\n",
        "  print(pred_sentences[i], \": \\n\", labels[label[i]])"
      ],
      "execution_count": null,
      "outputs": [
        {
          "output_type": "stream",
          "text": [
            "This was an awesome movie. I watch it twice my time watching this beautiful movie if I have known it was this good : \n",
            " Positive\n",
            "One of the worst movies of all time. I cannot believe I wasted two hours of my life for this movie : \n",
            " Negative\n",
            "The movie was well written but the acting was terrible. : \n",
            " Negative\n",
            "Seasons 1-6: outstanding. 7: daft but good : \n",
            " Positive\n",
            "Really, I could write a scathing review of this turd sandwich, but instead, Im just going to be making a few observations and points Ive deduced. : \n",
            " Negative\n"
          ],
          "name": "stdout"
        }
      ]
    },
    {
      "cell_type": "code",
      "metadata": {
        "id": "uEJ1s38MMK8q"
      },
      "source": [
        ""
      ],
      "execution_count": null,
      "outputs": []
    },
    {
      "cell_type": "code",
      "metadata": {
        "id": "XyH7M_XwtFNH"
      },
      "source": [
        ""
      ],
      "execution_count": null,
      "outputs": []
    }
  ]
}